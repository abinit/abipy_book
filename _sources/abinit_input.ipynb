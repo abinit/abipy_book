{
 "cells": [
  {
   "cell_type": "markdown",
   "id": "5da566c7",
   "metadata": {},
   "source": [
    "Back to the main [Index](index.ipynb) <a id=\"top\"></a>"
   ]
  },
  {
   "cell_type": "markdown",
   "id": "bbf8f8d2",
   "metadata": {},
   "source": [
    "## Table of Contents\n",
    "\n",
    "\n",
    "- [Creating an AbinitInput object](#Creating-an-AbinitInput-object)\n",
    "- [Defining the crystalline structure](#Defining-the-crystalline-structure)\n",
    "- [Brillouin zone sampling](#Brillouin-zone-sampling)\n",
    "- [Utilities](#Utilities)\n",
    "- [Invoking Abinit with AbinitInput](#Invoking-Abinit-with-AbinitInput)\n",
    "- [Multiple datasets](#Multiple-datasets)"
   ]
  },
  {
   "cell_type": "markdown",
   "id": "c4a0f25d",
   "metadata": {},
   "source": [
    "## Creating an AbinitInput object\n",
    "[[back to top](#top)]\n",
    "\n",
    "The creation of the Abinit input file is one of the most repetive and error-prone operations \n",
    "we have to perform before running our calculations.\n",
    "To facilitate the creation of the input files, AbiPy provides the `AbinitInput` object, \n",
    "a dict-like object storing the Abinit variables and providing methods to automate \n",
    "the specification of multiple parameters.\n",
    "\n",
    "This notebook discusses how to create an `AbinitInput` and how to define the parameters of the calculation.\n",
    "In the last part, we introduce the `MultiDataset` object that is mainly designed for the generation \n",
    "of multiple inputs sharing the same structure and the same list of pseudopotentials.\n",
    "\n",
    "In another [notebook](./input_factories.ipynb), we briefly discuss how to use factory functions \n",
    "to generate automatically input objects for typical calculations."
   ]
  },
  {
   "cell_type": "code",
   "execution_count": 1,
   "id": "e6a765f7",
   "metadata": {},
   "outputs": [],
   "source": [
    "from __future__ import division, print_function, unicode_literals\n",
    "\n",
    "import os\n",
    "import warnings\n",
    "warnings.filterwarnings(\"ignore\") # to get rid of deprecation warnings\n",
    "\n",
    "import abipy.data as abidata\n",
    "import abipy.abilab as abilab\n",
    "abilab.enable_notebook() # This line tells AbiPy we are running inside a notebook\n",
    "from abipy.abilab import AbinitInput\n",
    "\n",
    "# This line configures matplotlib to show figures embedded in the notebook.\n",
    "# Replace `inline` with `notebook` in classic notebook\n",
    "%matplotlib inline   \n",
    "\n",
    "# Option available in jupyterlab. See https://github.com/matplotlib/jupyter-matplotlib\n",
    "#%matplotlib widget  "
   ]
  },
  {
   "cell_type": "markdown",
   "id": "7dc7d08c",
   "metadata": {},
   "source": [
    "To create an Abinit input, we must specify the paths of the pseudopotential files.\n",
    "In this case, we have a pseudo named `14si.pspnc` located \n",
    "in the `abidata.pseudo_dir` directory."
   ]
  },
  {
   "cell_type": "code",
   "execution_count": 2,
   "id": "4031a4a3",
   "metadata": {},
   "outputs": [],
   "source": [
    "inp = AbinitInput(structure=abidata.cif_file(\"si.cif\"), \n",
    "                  pseudos=\"14si.pspnc\", pseudo_dir=abidata.pseudo_dir)"
   ]
  },
  {
   "cell_type": "markdown",
   "id": "4cc16304",
   "metadata": {},
   "source": [
    "`print(inp)` returns a string with our input. \n",
    "In this case, the input is almost empty since only the structure and the pseudos have been specified."
   ]
  },
  {
   "cell_type": "code",
   "execution_count": 3,
   "id": "70ca1c4b",
   "metadata": {},
   "outputs": [
    {
     "name": "stdout",
     "output_type": "stream",
     "text": [
      "##############################################\n",
      "####                  STRUCTURE                  \n",
      "##############################################\n",
      " natom 2\n",
      " ntypat 1\n",
      " typat 1 1\n",
      " znucl 14\n",
      " xred\n",
      "    0.0000000000    0.0000000000    0.0000000000\n",
      "    0.2500000000    0.2500000000    0.2500000000\n",
      " acell    1.0    1.0    1.0\n",
      " rprim\n",
      "    6.3285005244    0.0000000000    3.6537614813\n",
      "    2.1095001748    5.9665675141    3.6537614813\n",
      "    0.0000000000    0.0000000000    7.3075229627\n",
      "\n",
      "\n",
      "#<JSON>\n",
      "#{\n",
      "#    \"pseudos\": [\n",
      "#        {\n",
      "#            \"basename\": \"14si.pspnc\",\n",
      "#            \"type\": \"NcAbinitPseudo\",\n",
      "#            \"symbol\": \"Si\",\n",
      "#            \"Z\": 14,\n",
      "#            \"Z_val\": 4.0,\n",
      "#            \"l_max\": 2,\n",
      "#            \"md5\": \"3916b143991b1cfa1542b130be320e5e\",\n",
      "#            \"filepath\": \"/Users/gmatteo/git_repos/abipy/abipy/data/pseudos/14si.pspnc\",\n",
      "#            \"@module\": \"pymatgen.io.abinit.pseudos\",\n",
      "#            \"@class\": \"NcAbinitPseudo\"\n",
      "#        }\n",
      "#    ]\n",
      "#}\n",
      "#</JSON>\n"
     ]
    }
   ],
   "source": [
    "print(inp)"
   ]
  },
  {
   "cell_type": "markdown",
   "id": "d45bd944",
   "metadata": {},
   "source": [
    "Inside the jupyter notebook, it is possible to visualize the input in HTML including the links to the official ABINIT documentation:"
   ]
  },
  {
   "cell_type": "code",
   "execution_count": 4,
   "id": "24475619",
   "metadata": {},
   "outputs": [
    {
     "data": {
      "text/html": [
       "<div class=\"abinit_input\">\n",
       "##############################################<br>####                  STRUCTURE                  <br>##############################################<br> <a href=\"https://docs.abinit.org/variables/basic#natom\" target=\"_blank\">natom</a> 2<br> <a href=\"https://docs.abinit.org/variables/basic#ntypat\" target=\"_blank\">ntypat</a> 1<br> <a href=\"https://docs.abinit.org/variables/basic#typat\" target=\"_blank\">typat</a> 1 1<br> <a href=\"https://docs.abinit.org/variables/basic#znucl\" target=\"_blank\">znucl</a> 14<br> <a href=\"https://docs.abinit.org/variables/basic#xred\" target=\"_blank\">xred</a><br>    0.0000000000    0.0000000000    0.0000000000<br>    0.2500000000    0.2500000000    0.2500000000<br> <a href=\"https://docs.abinit.org/variables/basic#acell\" target=\"_blank\">acell</a>    1.0    1.0    1.0<br> <a href=\"https://docs.abinit.org/variables/basic#rprim\" target=\"_blank\">rprim</a><br>    6.3285005244    0.0000000000    3.6537614813<br>    2.1095001748    5.9665675141    3.6537614813<br>    0.0000000000    0.0000000000    7.3075229627\n",
       "<div>"
      ],
      "text/plain": [
       "<AbinitInput at 140412585602072>"
      ]
     },
     "execution_count": 4,
     "metadata": {},
     "output_type": "execute_result"
    }
   ],
   "source": [
    "inp"
   ]
  },
  {
   "cell_type": "markdown",
   "id": "2c74b836",
   "metadata": {},
   "source": [
    "The input *has* a structure:"
   ]
  },
  {
   "cell_type": "code",
   "execution_count": 5,
   "id": "2fa85df0",
   "metadata": {},
   "outputs": [
    {
     "name": "stdout",
     "output_type": "stream",
     "text": [
      "Full Formula (Si2)\n",
      "Reduced Formula: Si\n",
      "abc   :   3.866975   3.866975   3.866975\n",
      "angles:  60.000000  60.000000  60.000000\n",
      "Sites (2)\n",
      "  #  SP       a     b     c\n",
      "---  ----  ----  ----  ----\n",
      "  0  Si    0     0     0\n",
      "  1  Si    0.25  0.25  0.25\n"
     ]
    }
   ],
   "source": [
    "print(inp.structure)"
   ]
  },
  {
   "cell_type": "markdown",
   "id": "6166bf75",
   "metadata": {},
   "source": [
    "and a list of `Pseudo` objects:"
   ]
  },
  {
   "cell_type": "code",
   "execution_count": 6,
   "id": "6d1ebd66",
   "metadata": {},
   "outputs": [
    {
     "name": "stdout",
     "output_type": "stream",
     "text": [
      "<NcAbinitPseudo: 14si.pspnc>\n",
      "  summary: Troullier-Martins psp for element  Si        Thu Oct 27 17:31:21 EDT 1994\n",
      "  number of valence electrons: 4.0\n",
      "  maximum angular momentum: d\n",
      "  angular momentum for local part: d\n",
      "  XC correlation: LDA_XC_TETER93\n",
      "  supports spin-orbit: False\n",
      "  radius for non-linear core correction: 1.80626423934776\n",
      "  hint for low accuracy: ecut: 0.0, pawecutdg: 0.0\n",
      "  hint for normal accuracy: ecut: 0.0, pawecutdg: 0.0\n",
      "  hint for high accuracy: ecut: 0.0, pawecutdg: 0.0\n"
     ]
    }
   ],
   "source": [
    "for pseudo in inp.pseudos:\n",
    "    print(pseudo)"
   ]
  },
  {
   "cell_type": "markdown",
   "id": "962e9f34",
   "metadata": {},
   "source": [
    "Use  `set_vars` to set the value of several variables with a single call:"
   ]
  },
  {
   "cell_type": "code",
   "execution_count": 7,
   "id": "cda94940",
   "metadata": {},
   "outputs": [
    {
     "data": {
      "text/plain": [
       "{'ecut': 8, 'paral_kgb': 0}"
      ]
     },
     "execution_count": 7,
     "metadata": {},
     "output_type": "execute_result"
    }
   ],
   "source": [
    "inp.set_vars(ecut=8, paral_kgb=0)"
   ]
  },
  {
   "cell_type": "markdown",
   "id": "9f7c13aa",
   "metadata": {},
   "source": [
    "`AbinitInput` is a dict-like object, hence one can test for the presence of a variable in the input:"
   ]
  },
  {
   "cell_type": "code",
   "execution_count": 8,
   "id": "ca40b4d6",
   "metadata": {},
   "outputs": [
    {
     "data": {
      "text/plain": [
       "True"
      ]
     },
     "execution_count": 8,
     "metadata": {},
     "output_type": "execute_result"
    }
   ],
   "source": [
    "\"ecut\" in inp"
   ]
  },
  {
   "cell_type": "markdown",
   "id": "9436b9d9",
   "metadata": {},
   "source": [
    "To list all the variables that have been defined, use:"
   ]
  },
  {
   "cell_type": "code",
   "execution_count": 9,
   "id": "c908bf97",
   "metadata": {},
   "outputs": [
    {
     "data": {
      "text/plain": [
       "['ecut', 'paral_kgb']"
      ]
     },
     "execution_count": 9,
     "metadata": {},
     "output_type": "execute_result"
    }
   ],
   "source": [
    "list(inp.keys())"
   ]
  },
  {
   "cell_type": "markdown",
   "id": "047810f6",
   "metadata": {},
   "source": [
    "To access the value of a particular variable use the syntax:"
   ]
  },
  {
   "cell_type": "code",
   "execution_count": 10,
   "id": "8f419b69",
   "metadata": {},
   "outputs": [
    {
     "data": {
      "text/plain": [
       "8"
      ]
     },
     "execution_count": 10,
     "metadata": {},
     "output_type": "execute_result"
    }
   ],
   "source": [
    "inp[\"ecut\"]"
   ]
  },
  {
   "cell_type": "markdown",
   "id": "a817f74f",
   "metadata": {},
   "source": [
    "To iterate over keywords and values:"
   ]
  },
  {
   "cell_type": "code",
   "execution_count": 11,
   "id": "4127c577",
   "metadata": {},
   "outputs": [
    {
     "name": "stdout",
     "output_type": "stream",
     "text": [
      "ecut --> 8\n",
      "paral_kgb --> 0\n"
     ]
    }
   ],
   "source": [
    "for varname, varvalue in inp.items(): \n",
    "    print(varname, \"-->\", varvalue)"
   ]
  },
  {
   "cell_type": "markdown",
   "id": "07e615a2",
   "metadata": {},
   "source": [
    "Use lists, tuples or numpy arrays when Abinit expects arrays"
   ]
  },
  {
   "cell_type": "code",
   "execution_count": 12,
   "id": "059e2829",
   "metadata": {},
   "outputs": [
    {
     "data": {
      "text/html": [
       "<div class=\"abinit_input\">\n",
       "##############################################<br>####                SECTION: basic               <br>##############################################<br> <a href=\"https://docs.abinit.org/variables/basic#ecut\" target=\"_blank\">ecut</a> 8<br> <a href=\"https://docs.abinit.org/variables/basic#kptopt\" target=\"_blank\">kptopt</a> 1<br> <a href=\"https://docs.abinit.org/variables/basic#ngkpt\" target=\"_blank\">ngkpt</a> 2 2 2<br> <a href=\"https://docs.abinit.org/variables/basic#nshiftk\" target=\"_blank\">nshiftk</a> 2<br> <a href=\"https://docs.abinit.org/variables/basic#shiftk\" target=\"_blank\">shiftk</a><br>    0.0    0.0    0.0<br>    0.5    0.5    0.5<br>##############################################<br>####                 SECTION: dev                <br>##############################################<br> <a href=\"https://docs.abinit.org/variables/dev#istwfk\" target=\"_blank\">istwfk</a> *1<br>##############################################<br>####                SECTION: paral               <br>##############################################<br> <a href=\"https://docs.abinit.org/variables/paral#paral_kgb\" target=\"_blank\">paral_kgb</a> 0<br>##############################################<br>####                  STRUCTURE                  <br>##############################################<br> <a href=\"https://docs.abinit.org/variables/basic#natom\" target=\"_blank\">natom</a> 2<br> <a href=\"https://docs.abinit.org/variables/basic#ntypat\" target=\"_blank\">ntypat</a> 1<br> <a href=\"https://docs.abinit.org/variables/basic#typat\" target=\"_blank\">typat</a> 1 1<br> <a href=\"https://docs.abinit.org/variables/basic#znucl\" target=\"_blank\">znucl</a> 14<br> <a href=\"https://docs.abinit.org/variables/basic#xred\" target=\"_blank\">xred</a><br>    0.0000000000    0.0000000000    0.0000000000<br>    0.2500000000    0.2500000000    0.2500000000<br> <a href=\"https://docs.abinit.org/variables/basic#acell\" target=\"_blank\">acell</a>    1.0    1.0    1.0<br> <a href=\"https://docs.abinit.org/variables/basic#rprim\" target=\"_blank\">rprim</a><br>    6.3285005244    0.0000000000    3.6537614813<br>    2.1095001748    5.9665675141    3.6537614813<br>    0.0000000000    0.0000000000    7.3075229627\n",
       "<div>"
      ],
      "text/plain": [
       "<AbinitInput at 140412585602072>"
      ]
     },
     "execution_count": 12,
     "metadata": {},
     "output_type": "execute_result"
    }
   ],
   "source": [
    "inp.set_vars(kptopt=1, \n",
    "             ngkpt=[2, 2, 2], \n",
    "             nshiftk=2, \n",
    "             shiftk=[0.0, 0.0, 0.0, 0.5, 0.5, 0.5]  # 2 shifts in one list\n",
    "            )\n",
    "\n",
    "# It is possible to use strings but use them only for special cases such as:\n",
    "inp[\"istwfk\"] = \"*1\"\n",
    "inp"
   ]
  },
  {
   "cell_type": "markdown",
   "id": "54bf5114",
   "metadata": {},
   "source": [
    "If you mistype the name of the variable, `AbinitInput` raises an error:"
   ]
  },
  {
   "cell_type": "code",
   "execution_count": 13,
   "id": "c4360e9e",
   "metadata": {},
   "outputs": [
    {
     "name": "stdout",
     "output_type": "stream",
     "text": [
      "\n",
      "Cannot find variable `perl` in internal database. If you believe this is not a typo, use:\n",
      "\n",
      "    input.set_spell_check(False)\n",
      "\n",
      "to disable spell checking. Perhaps the internal database is not in synch\n",
      "with the Abinit version you are using. Please contact the AbiPy developers.\n"
     ]
    }
   ],
   "source": [
    "try:\n",
    "    inp.set_vars(perl=0)\n",
    "except Exception as exc:\n",
    "    print(exc)"
   ]
  },
  {
   "cell_type": "markdown",
   "id": "b2919b20",
   "metadata": {},
   "source": [
    "<div class=\"alert alert-warning\" role=\"alert\">\n",
    "The AbinitInput is a mutable object so changing it will aftect all the references\n",
    "to the object. \n",
    "See http://docs.python-guide.org/en/latest/writing/gotchas/ for further info\n",
    "</div>"
   ]
  },
  {
   "cell_type": "code",
   "execution_count": 14,
   "id": "2cf90e46",
   "metadata": {},
   "outputs": [
    {
     "name": "stdout",
     "output_type": "stream",
     "text": [
      "a dict: {'foo': 'bar', 'hello': 'world'}\n",
      "b dict: {'foo': 'bar', 'hello': 'world'}\n",
      "c dict: {'foo': 'bar'}\n"
     ]
    }
   ],
   "source": [
    "a = {\"foo\": \"bar\"}\n",
    "b = a \n",
    "c = a.copy()\n",
    "a[\"hello\"] = \"world\"\n",
    "print(\"a dict:\", a)\n",
    "print(\"b dict:\", b)\n",
    "print(\"c dict:\", c)"
   ]
  },
  {
   "cell_type": "markdown",
   "id": "0f157123",
   "metadata": {},
   "source": [
    "## Defining the crystalline structure\n",
    "[[back to top](#top)]"
   ]
  },
  {
   "cell_type": "markdown",
   "id": "8b6bcb5b",
   "metadata": {},
   "source": [
    "The `set_structure` method sets the value of the ABINIT variables:\n",
    "    \n",
    "   * acell\n",
    "   * rprim\n",
    "   * ntypat\n",
    "   * natom \n",
    "   * typat\n",
    "   * znucl\n",
    "   * xred\n",
    "    \n",
    "It is always a good idea to set the structure immediately after the creation of `AbinitInput`\n",
    "because several methods use this information to facilitate the specification of other variables.\n",
    "For example, the `set_kpath` method uses the structure to generate the high-symmetry $k$-path for band structure calculations.\n",
    "\n",
    "<div class=\"alert alert-warning\">\n",
    "`typat` must be consistent with the list of pseudopotentials passed to `AbinitInput`\n",
    "</div>"
   ]
  },
  {
   "cell_type": "markdown",
   "id": "42c3615d",
   "metadata": {},
   "source": [
    "### Structure from dictionary:"
   ]
  },
  {
   "cell_type": "code",
   "execution_count": 15,
   "id": "dd5b472d",
   "metadata": {},
   "outputs": [],
   "source": [
    "structure = dict(\n",
    "    ntypat=1,         \n",
    "    natom=2,\n",
    "    typat=[1, 1],\n",
    "    znucl=14,\n",
    "    acell=3*[10.217],\n",
    "    rprim=[[0.0,  0.5,  0.5],   \n",
    "           [0.5,  0.0,  0.5],\n",
    "           [0.5,  0.5,  0.0]],\n",
    "    xred=[[0.0 , 0.0 , 0.0],\n",
    "          [0.25, 0.25, 0.25]]\n",
    ")\n",
    "\n",
    "inp = AbinitInput(structure, pseudos=abidata.pseudos(\"14si.pspnc\"))"
   ]
  },
  {
   "cell_type": "markdown",
   "id": "6c8db6c9",
   "metadata": {},
   "source": [
    "### Structure from file"
   ]
  },
  {
   "cell_type": "markdown",
   "id": "2a6940f8",
   "metadata": {},
   "source": [
    "From a CIF file:"
   ]
  },
  {
   "cell_type": "code",
   "execution_count": 16,
   "id": "e24e60ac",
   "metadata": {},
   "outputs": [
    {
     "data": {
      "text/plain": [
       "Structure Summary\n",
       "Lattice\n",
       "    abc : 3.86697462 3.86697462 3.86697462\n",
       " angles : 59.99999999999999 59.99999999999999 59.99999999999999\n",
       " volume : 40.88829179346891\n",
       "      A : 3.3488982567096763 0.0 1.9334873100000005\n",
       "      B : 1.1162994189032256 3.1573715557642927 1.9334873100000005\n",
       "      C : 0.0 0.0 3.86697462\n",
       "PeriodicSite: Si (0.0000, 0.0000, 0.0000) [0.0000, 0.0000, 0.0000]\n",
       "PeriodicSite: Si (1.1163, 0.7893, 1.9335) [0.2500, 0.2500, 0.2500]"
      ]
     },
     "execution_count": 16,
     "metadata": {},
     "output_type": "execute_result"
    }
   ],
   "source": [
    "inp.set_structure(abidata.cif_file(\"si.cif\"))"
   ]
  },
  {
   "cell_type": "markdown",
   "id": "3bc09cc6",
   "metadata": {},
   "source": [
    "From a Netcdf file produced by ABINIT:"
   ]
  },
  {
   "cell_type": "code",
   "execution_count": 17,
   "id": "b6cc1f34",
   "metadata": {},
   "outputs": [
    {
     "data": {
      "text/plain": [
       "Structure Summary\n",
       "Lattice\n",
       "    abc : 3.866974636909136 3.866974636913999 3.866974636891966\n",
       " angles : 60.000000000188486 60.00000000014689 60.00000000040088\n",
       " volume : 40.88829232994348\n",
       "      A : 3.3488982713583737 0.0 1.933487318445983\n",
       "      B : 1.1162994237684851 3.157371569587409 1.933487318445983\n",
       "      C : 0.0 0.0 3.866974636891966\n",
       "PeriodicSite: Si (0.0000, 0.0000, 0.0000) [0.0000, 0.0000, 0.0000]\n",
       "PeriodicSite: Si (1.1163, 0.7893, 1.9335) [0.2500, 0.2500, 0.2500]"
      ]
     },
     "execution_count": 17,
     "metadata": {},
     "output_type": "execute_result"
    }
   ],
   "source": [
    "inp.set_structure(abidata.ref_file(\"si_scf_GSR.nc\"))"
   ]
  },
  {
   "cell_type": "markdown",
   "id": "07d31c1d",
   "metadata": {},
   "source": [
    "Supported formats include:\n",
    "\n",
    "   * *CIF*\n",
    "   * *POSCAR/CONTCAR*\n",
    "   * *CHGCAR* \n",
    "   * *LOCPOT*\n",
    "   * *vasprun.xml*\n",
    "   * *CSSR* \n",
    "   * *ABINIT netcdf files* \n",
    "   * *pymatgen's JSON serialized structures*"
   ]
  },
  {
   "cell_type": "markdown",
   "id": "813c231d",
   "metadata": {},
   "source": [
    "### From the Materials Project database:"
   ]
  },
  {
   "cell_type": "code",
   "execution_count": 18,
   "id": "8e6e27d6",
   "metadata": {},
   "outputs": [
    {
     "data": {
      "text/plain": [
       "Structure Summary\n",
       "Lattice\n",
       "    abc : 3.8669746532647453 3.8669746532647453 3.8669746532647453\n",
       " angles : 59.99999999999999 59.99999999999999 59.99999999999999\n",
       " volume : 40.88829284866483\n",
       "      A : 0.0 2.734364 2.734364\n",
       "      B : 2.734364 0.0 2.734364\n",
       "      C : 2.734364 2.734364 0.0\n",
       "PeriodicSite: Si (1.3672, 1.3672, 1.3672) [0.2500, 0.2500, 0.2500]\n",
       "PeriodicSite: Si (0.0000, 0.0000, 0.0000) [0.0000, 0.0000, 0.0000]"
      ]
     },
     "execution_count": 18,
     "metadata": {},
     "output_type": "execute_result"
    }
   ],
   "source": [
    "# https://www.materialsproject.org/materials/mp-149/\n",
    "inp.set_structure(abilab.Structure.from_mpid(\"mp-149\"))"
   ]
  },
  {
   "cell_type": "markdown",
   "id": "03cfca83",
   "metadata": {},
   "source": [
    "Remember to set the `PMG_MAPI_KEY` in ~/.pmgrc.yaml as described \n",
    "[here](http://pymatgen.org/usage.html#setting-the-pmg-mapi-key-in-the-config-file)."
   ]
  },
  {
   "cell_type": "markdown",
   "id": "43a87e2f",
   "metadata": {},
   "source": [
    "Note that you can avoid the call to `set_structure` if the `structure` argument is passed to `AbiniInput`:"
   ]
  },
  {
   "cell_type": "code",
   "execution_count": 19,
   "id": "678643a5",
   "metadata": {},
   "outputs": [
    {
     "data": {
      "text/html": [
       "<div class=\"abinit_input\">\n",
       "##############################################<br>####                  STRUCTURE                  <br>##############################################<br> <a href=\"https://docs.abinit.org/variables/basic#natom\" target=\"_blank\">natom</a> 2<br> <a href=\"https://docs.abinit.org/variables/basic#ntypat\" target=\"_blank\">ntypat</a> 1<br> <a href=\"https://docs.abinit.org/variables/basic#typat\" target=\"_blank\">typat</a> 1 1<br> <a href=\"https://docs.abinit.org/variables/basic#znucl\" target=\"_blank\">znucl</a> 14<br> <a href=\"https://docs.abinit.org/variables/basic#xred\" target=\"_blank\">xred</a><br>    0.0000000000    0.0000000000    0.0000000000<br>    0.2500000000    0.2500000000    0.2500000000<br> <a href=\"https://docs.abinit.org/variables/basic#acell\" target=\"_blank\">acell</a>    1.0    1.0    1.0<br> <a href=\"https://docs.abinit.org/variables/basic#rprim\" target=\"_blank\">rprim</a><br>    6.3285005244    0.0000000000    3.6537614813<br>    2.1095001748    5.9665675141    3.6537614813<br>    0.0000000000    0.0000000000    7.3075229627\n",
       "<div>"
      ],
      "text/plain": [
       "<AbinitInput at 140412720228112>"
      ]
     },
     "execution_count": 19,
     "metadata": {},
     "output_type": "execute_result"
    }
   ],
   "source": [
    "AbinitInput(structure=abidata.cif_file(\"si.cif\"), pseudos=abidata.pseudos(\"14si.pspnc\"))"
   ]
  },
  {
   "cell_type": "markdown",
   "id": "fd668de5",
   "metadata": {
    "toc-hr-collapsed": true
   },
   "source": [
    "## Brillouin zone sampling\n",
    "[[back to top](#top)]\n",
    "\n",
    "There are two different types of sampling of the BZ: homogeneous and high-symmetry k-path.\n",
    "The later is mainly used for band structure calculations and requires the specification of: \n",
    "\n",
    "   * kptopt\n",
    "   * kptbounds\n",
    "   * ndivsm\n",
    "    \n",
    "whereas the homogeneous sampling is needed for all the calculations in which \n",
    "we have to compute integrals in the Brillouin zone e.g. total energy calculations, DOS, etc.\n",
    "The $k$-mesh is usually specified via:\n",
    "\n",
    "   * ngkpt\n",
    "   * nshiftk\n",
    "   * shiftk"
   ]
  },
  {
   "cell_type": "markdown",
   "id": "323a145e",
   "metadata": {},
   "source": [
    "### Explicit $k$-mesh"
   ]
  },
  {
   "cell_type": "code",
   "execution_count": 20,
   "id": "b2817f36",
   "metadata": {},
   "outputs": [
    {
     "data": {
      "text/plain": [
       "{'ngkpt': (1, 2, 3),\n",
       " 'kptopt': 1,\n",
       " 'nshiftk': 2,\n",
       " 'shiftk': array([[0. , 0. , 0. ],\n",
       "        [0.5, 0.5, 0.5]])}"
      ]
     },
     "execution_count": 20,
     "metadata": {},
     "output_type": "execute_result"
    }
   ],
   "source": [
    "inp = AbinitInput(structure=abidata.cif_file(\"si.cif\"), pseudos=abidata.pseudos(\"14si.pspnc\"))\n",
    "\n",
    "# Set ngkpt, shiftk explicitly  \n",
    "inp.set_kmesh(ngkpt=(1, 2, 3), shiftk=[0.0, 0.0, 0.0, 0.5, 0.5, 0.5])"
   ]
  },
  {
   "cell_type": "markdown",
   "id": "87662e1c",
   "metadata": {},
   "source": [
    "### Automatic $k$-mesh"
   ]
  },
  {
   "cell_type": "code",
   "execution_count": 21,
   "id": "ba0875bf",
   "metadata": {},
   "outputs": [
    {
     "data": {
      "text/plain": [
       "{'ngkpt': array([4, 4, 4]),\n",
       " 'kptopt': 1,\n",
       " 'nshiftk': 4,\n",
       " 'shiftk': array([[0.5, 0.5, 0.5],\n",
       "        [0.5, 0. , 0. ],\n",
       "        [0. , 0.5, 0. ],\n",
       "        [0. , 0. , 0.5]])}"
      ]
     },
     "execution_count": 21,
     "metadata": {},
     "output_type": "execute_result"
    }
   ],
   "source": [
    "# Define a homogeneous k-mesh. \n",
    "# nksmall is the number of divisions to be used to sample the smallest lattice vector,\n",
    "# shiftk is automatically selected from an internal database.\n",
    "\n",
    "inp.set_autokmesh(nksmall=4)"
   ]
  },
  {
   "cell_type": "markdown",
   "id": "06e1956d",
   "metadata": {},
   "source": [
    "### High-symmetry $k$-path"
   ]
  },
  {
   "cell_type": "code",
   "execution_count": 22,
   "id": "6e3e2776",
   "metadata": {},
   "outputs": [
    {
     "data": {
      "text/plain": [
       "{'kptbounds': array([[0.   , 0.   , 0.   ],\n",
       "        [0.5  , 0.   , 0.5  ],\n",
       "        [0.5  , 0.25 , 0.75 ],\n",
       "        [0.375, 0.375, 0.75 ],\n",
       "        [0.   , 0.   , 0.   ],\n",
       "        [0.5  , 0.5  , 0.5  ],\n",
       "        [0.625, 0.25 , 0.625],\n",
       "        [0.5  , 0.25 , 0.75 ],\n",
       "        [0.5  , 0.5  , 0.5  ],\n",
       "        [0.375, 0.375, 0.75 ],\n",
       "        [0.625, 0.25 , 0.625],\n",
       "        [0.5  , 0.   , 0.5  ]]),\n",
       " 'kptopt': -11,\n",
       " 'ndivsm': 10,\n",
       " 'iscf': -2}"
      ]
     },
     "execution_count": 22,
     "metadata": {},
     "output_type": "execute_result"
    }
   ],
   "source": [
    "# Generate a high-symmetry k-path (taken from an internal database)\n",
    "# Ten points are used to sample the smallest segment, \n",
    "# the other segments are sampled so that proportions are preserved.\n",
    "# A warning is issued by pymatgen about the structure not being standard.\n",
    "# Be aware that this might possibly affect the automatic labelling of the boundary k-points on the k-path.\n",
    "# So, check carefully the k-point labels on the figures that are produced in such case.\n",
    "\n",
    "inp.set_kpath(ndivsm=10)"
   ]
  },
  {
   "cell_type": "markdown",
   "id": "376589ba",
   "metadata": {},
   "source": [
    "## Utilities\n",
    "[[back to top](#top)]\n",
    "\n",
    "Once the structure has been defined, one can compute the number of valence electrons with:"
   ]
  },
  {
   "cell_type": "code",
   "execution_count": 23,
   "id": "b6cf0538",
   "metadata": {},
   "outputs": [
    {
     "name": "stdout",
     "output_type": "stream",
     "text": [
      "The number of valence electrons is:  8\n"
     ]
    }
   ],
   "source": [
    "print(\"The number of valence electrons is: \", inp.num_valence_electrons)"
   ]
  },
  {
   "cell_type": "markdown",
   "id": "dc3d8479",
   "metadata": {},
   "source": [
    "If we need to change a particular (scalar) variable to generate inputs for convergence studies:"
   ]
  },
  {
   "cell_type": "code",
   "execution_count": 24,
   "id": "5ded9c95",
   "metadata": {},
   "outputs": [
    {
     "name": "stdout",
     "output_type": "stream",
     "text": [
      "[2, 4]\n"
     ]
    }
   ],
   "source": [
    "# When using a non-integer step, such as 0.1, the results will often not\n",
    "# be consistent.  It is better to use ``linspace`` for these cases.\n",
    "# See also numpy.arange and numpy.linspace\n",
    "\n",
    "ecut_inps = inp.arange(\"ecut\", start=2, stop=5, step=2)\n",
    "\n",
    "print([i[\"ecut\"] for i in ecut_inps])"
   ]
  },
  {
   "cell_type": "code",
   "execution_count": 25,
   "id": "4e397434",
   "metadata": {},
   "outputs": [
    {
     "name": "stdout",
     "output_type": "stream",
     "text": [
      "[0.001, 0.002, 0.003]\n"
     ]
    }
   ],
   "source": [
    "tsmear_inps = inp.linspace(\"tsmear\", start=0.001, stop=0.003, num=3)\n",
    "print([i[\"tsmear\"] for i in tsmear_inps])"
   ]
  },
  {
   "cell_type": "markdown",
   "id": "e3c511aa",
   "metadata": {},
   "source": [
    "## Invoking Abinit with AbinitInput\n",
    "[[back to top](#top)]\n",
    "\n",
    "Once you have an `AbinitInput`, you can call Abinit to get useful information \n",
    "or simply to validate the input file before running the calculation.\n",
    "All the method that invoke Abinit starts with the `abi` prefix \n",
    "followed by a verb e.g. `abiget` or `abivalidate`."
   ]
  },
  {
   "cell_type": "code",
   "execution_count": 26,
   "id": "60d9e35a",
   "metadata": {},
   "outputs": [
    {
     "name": "stdout",
     "output_type": "stream",
     "text": [
      "src_file: m_invars2.F90\n",
      "src_line: 821\n",
      "mpi_rank: 0\n",
      "message: |\n",
      "    The input keyword \"ecut\" is compulsory !\n",
      "    Action: add a value for \"ecut\" in the input file.\n",
      "...\n",
      "\n",
      "\n",
      " abinit_abort: decision taken to exit. Check above messages for more info\n",
      "\n"
     ]
    }
   ],
   "source": [
    "inp = AbinitInput(structure=abidata.cif_file(\"si.cif\"), pseudos=abidata.pseudos(\"14si.pspnc\"))\n",
    "\n",
    "inp.set_vars(ecut=-2)\n",
    "inp.set_autokmesh(nksmall=4)\n",
    "\n",
    "v = inp.abivalidate() \n",
    "if v.retcode != 0: \n",
    "    # If there is a mistake in the input, one can acces the log file of the run with the log_file object\n",
    "    print(\"\".join(v.log_file.readlines()[-10:]))"
   ]
  },
  {
   "cell_type": "markdown",
   "id": "499620b6",
   "metadata": {},
   "source": [
    "Let's fix the problem with the negative ecut and rerun abivalidate!"
   ]
  },
  {
   "cell_type": "code",
   "execution_count": 27,
   "id": "344c542c",
   "metadata": {},
   "outputs": [
    {
     "name": "stdout",
     "output_type": "stream",
     "text": [
      "All ok\n"
     ]
    }
   ],
   "source": [
    "inp[\"ecut\"] = 2\n",
    "inp[\"toldfe\"] = 1e-10\n",
    "v = inp.abivalidate()\n",
    "if v.retcode == 0: \n",
    "    print(\"All ok\")\n",
    "else:\n",
    "    print(v)"
   ]
  },
  {
   "cell_type": "markdown",
   "id": "a3e99881",
   "metadata": {},
   "source": [
    "At this point, we have a valid input file and we can get the k-points in the irreducible zone with:"
   ]
  },
  {
   "cell_type": "code",
   "execution_count": 28,
   "id": "098af4a8",
   "metadata": {},
   "outputs": [
    {
     "name": "stdout",
     "output_type": "stream",
     "text": [
      "number of k-points: 10\n",
      "k-points: [[-0.125 -0.25   0.   ]\n",
      " [-0.125  0.5    0.   ]\n",
      " [-0.25  -0.375  0.   ]\n",
      " [-0.125 -0.375  0.125]\n",
      " [-0.125  0.25   0.   ]\n",
      " [-0.25   0.375  0.   ]\n",
      " [-0.375  0.5    0.   ]\n",
      " [-0.25   0.5    0.125]\n",
      " [-0.125  0.     0.   ]\n",
      " [-0.375  0.     0.   ]]\n",
      "weights: [0.09375 0.09375 0.09375 0.1875  0.09375 0.09375 0.09375 0.1875  0.03125\n",
      " 0.03125]\n",
      "weights are normalized to: 1.0\n"
     ]
    }
   ],
   "source": [
    "ibz = inp.abiget_ibz()\n",
    "print(\"number of k-points:\", len(ibz.points))\n",
    "print(\"k-points:\", ibz.points)\n",
    "print(\"weights:\", ibz.weights)\n",
    "print(\"weights are normalized to:\", ibz.weights.sum())"
   ]
  },
  {
   "cell_type": "markdown",
   "id": "8187a5ed",
   "metadata": {},
   "source": [
    "We can also call the Abinit spacegroup finder with:"
   ]
  },
  {
   "cell_type": "code",
   "execution_count": 29,
   "id": "3da79301",
   "metadata": {},
   "outputs": [
    {
     "name": "stdout",
     "output_type": "stream",
     "text": [
      "spacegroup found by Abinit: spgid: 227, num_spatial_symmetries: 48, has_timerev: True, symmorphic: True\n"
     ]
    }
   ],
   "source": [
    "abistruct = inp.abiget_spacegroup()\n",
    "print(\"spacegroup found by Abinit:\", abistruct.abi_spacegroup)"
   ]
  },
  {
   "cell_type": "markdown",
   "id": "66f5b097",
   "metadata": {},
   "source": [
    "To get the list of possible parallel configurations for this input up to 5 max_ncpus"
   ]
  },
  {
   "cell_type": "code",
   "execution_count": 30,
   "id": "18e8f5c1",
   "metadata": {},
   "outputs": [],
   "source": [
    "inp[\"paral_kgb\"] = 1\n",
    "pconfs = inp.abiget_autoparal_pconfs(max_ncpus=5)"
   ]
  },
  {
   "cell_type": "code",
   "execution_count": 31,
   "id": "9dc444fb",
   "metadata": {},
   "outputs": [
    {
     "name": "stdout",
     "output_type": "stream",
     "text": [
      "best efficiency:\n",
      " {'efficiency': 0.8525,\n",
      " 'mem_per_cpu': 0.0,\n",
      " 'mpi_ncpus': 5,\n",
      " 'omp_ncpus': 1,\n",
      " 'tot_ncpus': 5,\n",
      " 'vars': {'bandpp': 1,\n",
      "          'npband': 1,\n",
      "          'npfft': 1,\n",
      "          'npimage': 1,\n",
      "          'npkpt': 5,\n",
      "          'npspinor': 1}}\n",
      "\n",
      "best speedup:\n",
      " {'efficiency': 0.8525,\n",
      " 'mem_per_cpu': 0.0,\n",
      " 'mpi_ncpus': 5,\n",
      " 'omp_ncpus': 1,\n",
      " 'tot_ncpus': 5,\n",
      " 'vars': {'bandpp': 1,\n",
      "          'npband': 1,\n",
      "          'npfft': 1,\n",
      "          'npimage': 1,\n",
      "          'npkpt': 5,\n",
      "          'npspinor': 1}}\n",
      "\n"
     ]
    }
   ],
   "source": [
    "print(\"best efficiency:\\n\", pconfs.sort_by_efficiency()[0])\n",
    "print(\"best speedup:\\n\", pconfs.sort_by_speedup()[0])"
   ]
  },
  {
   "cell_type": "markdown",
   "id": "52f43a3d",
   "metadata": {},
   "source": [
    "To get the list of irreducible phonon perturbations at Gamma (Abinit notation)"
   ]
  },
  {
   "cell_type": "code",
   "execution_count": 32,
   "id": "e530feeb",
   "metadata": {},
   "outputs": [
    {
     "data": {
      "text/plain": [
       "[{'qpt': [0.0, 0.0, 0.0], 'ipert': 1, 'idir': 1, 'nkpt_rbz': 10}]"
      ]
     },
     "execution_count": 32,
     "metadata": {},
     "output_type": "execute_result"
    }
   ],
   "source": [
    "inp.abiget_irred_phperts(qpt=(0, 0, 0))"
   ]
  },
  {
   "cell_type": "markdown",
   "id": "98620569",
   "metadata": {},
   "source": [
    "## Multiple datasets\n",
    "[[back to top](#top)]\n",
    "\n",
    "Multiple datasets are handy when you have to generate several input files sharing several common\n",
    "variables e.g. the crystalline structure, the value of ecut etc...\n",
    "In this case, one can use the `MultiDataset` object that is essentially \n",
    "a list of `AbinitInput` objects. Note however that `Abipy` workflows do not support input files with more than one dataset."
   ]
  },
  {
   "cell_type": "code",
   "execution_count": 33,
   "id": "5eb5b90e",
   "metadata": {},
   "outputs": [
    {
     "name": "stdout",
     "output_type": "stream",
     "text": [
      "4\n",
      "4\n"
     ]
    }
   ],
   "source": [
    "# A MultiDataset object with two datasets (a.k.a. AbinitInput) \n",
    "multi = abilab.MultiDataset(structure=abidata.cif_file(\"si.cif\"),\n",
    "                            pseudos=\"14si.pspnc\", pseudo_dir=abidata.pseudo_dir, ndtset=2)\n",
    "\n",
    "# A MultiDataset is essentially a list of AbinitInput objects \n",
    "# with handy methods to perform global modifications.\n",
    "# i.e. changes that will affect all the inputs in the MultiDataset\n",
    "# For example:\n",
    "multi.set_vars(ecut=4)\n",
    "\n",
    "# is equivalent to\n",
    "#\n",
    "#   for inp in multi: inp.set_vars(ecut=4)\n",
    "#\n",
    "# and indeed:\n",
    "\n",
    "for inp in multi: \n",
    "    print(inp[\"ecut\"])"
   ]
  },
  {
   "cell_type": "code",
   "execution_count": 34,
   "id": "08e0a371",
   "metadata": {},
   "outputs": [
    {
     "data": {
      "text/plain": [
       "{'ngkpt': [4, 4, 4], 'tsmear': 0.008}"
      ]
     },
     "execution_count": 34,
     "metadata": {},
     "output_type": "execute_result"
    }
   ],
   "source": [
    "# To change the values in a particular dataset use:\n",
    "multi[0].set_vars(ngkpt=[2,2,2], tsmear=0.004)\n",
    "multi[1].set_vars(ngkpt=[4,4,4], tsmear=0.008)"
   ]
  },
  {
   "cell_type": "markdown",
   "id": "05568a77",
   "metadata": {},
   "source": [
    "To build a table with the values of \"ngkpt\" and \"tsmear\":"
   ]
  },
  {
   "cell_type": "code",
   "execution_count": 35,
   "id": "5518bfaa",
   "metadata": {},
   "outputs": [
    {
     "data": {
      "text/html": [
       "<div>\n",
       "<style scoped>\n",
       "    .dataframe tbody tr th:only-of-type {\n",
       "        vertical-align: middle;\n",
       "    }\n",
       "\n",
       "    .dataframe tbody tr th {\n",
       "        vertical-align: top;\n",
       "    }\n",
       "\n",
       "    .dataframe thead th {\n",
       "        text-align: right;\n",
       "    }\n",
       "</style>\n",
       "<table border=\"1\" class=\"dataframe\">\n",
       "  <thead>\n",
       "    <tr style=\"text-align: right;\">\n",
       "      <th></th>\n",
       "      <th>ngkpt</th>\n",
       "      <th>tsmear</th>\n",
       "    </tr>\n",
       "  </thead>\n",
       "  <tbody>\n",
       "    <tr>\n",
       "      <th>dataset 0</th>\n",
       "      <td>[2, 2, 2]</td>\n",
       "      <td>0.004</td>\n",
       "    </tr>\n",
       "    <tr>\n",
       "      <th>dataset 1</th>\n",
       "      <td>[4, 4, 4]</td>\n",
       "      <td>0.008</td>\n",
       "    </tr>\n",
       "  </tbody>\n",
       "</table>\n",
       "</div>"
      ],
      "text/plain": [
       "               ngkpt  tsmear\n",
       "dataset 0  [2, 2, 2]   0.004\n",
       "dataset 1  [4, 4, 4]   0.008"
      ]
     },
     "execution_count": 35,
     "metadata": {},
     "output_type": "execute_result"
    }
   ],
   "source": [
    "multi.get_vars_dataframe(\"ngkpt\", \"tsmear\")"
   ]
  },
  {
   "cell_type": "code",
   "execution_count": 36,
   "id": "2dfdd119",
   "metadata": {},
   "outputs": [
    {
     "data": {
      "text/html": [
       "ndtset 2<br>############################################################################################<br>#### Global Variables.<br>############################################################################################<br> <a href=\"https://docs.abinit.org/variables/basic#ecut\" target=\"_blank\">ecut</a> 4<br>############################################################################################<br>####                                         STRUCTURE                                         <br>############################################################################################<br> <a href=\"https://docs.abinit.org/variables/basic#natom\" target=\"_blank\">natom</a> 2<br> <a href=\"https://docs.abinit.org/variables/basic#ntypat\" target=\"_blank\">ntypat</a> 1<br> <a href=\"https://docs.abinit.org/variables/basic#typat\" target=\"_blank\">typat</a> 1 1<br> <a href=\"https://docs.abinit.org/variables/basic#znucl\" target=\"_blank\">znucl</a> 14<br> <a href=\"https://docs.abinit.org/variables/basic#xred\" target=\"_blank\">xred</a><br>    0.0000000000    0.0000000000    0.0000000000<br>    0.2500000000    0.2500000000    0.2500000000<br> <a href=\"https://docs.abinit.org/variables/basic#acell\" target=\"_blank\">acell</a>    1.0    1.0    1.0<br> <a href=\"https://docs.abinit.org/variables/basic#rprim\" target=\"_blank\">rprim</a><br>    6.3285005244    0.0000000000    3.6537614813<br>    2.1095001748    5.9665675141    3.6537614813<br>    0.0000000000    0.0000000000    7.3075229627<br><br>#####################<br>##### DATASET 1 #####<br>#####################<br><div class=\"abinit_input\"><br>##############################################<br>####                SECTION: basic               <br>##############################################<br> <a href=\"https://docs.abinit.org/variables/basic#ngkpt\" target=\"_blank\">ngkpt1</a> 2 2 2<br>##############################################<br>####               SECTION: gstate               <br>##############################################<br> <a href=\"https://docs.abinit.org/variables/gstate#tsmear\" target=\"_blank\">tsmear1</a> 0.004<br><div><br><br><br>#####################<br>##### DATASET 2 #####<br>#####################<br><div class=\"abinit_input\"><br>##############################################<br>####                SECTION: basic               <br>##############################################<br> <a href=\"https://docs.abinit.org/variables/basic#ngkpt\" target=\"_blank\">ngkpt2</a> 4 4 4<br>##############################################<br>####               SECTION: gstate               <br>##############################################<br> <a href=\"https://docs.abinit.org/variables/gstate#tsmear\" target=\"_blank\">tsmear2</a> 0.008<br><br><br>#&lt;JSON&gt;<br>#{<br>#    &quot;pseudos&quot;: [<br>#        {<br>#            &quot;basename&quot;: &quot;14si.pspnc&quot;,<br>#            &quot;type&quot;: &quot;NcAbinitPseudo&quot;,<br>#            &quot;symbol&quot;: &quot;Si&quot;,<br>#            &quot;Z&quot;: 14,<br>#            &quot;Z_val&quot;: 4.0,<br>#            &quot;l_max&quot;: 2,<br>#            &quot;md5&quot;: &quot;3916b143991b1cfa1542b130be320e5e&quot;,<br>#            &quot;filepath&quot;: &quot;/Users/gmatteo/git_repos/abipy/abipy/data/pseudos/14si.pspnc&quot;,<br>#            &quot;@module&quot;: &quot;pymatgen.io.abinit.pseudos&quot;,<br>#            &quot;@class&quot;: &quot;NcAbinitPseudo&quot;<br>#        }<br>#    ]<br>#}<br>#&lt;/JSON&gt;<br><div><br>"
      ],
      "text/plain": [
       "<abipy.abio.inputs.MultiDataset at 0x7fb462572550>"
      ]
     },
     "execution_count": 36,
     "metadata": {},
     "output_type": "execute_result"
    }
   ],
   "source": [
    "multi"
   ]
  },
  {
   "cell_type": "markdown",
   "id": "aff68713",
   "metadata": {},
   "source": [
    "<div class=\"alert alert-warning\" role=\"alert\">\n",
    "Remember that in python we start to count from zero hence the first dataset has index 0.\n",
    "</div>"
   ]
  },
  {
   "cell_type": "markdown",
   "id": "e894ebe1",
   "metadata": {},
   "source": [
    "Calling set_structure on `MultiDataset` will set the structure of the inputs:"
   ]
  },
  {
   "cell_type": "code",
   "execution_count": 37,
   "id": "e408d6cf",
   "metadata": {},
   "outputs": [
    {
     "name": "stdout",
     "output_type": "stream",
     "text": [
      "[Structure Summary\n",
      "Lattice\n",
      "    abc : 3.86697462 3.86697462 3.86697462\n",
      " angles : 59.99999999999999 59.99999999999999 59.99999999999999\n",
      " volume : 40.88829179346891\n",
      "      A : 3.3488982567096763 0.0 1.9334873100000005\n",
      "      B : 1.1162994189032256 3.1573715557642927 1.9334873100000005\n",
      "      C : 0.0 0.0 3.86697462\n",
      "PeriodicSite: Si (0.0000, 0.0000, 0.0000) [0.0000, 0.0000, 0.0000]\n",
      "PeriodicSite: Si (1.1163, 0.7893, 1.9335) [0.2500, 0.2500, 0.2500], Structure Summary\n",
      "Lattice\n",
      "    abc : 3.86697462 3.86697462 3.86697462\n",
      " angles : 59.99999999999999 59.99999999999999 59.99999999999999\n",
      " volume : 40.88829179346891\n",
      "      A : 3.3488982567096763 0.0 1.9334873100000005\n",
      "      B : 1.1162994189032256 3.1573715557642927 1.9334873100000005\n",
      "      C : 0.0 0.0 3.86697462\n",
      "PeriodicSite: Si (0.0000, 0.0000, 0.0000) [0.0000, 0.0000, 0.0000]\n",
      "PeriodicSite: Si (1.1163, 0.7893, 1.9335) [0.2500, 0.2500, 0.2500]]\n"
     ]
    }
   ],
   "source": [
    "multi.set_structure(abidata.cif_file(\"si.cif\"))\n",
    "\n",
    "# The structure attribute of a MultiDataset returns a list of structures \n",
    "# equivalent to [inp.structure for inp in multi]\n",
    "print(multi.structure)"
   ]
  },
  {
   "cell_type": "markdown",
   "id": "2c44afe0",
   "metadata": {},
   "source": [
    "The function `split_datasets` return the list of `AbinitInput` stored in MultiDataset"
   ]
  },
  {
   "cell_type": "code",
   "execution_count": 38,
   "id": "d7aa91d9",
   "metadata": {},
   "outputs": [
    {
     "data": {
      "text/html": [
       "<div class=\"abinit_input\">\n",
       "##############################################<br>####                SECTION: basic               <br>##############################################<br> <a href=\"https://docs.abinit.org/variables/basic#ecut\" target=\"_blank\">ecut</a> 4<br> <a href=\"https://docs.abinit.org/variables/basic#ngkpt\" target=\"_blank\">ngkpt</a> 2 2 2<br>##############################################<br>####               SECTION: gstate               <br>##############################################<br> <a href=\"https://docs.abinit.org/variables/gstate#tsmear\" target=\"_blank\">tsmear</a> 0.004<br>##############################################<br>####                  STRUCTURE                  <br>##############################################<br> <a href=\"https://docs.abinit.org/variables/basic#natom\" target=\"_blank\">natom</a> 2<br> <a href=\"https://docs.abinit.org/variables/basic#ntypat\" target=\"_blank\">ntypat</a> 1<br> <a href=\"https://docs.abinit.org/variables/basic#typat\" target=\"_blank\">typat</a> 1 1<br> <a href=\"https://docs.abinit.org/variables/basic#znucl\" target=\"_blank\">znucl</a> 14<br> <a href=\"https://docs.abinit.org/variables/basic#xred\" target=\"_blank\">xred</a><br>    0.0000000000    0.0000000000    0.0000000000<br>    0.2500000000    0.2500000000    0.2500000000<br> <a href=\"https://docs.abinit.org/variables/basic#acell\" target=\"_blank\">acell</a>    1.0    1.0    1.0<br> <a href=\"https://docs.abinit.org/variables/basic#rprim\" target=\"_blank\">rprim</a><br>    6.3285005244    0.0000000000    3.6537614813<br>    2.1095001748    5.9665675141    3.6537614813<br>    0.0000000000    0.0000000000    7.3075229627\n",
       "<div>"
      ],
      "text/plain": [
       "<AbinitInput at 140412720617064>"
      ]
     },
     "execution_count": 38,
     "metadata": {},
     "output_type": "execute_result"
    }
   ],
   "source": [
    "inp0, inp1 = multi.split_datasets()\n",
    "inp0"
   ]
  },
  {
   "cell_type": "markdown",
   "id": "9e51ae1b",
   "metadata": {},
   "source": [
    "<div class=\"alert alert\">\n",
    "You can use `MultiDataset` to build your input files but remember that \n",
    "`Abipy` workflows will never support input files with more than one dataset.\n",
    "As a consequence, you should always pass an `AbinitInput` to the \n",
    "AbiPy functions that are building `Tasks`, `Works` or `Flows`.\n",
    "</div>"
   ]
  },
  {
   "cell_type": "code",
   "execution_count": 39,
   "id": "6f135b6c",
   "metadata": {},
   "outputs": [
    {
     "name": "stdout",
     "output_type": "stream",
     "text": [
      "Number of datasets: 2\n"
     ]
    }
   ],
   "source": [
    "print(\"Number of datasets:\", multi.ndtset)"
   ]
  },
  {
   "cell_type": "code",
   "execution_count": 40,
   "id": "bb7df1fd",
   "metadata": {},
   "outputs": [
    {
     "name": "stdout",
     "output_type": "stream",
     "text": [
      "Now multi has 3 datasets and the ecut in the last dataset is: 42\n"
     ]
    }
   ],
   "source": [
    "# To create and append a new dataset (initialized from dataset number 1)\n",
    "multi.addnew_from(1)\n",
    "multi[-1].set_vars(ecut=42)\n",
    "print(\"Now multi has\", multi.ndtset, \"datasets and the ecut in the last dataset is:\", \n",
    "      multi[-1][\"ecut\"])"
   ]
  },
  {
   "cell_type": "markdown",
   "id": "22322ffb",
   "metadata": {},
   "source": [
    "Back to the main [Index](index.ipynb)"
   ]
  },
  {
   "cell_type": "code",
   "execution_count": null,
   "id": "5eb1489b",
   "metadata": {},
   "outputs": [],
   "source": []
  }
 ],
 "metadata": {
  "jupytext": {
   "text_representation": {
    "extension": ".md",
    "format_name": "myst",
    "format_version": 0.13,
    "jupytext_version": "1.10.3"
   }
  },
  "kernelspec": {
   "display_name": "Python 3",
   "language": "python",
   "name": "python3"
  },
  "language_info": {
   "codemirror_mode": {
    "name": "ipython",
    "version": 3
   },
   "file_extension": ".py",
   "mimetype": "text/x-python",
   "name": "python",
   "nbconvert_exporter": "python",
   "pygments_lexer": "ipython3",
   "version": "3.7.0"
  },
  "source_map": [
   12,
   16,
   28,
   46,
   64,
   70,
   73,
   78,
   80,
   84,
   86,
   90,
   92,
   96,
   99,
   103,
   105,
   109,
   111,
   115,
   117,
   121,
   123,
   127,
   130,
   134,
   144,
   148,
   153,
   161,
   169,
   174,
   194,
   198,
   213,
   217,
   221,
   223,
   227,
   229,
   242,
   246,
   249,
   254,
   258,
   262,
   282,
   286,
   291,
   295,
   301,
   305,
   314,
   321,
   323,
   327,
   337,
   340,
   350,
   360,
   364,
   372,
   376,
   382,
   386,
   389,
   393,
   398,
   401,
   405,
   407,
   417,
   438,
   442,
   446,
   450,
   452,
   458,
   462,
   468,
   472,
   475,
   484,
   488,
   494,
   498
  ]
 },
 "nbformat": 4,
 "nbformat_minor": 5
}