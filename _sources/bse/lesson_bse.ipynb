{
 "cells": [
  {
   "cell_type": "markdown",
   "id": "50775121",
   "metadata": {},
   "source": [
    "# Bethe-Salpeter calculations with AbiPy\n",
    "\n",
    "This lesson discusses how to calculate the macroscopic dielectric function, $\\epsilon_\\infty(\\omega)$, \n",
    "including excitonic effects within the Bethe-Salpeter equation (BSE). \n",
    "Crystalline silicon is used as test case. \n",
    "\n",
    "For a more detailed description of the Abinit implementation, see the official Abinit \n",
    "[BSE tutorial](https://docs.abinit.org/tutorial/bse/).\n",
    "A brief description of the formalism can be found in the [BSE_notes](https://docs.abinit.org/theory/bse/).\n",
    "\n",
    "## Typical BSE flowchart \n",
    "\n",
    "The flowchart of a typical Bethe-Salpeter run is schematically depicted in the diagram below:"
   ]
  },
  {
   "cell_type": "markdown",
   "id": "ec42e7a7",
   "metadata": {},
   "source": [
    "<img src=\"bse_flowchart.svg\" alt=\"bse_flowchart\">"
   ]
  },
  {
   "cell_type": "markdown",
   "id": "88650d4e",
   "metadata": {},
   "source": [
    "The WFK file (KSS file in old versions of Abinit) contains the Kohn-Sham (KS) wavefunctions and energies and is represented with an ellipsis. \n",
    "The path on the left indicated with blue arrows represents the RPA calculation (`optdriver=3`) that produces the SCR file (see also the first lesson of the $GW$ tutorial). \n",
    "Once the WFK (KSS) and the SCR file are available, we can finally contruct the BSE Hamiltonian \n",
    "and solve the Bethe-Salpeter problem (the green rectangle at the bottom of the flowchart).\n",
    "The construction of the Bethe-Salpeter Hamiltonian represents a significant portion of the overall CPU time due to the large number of transitions (bands and in particular $k$-points) needed for an accurate description of the frequency-dependence of the polarizability.\n",
    "\n",
    "For BSE computations, it is common practice to simulate the self-energy corrections by employing the scissors operator whose value can be obtained either from experiments or from *ab-initio* calculations. The scissors operator allows one to avoid a costly $GW$ calculation that should performed for all the $k$-points and bands included in the transition space (the optional path on the right indicated with yellow arrows that corresponds to `optdriver=4`).\n",
    "\n",
    "For this reason, in this lesson, we will employ two commonly used approximations that will\n",
    "reduce considerably the computational cost of the BSE flowchart while giving reasonably accurate results:\n",
    "\n",
    "   * The *ab-initio* $W$ is replaced by a model dielectric function \n",
    "     that is constructed from the GS density $n(r)$ and the additional variable `mdf_epsinf`\n",
    "     that gives the value of the static limit $\\epsilon_\\infty(\\omega=0)$.\n",
    "     This approximation allows us to bypass the blue boxes in the diagram above (`optdriver=3`)\n",
    "     \n",
    "   * The modifications introduced by the $GW$ self-energy on the initial KS band structure\n",
    "     are approximated with a scissor operator (`mbpt_sciss`).\n",
    "     This approximation allows us to bypass the yellow boxes in the diagram above (`optdriver=4`).\n",
    "      \n",
    "Under these assumptions, the BSE flowchart reduces to a simple GS-SCF run to get $n(r)$ plus\n",
    "a NSCF calculation of the band structure on a dense $k$-mesh and, finally, the solution\n",
    "of the BSE problem (the green box)."
   ]
  },
  {
   "cell_type": "markdown",
   "id": "78918f0c",
   "metadata": {},
   "source": [
    "## AbiPy flow for BSE with the model dielectric function\n",
    "\n",
    "After the standard imports:"
   ]
  },
  {
   "cell_type": "code",
   "execution_count": 1,
   "id": "becd0f1e",
   "metadata": {},
   "outputs": [],
   "source": [
    "import warnings\n",
    "warnings.filterwarnings(\"ignore\") # to get rid of deprecation warnings\n",
    "\n",
    "import abipy.abilab as abilab\n",
    "abilab.enable_notebook() # This line tells AbiPy we are running inside a notebook\n",
    "import abipy.flowtk as flowtk\n",
    "\n",
    "# This line configures matplotlib to show figures embedded in the notebook.\n",
    "# Replace `inline` with `notebook` in classic notebook\n",
    "%matplotlib inline   \n",
    "\n",
    "# Option available in jupyterlab. See https://github.com/matplotlib/jupyter-matplotlib\n",
    "#%matplotlib widget  "
   ]
  },
  {
   "cell_type": "markdown",
   "id": "c11e6a7e",
   "metadata": {},
   "source": [
    "We import from `lesson_bse` the function that builds the 3 input objects we are going to use to build the `Flow`:"
   ]
  },
  {
   "cell_type": "code",
   "execution_count": 2,
   "id": "3d3e1452",
   "metadata": {},
   "outputs": [
    {
     "data": {
      "text/html": [
       "<!DOCTYPE html PUBLIC \"-//W3C//DTD HTML 4.01//EN\"\n",
       "   \"http://www.w3.org/TR/html4/strict.dtd\">\n",
       "<!--\n",
       "generated by Pygments <https://pygments.org/>\n",
       "Copyright 2006-2021 by the Pygments team.\n",
       "Licensed under the BSD license, see LICENSE for details.\n",
       "-->\n",
       "<html>\n",
       "<head>\n",
       "  <title></title>\n",
       "  <meta http-equiv=\"content-type\" content=\"text/html; charset=None\">\n",
       "  <style type=\"text/css\">\n",
       "/*\n",
       "generated by Pygments <https://pygments.org/>\n",
       "Copyright 2006-2021 by the Pygments team.\n",
       "Licensed under the BSD license, see LICENSE for details.\n",
       "*/\n",
       "pre { line-height: 125%; }\n",
       "td.linenos .normal { color: inherit; background-color: transparent; padding-left: 5px; padding-right: 5px; }\n",
       "span.linenos { color: inherit; background-color: transparent; padding-left: 5px; padding-right: 5px; }\n",
       "td.linenos .special { color: #000000; background-color: #ffffc0; padding-left: 5px; padding-right: 5px; }\n",
       "span.linenos.special { color: #000000; background-color: #ffffc0; padding-left: 5px; padding-right: 5px; }\n",
       "body .hll { background-color: #ffffcc }\n",
       "body { background: #f8f8f8; }\n",
       "body .c { color: #408080; font-style: italic } /* Comment */\n",
       "body .err { border: 1px solid #FF0000 } /* Error */\n",
       "body .k { color: #008000; font-weight: bold } /* Keyword */\n",
       "body .o { color: #666666 } /* Operator */\n",
       "body .ch { color: #408080; font-style: italic } /* Comment.Hashbang */\n",
       "body .cm { color: #408080; font-style: italic } /* Comment.Multiline */\n",
       "body .cp { color: #BC7A00 } /* Comment.Preproc */\n",
       "body .cpf { color: #408080; font-style: italic } /* Comment.PreprocFile */\n",
       "body .c1 { color: #408080; font-style: italic } /* Comment.Single */\n",
       "body .cs { color: #408080; font-style: italic } /* Comment.Special */\n",
       "body .gd { color: #A00000 } /* Generic.Deleted */\n",
       "body .ge { font-style: italic } /* Generic.Emph */\n",
       "body .gr { color: #FF0000 } /* Generic.Error */\n",
       "body .gh { color: #000080; font-weight: bold } /* Generic.Heading */\n",
       "body .gi { color: #00A000 } /* Generic.Inserted */\n",
       "body .go { color: #888888 } /* Generic.Output */\n",
       "body .gp { color: #000080; font-weight: bold } /* Generic.Prompt */\n",
       "body .gs { font-weight: bold } /* Generic.Strong */\n",
       "body .gu { color: #800080; font-weight: bold } /* Generic.Subheading */\n",
       "body .gt { color: #0044DD } /* Generic.Traceback */\n",
       "body .kc { color: #008000; font-weight: bold } /* Keyword.Constant */\n",
       "body .kd { color: #008000; font-weight: bold } /* Keyword.Declaration */\n",
       "body .kn { color: #008000; font-weight: bold } /* Keyword.Namespace */\n",
       "body .kp { color: #008000 } /* Keyword.Pseudo */\n",
       "body .kr { color: #008000; font-weight: bold } /* Keyword.Reserved */\n",
       "body .kt { color: #B00040 } /* Keyword.Type */\n",
       "body .m { color: #666666 } /* Literal.Number */\n",
       "body .s { color: #BA2121 } /* Literal.String */\n",
       "body .na { color: #7D9029 } /* Name.Attribute */\n",
       "body .nb { color: #008000 } /* Name.Builtin */\n",
       "body .nc { color: #0000FF; font-weight: bold } /* Name.Class */\n",
       "body .no { color: #880000 } /* Name.Constant */\n",
       "body .nd { color: #AA22FF } /* Name.Decorator */\n",
       "body .ni { color: #999999; font-weight: bold } /* Name.Entity */\n",
       "body .ne { color: #D2413A; font-weight: bold } /* Name.Exception */\n",
       "body .nf { color: #0000FF } /* Name.Function */\n",
       "body .nl { color: #A0A000 } /* Name.Label */\n",
       "body .nn { color: #0000FF; font-weight: bold } /* Name.Namespace */\n",
       "body .nt { color: #008000; font-weight: bold } /* Name.Tag */\n",
       "body .nv { color: #19177C } /* Name.Variable */\n",
       "body .ow { color: #AA22FF; font-weight: bold } /* Operator.Word */\n",
       "body .w { color: #bbbbbb } /* Text.Whitespace */\n",
       "body .mb { color: #666666 } /* Literal.Number.Bin */\n",
       "body .mf { color: #666666 } /* Literal.Number.Float */\n",
       "body .mh { color: #666666 } /* Literal.Number.Hex */\n",
       "body .mi { color: #666666 } /* Literal.Number.Integer */\n",
       "body .mo { color: #666666 } /* Literal.Number.Oct */\n",
       "body .sa { color: #BA2121 } /* Literal.String.Affix */\n",
       "body .sb { color: #BA2121 } /* Literal.String.Backtick */\n",
       "body .sc { color: #BA2121 } /* Literal.String.Char */\n",
       "body .dl { color: #BA2121 } /* Literal.String.Delimiter */\n",
       "body .sd { color: #BA2121; font-style: italic } /* Literal.String.Doc */\n",
       "body .s2 { color: #BA2121 } /* Literal.String.Double */\n",
       "body .se { color: #BB6622; font-weight: bold } /* Literal.String.Escape */\n",
       "body .sh { color: #BA2121 } /* Literal.String.Heredoc */\n",
       "body .si { color: #BB6688; font-weight: bold } /* Literal.String.Interpol */\n",
       "body .sx { color: #008000 } /* Literal.String.Other */\n",
       "body .sr { color: #BB6688 } /* Literal.String.Regex */\n",
       "body .s1 { color: #BA2121 } /* Literal.String.Single */\n",
       "body .ss { color: #19177C } /* Literal.String.Symbol */\n",
       "body .bp { color: #008000 } /* Name.Builtin.Pseudo */\n",
       "body .fm { color: #0000FF } /* Name.Function.Magic */\n",
       "body .vc { color: #19177C } /* Name.Variable.Class */\n",
       "body .vg { color: #19177C } /* Name.Variable.Global */\n",
       "body .vi { color: #19177C } /* Name.Variable.Instance */\n",
       "body .vm { color: #19177C } /* Name.Variable.Magic */\n",
       "body .il { color: #666666 } /* Literal.Number.Integer.Long */\n",
       "\n",
       "  </style>\n",
       "</head>\n",
       "<body>\n",
       "<h2></h2>\n",
       "\n",
       "<div class=\"highlight\"><pre><span></span><span class=\"k\">def</span> <span class=\"nf\">make_scf_nscf_bse_inputs</span><span class=\"p\">(</span><span class=\"n\">ngkpt</span><span class=\"o\">=</span><span class=\"p\">(</span><span class=\"mi\">6</span><span class=\"p\">,</span> <span class=\"mi\">6</span><span class=\"p\">,</span> <span class=\"mi\">6</span><span class=\"p\">),</span> <span class=\"n\">ecut</span><span class=\"o\">=</span><span class=\"mi\">6</span><span class=\"p\">,</span> <span class=\"n\">ecuteps</span><span class=\"o\">=</span><span class=\"mi\">3</span><span class=\"p\">,</span>\n",
       "                             <span class=\"n\">mdf_epsinf</span><span class=\"o\">=</span><span class=\"mf\">12.0</span><span class=\"p\">,</span> <span class=\"n\">mbpt_sciss</span><span class=\"o\">=</span><span class=\"s2\">&quot;0.8 eV&quot;</span><span class=\"p\">):</span>\n",
       "    <span class=\"sd\">&quot;&quot;&quot;</span>\n",
       "<span class=\"sd\">    Build and returns three `AbinitInput` objects to perform a</span>\n",
       "<span class=\"sd\">    GS-SCF + GS-NSCF + BSE calculation with model dielectric function.</span>\n",
       "\n",
       "<span class=\"sd\">    Args:</span>\n",
       "<span class=\"sd\">        ngkpt: Three integers giving the number of divisions for the k-mesh.</span>\n",
       "<span class=\"sd\">        ecut: Cutoff energy for the wavefunctions.</span>\n",
       "<span class=\"sd\">        ecuteps: Cutoff energy for the screened interation W_{GG&#39;}.</span>\n",
       "<span class=\"sd\">        mdf_epsinf: Static limit of the macroscopic dielectric functions.</span>\n",
       "<span class=\"sd\">            Used to build the model dielectric function.</span>\n",
       "<span class=\"sd\">        mbpt_sciss: Scissors operator energy (used to open the initial KS gap).</span>\n",
       "<span class=\"sd\">    &quot;&quot;&quot;</span>\n",
       "    <span class=\"n\">multi</span> <span class=\"o\">=</span> <span class=\"n\">abilab</span><span class=\"o\">.</span><span class=\"n\">MultiDataset</span><span class=\"p\">(</span><span class=\"n\">structure</span><span class=\"o\">=</span><span class=\"n\">abidata</span><span class=\"o\">.</span><span class=\"n\">structure_from_ucell</span><span class=\"p\">(</span><span class=\"s2\">&quot;Si&quot;</span><span class=\"p\">),</span>\n",
       "                                <span class=\"n\">pseudos</span><span class=\"o\">=</span><span class=\"n\">abidata</span><span class=\"o\">.</span><span class=\"n\">pseudos</span><span class=\"p\">(</span><span class=\"s2\">&quot;14si.pspnc&quot;</span><span class=\"p\">),</span> <span class=\"n\">ndtset</span><span class=\"o\">=</span><span class=\"mi\">3</span><span class=\"p\">)</span>\n",
       "    <span class=\"n\">multi</span><span class=\"o\">.</span><span class=\"n\">set_mnemonics</span><span class=\"p\">(</span><span class=\"kc\">True</span><span class=\"p\">)</span>\n",
       "\n",
       "    <span class=\"c1\"># Variables common to the three datasets.</span>\n",
       "    <span class=\"n\">multi</span><span class=\"o\">.</span><span class=\"n\">set_vars</span><span class=\"p\">(</span>\n",
       "        <span class=\"n\">ecut</span><span class=\"o\">=</span><span class=\"n\">ecut</span><span class=\"p\">,</span>\n",
       "        <span class=\"n\">nband</span><span class=\"o\">=</span><span class=\"mi\">8</span><span class=\"p\">,</span>\n",
       "        <span class=\"n\">istwfk</span><span class=\"o\">=</span><span class=\"s2\">&quot;*1&quot;</span><span class=\"p\">,</span>\n",
       "        <span class=\"n\">diemac</span><span class=\"o\">=</span><span class=\"mf\">12.0</span><span class=\"p\">,</span>\n",
       "        <span class=\"c1\">#iomode=3,</span>\n",
       "    <span class=\"p\">)</span>\n",
       "\n",
       "    <span class=\"c1\"># SCF run to get the density.</span>\n",
       "    <span class=\"n\">multi</span><span class=\"p\">[</span><span class=\"mi\">0</span><span class=\"p\">]</span><span class=\"o\">.</span><span class=\"n\">set_vars</span><span class=\"p\">(</span><span class=\"n\">tolvrs</span><span class=\"o\">=</span><span class=\"mf\">1e-8</span><span class=\"p\">)</span>\n",
       "    <span class=\"n\">multi</span><span class=\"p\">[</span><span class=\"mi\">0</span><span class=\"p\">]</span><span class=\"o\">.</span><span class=\"n\">set_kmesh</span><span class=\"p\">(</span><span class=\"n\">ngkpt</span><span class=\"o\">=</span><span class=\"n\">ngkpt</span><span class=\"p\">,</span> <span class=\"n\">shiftk</span><span class=\"o\">=</span><span class=\"p\">(</span><span class=\"mi\">0</span><span class=\"p\">,</span> <span class=\"mi\">0</span><span class=\"p\">,</span> <span class=\"mi\">0</span><span class=\"p\">))</span>\n",
       "\n",
       "    <span class=\"c1\"># NSCF run on a randomly shifted k-mesh (improve the convergence of optical properties)</span>\n",
       "    <span class=\"n\">multi</span><span class=\"p\">[</span><span class=\"mi\">1</span><span class=\"p\">]</span><span class=\"o\">.</span><span class=\"n\">set_vars</span><span class=\"p\">(</span>\n",
       "        <span class=\"n\">iscf</span><span class=\"o\">=-</span><span class=\"mi\">2</span><span class=\"p\">,</span>\n",
       "        <span class=\"n\">nband</span><span class=\"o\">=</span><span class=\"mi\">15</span><span class=\"p\">,</span>\n",
       "        <span class=\"n\">tolwfr</span><span class=\"o\">=</span><span class=\"mf\">1e-8</span><span class=\"p\">,</span>\n",
       "        <span class=\"n\">chksymbreak</span><span class=\"o\">=</span><span class=\"mi\">0</span><span class=\"p\">,</span>  <span class=\"c1\"># Skip the check on the k-mesh.</span>\n",
       "    <span class=\"p\">)</span>\n",
       "\n",
       "    <span class=\"c1\"># This shift breaks the symmetry of the k-mesh.</span>\n",
       "    <span class=\"n\">multi</span><span class=\"p\">[</span><span class=\"mi\">1</span><span class=\"p\">]</span><span class=\"o\">.</span><span class=\"n\">set_kmesh</span><span class=\"p\">(</span><span class=\"n\">ngkpt</span><span class=\"o\">=</span><span class=\"n\">ngkpt</span><span class=\"p\">,</span> <span class=\"n\">shiftk</span><span class=\"o\">=</span><span class=\"p\">(</span><span class=\"mf\">0.11</span><span class=\"p\">,</span> <span class=\"mf\">0.21</span><span class=\"p\">,</span> <span class=\"mf\">0.31</span><span class=\"p\">))</span>\n",
       "\n",
       "    <span class=\"c1\"># BSE run with Haydock iterative method (only resonant + W + v)</span>\n",
       "    <span class=\"n\">multi</span><span class=\"p\">[</span><span class=\"mi\">2</span><span class=\"p\">]</span><span class=\"o\">.</span><span class=\"n\">set_vars</span><span class=\"p\">(</span>\n",
       "        <span class=\"n\">optdriver</span><span class=\"o\">=</span><span class=\"mi\">99</span><span class=\"p\">,</span>                 <span class=\"c1\"># BS calculation</span>\n",
       "        <span class=\"n\">chksymbreak</span><span class=\"o\">=</span><span class=\"mi\">0</span><span class=\"p\">,</span>                <span class=\"c1\"># To skip the check on the k-mesh.</span>\n",
       "        <span class=\"n\">bs_calctype</span><span class=\"o\">=</span><span class=\"mi\">1</span><span class=\"p\">,</span>                <span class=\"c1\"># L0 is constructed with KS orbitals and energies.</span>\n",
       "        <span class=\"n\">mbpt_sciss</span><span class=\"o\">=</span><span class=\"n\">mbpt_sciss</span><span class=\"p\">,</span>        <span class=\"c1\"># Scissors operator used to correct the KS band structure.</span>\n",
       "        <span class=\"n\">bs_exchange_term</span><span class=\"o\">=</span><span class=\"mi\">1</span><span class=\"p\">,</span>           <span class=\"c1\"># Exchange term included.</span>\n",
       "        <span class=\"n\">bs_coulomb_term</span><span class=\"o\">=</span><span class=\"mi\">21</span><span class=\"p\">,</span>           <span class=\"c1\"># Coulomb term with model dielectric function.</span>\n",
       "        <span class=\"n\">mdf_epsinf</span><span class=\"o\">=</span><span class=\"n\">mdf_epsinf</span><span class=\"p\">,</span>        <span class=\"c1\"># Parameter for the model dielectric function.</span>\n",
       "        <span class=\"n\">bs_coupling</span><span class=\"o\">=</span><span class=\"mi\">0</span><span class=\"p\">,</span>                <span class=\"c1\"># Tamm-Dancoff approximation.</span>\n",
       "        <span class=\"n\">bs_loband</span><span class=\"o\">=</span><span class=\"mi\">2</span><span class=\"p\">,</span>                  <span class=\"c1\"># Lowest band included in the calculation</span>\n",
       "        <span class=\"n\">nband</span><span class=\"o\">=</span><span class=\"mi\">6</span><span class=\"p\">,</span>                      <span class=\"c1\"># Highest band included in the calculation</span>\n",
       "        <span class=\"n\">bs_freq_mesh</span><span class=\"o\">=</span><span class=\"s2\">&quot;0 6 0.02 eV&quot;</span><span class=\"p\">,</span>   <span class=\"c1\"># Frequency mesh for the dielectric function</span>\n",
       "        <span class=\"n\">bs_algorithm</span><span class=\"o\">=</span><span class=\"mi\">2</span><span class=\"p\">,</span>               <span class=\"c1\"># Use Haydock method.</span>\n",
       "        <span class=\"n\">zcut</span><span class=\"o\">=</span><span class=\"s2\">&quot;0.15 eV&quot;</span><span class=\"p\">,</span>               <span class=\"c1\"># Complex shift to avoid divergences in the continued fraction.</span>\n",
       "        <span class=\"n\">ecutwfn</span><span class=\"o\">=</span><span class=\"n\">ecut</span><span class=\"p\">,</span>                 <span class=\"c1\"># Cutoff for the wavefunction.</span>\n",
       "        <span class=\"n\">ecuteps</span><span class=\"o\">=</span><span class=\"n\">ecuteps</span><span class=\"p\">,</span>              <span class=\"c1\"># Cutoff for W and /bare v.</span>\n",
       "        <span class=\"n\">inclvkb</span><span class=\"o\">=</span><span class=\"mi\">2</span><span class=\"p\">,</span>                    <span class=\"c1\"># The commutator for the optical limit is correctly evaluated.</span>\n",
       "    <span class=\"p\">)</span>\n",
       "\n",
       "    <span class=\"c1\"># Same shift as the one used in the previous dataset.</span>\n",
       "    <span class=\"n\">multi</span><span class=\"p\">[</span><span class=\"mi\">2</span><span class=\"p\">]</span><span class=\"o\">.</span><span class=\"n\">set_kmesh</span><span class=\"p\">(</span><span class=\"n\">ngkpt</span><span class=\"o\">=</span><span class=\"n\">ngkpt</span><span class=\"p\">,</span> <span class=\"n\">shiftk</span><span class=\"o\">=</span><span class=\"p\">(</span><span class=\"mf\">0.11</span><span class=\"p\">,</span> <span class=\"mf\">0.21</span><span class=\"p\">,</span> <span class=\"mf\">0.31</span><span class=\"p\">))</span>\n",
       "\n",
       "    <span class=\"n\">scf_input</span><span class=\"p\">,</span> <span class=\"n\">nscf_input</span><span class=\"p\">,</span> <span class=\"n\">bse_input</span> <span class=\"o\">=</span> <span class=\"n\">multi</span><span class=\"o\">.</span><span class=\"n\">split_datasets</span><span class=\"p\">()</span>\n",
       "\n",
       "    <span class=\"k\">return</span> <span class=\"n\">scf_input</span><span class=\"p\">,</span> <span class=\"n\">nscf_input</span><span class=\"p\">,</span> <span class=\"n\">bse_input</span>\n",
       "</pre></div>\n",
       "</body>\n",
       "</html>\n"
      ],
      "text/plain": [
       "<IPython.core.display.HTML object>"
      ]
     },
     "execution_count": 2,
     "metadata": {},
     "output_type": "execute_result"
    }
   ],
   "source": [
    "from lesson_bse import make_scf_nscf_bse_inputs\n",
    "abilab.print_source(make_scf_nscf_bse_inputs)"
   ]
  },
  {
   "cell_type": "code",
   "execution_count": 3,
   "id": "88eb207e",
   "metadata": {},
   "outputs": [],
   "source": [
    "scf_inp, nscf_inp, bse_inp = make_scf_nscf_bse_inputs(ngkpt=(4, 4, 4), ecut=6, ecuteps=3)"
   ]
  },
  {
   "cell_type": "markdown",
   "id": "98805824",
   "metadata": {},
   "source": [
    "The function `make_scf_nscf_bse_inputs` returns three `AbinitInput` objects:\n",
    "\n",
    "   * The first input (`scf_inp`) solves the KS equations on a Monkhorst-Pack mesh \n",
    "     to obtain the groud-state density $n(r)$.\n",
    "\n",
    "   * The second input (`nscf_inp`) uses the density produced by `scf_inp` to compute \n",
    "     the KS band structure on a **randomly-shifted** $k$-mesh in order to accelerate \n",
    "     the convergence of the optical properties with respect to the $k$-sampling.\n",
    "\n",
    "   * Finally, the third input (`bse_inp`) uses the `WFK` file produced in the previous step \n",
    "     to solve an approximated BSE equation in which the ab-initio \n",
    "     screened interation $W$ is approximated\n",
    "     by a model dielectric function that depends only on $n(r)$ and the input variable `mdf_epsinf`\n",
    "     that gives the value of $\\epsilon_\\infty(0)$"
   ]
  },
  {
   "cell_type": "markdown",
   "id": "523f7f62",
   "metadata": {},
   "source": [
    "The variables governing the BSE run are those in the `vargw` section of `bse_inp`:"
   ]
  },
  {
   "cell_type": "code",
   "execution_count": 4,
   "id": "76f11427",
   "metadata": {},
   "outputs": [
    {
     "data": {
      "text/html": [
       "<div class=\"abinit_input\">\n",
       "##############################################<br>####                SECTION: basic               <br>##############################################<br>#### &lt;Energy CUToff&gt;<br> <a href=\"https://docs.abinit.org/variables/basic#ecut\" target=\"_blank\">ecut</a> 6<br>#### &lt;Number of BANDs&gt;<br> <a href=\"https://docs.abinit.org/variables/basic#nband\" target=\"_blank\">nband</a> 6<br>#### &lt;Number of Grid points for K PoinTs generation&gt;<br> <a href=\"https://docs.abinit.org/variables/basic#ngkpt\" target=\"_blank\">ngkpt</a> 4 4 4<br>#### &lt;KPoinTs OPTion&gt;<br> <a href=\"https://docs.abinit.org/variables/basic#kptopt\" target=\"_blank\">kptopt</a> 1<br>#### &lt;Number of SHIFTs for K point grids&gt;<br> <a href=\"https://docs.abinit.org/variables/basic#nshiftk\" target=\"_blank\">nshiftk</a> 1<br>#### &lt;SHIFT for K points&gt;<br> <a href=\"https://docs.abinit.org/variables/basic#shiftk\" target=\"_blank\">shiftk</a>    0.11    0.21    0.31<br>##############################################<br>####                 SECTION: bse                <br>##############################################<br>#### &lt;Bethe-Salpeter CALCulation TYPE&gt;<br> <a href=\"https://docs.abinit.org/variables/bse#bs_calctype\" target=\"_blank\">bs_calctype</a> 1<br>#### &lt;Bethe-Salpeter EXCHANGE TERM&gt;<br> <a href=\"https://docs.abinit.org/variables/bse#bs_exchange_term\" target=\"_blank\">bs_exchange_term</a> 1<br>#### &lt;Bethe-Salpeter COULOMB TERM&gt;<br> <a href=\"https://docs.abinit.org/variables/bse#bs_coulomb_term\" target=\"_blank\">bs_coulomb_term</a> 21<br>#### &lt;Bethe-Salpeter COUPLING&gt;<br> <a href=\"https://docs.abinit.org/variables/bse#bs_coupling\" target=\"_blank\">bs_coupling</a> 0<br>#### &lt;Bethe-Salpeter Lowest Occupied BAND&gt;<br> <a href=\"https://docs.abinit.org/variables/bse#bs_loband\" target=\"_blank\">bs_loband</a> 2<br>#### &lt;Bethe-Salpeter FREQuency MESH&gt;<br> <a href=\"https://docs.abinit.org/variables/bse#bs_freq_mesh\" target=\"_blank\">bs_freq_mesh</a> 0 6 0.02 eV<br>#### &lt;Bethe-Salpeter ALGORITHM&gt;<br> <a href=\"https://docs.abinit.org/variables/bse#bs_algorithm\" target=\"_blank\">bs_algorithm</a> 2<br>##############################################<br>####                 SECTION: dev                <br>##############################################<br>#### &lt;Integer for choice of STorage of WaveFunction at each k point&gt;<br> <a href=\"https://docs.abinit.org/variables/dev#istwfk\" target=\"_blank\">istwfk</a> *1<br>##############################################<br>####               SECTION: gstate               <br>##############################################<br>#### &lt;model DIElectric MACroscopic constant&gt;<br> <a href=\"https://docs.abinit.org/variables/gstate#diemac\" target=\"_blank\">diemac</a> 12.0<br>#### &lt;OPTions for the DRIVER&gt;<br> <a href=\"https://docs.abinit.org/variables/gstate#optdriver\" target=\"_blank\">optdriver</a> 99<br>#### &lt;CHecK SYMmetry BREAKing&gt;<br> <a href=\"https://docs.abinit.org/variables/gstate#chksymbreak\" target=\"_blank\">chksymbreak</a> 0<br>##############################################<br>####                 SECTION: gw                 <br>##############################################<br>#### &lt;Many Body Perturbation Theory SCISSor operator&gt;<br> <a href=\"https://docs.abinit.org/variables/gw#mbpt_sciss\" target=\"_blank\">mbpt_sciss</a> 0.8 eV<br>#### &lt;Model Dielectric Function, EPSilon INFinity&gt;<br> <a href=\"https://docs.abinit.org/variables/gw#mdf_epsinf\" target=\"_blank\">mdf_epsinf</a> 12.0<br>#### &lt;Z-CUT&gt;<br> <a href=\"https://docs.abinit.org/variables/gw#zcut\" target=\"_blank\">zcut</a> 0.15 eV<br>#### &lt;Energy CUT-off for WaveFunctioNs&gt;<br> <a href=\"https://docs.abinit.org/variables/gw#ecutwfn\" target=\"_blank\">ecutwfn</a> 6<br>#### &lt;Energy CUT-off for EPSilon (the dielectric matrix)&gt;<br> <a href=\"https://docs.abinit.org/variables/gw#ecuteps\" target=\"_blank\">ecuteps</a> 3<br>#### &lt;INCLude VKB&gt;<br> <a href=\"https://docs.abinit.org/variables/gw#inclvkb\" target=\"_blank\">inclvkb</a> 2<br>##############################################<br>####                  STRUCTURE                  <br>##############################################<br>#### &lt;Number of ATOMs&gt;<br> <a href=\"https://docs.abinit.org/variables/basic#natom\" target=\"_blank\">natom</a> 2<br>#### &lt;Number of TYPes of AToms&gt;<br> <a href=\"https://docs.abinit.org/variables/basic#ntypat\" target=\"_blank\">ntypat</a> 1<br>#### &lt;TYPe of AToms&gt;<br> <a href=\"https://docs.abinit.org/variables/basic#typat\" target=\"_blank\">typat</a> 1 1<br>#### &lt;charge -Z- of the NUCLeus&gt;<br> <a href=\"https://docs.abinit.org/variables/basic#znucl\" target=\"_blank\">znucl</a> 14<br>#### &lt;vectors (X) of atom positions in REDuced coordinates&gt;<br> <a href=\"https://docs.abinit.org/variables/basic#xred\" target=\"_blank\">xred</a><br>    0.0000000000    0.0000000000    0.0000000000<br>    0.2500000000    0.2500000000    0.2500000000<br>#### &lt;CELL lattice vector scaling&gt;<br> <a href=\"https://docs.abinit.org/variables/basic#acell\" target=\"_blank\">acell</a>    1.0    1.0    1.0<br>#### &lt;Real space PRIMitive translations&gt;<br> <a href=\"https://docs.abinit.org/variables/basic#rprim\" target=\"_blank\">rprim</a><br>    0.0000000000    5.1085000000    5.1085000000<br>    5.1085000000    0.0000000000    5.1085000000<br>    5.1085000000    5.1085000000    0.0000000000\n",
       "<div>"
      ],
      "text/plain": [
       "<AbinitInput at 140670806379880>"
      ]
     },
     "execution_count": 4,
     "metadata": {},
     "output_type": "execute_result"
    }
   ],
   "source": [
    "bse_inp"
   ]
  },
  {
   "cell_type": "markdown",
   "id": "450d4198",
   "metadata": {},
   "source": [
    "Once we have our three input objects, we can create a flow to automate the calculation.\n",
    "Note that AbiPy already provides the `BseMdfWork` class that is explicitly designed for this kind of calculation:"
   ]
  },
  {
   "cell_type": "code",
   "execution_count": 5,
   "id": "d5ecfe3b",
   "metadata": {},
   "outputs": [
    {
     "data": {
      "text/html": [
       "<!DOCTYPE html PUBLIC \"-//W3C//DTD HTML 4.01//EN\"\n",
       "   \"http://www.w3.org/TR/html4/strict.dtd\">\n",
       "<!--\n",
       "generated by Pygments <https://pygments.org/>\n",
       "Copyright 2006-2021 by the Pygments team.\n",
       "Licensed under the BSD license, see LICENSE for details.\n",
       "-->\n",
       "<html>\n",
       "<head>\n",
       "  <title></title>\n",
       "  <meta http-equiv=\"content-type\" content=\"text/html; charset=None\">\n",
       "  <style type=\"text/css\">\n",
       "/*\n",
       "generated by Pygments <https://pygments.org/>\n",
       "Copyright 2006-2021 by the Pygments team.\n",
       "Licensed under the BSD license, see LICENSE for details.\n",
       "*/\n",
       "pre { line-height: 125%; }\n",
       "td.linenos .normal { color: inherit; background-color: transparent; padding-left: 5px; padding-right: 5px; }\n",
       "span.linenos { color: inherit; background-color: transparent; padding-left: 5px; padding-right: 5px; }\n",
       "td.linenos .special { color: #000000; background-color: #ffffc0; padding-left: 5px; padding-right: 5px; }\n",
       "span.linenos.special { color: #000000; background-color: #ffffc0; padding-left: 5px; padding-right: 5px; }\n",
       "body .hll { background-color: #ffffcc }\n",
       "body { background: #f8f8f8; }\n",
       "body .c { color: #408080; font-style: italic } /* Comment */\n",
       "body .err { border: 1px solid #FF0000 } /* Error */\n",
       "body .k { color: #008000; font-weight: bold } /* Keyword */\n",
       "body .o { color: #666666 } /* Operator */\n",
       "body .ch { color: #408080; font-style: italic } /* Comment.Hashbang */\n",
       "body .cm { color: #408080; font-style: italic } /* Comment.Multiline */\n",
       "body .cp { color: #BC7A00 } /* Comment.Preproc */\n",
       "body .cpf { color: #408080; font-style: italic } /* Comment.PreprocFile */\n",
       "body .c1 { color: #408080; font-style: italic } /* Comment.Single */\n",
       "body .cs { color: #408080; font-style: italic } /* Comment.Special */\n",
       "body .gd { color: #A00000 } /* Generic.Deleted */\n",
       "body .ge { font-style: italic } /* Generic.Emph */\n",
       "body .gr { color: #FF0000 } /* Generic.Error */\n",
       "body .gh { color: #000080; font-weight: bold } /* Generic.Heading */\n",
       "body .gi { color: #00A000 } /* Generic.Inserted */\n",
       "body .go { color: #888888 } /* Generic.Output */\n",
       "body .gp { color: #000080; font-weight: bold } /* Generic.Prompt */\n",
       "body .gs { font-weight: bold } /* Generic.Strong */\n",
       "body .gu { color: #800080; font-weight: bold } /* Generic.Subheading */\n",
       "body .gt { color: #0044DD } /* Generic.Traceback */\n",
       "body .kc { color: #008000; font-weight: bold } /* Keyword.Constant */\n",
       "body .kd { color: #008000; font-weight: bold } /* Keyword.Declaration */\n",
       "body .kn { color: #008000; font-weight: bold } /* Keyword.Namespace */\n",
       "body .kp { color: #008000 } /* Keyword.Pseudo */\n",
       "body .kr { color: #008000; font-weight: bold } /* Keyword.Reserved */\n",
       "body .kt { color: #B00040 } /* Keyword.Type */\n",
       "body .m { color: #666666 } /* Literal.Number */\n",
       "body .s { color: #BA2121 } /* Literal.String */\n",
       "body .na { color: #7D9029 } /* Name.Attribute */\n",
       "body .nb { color: #008000 } /* Name.Builtin */\n",
       "body .nc { color: #0000FF; font-weight: bold } /* Name.Class */\n",
       "body .no { color: #880000 } /* Name.Constant */\n",
       "body .nd { color: #AA22FF } /* Name.Decorator */\n",
       "body .ni { color: #999999; font-weight: bold } /* Name.Entity */\n",
       "body .ne { color: #D2413A; font-weight: bold } /* Name.Exception */\n",
       "body .nf { color: #0000FF } /* Name.Function */\n",
       "body .nl { color: #A0A000 } /* Name.Label */\n",
       "body .nn { color: #0000FF; font-weight: bold } /* Name.Namespace */\n",
       "body .nt { color: #008000; font-weight: bold } /* Name.Tag */\n",
       "body .nv { color: #19177C } /* Name.Variable */\n",
       "body .ow { color: #AA22FF; font-weight: bold } /* Operator.Word */\n",
       "body .w { color: #bbbbbb } /* Text.Whitespace */\n",
       "body .mb { color: #666666 } /* Literal.Number.Bin */\n",
       "body .mf { color: #666666 } /* Literal.Number.Float */\n",
       "body .mh { color: #666666 } /* Literal.Number.Hex */\n",
       "body .mi { color: #666666 } /* Literal.Number.Integer */\n",
       "body .mo { color: #666666 } /* Literal.Number.Oct */\n",
       "body .sa { color: #BA2121 } /* Literal.String.Affix */\n",
       "body .sb { color: #BA2121 } /* Literal.String.Backtick */\n",
       "body .sc { color: #BA2121 } /* Literal.String.Char */\n",
       "body .dl { color: #BA2121 } /* Literal.String.Delimiter */\n",
       "body .sd { color: #BA2121; font-style: italic } /* Literal.String.Doc */\n",
       "body .s2 { color: #BA2121 } /* Literal.String.Double */\n",
       "body .se { color: #BB6622; font-weight: bold } /* Literal.String.Escape */\n",
       "body .sh { color: #BA2121 } /* Literal.String.Heredoc */\n",
       "body .si { color: #BB6688; font-weight: bold } /* Literal.String.Interpol */\n",
       "body .sx { color: #008000 } /* Literal.String.Other */\n",
       "body .sr { color: #BB6688 } /* Literal.String.Regex */\n",
       "body .s1 { color: #BA2121 } /* Literal.String.Single */\n",
       "body .ss { color: #19177C } /* Literal.String.Symbol */\n",
       "body .bp { color: #008000 } /* Name.Builtin.Pseudo */\n",
       "body .fm { color: #0000FF } /* Name.Function.Magic */\n",
       "body .vc { color: #19177C } /* Name.Variable.Class */\n",
       "body .vg { color: #19177C } /* Name.Variable.Global */\n",
       "body .vi { color: #19177C } /* Name.Variable.Instance */\n",
       "body .vm { color: #19177C } /* Name.Variable.Magic */\n",
       "body .il { color: #666666 } /* Literal.Number.Integer.Long */\n",
       "\n",
       "  </style>\n",
       "</head>\n",
       "<body>\n",
       "<h2></h2>\n",
       "\n",
       "<div class=\"highlight\"><pre><span></span><span class=\"k\">def</span> <span class=\"nf\">build_bse_flow</span><span class=\"p\">(</span><span class=\"n\">options</span><span class=\"p\">):</span>\n",
       "    <span class=\"sd\">&quot;&quot;&quot;</span>\n",
       "<span class=\"sd\">    Build a flow to solve the BSE with default parameters.</span>\n",
       "\n",
       "<span class=\"sd\">    Args:</span>\n",
       "<span class=\"sd\">        options: Command line options.</span>\n",
       "\n",
       "<span class=\"sd\">    Return:</span>\n",
       "<span class=\"sd\">        Flow object.</span>\n",
       "<span class=\"sd\">    &quot;&quot;&quot;</span>\n",
       "    <span class=\"n\">workdir</span> <span class=\"o\">=</span> <span class=\"n\">options</span><span class=\"o\">.</span><span class=\"n\">workdir</span> <span class=\"k\">if</span> <span class=\"p\">(</span><span class=\"n\">options</span> <span class=\"ow\">and</span> <span class=\"n\">options</span><span class=\"o\">.</span><span class=\"n\">workdir</span><span class=\"p\">)</span> <span class=\"k\">else</span> <span class=\"s2\">&quot;flow_bse&quot;</span>\n",
       "    <span class=\"n\">flow</span> <span class=\"o\">=</span> <span class=\"n\">flowtk</span><span class=\"o\">.</span><span class=\"n\">Flow</span><span class=\"p\">(</span><span class=\"n\">workdir</span><span class=\"o\">=</span><span class=\"n\">workdir</span><span class=\"p\">)</span>\n",
       "\n",
       "    <span class=\"c1\"># Build a Work for BSE calculation with the model dielectric function ...</span>\n",
       "    <span class=\"n\">scf_inp</span><span class=\"p\">,</span> <span class=\"n\">nscf_inp</span><span class=\"p\">,</span> <span class=\"n\">bse_inp</span> <span class=\"o\">=</span> <span class=\"n\">make_scf_nscf_bse_inputs</span><span class=\"p\">()</span>\n",
       "\n",
       "    <span class=\"n\">work</span> <span class=\"o\">=</span> <span class=\"n\">flowtk</span><span class=\"o\">.</span><span class=\"n\">BseMdfWork</span><span class=\"p\">(</span><span class=\"n\">scf_inp</span><span class=\"p\">,</span> <span class=\"n\">nscf_inp</span><span class=\"p\">,</span> <span class=\"n\">bse_inp</span><span class=\"p\">)</span>\n",
       "\n",
       "    <span class=\"c1\"># and add it to the flow</span>\n",
       "    <span class=\"n\">flow</span><span class=\"o\">.</span><span class=\"n\">register_work</span><span class=\"p\">(</span><span class=\"n\">work</span><span class=\"p\">)</span>\n",
       "\n",
       "    <span class=\"k\">return</span> <span class=\"n\">flow</span>\n",
       "</pre></div>\n",
       "</body>\n",
       "</html>\n"
      ],
      "text/plain": [
       "<IPython.core.display.HTML object>"
      ]
     },
     "execution_count": 5,
     "metadata": {},
     "output_type": "execute_result"
    }
   ],
   "source": [
    "from lesson_bse import build_bse_flow\n",
    "abilab.print_source(build_bse_flow)"
   ]
  },
  {
   "cell_type": "markdown",
   "id": "bf26f0fd",
   "metadata": {},
   "source": [
    "Let's build the flow:"
   ]
  },
  {
   "cell_type": "code",
   "execution_count": 6,
   "id": "7e35ae3a",
   "metadata": {},
   "outputs": [],
   "source": [
    "flow = build_bse_flow(options=None)"
   ]
  },
  {
   "cell_type": "markdown",
   "id": "99600ae4",
   "metadata": {},
   "source": [
    "The graphical representation of the flow reveals that the `BseTask` depends on the `NscfTask` that \n",
    "in turns depends on the initial `ScfTask`."
   ]
  },
  {
   "cell_type": "code",
   "execution_count": 7,
   "id": "55b6bb51",
   "metadata": {},
   "outputs": [
    {
     "data": {
      "image/svg+xml": [
       "<?xml version=\"1.0\" encoding=\"UTF-8\" standalone=\"no\"?>\n",
       "<!DOCTYPE svg PUBLIC \"-//W3C//DTD SVG 1.1//EN\"\n",
       " \"http://www.w3.org/Graphics/SVG/1.1/DTD/svg11.dtd\">\n",
       "<!-- Generated by graphviz version 2.42.3 (20191010.1750)\n",
       " -->\n",
       "<!-- Title: flow Pages: 1 -->\n",
       "<svg width=\"264pt\" height=\"159pt\"\n",
       " viewBox=\"0.00 0.00 263.65 159.00\" xmlns=\"http://www.w3.org/2000/svg\" xmlns:xlink=\"http://www.w3.org/1999/xlink\">\n",
       "<g id=\"graph0\" class=\"graph\" transform=\"scale(1 1) rotate(0) translate(12.33 133)\">\n",
       "<title>flow</title>\n",
       "<polygon fill=\"white\" stroke=\"transparent\" points=\"-12.33,26 -12.33,-133 251.33,-133 251.33,26 -12.33,26\"/>\n",
       "<text text-anchor=\"start\" x=\"-0.33\" y=\"15.2\" font-family=\"Times,serif\" font-size=\"14.00\">Flow, node_id=442321, workdir=flow_bse</text>\n",
       "<g id=\"clust1\" class=\"cluster\">\n",
       "<title>clusterw0</title>\n",
       "<path fill=\"#e0eeee\" stroke=\"black\" d=\"M61.74,-0.14C61.74,-0.14 176.74,-0.14 176.74,-0.14 182.74,-0.14 188.74,-6.14 188.74,-12.14 188.74,-12.14 188.74,-117.14 188.74,-117.14 188.74,-123.14 182.74,-129.14 176.74,-129.14 176.74,-129.14 61.74,-129.14 61.74,-129.14 55.74,-129.14 49.74,-123.14 49.74,-117.14 49.74,-117.14 49.74,-12.14 49.74,-12.14 49.74,-6.14 55.74,-0.14 61.74,-0.14\"/>\n",
       "<text text-anchor=\"middle\" x=\"119.24\" y=\"-113.94\" font-family=\"Times,serif\" font-size=\"14.00\">BseMdfWork (w0)</text>\n",
       "</g>\n",
       "<!-- w0_t0 -->\n",
       "<g id=\"node1\" class=\"node\">\n",
       "<title>w0_t0</title>\n",
       "<ellipse fill=\"#ff0000\" stroke=\"#ff0000\" cx=\"85.98\" cy=\"-80.78\" rx=\"27.89\" ry=\"18\"/>\n",
       "<text text-anchor=\"middle\" x=\"85.98\" y=\"-82.38\" font-family=\"Times,serif\" font-size=\"8.00\">w0_t0</text>\n",
       "<text text-anchor=\"middle\" x=\"85.98\" y=\"-74.38\" font-family=\"Times,serif\" font-size=\"8.00\">ScfTask</text>\n",
       "</g>\n",
       "<!-- w0_t1 -->\n",
       "<g id=\"node2\" class=\"node\">\n",
       "<title>w0_t1</title>\n",
       "<ellipse fill=\"#c85064\" stroke=\"#c85064\" cx=\"88.98\" cy=\"-25.78\" rx=\"30.85\" ry=\"18\"/>\n",
       "<text text-anchor=\"middle\" x=\"88.98\" y=\"-27.38\" font-family=\"Times,serif\" font-size=\"8.00\">w0_t1</text>\n",
       "<text text-anchor=\"middle\" x=\"88.98\" y=\"-19.38\" font-family=\"Times,serif\" font-size=\"8.00\">NscfTask</text>\n",
       "</g>\n",
       "<!-- w0_t0&#45;&gt;w0_t1 -->\n",
       "<g id=\"edge1\" class=\"edge\">\n",
       "<title>w0_t0&#45;&gt;w0_t1</title>\n",
       "<path fill=\"none\" stroke=\"#ff0000\" d=\"M86.96,-62.77C87.11,-60.05 87.26,-57.18 87.42,-54.3\"/>\n",
       "<polygon fill=\"#ff0000\" stroke=\"#ff0000\" points=\"90.93,-54.2 87.98,-44.02 83.94,-53.81 90.93,-54.2\"/>\n",
       "<text text-anchor=\"middle\" x=\"72.8\" y=\"-47.34\" font-family=\"Times,serif\" font-size=\"14.00\">DEN</text>\n",
       "</g>\n",
       "<!-- w0_t2 -->\n",
       "<g id=\"node3\" class=\"node\">\n",
       "<title>w0_t2</title>\n",
       "<ellipse fill=\"#8000ff\" stroke=\"#8000ff\" cx=\"151.98\" cy=\"-75.78\" rx=\"28.68\" ry=\"18\"/>\n",
       "<text text-anchor=\"middle\" x=\"151.98\" y=\"-77.38\" font-family=\"Times,serif\" font-size=\"8.00\">w0_t2</text>\n",
       "<text text-anchor=\"middle\" x=\"151.98\" y=\"-69.38\" font-family=\"Times,serif\" font-size=\"8.00\">BseTask</text>\n",
       "</g>\n",
       "<!-- w0_t1&#45;&gt;w0_t2 -->\n",
       "<g id=\"edge2\" class=\"edge\">\n",
       "<title>w0_t1&#45;&gt;w0_t2</title>\n",
       "<path fill=\"none\" stroke=\"#c85064\" d=\"M107.54,-40.51C113.23,-45.03 119.6,-50.08 125.7,-54.93\"/>\n",
       "<polygon fill=\"#c85064\" stroke=\"#c85064\" points=\"123.76,-57.85 133.76,-61.33 128.11,-52.37 123.76,-57.85\"/>\n",
       "<text text-anchor=\"middle\" x=\"101.06\" y=\"-50.52\" font-family=\"Times,serif\" font-size=\"14.00\">WFK</text>\n",
       "</g>\n",
       "</g>\n",
       "</svg>\n"
      ],
      "text/plain": [
       "<graphviz.dot.Digraph at 0x7ff07f5e8cc0>"
      ]
     },
     "execution_count": 7,
     "metadata": {
      "filenames": {
       "image/svg+xml": "/Users/gmatteo/git_repos/abipy_book/abipy_book/_build/jupyter_execute/bse/lesson_bse_16_0.svg"
      }
     },
     "output_type": "execute_result"
    }
   ],
   "source": [
    "flow.get_graphviz()"
   ]
  },
  {
   "cell_type": "code",
   "execution_count": 8,
   "id": "7f1844b8",
   "metadata": {},
   "outputs": [],
   "source": [
    "#flow.plot_networkx(with_edge_labels=True);"
   ]
  },
  {
   "cell_type": "markdown",
   "id": "efb7dbfc",
   "metadata": {},
   "source": [
    "If you are working with python, you can build the directories of the Flow with:\n",
    "\n",
    "    flow.build_and_pickle_dump()"
   ]
  },
  {
   "cell_type": "markdown",
   "id": "128cb046",
   "metadata": {},
   "source": [
    "Now you can execute the lesson_bse.py script to generate the flow  and then use:\n",
    "\n",
    "    abirun.py flow_bse scheduler\n",
    "    \n",
    "<div class=\"alert alert-warning\">\n",
    "Please make sure that AbiPy is properly configured by running abicheck --with flow\n",
    "</div>\n",
    "\n",
    "Alternatively, one can use the files in the github repository and use AbiPy \n",
    "to analyze the data."
   ]
  },
  {
   "cell_type": "markdown",
   "id": "ceaa7170",
   "metadata": {},
   "source": [
    "## Analyzing the results\n",
    "\n",
    "Now we can finally analyze the results. In this case, we are mainly interested in the \n",
    "frequency-dependent macroscopic dielectric function, $\\epsilon_\\infty(\\omega)$, produced\n",
    "by the `BseTask`"
   ]
  },
  {
   "cell_type": "code",
   "execution_count": 9,
   "id": "3a6ca200",
   "metadata": {},
   "outputs": [
    {
     "data": {
      "text/plain": [
       "<BseTask, node_id=442325, workdir=flow_bse/w0/t2>"
      ]
     },
     "execution_count": 9,
     "metadata": {},
     "output_type": "execute_result"
    }
   ],
   "source": [
    "# The BseTask is the last task in the first work \n",
    "# i.e. flow[0][2] or, much better, flow[0][-1]\n",
    "bse_task = flow[0][-1]\n",
    "bse_task"
   ]
  },
  {
   "cell_type": "markdown",
   "id": "e6bce9d9",
   "metadata": {},
   "source": [
    "The `BseTask` has produced a netcdf file (`MDF.nc`) containing the most important results of the run. Let's open the file with:"
   ]
  },
  {
   "cell_type": "code",
   "execution_count": 10,
   "id": "3212c458",
   "metadata": {
    "run_control": {
     "marked": true
    }
   },
   "outputs": [
    {
     "name": "stdout",
     "output_type": "stream",
     "text": [
      "================================= File Info =================================\n",
      "Name: out_MDF.nc\n",
      "Directory: /Users/gmatteo/git_repos/abipy_book/abipy_book/bse/flow_bse/w0/t2/outdata\n",
      "Size: 122.77 kb\n",
      "Access Time: Thu Jul  8 02:48:30 2021\n",
      "Modification Time: Thu Jul  8 02:04:51 2021\n",
      "Change Time: Thu Jul  8 02:04:51 2021\n",
      "\n",
      "================================= Structure =================================\n",
      "Full Formula (Si2)\n",
      "Reduced Formula: Si\n",
      "abc   :   3.823046   3.823046   3.823046\n",
      "angles:  60.000000  60.000000  60.000000\n",
      "Sites (2)\n",
      "  #  SP       a     b     c\n",
      "---  ----  ----  ----  ----\n",
      "  0  Si    0     0     0\n",
      "  1  Si    0.25  0.25  0.25\n",
      "\n",
      "Abinit Spacegroup: spgid: 0, num_spatial_symmetries: 48, has_timerev: True, symmorphic: True\n",
      "================================== Q-points ==================================\n",
      "0) [+0.939, +0.000, +0.000], weight: 0.000\n",
      "1) [+0.000, +0.939, +0.000], weight: 0.000\n",
      "2) [+0.000, +0.000, +0.939], weight: 0.000\n",
      "3) [+0.000, +0.813, +0.813], weight: 0.000\n",
      "4) [+0.813, +0.000, +0.813], weight: 0.000\n",
      "5) [+0.813, +0.813, +0.000], weight: 0.000\n"
     ]
    }
   ],
   "source": [
    "mdf_file = abilab.abiopen(\"flow_bse/w0/t2/outdata/out_MDF.nc\") \n",
    "print(mdf_file)"
   ]
  },
  {
   "cell_type": "markdown",
   "id": "618b651f",
   "metadata": {},
   "source": [
    "and use `matplotlib` to plot the imaginary part of $\\epsilon_\\infty(\\omega)$"
   ]
  },
  {
   "cell_type": "code",
   "execution_count": 11,
   "id": "925e1f52",
   "metadata": {},
   "outputs": [
    {
     "data": {
      "image/png": "[encoded data removed]",
      "text/plain": [
       "<Figure size 432x288 with 1 Axes>"
      ]
     },
     "metadata": {
      "filenames": {
       "image/png": "/Users/gmatteo/git_repos/abipy_book/abipy_book/_build/jupyter_execute/bse/lesson_bse_25_0.png"
      }
     },
     "output_type": "display_data"
    }
   ],
   "source": [
    "mdf_file.plot_mdfs();"
   ]
  },
  {
   "cell_type": "markdown",
   "id": "89ec5815",
   "metadata": {},
   "source": [
    "Meaning of the three curves:\n",
    "\n",
    "   * EXC is $\\epsilon_\\infty(\\omega)$ computed from the BSE with excitonic effects included\n",
    "   * KS-RPA is the analogous quantity computed within the RPA and the KS band structure\n",
    "   * GW-RPA corresponds to the RPA expression but computed with modified band energies obtained\n",
    "     by \"opening\" the KS eigenvalues with a constant scissor operator that tries to mimic \n",
    "     the $GW$ corrections (`soenergy` variable)\n",
    "     \n",
    "It is worth stressing that:\n",
    "\n",
    "1) The RPA-KS spectrum underestimates the experimental optical threshold due to the well-know band-gap problem of DFT. Most importantly, the amplitude of the first peak is underestimated.\n",
    "\n",
    "2) The RPA-GW results with QP corrections simulated with `soenergy` does not show any significant improvement over RPA-KS: the RPA-GW spectrum is just shifted towards higher frequencies due to opening of the gap, but the shape of the two spectra is very similar, in particular the amplitude of the first peak is still underestimated.\n",
    "\n",
    "3) On the contrary, the inclusion of the BSE kernel leads to important changes both in the optical threshold as well as in the amplitude of the first peak. This simple analysis tells us that the first peak in the absorption spectrum of silicon has a strong excitonic character that is not correctly described within the RPA. Our first BS spectrum is not converged at all and it barely resembles the experimental result, nevertheless this unconverged calculation is already able to capture the most important physics. \n",
    "\n",
    "The difference among the three approaches is schematically depicted in the figure below:"
   ]
  },
  {
   "cell_type": "markdown",
   "id": "6510b44b",
   "metadata": {},
   "source": [
    "<img src=\"schematic_dft_gw_bse.svg\" alt=\"schematic dft gw bse\">"
   ]
  },
  {
   "cell_type": "markdown",
   "id": "a303263f",
   "metadata": {},
   "source": [
    "To plot the real part of $\\epsilon_\\infty(\\omega)$"
   ]
  },
  {
   "cell_type": "code",
   "execution_count": 12,
   "id": "507688c1",
   "metadata": {},
   "outputs": [
    {
     "data": {
      "image/png": "[encoded data removed]",
      "text/plain": [
       "<Figure size 432x288 with 1 Axes>"
      ]
     },
     "metadata": {
      "filenames": {
       "image/png": "/Users/gmatteo/git_repos/abipy_book/abipy_book/_build/jupyter_execute/bse/lesson_bse_29_0.png"
      }
     },
     "output_type": "display_data"
    }
   ],
   "source": [
    "mdf_file.plot_mdfs(cplx_mode=\"re\");"
   ]
  },
  {
   "cell_type": "markdown",
   "id": "dca1d435",
   "metadata": {},
   "source": [
    "It should be stressed that the screened interaction $W$ is the fundamental ingredient that leads\n",
    "to the attractive interaction between electrons and holes (excitonic effects).\n",
    "In a metallic system, the dielectric function is large, $W$ is small and excitonic effects are strongly damped.\n",
    "\n",
    "To understand this point, we can do a test calculation with a very large value of `mdf_epsinf`\n",
    "so that our BSE Hamiltonian will be constructed with a metallic $W$:"
   ]
  },
  {
   "cell_type": "code",
   "execution_count": 13,
   "id": "eded0e6f",
   "metadata": {},
   "outputs": [
    {
     "data": {
      "text/html": [
       "<!DOCTYPE html PUBLIC \"-//W3C//DTD HTML 4.01//EN\"\n",
       "   \"http://www.w3.org/TR/html4/strict.dtd\">\n",
       "<!--\n",
       "generated by Pygments <https://pygments.org/>\n",
       "Copyright 2006-2021 by the Pygments team.\n",
       "Licensed under the BSD license, see LICENSE for details.\n",
       "-->\n",
       "<html>\n",
       "<head>\n",
       "  <title></title>\n",
       "  <meta http-equiv=\"content-type\" content=\"text/html; charset=None\">\n",
       "  <style type=\"text/css\">\n",
       "/*\n",
       "generated by Pygments <https://pygments.org/>\n",
       "Copyright 2006-2021 by the Pygments team.\n",
       "Licensed under the BSD license, see LICENSE for details.\n",
       "*/\n",
       "pre { line-height: 125%; }\n",
       "td.linenos .normal { color: inherit; background-color: transparent; padding-left: 5px; padding-right: 5px; }\n",
       "span.linenos { color: inherit; background-color: transparent; padding-left: 5px; padding-right: 5px; }\n",
       "td.linenos .special { color: #000000; background-color: #ffffc0; padding-left: 5px; padding-right: 5px; }\n",
       "span.linenos.special { color: #000000; background-color: #ffffc0; padding-left: 5px; padding-right: 5px; }\n",
       "body .hll { background-color: #ffffcc }\n",
       "body { background: #f8f8f8; }\n",
       "body .c { color: #408080; font-style: italic } /* Comment */\n",
       "body .err { border: 1px solid #FF0000 } /* Error */\n",
       "body .k { color: #008000; font-weight: bold } /* Keyword */\n",
       "body .o { color: #666666 } /* Operator */\n",
       "body .ch { color: #408080; font-style: italic } /* Comment.Hashbang */\n",
       "body .cm { color: #408080; font-style: italic } /* Comment.Multiline */\n",
       "body .cp { color: #BC7A00 } /* Comment.Preproc */\n",
       "body .cpf { color: #408080; font-style: italic } /* Comment.PreprocFile */\n",
       "body .c1 { color: #408080; font-style: italic } /* Comment.Single */\n",
       "body .cs { color: #408080; font-style: italic } /* Comment.Special */\n",
       "body .gd { color: #A00000 } /* Generic.Deleted */\n",
       "body .ge { font-style: italic } /* Generic.Emph */\n",
       "body .gr { color: #FF0000 } /* Generic.Error */\n",
       "body .gh { color: #000080; font-weight: bold } /* Generic.Heading */\n",
       "body .gi { color: #00A000 } /* Generic.Inserted */\n",
       "body .go { color: #888888 } /* Generic.Output */\n",
       "body .gp { color: #000080; font-weight: bold } /* Generic.Prompt */\n",
       "body .gs { font-weight: bold } /* Generic.Strong */\n",
       "body .gu { color: #800080; font-weight: bold } /* Generic.Subheading */\n",
       "body .gt { color: #0044DD } /* Generic.Traceback */\n",
       "body .kc { color: #008000; font-weight: bold } /* Keyword.Constant */\n",
       "body .kd { color: #008000; font-weight: bold } /* Keyword.Declaration */\n",
       "body .kn { color: #008000; font-weight: bold } /* Keyword.Namespace */\n",
       "body .kp { color: #008000 } /* Keyword.Pseudo */\n",
       "body .kr { color: #008000; font-weight: bold } /* Keyword.Reserved */\n",
       "body .kt { color: #B00040 } /* Keyword.Type */\n",
       "body .m { color: #666666 } /* Literal.Number */\n",
       "body .s { color: #BA2121 } /* Literal.String */\n",
       "body .na { color: #7D9029 } /* Name.Attribute */\n",
       "body .nb { color: #008000 } /* Name.Builtin */\n",
       "body .nc { color: #0000FF; font-weight: bold } /* Name.Class */\n",
       "body .no { color: #880000 } /* Name.Constant */\n",
       "body .nd { color: #AA22FF } /* Name.Decorator */\n",
       "body .ni { color: #999999; font-weight: bold } /* Name.Entity */\n",
       "body .ne { color: #D2413A; font-weight: bold } /* Name.Exception */\n",
       "body .nf { color: #0000FF } /* Name.Function */\n",
       "body .nl { color: #A0A000 } /* Name.Label */\n",
       "body .nn { color: #0000FF; font-weight: bold } /* Name.Namespace */\n",
       "body .nt { color: #008000; font-weight: bold } /* Name.Tag */\n",
       "body .nv { color: #19177C } /* Name.Variable */\n",
       "body .ow { color: #AA22FF; font-weight: bold } /* Operator.Word */\n",
       "body .w { color: #bbbbbb } /* Text.Whitespace */\n",
       "body .mb { color: #666666 } /* Literal.Number.Bin */\n",
       "body .mf { color: #666666 } /* Literal.Number.Float */\n",
       "body .mh { color: #666666 } /* Literal.Number.Hex */\n",
       "body .mi { color: #666666 } /* Literal.Number.Integer */\n",
       "body .mo { color: #666666 } /* Literal.Number.Oct */\n",
       "body .sa { color: #BA2121 } /* Literal.String.Affix */\n",
       "body .sb { color: #BA2121 } /* Literal.String.Backtick */\n",
       "body .sc { color: #BA2121 } /* Literal.String.Char */\n",
       "body .dl { color: #BA2121 } /* Literal.String.Delimiter */\n",
       "body .sd { color: #BA2121; font-style: italic } /* Literal.String.Doc */\n",
       "body .s2 { color: #BA2121 } /* Literal.String.Double */\n",
       "body .se { color: #BB6622; font-weight: bold } /* Literal.String.Escape */\n",
       "body .sh { color: #BA2121 } /* Literal.String.Heredoc */\n",
       "body .si { color: #BB6688; font-weight: bold } /* Literal.String.Interpol */\n",
       "body .sx { color: #008000 } /* Literal.String.Other */\n",
       "body .sr { color: #BB6688 } /* Literal.String.Regex */\n",
       "body .s1 { color: #BA2121 } /* Literal.String.Single */\n",
       "body .ss { color: #19177C } /* Literal.String.Symbol */\n",
       "body .bp { color: #008000 } /* Name.Builtin.Pseudo */\n",
       "body .fm { color: #0000FF } /* Name.Function.Magic */\n",
       "body .vc { color: #19177C } /* Name.Variable.Class */\n",
       "body .vg { color: #19177C } /* Name.Variable.Global */\n",
       "body .vi { color: #19177C } /* Name.Variable.Instance */\n",
       "body .vm { color: #19177C } /* Name.Variable.Magic */\n",
       "body .il { color: #666666 } /* Literal.Number.Integer.Long */\n",
       "\n",
       "  </style>\n",
       "</head>\n",
       "<body>\n",
       "<h2></h2>\n",
       "\n",
       "<div class=\"highlight\"><pre><span></span><span class=\"k\">def</span> <span class=\"nf\">build_bse_metallicW_flow</span><span class=\"p\">(</span><span class=\"n\">options</span><span class=\"p\">):</span>\n",
       "    <span class=\"sd\">&quot;&quot;&quot;</span>\n",
       "<span class=\"sd\">    Build a flow to solve the BSE with metallic screening.</span>\n",
       "<span class=\"sd\">    Note the value of `mdf_epsinf`.</span>\n",
       "\n",
       "<span class=\"sd\">    Args:</span>\n",
       "<span class=\"sd\">        options: Command line options.</span>\n",
       "\n",
       "<span class=\"sd\">    Return:</span>\n",
       "<span class=\"sd\">        Flow object.</span>\n",
       "<span class=\"sd\">    &quot;&quot;&quot;</span>\n",
       "    <span class=\"n\">workdir</span> <span class=\"o\">=</span> <span class=\"n\">options</span><span class=\"o\">.</span><span class=\"n\">workdir</span> <span class=\"k\">if</span> <span class=\"p\">(</span><span class=\"n\">options</span> <span class=\"ow\">and</span> <span class=\"n\">options</span><span class=\"o\">.</span><span class=\"n\">workdir</span><span class=\"p\">)</span> <span class=\"k\">else</span> <span class=\"s2\">&quot;flow_bse_metallicW&quot;</span>\n",
       "    <span class=\"n\">flow</span> <span class=\"o\">=</span> <span class=\"n\">flowtk</span><span class=\"o\">.</span><span class=\"n\">Flow</span><span class=\"p\">(</span><span class=\"n\">workdir</span><span class=\"o\">=</span><span class=\"n\">workdir</span><span class=\"p\">)</span>\n",
       "\n",
       "    <span class=\"c1\"># Model dielectric function with metallic screening</span>\n",
       "    <span class=\"n\">scf_inp</span><span class=\"p\">,</span> <span class=\"n\">nscf_inp</span><span class=\"p\">,</span> <span class=\"n\">bse_inp</span> <span class=\"o\">=</span> <span class=\"n\">make_scf_nscf_bse_inputs</span><span class=\"p\">(</span><span class=\"n\">ngkpt</span><span class=\"o\">=</span><span class=\"p\">(</span><span class=\"mi\">4</span><span class=\"p\">,</span> <span class=\"mi\">4</span><span class=\"p\">,</span> <span class=\"mi\">4</span><span class=\"p\">),</span> <span class=\"n\">ecut</span><span class=\"o\">=</span><span class=\"mi\">6</span><span class=\"p\">,</span> <span class=\"n\">ecuteps</span><span class=\"o\">=</span><span class=\"mi\">3</span><span class=\"p\">,</span>\n",
       "                                                          <span class=\"n\">mdf_epsinf</span><span class=\"o\">=</span><span class=\"mf\">1.0e+12</span><span class=\"p\">)</span>\n",
       "\n",
       "    <span class=\"n\">flow</span><span class=\"o\">.</span><span class=\"n\">register_work</span><span class=\"p\">(</span><span class=\"n\">flowtk</span><span class=\"o\">.</span><span class=\"n\">BseMdfWork</span><span class=\"p\">(</span><span class=\"n\">scf_inp</span><span class=\"p\">,</span> <span class=\"n\">nscf_inp</span><span class=\"p\">,</span> <span class=\"n\">bse_inp</span><span class=\"p\">))</span>\n",
       "\n",
       "    <span class=\"k\">return</span> <span class=\"n\">flow</span>\n",
       "</pre></div>\n",
       "</body>\n",
       "</html>\n"
      ],
      "text/plain": [
       "<IPython.core.display.HTML object>"
      ]
     },
     "execution_count": 13,
     "metadata": {},
     "output_type": "execute_result"
    }
   ],
   "source": [
    "from lesson_bse import build_bse_metallicW_flow\n",
    "abilab.print_source(build_bse_metallicW_flow)"
   ]
  },
  {
   "cell_type": "code",
   "execution_count": 14,
   "id": "72c583d3",
   "metadata": {},
   "outputs": [],
   "source": [
    "metalW_flow = build_bse_metallicW_flow(options=None)"
   ]
  },
  {
   "cell_type": "markdown",
   "id": "eb7d8c4d",
   "metadata": {},
   "source": [
    "Let's assume we have already executed the flow and let's have a look at the results:"
   ]
  },
  {
   "cell_type": "code",
   "execution_count": 15,
   "id": "14c1e2ad",
   "metadata": {},
   "outputs": [
    {
     "data": {
      "image/png": "[encoded data removed]",
      "text/plain": [
       "<Figure size 432x288 with 1 Axes>"
      ]
     },
     "metadata": {
      "filenames": {
       "image/png": "/Users/gmatteo/git_repos/abipy_book/abipy_book/_build/jupyter_execute/bse/lesson_bse_34_0.png"
      }
     },
     "output_type": "display_data"
    }
   ],
   "source": [
    "with abilab.abiopen(\"flow_bse_metallicW/w0/t2/outdata/out_MDF.nc\") as mdf_file:\n",
    "    mdf_file.plot_mdfs();"
   ]
  },
  {
   "cell_type": "markdown",
   "id": "f1ef305e",
   "metadata": {},
   "source": [
    "As you can see, the EXC curve computed with a metallic $W$ \n",
    "is similar to the results obtained in GW-RPA.\n",
    "In particular the first peak is now shifted towards higher frequencies and its amplitude\n",
    "is decreased when compared to the previous results. \n",
    "\n",
    "This behaviour can be easily understood if we consider that \n",
    "the BSE formalism reduces to the RPA if $W$ tends to 0.\n",
    "The EXC curve is still shifted towards higher frequencies when compared with KS-RPA \n",
    "but this effect is mainly due to the scissor operator that opens the KS gap.\n",
    "A similar calculation done with `soenergy=0` would give an EXC curve similar to KS-RPA.\n",
    "This test is left as an optional exercise."
   ]
  },
  {
   "cell_type": "markdown",
   "id": "444a2fc7",
   "metadata": {},
   "source": [
    "## Convergence study with respect to the $k$-point sampling\n",
    "\n",
    "The most important parameter that should be checked for convergence is the number of $k$-points. \n",
    "This convergence study represents the most tedious and difficult part since it requires the generation of new WFK files for each k-mesh \n",
    "(the list of $k$-points for the wavefunctions and the set of $q$-points in the screening must be consistent with each other).\n",
    "\n",
    "In the previous section, we have shown how to build a flow for BSE calculation with a fixed \n",
    "$k$-points sampling. \n",
    "We can thus reuse the same logic to construct a `Flow` made of multiple `BseMdfWorks`, \n",
    "each `Work` will have a different $k$-point sampling.\n",
    "\n",
    "Let's create, for example, a `Flow` that solves that BSE equation on \n",
    "a `4x4x4`, `6x6x6` and a `8x8x8` $k$-mesh:"
   ]
  },
  {
   "cell_type": "code",
   "execution_count": 16,
   "id": "9f073309",
   "metadata": {},
   "outputs": [
    {
     "data": {
      "text/html": [
       "<!DOCTYPE html PUBLIC \"-//W3C//DTD HTML 4.01//EN\"\n",
       "   \"http://www.w3.org/TR/html4/strict.dtd\">\n",
       "<!--\n",
       "generated by Pygments <https://pygments.org/>\n",
       "Copyright 2006-2021 by the Pygments team.\n",
       "Licensed under the BSD license, see LICENSE for details.\n",
       "-->\n",
       "<html>\n",
       "<head>\n",
       "  <title></title>\n",
       "  <meta http-equiv=\"content-type\" content=\"text/html; charset=None\">\n",
       "  <style type=\"text/css\">\n",
       "/*\n",
       "generated by Pygments <https://pygments.org/>\n",
       "Copyright 2006-2021 by the Pygments team.\n",
       "Licensed under the BSD license, see LICENSE for details.\n",
       "*/\n",
       "pre { line-height: 125%; }\n",
       "td.linenos .normal { color: inherit; background-color: transparent; padding-left: 5px; padding-right: 5px; }\n",
       "span.linenos { color: inherit; background-color: transparent; padding-left: 5px; padding-right: 5px; }\n",
       "td.linenos .special { color: #000000; background-color: #ffffc0; padding-left: 5px; padding-right: 5px; }\n",
       "span.linenos.special { color: #000000; background-color: #ffffc0; padding-left: 5px; padding-right: 5px; }\n",
       "body .hll { background-color: #ffffcc }\n",
       "body { background: #f8f8f8; }\n",
       "body .c { color: #408080; font-style: italic } /* Comment */\n",
       "body .err { border: 1px solid #FF0000 } /* Error */\n",
       "body .k { color: #008000; font-weight: bold } /* Keyword */\n",
       "body .o { color: #666666 } /* Operator */\n",
       "body .ch { color: #408080; font-style: italic } /* Comment.Hashbang */\n",
       "body .cm { color: #408080; font-style: italic } /* Comment.Multiline */\n",
       "body .cp { color: #BC7A00 } /* Comment.Preproc */\n",
       "body .cpf { color: #408080; font-style: italic } /* Comment.PreprocFile */\n",
       "body .c1 { color: #408080; font-style: italic } /* Comment.Single */\n",
       "body .cs { color: #408080; font-style: italic } /* Comment.Special */\n",
       "body .gd { color: #A00000 } /* Generic.Deleted */\n",
       "body .ge { font-style: italic } /* Generic.Emph */\n",
       "body .gr { color: #FF0000 } /* Generic.Error */\n",
       "body .gh { color: #000080; font-weight: bold } /* Generic.Heading */\n",
       "body .gi { color: #00A000 } /* Generic.Inserted */\n",
       "body .go { color: #888888 } /* Generic.Output */\n",
       "body .gp { color: #000080; font-weight: bold } /* Generic.Prompt */\n",
       "body .gs { font-weight: bold } /* Generic.Strong */\n",
       "body .gu { color: #800080; font-weight: bold } /* Generic.Subheading */\n",
       "body .gt { color: #0044DD } /* Generic.Traceback */\n",
       "body .kc { color: #008000; font-weight: bold } /* Keyword.Constant */\n",
       "body .kd { color: #008000; font-weight: bold } /* Keyword.Declaration */\n",
       "body .kn { color: #008000; font-weight: bold } /* Keyword.Namespace */\n",
       "body .kp { color: #008000 } /* Keyword.Pseudo */\n",
       "body .kr { color: #008000; font-weight: bold } /* Keyword.Reserved */\n",
       "body .kt { color: #B00040 } /* Keyword.Type */\n",
       "body .m { color: #666666 } /* Literal.Number */\n",
       "body .s { color: #BA2121 } /* Literal.String */\n",
       "body .na { color: #7D9029 } /* Name.Attribute */\n",
       "body .nb { color: #008000 } /* Name.Builtin */\n",
       "body .nc { color: #0000FF; font-weight: bold } /* Name.Class */\n",
       "body .no { color: #880000 } /* Name.Constant */\n",
       "body .nd { color: #AA22FF } /* Name.Decorator */\n",
       "body .ni { color: #999999; font-weight: bold } /* Name.Entity */\n",
       "body .ne { color: #D2413A; font-weight: bold } /* Name.Exception */\n",
       "body .nf { color: #0000FF } /* Name.Function */\n",
       "body .nl { color: #A0A000 } /* Name.Label */\n",
       "body .nn { color: #0000FF; font-weight: bold } /* Name.Namespace */\n",
       "body .nt { color: #008000; font-weight: bold } /* Name.Tag */\n",
       "body .nv { color: #19177C } /* Name.Variable */\n",
       "body .ow { color: #AA22FF; font-weight: bold } /* Operator.Word */\n",
       "body .w { color: #bbbbbb } /* Text.Whitespace */\n",
       "body .mb { color: #666666 } /* Literal.Number.Bin */\n",
       "body .mf { color: #666666 } /* Literal.Number.Float */\n",
       "body .mh { color: #666666 } /* Literal.Number.Hex */\n",
       "body .mi { color: #666666 } /* Literal.Number.Integer */\n",
       "body .mo { color: #666666 } /* Literal.Number.Oct */\n",
       "body .sa { color: #BA2121 } /* Literal.String.Affix */\n",
       "body .sb { color: #BA2121 } /* Literal.String.Backtick */\n",
       "body .sc { color: #BA2121 } /* Literal.String.Char */\n",
       "body .dl { color: #BA2121 } /* Literal.String.Delimiter */\n",
       "body .sd { color: #BA2121; font-style: italic } /* Literal.String.Doc */\n",
       "body .s2 { color: #BA2121 } /* Literal.String.Double */\n",
       "body .se { color: #BB6622; font-weight: bold } /* Literal.String.Escape */\n",
       "body .sh { color: #BA2121 } /* Literal.String.Heredoc */\n",
       "body .si { color: #BB6688; font-weight: bold } /* Literal.String.Interpol */\n",
       "body .sx { color: #008000 } /* Literal.String.Other */\n",
       "body .sr { color: #BB6688 } /* Literal.String.Regex */\n",
       "body .s1 { color: #BA2121 } /* Literal.String.Single */\n",
       "body .ss { color: #19177C } /* Literal.String.Symbol */\n",
       "body .bp { color: #008000 } /* Name.Builtin.Pseudo */\n",
       "body .fm { color: #0000FF } /* Name.Function.Magic */\n",
       "body .vc { color: #19177C } /* Name.Variable.Class */\n",
       "body .vg { color: #19177C } /* Name.Variable.Global */\n",
       "body .vi { color: #19177C } /* Name.Variable.Instance */\n",
       "body .vm { color: #19177C } /* Name.Variable.Magic */\n",
       "body .il { color: #666666 } /* Literal.Number.Integer.Long */\n",
       "\n",
       "  </style>\n",
       "</head>\n",
       "<body>\n",
       "<h2></h2>\n",
       "\n",
       "<div class=\"highlight\"><pre><span></span><span class=\"k\">def</span> <span class=\"nf\">build_bse_kconv_flow</span><span class=\"p\">(</span><span class=\"n\">options</span><span class=\"p\">):</span>\n",
       "    <span class=\"sd\">&quot;&quot;&quot;</span>\n",
       "<span class=\"sd\">    Build a flow to analyze the convergence of the BSE spectrum wrt k-point sampling.</span>\n",
       "\n",
       "<span class=\"sd\">    Args:</span>\n",
       "<span class=\"sd\">        options: Command line options.</span>\n",
       "\n",
       "<span class=\"sd\">    Return:</span>\n",
       "<span class=\"sd\">        Flow object.</span>\n",
       "<span class=\"sd\">    &quot;&quot;&quot;</span>\n",
       "    <span class=\"n\">workdir</span> <span class=\"o\">=</span> <span class=\"n\">options</span><span class=\"o\">.</span><span class=\"n\">workdir</span> <span class=\"k\">if</span> <span class=\"p\">(</span><span class=\"n\">options</span> <span class=\"ow\">and</span> <span class=\"n\">options</span><span class=\"o\">.</span><span class=\"n\">workdir</span><span class=\"p\">)</span> <span class=\"k\">else</span> <span class=\"s2\">&quot;flow_bse_kconv&quot;</span>\n",
       "    <span class=\"n\">flow</span> <span class=\"o\">=</span> <span class=\"n\">flowtk</span><span class=\"o\">.</span><span class=\"n\">Flow</span><span class=\"p\">(</span><span class=\"n\">workdir</span><span class=\"o\">=</span><span class=\"n\">workdir</span><span class=\"p\">)</span>\n",
       "\n",
       "    <span class=\"c1\"># 3 works with differet ngkpt.</span>\n",
       "    <span class=\"k\">for</span> <span class=\"n\">nk</span> <span class=\"ow\">in</span> <span class=\"p\">[</span><span class=\"mi\">4</span><span class=\"p\">,</span> <span class=\"mi\">6</span><span class=\"p\">,</span> <span class=\"mi\">8</span><span class=\"p\">]:</span>\n",
       "        <span class=\"n\">scf_inp</span><span class=\"p\">,</span> <span class=\"n\">nscf_inp</span><span class=\"p\">,</span> <span class=\"n\">bse_inp</span> <span class=\"o\">=</span> <span class=\"n\">make_scf_nscf_bse_inputs</span><span class=\"p\">(</span><span class=\"n\">ngkpt</span><span class=\"o\">=</span><span class=\"mi\">3</span> <span class=\"o\">*</span> <span class=\"p\">[</span><span class=\"n\">nk</span><span class=\"p\">],</span> <span class=\"n\">ecut</span><span class=\"o\">=</span><span class=\"mi\">6</span><span class=\"p\">,</span> <span class=\"n\">ecuteps</span><span class=\"o\">=</span><span class=\"mi\">3</span><span class=\"p\">)</span>\n",
       "        <span class=\"n\">work</span> <span class=\"o\">=</span> <span class=\"n\">flowtk</span><span class=\"o\">.</span><span class=\"n\">BseMdfWork</span><span class=\"p\">(</span><span class=\"n\">scf_inp</span><span class=\"p\">,</span> <span class=\"n\">nscf_inp</span><span class=\"p\">,</span> <span class=\"n\">bse_inp</span><span class=\"p\">)</span>\n",
       "        <span class=\"n\">flow</span><span class=\"o\">.</span><span class=\"n\">register_work</span><span class=\"p\">(</span><span class=\"n\">work</span><span class=\"p\">)</span>\n",
       "\n",
       "    <span class=\"k\">return</span> <span class=\"n\">flow</span>\n",
       "</pre></div>\n",
       "</body>\n",
       "</html>\n"
      ],
      "text/plain": [
       "<IPython.core.display.HTML object>"
      ]
     },
     "execution_count": 16,
     "metadata": {},
     "output_type": "execute_result"
    }
   ],
   "source": [
    "from lesson_bse import build_bse_kconv_flow\n",
    "abilab.print_source(build_bse_kconv_flow)"
   ]
  },
  {
   "cell_type": "code",
   "execution_count": 17,
   "id": "abbaf277",
   "metadata": {},
   "outputs": [],
   "source": [
    "flow_kconv = build_bse_kconv_flow(options=None)"
   ]
  },
  {
   "cell_type": "code",
   "execution_count": 18,
   "id": "38ea8c58",
   "metadata": {},
   "outputs": [
    {
     "data": {
      "image/svg+xml": [
       "<?xml version=\"1.0\" encoding=\"UTF-8\" standalone=\"no\"?>\n",
       "<!DOCTYPE svg PUBLIC \"-//W3C//DTD SVG 1.1//EN\"\n",
       " \"http://www.w3.org/Graphics/SVG/1.1/DTD/svg11.dtd\">\n",
       "<!-- Generated by graphviz version 2.42.3 (20191010.1750)\n",
       " -->\n",
       "<!-- Title: flow Pages: 1 -->\n",
       "<svg width=\"312pt\" height=\"324pt\"\n",
       " viewBox=\"0.00 0.00 312.00 324.00\" xmlns=\"http://www.w3.org/2000/svg\" xmlns:xlink=\"http://www.w3.org/1999/xlink\">\n",
       "<g id=\"graph0\" class=\"graph\" transform=\"scale(1 1) rotate(0) translate(4 298)\">\n",
       "<title>flow</title>\n",
       "<polygon fill=\"white\" stroke=\"transparent\" points=\"-4,26 -4,-298 308,-298 308,26 -4,26\"/>\n",
       "<text text-anchor=\"start\" x=\"11.57\" y=\"15.2\" font-family=\"Times,serif\" font-size=\"14.00\">Flow, node_id=442331, workdir=flow_bse_kconv</text>\n",
       "<g id=\"clust3\" class=\"cluster\">\n",
       "<title>clusterw2</title>\n",
       "<path fill=\"#e0eeee\" stroke=\"black\" d=\"M11.74,-15.14C11.74,-15.14 126.74,-15.14 126.74,-15.14 132.74,-15.14 138.74,-21.14 138.74,-27.14 138.74,-27.14 138.74,-132.14 138.74,-132.14 138.74,-138.14 132.74,-144.14 126.74,-144.14 126.74,-144.14 11.74,-144.14 11.74,-144.14 5.74,-144.14 -0.26,-138.14 -0.26,-132.14 -0.26,-132.14 -0.26,-27.14 -0.26,-27.14 -0.26,-21.14 5.74,-15.14 11.74,-15.14\"/>\n",
       "<text text-anchor=\"middle\" x=\"69.24\" y=\"-128.94\" font-family=\"Times,serif\" font-size=\"14.00\">BseMdfWork (w2)</text>\n",
       "</g>\n",
       "<g id=\"clust1\" class=\"cluster\">\n",
       "<title>clusterw0</title>\n",
       "<path fill=\"#e0eeee\" stroke=\"black\" d=\"M161.74,-165.14C161.74,-165.14 276.74,-165.14 276.74,-165.14 282.74,-165.14 288.74,-171.14 288.74,-177.14 288.74,-177.14 288.74,-282.14 288.74,-282.14 288.74,-288.14 282.74,-294.14 276.74,-294.14 276.74,-294.14 161.74,-294.14 161.74,-294.14 155.74,-294.14 149.74,-288.14 149.74,-282.14 149.74,-282.14 149.74,-177.14 149.74,-177.14 149.74,-171.14 155.74,-165.14 161.74,-165.14\"/>\n",
       "<text text-anchor=\"middle\" x=\"219.24\" y=\"-278.94\" font-family=\"Times,serif\" font-size=\"14.00\">BseMdfWork (w0)</text>\n",
       "</g>\n",
       "<g id=\"clust2\" class=\"cluster\">\n",
       "<title>clusterw1</title>\n",
       "<path fill=\"#e0eeee\" stroke=\"black\" d=\"M176.74,-0.14C176.74,-0.14 291.74,-0.14 291.74,-0.14 297.74,-0.14 303.74,-6.14 303.74,-12.14 303.74,-12.14 303.74,-117.14 303.74,-117.14 303.74,-123.14 297.74,-129.14 291.74,-129.14 291.74,-129.14 176.74,-129.14 176.74,-129.14 170.74,-129.14 164.74,-123.14 164.74,-117.14 164.74,-117.14 164.74,-12.14 164.74,-12.14 164.74,-6.14 170.74,-0.14 176.74,-0.14\"/>\n",
       "<text text-anchor=\"middle\" x=\"234.24\" y=\"-113.94\" font-family=\"Times,serif\" font-size=\"14.00\">BseMdfWork (w1)</text>\n",
       "</g>\n",
       "<!-- w0_t0 -->\n",
       "<g id=\"node1\" class=\"node\">\n",
       "<title>w0_t0</title>\n",
       "<ellipse fill=\"#ff0000\" stroke=\"#ff0000\" cx=\"185.98\" cy=\"-245.78\" rx=\"27.89\" ry=\"18\"/>\n",
       "<text text-anchor=\"middle\" x=\"185.98\" y=\"-247.38\" font-family=\"Times,serif\" font-size=\"8.00\">w0_t0</text>\n",
       "<text text-anchor=\"middle\" x=\"185.98\" y=\"-239.38\" font-family=\"Times,serif\" font-size=\"8.00\">ScfTask</text>\n",
       "</g>\n",
       "<!-- w0_t1 -->\n",
       "<g id=\"node2\" class=\"node\">\n",
       "<title>w0_t1</title>\n",
       "<ellipse fill=\"#c85064\" stroke=\"#c85064\" cx=\"188.98\" cy=\"-190.78\" rx=\"30.85\" ry=\"18\"/>\n",
       "<text text-anchor=\"middle\" x=\"188.98\" y=\"-192.38\" font-family=\"Times,serif\" font-size=\"8.00\">w0_t1</text>\n",
       "<text text-anchor=\"middle\" x=\"188.98\" y=\"-184.38\" font-family=\"Times,serif\" font-size=\"8.00\">NscfTask</text>\n",
       "</g>\n",
       "<!-- w0_t0&#45;&gt;w0_t1 -->\n",
       "<g id=\"edge1\" class=\"edge\">\n",
       "<title>w0_t0&#45;&gt;w0_t1</title>\n",
       "<path fill=\"none\" stroke=\"#ff0000\" d=\"M186.96,-227.77C187.11,-225.05 187.26,-222.18 187.42,-219.3\"/>\n",
       "<polygon fill=\"#ff0000\" stroke=\"#ff0000\" points=\"190.93,-219.2 187.98,-209.02 183.94,-218.81 190.93,-219.2\"/>\n",
       "<text text-anchor=\"middle\" x=\"172.8\" y=\"-212.34\" font-family=\"Times,serif\" font-size=\"14.00\">DEN</text>\n",
       "</g>\n",
       "<!-- w0_t2 -->\n",
       "<g id=\"node3\" class=\"node\">\n",
       "<title>w0_t2</title>\n",
       "<ellipse fill=\"#8000ff\" stroke=\"#8000ff\" cx=\"251.98\" cy=\"-240.78\" rx=\"28.68\" ry=\"18\"/>\n",
       "<text text-anchor=\"middle\" x=\"251.98\" y=\"-242.38\" font-family=\"Times,serif\" font-size=\"8.00\">w0_t2</text>\n",
       "<text text-anchor=\"middle\" x=\"251.98\" y=\"-234.38\" font-family=\"Times,serif\" font-size=\"8.00\">BseTask</text>\n",
       "</g>\n",
       "<!-- w0_t1&#45;&gt;w0_t2 -->\n",
       "<g id=\"edge2\" class=\"edge\">\n",
       "<title>w0_t1&#45;&gt;w0_t2</title>\n",
       "<path fill=\"none\" stroke=\"#c85064\" d=\"M207.54,-205.51C213.23,-210.03 219.6,-215.08 225.7,-219.93\"/>\n",
       "<polygon fill=\"#c85064\" stroke=\"#c85064\" points=\"223.76,-222.85 233.76,-226.33 228.11,-217.37 223.76,-222.85\"/>\n",
       "<text text-anchor=\"middle\" x=\"201.06\" y=\"-215.52\" font-family=\"Times,serif\" font-size=\"14.00\">WFK</text>\n",
       "</g>\n",
       "<!-- w1_t0 -->\n",
       "<g id=\"node4\" class=\"node\">\n",
       "<title>w1_t0</title>\n",
       "<ellipse fill=\"#ff0000\" stroke=\"#ff0000\" cx=\"200.98\" cy=\"-80.78\" rx=\"27.89\" ry=\"18\"/>\n",
       "<text text-anchor=\"middle\" x=\"200.98\" y=\"-82.38\" font-family=\"Times,serif\" font-size=\"8.00\">w1_t0</text>\n",
       "<text text-anchor=\"middle\" x=\"200.98\" y=\"-74.38\" font-family=\"Times,serif\" font-size=\"8.00\">ScfTask</text>\n",
       "</g>\n",
       "<!-- w1_t1 -->\n",
       "<g id=\"node5\" class=\"node\">\n",
       "<title>w1_t1</title>\n",
       "<ellipse fill=\"#c85064\" stroke=\"#c85064\" cx=\"203.98\" cy=\"-25.78\" rx=\"30.85\" ry=\"18\"/>\n",
       "<text text-anchor=\"middle\" x=\"203.98\" y=\"-27.38\" font-family=\"Times,serif\" font-size=\"8.00\">w1_t1</text>\n",
       "<text text-anchor=\"middle\" x=\"203.98\" y=\"-19.38\" font-family=\"Times,serif\" font-size=\"8.00\">NscfTask</text>\n",
       "</g>\n",
       "<!-- w1_t0&#45;&gt;w1_t1 -->\n",
       "<g id=\"edge3\" class=\"edge\">\n",
       "<title>w1_t0&#45;&gt;w1_t1</title>\n",
       "<path fill=\"none\" stroke=\"#ff0000\" d=\"M201.96,-62.77C202.11,-60.05 202.26,-57.18 202.42,-54.3\"/>\n",
       "<polygon fill=\"#ff0000\" stroke=\"#ff0000\" points=\"205.93,-54.2 202.98,-44.02 198.94,-53.81 205.93,-54.2\"/>\n",
       "<text text-anchor=\"middle\" x=\"187.8\" y=\"-47.34\" font-family=\"Times,serif\" font-size=\"14.00\">DEN</text>\n",
       "</g>\n",
       "<!-- w1_t2 -->\n",
       "<g id=\"node6\" class=\"node\">\n",
       "<title>w1_t2</title>\n",
       "<ellipse fill=\"#8000ff\" stroke=\"#8000ff\" cx=\"266.98\" cy=\"-75.78\" rx=\"28.68\" ry=\"18\"/>\n",
       "<text text-anchor=\"middle\" x=\"266.98\" y=\"-77.38\" font-family=\"Times,serif\" font-size=\"8.00\">w1_t2</text>\n",
       "<text text-anchor=\"middle\" x=\"266.98\" y=\"-69.38\" font-family=\"Times,serif\" font-size=\"8.00\">BseTask</text>\n",
       "</g>\n",
       "<!-- w1_t1&#45;&gt;w1_t2 -->\n",
       "<g id=\"edge4\" class=\"edge\">\n",
       "<title>w1_t1&#45;&gt;w1_t2</title>\n",
       "<path fill=\"none\" stroke=\"#c85064\" d=\"M222.54,-40.51C228.23,-45.03 234.6,-50.08 240.7,-54.93\"/>\n",
       "<polygon fill=\"#c85064\" stroke=\"#c85064\" points=\"238.76,-57.85 248.76,-61.33 243.11,-52.37 238.76,-57.85\"/>\n",
       "<text text-anchor=\"middle\" x=\"216.06\" y=\"-50.52\" font-family=\"Times,serif\" font-size=\"14.00\">WFK</text>\n",
       "</g>\n",
       "<!-- w2_t0 -->\n",
       "<g id=\"node7\" class=\"node\">\n",
       "<title>w2_t0</title>\n",
       "<ellipse fill=\"#ff0000\" stroke=\"#ff0000\" cx=\"35.98\" cy=\"-95.78\" rx=\"27.89\" ry=\"18\"/>\n",
       "<text text-anchor=\"middle\" x=\"35.98\" y=\"-97.38\" font-family=\"Times,serif\" font-size=\"8.00\">w2_t0</text>\n",
       "<text text-anchor=\"middle\" x=\"35.98\" y=\"-89.38\" font-family=\"Times,serif\" font-size=\"8.00\">ScfTask</text>\n",
       "</g>\n",
       "<!-- w2_t1 -->\n",
       "<g id=\"node8\" class=\"node\">\n",
       "<title>w2_t1</title>\n",
       "<ellipse fill=\"#c85064\" stroke=\"#c85064\" cx=\"38.98\" cy=\"-40.78\" rx=\"30.85\" ry=\"18\"/>\n",
       "<text text-anchor=\"middle\" x=\"38.98\" y=\"-42.38\" font-family=\"Times,serif\" font-size=\"8.00\">w2_t1</text>\n",
       "<text text-anchor=\"middle\" x=\"38.98\" y=\"-34.38\" font-family=\"Times,serif\" font-size=\"8.00\">NscfTask</text>\n",
       "</g>\n",
       "<!-- w2_t0&#45;&gt;w2_t1 -->\n",
       "<g id=\"edge5\" class=\"edge\">\n",
       "<title>w2_t0&#45;&gt;w2_t1</title>\n",
       "<path fill=\"none\" stroke=\"#ff0000\" d=\"M36.96,-77.77C37.11,-75.05 37.26,-72.18 37.42,-69.3\"/>\n",
       "<polygon fill=\"#ff0000\" stroke=\"#ff0000\" points=\"40.93,-69.2 37.98,-59.02 33.94,-68.81 40.93,-69.2\"/>\n",
       "<text text-anchor=\"middle\" x=\"22.8\" y=\"-62.34\" font-family=\"Times,serif\" font-size=\"14.00\">DEN</text>\n",
       "</g>\n",
       "<!-- w2_t2 -->\n",
       "<g id=\"node9\" class=\"node\">\n",
       "<title>w2_t2</title>\n",
       "<ellipse fill=\"#8000ff\" stroke=\"#8000ff\" cx=\"101.98\" cy=\"-90.78\" rx=\"28.68\" ry=\"18\"/>\n",
       "<text text-anchor=\"middle\" x=\"101.98\" y=\"-92.38\" font-family=\"Times,serif\" font-size=\"8.00\">w2_t2</text>\n",
       "<text text-anchor=\"middle\" x=\"101.98\" y=\"-84.38\" font-family=\"Times,serif\" font-size=\"8.00\">BseTask</text>\n",
       "</g>\n",
       "<!-- w2_t1&#45;&gt;w2_t2 -->\n",
       "<g id=\"edge6\" class=\"edge\">\n",
       "<title>w2_t1&#45;&gt;w2_t2</title>\n",
       "<path fill=\"none\" stroke=\"#c85064\" d=\"M57.54,-55.51C63.23,-60.03 69.6,-65.08 75.7,-69.93\"/>\n",
       "<polygon fill=\"#c85064\" stroke=\"#c85064\" points=\"73.76,-72.85 83.76,-76.33 78.11,-67.37 73.76,-72.85\"/>\n",
       "<text text-anchor=\"middle\" x=\"51.06\" y=\"-65.52\" font-family=\"Times,serif\" font-size=\"14.00\">WFK</text>\n",
       "</g>\n",
       "</g>\n",
       "</svg>\n"
      ],
      "text/plain": [
       "<graphviz.dot.Digraph at 0x7ff080685b70>"
      ]
     },
     "execution_count": 18,
     "metadata": {
      "filenames": {
       "image/svg+xml": "/Users/gmatteo/git_repos/abipy_book/abipy_book/_build/jupyter_execute/bse/lesson_bse_39_0.svg"
      }
     },
     "output_type": "execute_result"
    }
   ],
   "source": [
    "flow_kconv.get_graphviz()"
   ]
  },
  {
   "cell_type": "code",
   "execution_count": 19,
   "id": "73ab009a",
   "metadata": {},
   "outputs": [],
   "source": [
    "#flow_kconv.plot_networkx();"
   ]
  },
  {
   "cell_type": "markdown",
   "id": "c4a7ebea",
   "metadata": {},
   "source": [
    "Change the lesson_bse.py script so that build_bse_kconv_flow is called in main instead of build_bse_flow.\n",
    "Run the script and submit the calculation with abirun.py FLOWDIR scheduler as usual."
   ]
  },
  {
   "cell_type": "markdown",
   "id": "0e10822c",
   "metadata": {},
   "source": [
    "Our `Flow` has three `BseTasks` and therefore three different `MDF.nc` files containing $\\epsilon_\\infty(\\omega)$.\n",
    "The MDF files are available in the github repository. \n",
    "\n",
    "In order to plot the three $\\epsilon_\\infty(\\omega)$ on the same graph, we have use the `MdfRobot`\n",
    "that will gather the results for us:"
   ]
  },
  {
   "cell_type": "code",
   "execution_count": 20,
   "id": "7546e2a2",
   "metadata": {},
   "outputs": [
    {
     "data": {
      "text/html": [
       "<ol start=\"0\">\n",
       "<li>w2/t2/outdata/out_MDF.nc</li>\n",
       "<li>w0/t2/outdata/out_MDF.nc</li>\n",
       "<li>w1/t2/outdata/out_MDF.nc</li>\n",
       "</ol>"
      ],
      "text/plain": [
       "Label                     Relpath\n",
       "------------------------  ---------------------------------------\n",
       "w2/t2/outdata/out_MDF.nc  flow_bse_kconv/w2/t2/outdata/out_MDF.nc\n",
       "w0/t2/outdata/out_MDF.nc  flow_bse_kconv/w0/t2/outdata/out_MDF.nc\n",
       "w1/t2/outdata/out_MDF.nc  flow_bse_kconv/w1/t2/outdata/out_MDF.nc"
      ]
     },
     "execution_count": 20,
     "metadata": {},
     "output_type": "execute_result"
    }
   ],
   "source": [
    "robot = abilab.MdfRobot.from_dir(\"flow_bse_kconv\")\n",
    "robot"
   ]
  },
  {
   "cell_type": "markdown",
   "id": "7bda85d6",
   "metadata": {},
   "source": [
    "We can now finally compare the imaginary and the real part of $\\epsilon_\\infty(\\omega)$ with `matplotlib`:"
   ]
  },
  {
   "cell_type": "code",
   "execution_count": 21,
   "id": "106d98ce",
   "metadata": {},
   "outputs": [],
   "source": [
    "plotter = robot.get_multimdf_plotter()"
   ]
  },
  {
   "cell_type": "code",
   "execution_count": 22,
   "id": "a598331d",
   "metadata": {},
   "outputs": [
    {
     "data": {
      "image/png": "[encoded data removed]",
      "text/plain": [
       "<Figure size 432x288 with 2 Axes>"
      ]
     },
     "metadata": {
      "filenames": {
       "image/png": "/Users/gmatteo/git_repos/abipy_book/abipy_book/_build/jupyter_execute/bse/lesson_bse_46_0.png"
      }
     },
     "output_type": "display_data"
    }
   ],
   "source": [
    "plotter.plot();"
   ]
  },
  {
   "cell_type": "markdown",
   "id": "af84d8dd",
   "metadata": {},
   "source": [
    "## Exercises\n",
    "\n",
    "Use `make_scf_nscf_bse_inputs` and `BseMdfWork` to perform the following convergence studies:\n",
    "    \n",
    "   * Convergence with respect to the number of planewaves in the screening (`ecuteps`)\n",
    "   * Convergence with respect to the number of $k$-points \n",
    "   \n",
    "See also the discussion reported in the official [BSE tutorial](https://docs.abinit.org/tutorial/bse/)"
   ]
  }
 ],
 "metadata": {
  "jupytext": {
   "text_representation": {
    "extension": ".md",
    "format_name": "myst",
    "format_version": 0.13,
    "jupytext_version": "1.10.3"
   }
  },
  "kernelspec": {
   "display_name": "Python",
   "language": "python",
   "name": "python3"
  },
  "language_info": {
   "codemirror_mode": {
    "name": "ipython",
    "version": 3
   },
   "file_extension": ".py",
   "mimetype": "text/x-python",
   "name": "python",
   "nbconvert_exporter": "python",
   "pygments_lexer": "ipython3",
   "version": "3.7.0"
  },
  "source_map": [
   12,
   28,
   32,
   58,
   64,
   78,
   82,
   87,
   89,
   106,
   110,
   112,
   117,
   120,
   124,
   126,
   131,
   135,
   137,
   143,
   156,
   164,
   169,
   173,
   180,
   184,
   186,
   206,
   210,
   214,
   216,
   225,
   230,
   232,
   236,
   239,
   253,
   269,
   274,
   278,
   282,
   284,
   289,
   297,
   300,
   304,
   308,
   310
  ]
 },
 "nbformat": 4,
 "nbformat_minor": 5
}