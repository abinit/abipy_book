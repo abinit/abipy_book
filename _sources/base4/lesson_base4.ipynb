{
 "cells": [
  {
   "cell_type": "markdown",
   "id": "94f580f8",
   "metadata": {},
   "source": [
    "# Base4 lesson (Aluminium)\n",
    "\n",
    "<div class=\"jumbotron\">\n",
    "  <h1 class=\"display-3\">Fourth (basic) lesson with Abinit and AbiPy</h1>\n",
    "  <p class=\"lead\">The H<sub>2</sub> molecule</p> \n",
    "  <hr class=\"my-4\">\n",
    "  <p>This lesson aims at showing how to get the following physical properties, for a metal, and for a surface:\n",
    "\n",
    "the total energy\n",
    "the lattice parameter\n",
    "the relaxation of surface atoms\n",
    "the surface energy You will learn about the smearing of the Brillouin zone integration, and also a bit about preconditioning the SCF cycle.\n",
    "This lesson should take about 1 hour and 30 minutes.\n",
    "</p>\n",
    "  <p class=\"lead\">\n",
    "    <a class=\"btn btn-primary btn-lg\" href=\"#\" role=\"button\">Learn more</a>\n",
    "  </p>\n",
    "</div>This tutorial is a complement to the standard [ABINIT tutorial on aluminum](https://docs.abinit.org/tutorial/base4). Here, powerful flow and visualisation procedures\n",
    "will be demonstrated. Still, some basic understanding of the stand-alone working of ABINIT is a prerequisite.\n",
    "Also, in order to fully benefit from this Abipy tutorial, other more basic Abipy tutorials should have been followed,\n",
    "as suggested in the [abitutorials index page](https://nbviewer.jupyter.org/github/abinit/abitutorials/blob/master/abitutorials/index.ipynb)."
   ]
  },
  {
   "cell_type": "code",
   "execution_count": null,
   "id": "77b9225c",
   "metadata": {},
   "outputs": [],
   "source": [
    "# Use this at the beginning of your script so that your code will be compatible with python3\n",
    "from __future__ import print_function, division, unicode_literals\n",
    "\n",
    "import numpy as np\n",
    "\n",
    "import warnings \n",
    "warnings.filterwarnings(\"ignore\")  # Ignore warnings\n",
    "\n",
    "from abipy import abilab\n",
    "abilab.enable_notebook() # This line tells AbiPy we are running inside a notebook\n",
    "\n",
    "# This line tells the notebook to show plots inside of the notebook\n",
    "%matplotlib notebook"
   ]
  },
  {
   "cell_type": "markdown",
   "id": "57ef83fa",
   "metadata": {},
   "source": [
    "## The convergence study with respect to k points and broadening\n",
    "\n",
    "Note that there is usually a STRONG cross-convergence effect between the number \n",
    "of k points and the value of the broadening, tsmear.\n",
    "The right procedure is: for each value of tsmear, to get the convergence with respect \n",
    "to the number of k points, then to compare the k-point converged values for different values of tsmear.\n",
    "\n",
    "In what follows, we will restrict ourselves to the grids with nkpt=2, 10 and 28."
   ]
  },
  {
   "cell_type": "markdown",
   "id": "26baeb31",
   "metadata": {},
   "source": [
    "As usual, we start by writing an helper function to generate the input for the structural relaxation of Al.\n",
    "The function accepts `tsmear` and another parameter, `nksmall`, that will be used to define the BZ sampling:"
   ]
  },
  {
   "cell_type": "code",
   "execution_count": null,
   "id": "5c9a1229",
   "metadata": {},
   "outputs": [],
   "source": [
    "from lesson_base4 import relax_input\n",
    "abilab.print_source(relax_input)"
   ]
  },
  {
   "cell_type": "markdown",
   "id": "e3233047",
   "metadata": {},
   "source": [
    "Now we use `relax_input` to generate multiple inputs with different values of `tsmear` and `nksmall`\n",
    "and we pass the input objects to the Flow constructor.\n",
    "To keep things as simple as possible, we use independent tasks ..."
   ]
  },
  {
   "cell_type": "code",
   "execution_count": null,
   "id": "8fff4d14",
   "metadata": {},
   "outputs": [],
   "source": [
    "from lesson_base4 import build_relax_tsmear_nkpts_convflow\n",
    "abilab.print_source(build_relax_tsmear_nkpts_convflow)"
   ]
  },
  {
   "cell_type": "code",
   "execution_count": null,
   "id": "f629a437",
   "metadata": {},
   "outputs": [],
   "source": [
    "flow = build_relax_tsmear_nkpts_convflow(options=None)\n",
    "flow.get_graphviz()"
   ]
  },
  {
   "cell_type": "code",
   "execution_count": null,
   "id": "d4be4b8b",
   "metadata": {},
   "outputs": [],
   "source": [
    "for task in flow.iflat_tasks():\n",
    "    print(task.pos_str, \"ngkpt\", task.input[\"ngkpt\"], \n",
    "          \"tsmear\", task.input[\"tsmear\"], \"occopt\", task.input[\"occopt\"])"
   ]
  },
  {
   "cell_type": "code",
   "execution_count": null,
   "id": "fd26e902",
   "metadata": {},
   "outputs": [],
   "source": [
    "#abo = abilab.abiopen(\"flow_al_relax/w0/t0/run.abo\")\n",
    "#print(abo)"
   ]
  },
  {
   "cell_type": "code",
   "execution_count": null,
   "id": "7e0b7f39",
   "metadata": {},
   "outputs": [],
   "source": [
    "#abo.plot();"
   ]
  },
  {
   "cell_type": "code",
   "execution_count": null,
   "id": "ce1e990b",
   "metadata": {},
   "outputs": [],
   "source": [
    "#hist = abilab.abiopen(\"flow_al_relax/w0/t0/outdata/out_HIST.nc\")\n",
    "#print(hist)"
   ]
  },
  {
   "cell_type": "code",
   "execution_count": null,
   "id": "33aafbf0",
   "metadata": {},
   "outputs": [],
   "source": [
    "#hist.plot();"
   ]
  },
  {
   "cell_type": "code",
   "execution_count": null,
   "id": "558e8470",
   "metadata": {},
   "outputs": [],
   "source": [
    "robot = abilab.GsrRobot.from_dir(\"flow_al_relax_tsmear_nkpt\")\n",
    "robot"
   ]
  },
  {
   "cell_type": "code",
   "execution_count": null,
   "id": "c7a02b85",
   "metadata": {},
   "outputs": [],
   "source": [
    "robot.remap_labels(lambda gsr: \"nkpt: %d, tsmear %.2f\" % (gsr.nkpt, gsr.tsmear))"
   ]
  },
  {
   "cell_type": "code",
   "execution_count": null,
   "id": "dc21c448",
   "metadata": {},
   "outputs": [],
   "source": [
    "data = robot.get_dataframe()\n",
    "print(data.keys())"
   ]
  },
  {
   "cell_type": "markdown",
   "id": "2234f516",
   "metadata": {},
   "source": [
    "First of all, let's sort our rows first by `nkpt` and then by `tsmear` inside each `nkpt` group so that \n",
    "we have print the table in a nice format:"
   ]
  },
  {
   "cell_type": "code",
   "execution_count": null,
   "id": "ed8e666d",
   "metadata": {},
   "outputs": [],
   "source": [
    "data = data[[\"nkpt\", \"tsmear\", \"a\", \"alpha\", \"energy\", \"pressure\", \"volume\", \"max_force\"]]"
   ]
  },
  {
   "cell_type": "code",
   "execution_count": null,
   "id": "b2f87b01",
   "metadata": {},
   "outputs": [],
   "source": [
    "data = data.sort_values(by=[\"nkpt\", \"tsmear\"])\n",
    "data"
   ]
  },
  {
   "cell_type": "code",
   "execution_count": null,
   "id": "abde1659",
   "metadata": {},
   "outputs": [],
   "source": [
    "import seaborn as sns\n",
    "sns.pairplot(data, x_vars=\"nkpt\", y_vars=[\"energy\", \"a\", \"volume\"], hue=\"tsmear\");"
   ]
  },
  {
   "cell_type": "code",
   "execution_count": null,
   "id": "314376c9",
   "metadata": {},
   "outputs": [],
   "source": [
    "y_vars = [\"energy\", \"structure.lattice.a\", \"structure.volume\"]\n",
    "\n",
    "robot.plot_convergence_items(y_vars, sortby=\"nkpt\", hue=\"tsmear\");"
   ]
  },
  {
   "cell_type": "code",
   "execution_count": null,
   "id": "625da5f5",
   "metadata": {},
   "outputs": [],
   "source": [
    "eframe = robot.get_energyterms_dataframe();\n",
    "eframe"
   ]
  },
  {
   "cell_type": "code",
   "execution_count": null,
   "id": "97919b52",
   "metadata": {},
   "outputs": [],
   "source": [
    "with abilab.abiopen(\"flow_al_relax_tsmear_nkpt/w0/t11/outdata/out_GSR.nc\") as gsr:\n",
    "    ebands_w0t11 = gsr.ebands\n",
    "\n",
    "ebands_w0t11.plot();"
   ]
  },
  {
   "cell_type": "code",
   "execution_count": null,
   "id": "de54fc86",
   "metadata": {},
   "outputs": [],
   "source": [
    "ebands_w0t11.boxplot();"
   ]
  },
  {
   "cell_type": "markdown",
   "id": "155da671",
   "metadata": {},
   "source": [
    "Now you might ask yourself: \"The total energy with nkpt == 2 is clearly not converged wrt tsmear. What are the effects of the smearing on the KS eigenvalues for nkpt == 2?\"\n",
    "The `GsrRobot` can construct an `ElectronBandsPlotter` that allows us to compare multiple band structures \n",
    "so it's just a matter of telling the robot that we want a plotter object in which only the\n",
    "`GSR` files with only two k-points in the IBZ, then we can use the plotter to visualize the results:"
   ]
  },
  {
   "cell_type": "code",
   "execution_count": null,
   "id": "7a1d8666",
   "metadata": {},
   "outputs": [],
   "source": [
    "plotter = robot.get_ebands_plotter()\n",
    "plotter.gridplot();"
   ]
  },
  {
   "cell_type": "code",
   "execution_count": null,
   "id": "902468f8",
   "metadata": {},
   "outputs": [],
   "source": [
    "robot.gridplot_with_hue(hue=\"nkpt\");"
   ]
  },
  {
   "cell_type": "markdown",
   "id": "fb8b3ad1",
   "metadata": {},
   "source": [
    "The plotter provides different plot methods to visualize the same data.\n",
    "Perhaps you prefer this:"
   ]
  },
  {
   "cell_type": "code",
   "execution_count": null,
   "id": "35499998",
   "metadata": {},
   "outputs": [],
   "source": [
    "plotter.combiboxplot();"
   ]
  },
  {
   "cell_type": "code",
   "execution_count": null,
   "id": "7fad1ee4",
   "metadata": {},
   "outputs": [],
   "source": [
    "#robot.boxplot_ebands();"
   ]
  },
  {
   "cell_type": "code",
   "execution_count": null,
   "id": "a32c93a8",
   "metadata": {},
   "outputs": [],
   "source": [
    "robot.combiboxplot_ebands();"
   ]
  },
  {
   "cell_type": "code",
   "execution_count": null,
   "id": "9d674908",
   "metadata": {},
   "outputs": [],
   "source": [
    "edos_plotter = robot.get_edos_plotter(width=0.1, step=0.2)"
   ]
  },
  {
   "cell_type": "code",
   "execution_count": null,
   "id": "702164d8",
   "metadata": {},
   "outputs": [],
   "source": [
    "edos_plotter.combiplot();"
   ]
  },
  {
   "cell_type": "code",
   "execution_count": null,
   "id": "dfa7df8b",
   "metadata": {},
   "outputs": [],
   "source": [
    "edos_plotter.gridplot();"
   ]
  },
  {
   "cell_type": "code",
   "execution_count": null,
   "id": "98787d3a",
   "metadata": {},
   "outputs": [],
   "source": [
    "#e3d = ebands_w0t11.get_ebands3d()\n",
    "#e3d.plot_isosurfaces()"
   ]
  },
  {
   "cell_type": "markdown",
   "id": "b1bea14c",
   "metadata": {},
   "source": [
    "A logical next lesson would be the the tutorial on \n",
    "[phonon calculations with DFPT](https://nbviewer.jupyter.org/github/abinit/abitutorials/blob/master/abitutorials/dfpt/lesson_dfpt.ipynb)"
   ]
  }
 ],
 "metadata": {
  "jupytext": {
   "text_representation": {
    "extension": ".md",
    "format_name": "myst",
    "format_version": 0.13,
    "jupytext_version": "1.10.3"
   }
  },
  "kernelspec": {
   "display_name": "Python 3",
   "language": "python",
   "name": "python3"
  },
  "source_map": [
   12,
   37,
   51,
   62,
   67,
   70,
   76,
   81,
   86,
   92,
   97,
   101,
   106,
   110,
   115,
   119,
   122,
   127,
   131,
   136,
   141,
   147,
   152,
   159,
   161,
   168,
   173,
   175,
   180,
   184,
   188,
   192,
   196,
   200,
   204,
   207
  ]
 },
 "nbformat": 4,
 "nbformat_minor": 5
}