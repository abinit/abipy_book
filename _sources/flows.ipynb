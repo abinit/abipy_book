{
 "cells": [
  {
   "cell_type": "markdown",
   "id": "f6c67f51",
   "metadata": {},
   "source": [
    "Back to the main [Index](index.ipynb) <a id=\"top\"></a>"
   ]
  },
  {
   "cell_type": "markdown",
   "id": "3c0b1ee9",
   "metadata": {},
   "source": [
    "# Tasks, Workflows and Flow\n",
    "\n",
    "\n",
    "## Table of Contents\n",
    "[[back to top](#top)]\n",
    "\n",
    "- [Building a Flow for band structure calculations](#Building-a-Flow-for-band-structure-calculations)\n",
    "- [How to build and run the Flow](#How-to-build-and-run-the-Flow)\n",
    "- [Executing a Flow](#Executing-a-Flow)\n",
    "- [More on Works, Tasks and dependencies](#More-on-Works,-Tasks-and-dependencies)\n",
    "- [Abirun.py](#Abirun.py)\n",
    "\n",
    "In this notebook we discuss some of the basic concepts used in AbiPy \n",
    "to automate ab-initio calculations. \n",
    "In particular we will focus on the following three objects: \n",
    "\n",
    "   * `Task`\n",
    "   * `Work`\n",
    "   * `Flow`\n",
    "   \n",
    "The `Task` represent the most *elementary step* of the automatic workflow. \n",
    "Roughly speaking, it corresponds to the execution of a single Abinit calculation **without** multiple datasets.\n",
    "\n",
    "From the point of view of AbiPy, a calculation consists of a set of `Tasks` that are connected \n",
    "by dependencies. \n",
    "Each task has a list of files that are needed to start the calculation, \n",
    "and a list of files that are produced at the end of the run.\n",
    "\n",
    "Some of the input files needed by a `Task` must be provided by the user in the form of Abinit input variables \n",
    "(e.g. the crystalline structure, the pseudopotentials), other inputs may be produced by other tasks.\n",
    "When a `Task` **B** requires the output file `DEN` of another task **A**, \n",
    "we say that **B** depends on **A** through a `DEN` file, and we express this dependency with the dictionary:\n",
    "\n",
    "```python\n",
    "B_deps = {A: \"DEN\"}\n",
    "```\n",
    "\n",
    "To clarify this point, let's take a standard KS band structure calculation as an example.\n",
    "In this case, we have an initial `ScfTask` that solves the KS equations self-consistently to produce a `DEN` file. \n",
    "The density is then used by a second `NscfTask` to compute a band structure on an arbitrary \n",
    "set of $k$-points.\n",
    "The `NscfTask` thus has a dependency on the `ScfTask` in the sense that it cannot be executed \n",
    "until the `ScfTask` is completed and the `DEN` file is produced by the `ScfTask`.\n",
    "\n",
    "Now that we have clarified the concept of `Task`, we can finally turn to `Works` and `Flow`.\n",
    "The `Work` can be seen as a list of `Tasks`, while the `Flow` is essentially a list of `Work` objects.\n",
    "Works are usually used to group tasks that are connected to each other.\n",
    "Flows are the final objects that are executed. The `Flow` provides an easy-to-use\n",
    "interface for performing this execution. \n",
    "The `Flow` provides a high-level API to perform common operations like launching the actual jobs, checking the status of the `Tasks`, correcting problems etc. \n",
    "\n",
    "AbiPy provides several tools to generate Flows for typical first-principles calculations, so called factory functions.\n",
    "This means that you do not need to understand all the technical details of the python implementation.\n",
    "In many cases, indeed, we already provide some kind of `Work` or `Flow` that automates \n",
    "your calculation, and you only need to provide the correct list of input files.\n",
    "This list, obviously, must be consistent with the kind Flow/Work you are using.\n",
    "(For instance, you should not pass a list of inputs for performing a band structure calculation to a Work \n",
    "that is expected to compute phonons with DFPT!)\n",
    "\n",
    "All the `Works` and the `Tasks` of a flow are created and executed inside the working directory (`workdir`). \n",
    "This is usually specified by the user during the creation of the `Flow` object.\n",
    "AbiPy creates the workdir of the different Works/Tasks when the `Flow` is executed\n",
    "for the first time.\n",
    "\n",
    "Each `Task` contains a set of input variables that will be used to generate the \n",
    "Abinit input file. \n",
    "This input **must** be provided by the user during the creation of the `Task`.\n",
    "Fortunately, AbiPy provides an object named `AbinitInput` to facilitate the creation \n",
    "of such input. \n",
    "Once you have an `AbinitInput`, you can create the corresponding `Task` with the (pseudo) code:\n",
    "\n",
    "```python\n",
    "new_task = Task(abinit_input_object)\n",
    "```\n",
    "\n",
    "The `Task` provides several methods for monitoring the status of the calculation and \n",
    "post-processing the results.\n",
    "Note that the concept of dependency is not limited to files. All the Tasks in the \n",
    "flow are connected and can interact with each other. This allows programmers to implements python\n",
    "functions that will be invoked by the framework at run time. For example, one can \n",
    "implement a Task that fetches the relaxed structure from a previous Task and \n",
    "use this configuration to start a DFPT calculation.\n",
    "\n",
    "In the next paragraph, we discuss how to construct a `Flow` for band-structure calculations\n",
    "with a high-level interface that only requires the specifications of the input files.\n",
    "This example allows us to discuss the most important methods of the `Flow`."
   ]
  },
  {
   "cell_type": "markdown",
   "id": "77efd53c",
   "metadata": {},
   "source": [
    "## Building a Flow for band structure calculations\n",
    "[[back to top](#top)]\n",
    "\n",
    "Let's start by creating a function that produces two input files. \n",
    "The first input is a standard self-consistent ground-state run.\n",
    "The second input uses the density produced in the first run to perform \n",
    "a non self-consistent band structure calculation."
   ]
  },
  {
   "cell_type": "code",
   "execution_count": 1,
   "id": "7a2307b1",
   "metadata": {},
   "outputs": [],
   "source": [
    "# This line configures matplotlib to show figures embedded in the notebook.\n",
    "# Replace `inline` with `notebook` in classic notebook\n",
    "%matplotlib inline   \n",
    "\n",
    "# Option available in jupyterlab. See https://github.com/matplotlib/jupyter-matplotlib\n",
    "#%matplotlib widget  \n",
    "\n",
    "import warnings\n",
    "warnings.filterwarnings(\"ignore\") # to get rid of deprecation warnings\n",
    "\n",
    "from abipy import abilab\n",
    "import os\n",
    "import abipy.flowtk as flowtk\n",
    "import abipy.data as abidata\n",
    "\n",
    "def make_scf_nscf_inputs():\n",
    "    \"\"\"Build ands return the input files for the GS-SCF and the GS-NSCF tasks.\"\"\"\n",
    "    multi = abilab.MultiDataset(structure=abidata.cif_file(\"si.cif\"),\n",
    "                                pseudos=abidata.pseudos(\"14si.pspnc\"), ndtset=2)\n",
    "\n",
    "    # Set global variables (dataset1 and dataset2)\n",
    "    multi.set_vars(ecut=6, nband=8)\n",
    "\n",
    "    # Dataset 1 (GS-SCF run)\n",
    "    multi[0].set_kmesh(ngkpt=[8,8,8], shiftk=[0,0,0])\n",
    "    multi[0].set_vars(tolvrs=1e-6)\n",
    "\n",
    "    # Dataset 2 (GS-NSCF run on a k-path)\n",
    "    kptbounds = [\n",
    "        [0.5, 0.0, 0.0], # L point\n",
    "        [0.0, 0.0, 0.0], # Gamma point\n",
    "        [0.0, 0.5, 0.5], # X point\n",
    "    ]\n",
    "\n",
    "    multi[1].set_kpath(ndivsm=6, kptbounds=kptbounds)\n",
    "    multi[1].set_vars(tolwfr=1e-12)\n",
    "    \n",
    "    # Return two input files for the GS and the NSCF run\n",
    "    scf_input, nscf_input = multi.split_datasets()\n",
    "    return scf_input, nscf_input"
   ]
  },
  {
   "cell_type": "markdown",
   "id": "0a3c9df0",
   "metadata": {},
   "source": [
    "Once we have our two input files, we pass them to the \n",
    "factory function `bandstructure_flow` that returns our `Flow`."
   ]
  },
  {
   "cell_type": "code",
   "execution_count": 2,
   "id": "470bde33",
   "metadata": {},
   "outputs": [],
   "source": [
    "scf_input, nscf_input = make_scf_nscf_inputs()\n",
    "\n",
    "workdir = \"/tmp/hello_bands\"\n",
    "flow = flowtk.bandstructure_flow(workdir, scf_input, nscf_input)"
   ]
  },
  {
   "cell_type": "markdown",
   "id": "75df823d",
   "metadata": {},
   "source": [
    "`bandstructure_flow` took care of creating the correct dependency between the two tasks.\n",
    "The `NscfTask`, indeed,  depends on the `ScfTask` in w0/t0, whereas the `ScfTask` has no dependency:"
   ]
  },
  {
   "cell_type": "code",
   "execution_count": 3,
   "id": "bde23c3a",
   "metadata": {},
   "outputs": [
    {
     "data": {
      "image/svg+xml": [
       "<?xml version=\"1.0\" encoding=\"UTF-8\" standalone=\"no\"?>\n",
       "<!DOCTYPE svg PUBLIC \"-//W3C//DTD SVG 1.1//EN\"\n",
       " \"http://www.w3.org/Graphics/SVG/1.1/DTD/svg11.dtd\">\n",
       "<!-- Generated by graphviz version 2.42.3 (20191010.1750)\n",
       " -->\n",
       "<!-- Title: flow Pages: 1 -->\n",
       "<svg width=\"361pt\" height=\"152pt\"\n",
       " viewBox=\"0.00 0.00 360.87 152.00\" xmlns=\"http://www.w3.org/2000/svg\" xmlns:xlink=\"http://www.w3.org/1999/xlink\">\n",
       "<g id=\"graph0\" class=\"graph\" transform=\"scale(1 1) rotate(0) translate(12.43 126)\">\n",
       "<title>flow</title>\n",
       "<polygon fill=\"white\" stroke=\"transparent\" points=\"-12.43,26 -12.43,-126 348.43,-126 348.43,26 -12.43,26\"/>\n",
       "<text text-anchor=\"start\" x=\"-0.43\" y=\"15.2\" font-family=\"Times,serif\" font-size=\"14.00\">Flow, node_id=438723, workdir=../../../../../tmp/hello_bands</text>\n",
       "<g id=\"clust1\" class=\"cluster\">\n",
       "<title>clusterw0</title>\n",
       "<path fill=\"#e0eeee\" stroke=\"black\" d=\"M101.24,0.36C101.24,0.36 235.24,0.36 235.24,0.36 241.24,0.36 247.24,-5.64 247.24,-11.64 247.24,-11.64 247.24,-109.64 247.24,-109.64 247.24,-115.64 241.24,-121.64 235.24,-121.64 235.24,-121.64 101.24,-121.64 101.24,-121.64 95.24,-121.64 89.24,-115.64 89.24,-109.64 89.24,-109.64 89.24,-11.64 89.24,-11.64 89.24,-5.64 95.24,0.36 101.24,0.36\"/>\n",
       "<text text-anchor=\"middle\" x=\"168.24\" y=\"-106.44\" font-family=\"Times,serif\" font-size=\"14.00\">BandStructureWork (w0)</text>\n",
       "</g>\n",
       "<!-- w0_t0 -->\n",
       "<g id=\"node1\" class=\"node\">\n",
       "<title>w0_t0</title>\n",
       "<ellipse fill=\"#ff0000\" stroke=\"#ff0000\" cx=\"198.48\" cy=\"-73.28\" rx=\"27.89\" ry=\"18\"/>\n",
       "<text text-anchor=\"middle\" x=\"198.48\" y=\"-74.88\" font-family=\"Times,serif\" font-size=\"8.00\">w0_t0</text>\n",
       "<text text-anchor=\"middle\" x=\"198.48\" y=\"-66.88\" font-family=\"Times,serif\" font-size=\"8.00\">ScfTask</text>\n",
       "</g>\n",
       "<!-- w0_t1 -->\n",
       "<g id=\"node2\" class=\"node\">\n",
       "<title>w0_t1</title>\n",
       "<ellipse fill=\"#c85064\" stroke=\"#c85064\" cx=\"141.48\" cy=\"-25.28\" rx=\"30.85\" ry=\"18\"/>\n",
       "<text text-anchor=\"middle\" x=\"141.48\" y=\"-26.88\" font-family=\"Times,serif\" font-size=\"8.00\">w0_t1</text>\n",
       "<text text-anchor=\"middle\" x=\"141.48\" y=\"-18.88\" font-family=\"Times,serif\" font-size=\"8.00\">NscfTask</text>\n",
       "</g>\n",
       "<!-- w0_t0&#45;&gt;w0_t1 -->\n",
       "<g id=\"edge1\" class=\"edge\">\n",
       "<title>w0_t0&#45;&gt;w0_t1</title>\n",
       "<path fill=\"none\" stroke=\"#ff0000\" d=\"M181.37,-58.88C176.92,-55.13 172.02,-51 167.23,-46.97\"/>\n",
       "<polygon fill=\"#ff0000\" stroke=\"#ff0000\" points=\"169.26,-44.1 159.36,-40.34 164.75,-49.46 169.26,-44.1\"/>\n",
       "<text text-anchor=\"middle\" x=\"188.69\" y=\"-41.72\" font-family=\"Times,serif\" font-size=\"14.00\">DEN</text>\n",
       "</g>\n",
       "</g>\n",
       "</svg>\n"
      ],
      "text/plain": [
       "<graphviz.dot.Digraph at 0x7fa70fcd9cf8>"
      ]
     },
     "execution_count": 3,
     "metadata": {
      "filenames": {
       "image/svg+xml": "/Users/gmatteo/git_repos/abipy_book/abipy_book/_build/jupyter_execute/flows_7_0.svg"
      }
     },
     "output_type": "execute_result"
    }
   ],
   "source": [
    "flow.get_graphviz()"
   ]
  },
  {
   "cell_type": "markdown",
   "id": "88163a0f",
   "metadata": {},
   "source": [
    "<div class=\"alert alert-success\" role=\"alert\">\n",
    "Note that we have not used `getden2 = -1` in the second dataset \n",
    "since AbiPy knows how to connect the two Tasks.\n",
    "So no need for `get*` or `ird*` variables with Abipy. \n",
    "Just specify the correct dependency and python will do the rest!\n",
    "</div>"
   ]
  },
  {
   "cell_type": "markdown",
   "id": "d1696577",
   "metadata": {},
   "source": [
    "To have useful information on the status of the flow, one uses:"
   ]
  },
  {
   "cell_type": "code",
   "execution_count": 4,
   "id": "70823c24",
   "metadata": {},
   "outputs": [
    {
     "name": "stdout",
     "output_type": "stream",
     "text": [
      "\n",
      "Work #0: <BandStructureWork, node_id=438724, workdir=../../../../../tmp/hello_bands/w0>, Finalized=False\n",
      "+--------+-------------+---------+--------------+------------+----------+-----------------+--------+-----------+\n",
      "| Task   | Status      | Queue   | MPI|Omp|Gb   | Warn|Com   | Class    | Sub|Rest|Corr   | Time   |   Node_ID |\n",
      "+========+=============+=========+==============+============+==========+=================+========+===========+\n",
      "| w0_t0  | Initialized\u001b[0m | None    | 1|  1|2.0    | 2|  2      | ScfTask  | (0, 0, 0)       | None   |    438725 |\n",
      "+--------+-------------+---------+--------------+------------+----------+-----------------+--------+-----------+\n",
      "| w0_t1  | Initialized\u001b[0m | None    | 1|  1|2.0    | 1|  4      | NscfTask | (0, 0, 0)       | None   |    438726 |\n",
      "+--------+-------------+---------+--------------+------------+----------+-----------------+--------+-----------+\n",
      "\n"
     ]
    }
   ],
   "source": [
    "flow.show_status()"
   ]
  },
  {
   "cell_type": "markdown",
   "id": "c6a29304",
   "metadata": {},
   "source": [
    "Meaning of the different columns:\n",
    "    \n",
    "   * *Task*: short name of the task (usually *w[index_of_work_in_flow]_t[index_of_task_in_work]*\n",
    "   * *Status*: Status of the task\n",
    "   * *Queue*: QueueName@Job identifier returned by the resource manager when the task is submitted\n",
    "   * *(MPI|Omp|Gb)*: Number of MPI procs, OMP threads, and memory per MPI proc\n",
    "   * *(Warn|Com)*: Number of Error/Warning/Comment messages found in the ABINIT log\n",
    "   * *Class*: The class of the `Task`\n",
    "   * *(Sub|Rest|Corr)*: Number of (submissions/restart/AbiPy corrections) performed\n",
    "   * *Node_ID* : identifier of the task, used to select tasks or works in python code or `abirun.py`"
   ]
  },
  {
   "cell_type": "markdown",
   "id": "d3ca3d84",
   "metadata": {},
   "source": [
    "Both `Flow` and `Work` are *iterable*. \n",
    "Iterating on a `Flow` gives `Work` objects, whereas\n",
    "iterating over a `Work` gives the `Tasks` inside that particular `Work`.\n",
    "\n",
    "```python\n",
    "for work in flow:\n",
    "    for task in work:\n",
    "        print(task)\n",
    "```\n",
    "\n",
    "`Flows` and `Works` are containers and we can select items in these containers\n",
    "with the syntax: flow[start:stop] or work[start:stop].\n",
    "This means that the previous loop is equivalent to the much more verbose version: \n",
    "\n",
    "```python\n",
    "for i in range(len(flow)):\n",
    "    work = flow[i]\n",
    "    for t in range(len(work):\n",
    "        print(work[t])\n",
    "```\n",
    "\n",
    "At this point it should not be so difficult to understand that:\n",
    "\n",
    "```python\n",
    "flow[0][0]\n",
    "```\n",
    "\n",
    "gives the first task in the first work of the flow while\n",
    "\n",
    "```python\n",
    "flow[-1][-1]\n",
    "```\n",
    "\n",
    "selects the last `Task` in the last `Work`.\n",
    "In several cases, we only need to iterate over a flat list of tasks without caring about the works.\n",
    "In this case, we can use:\n",
    "\n",
    "```python\n",
    "for task in flow.iflat_tasks():\n",
    "    print(task)\n",
    "```\n",
    "\n",
    "to iterate over all Tasks in the Flow."
   ]
  },
  {
   "cell_type": "markdown",
   "id": "d9b12b6f",
   "metadata": {},
   "source": [
    "## How to build and run the Flow\n",
    "[[back to top](#top)]\n",
    "\n",
    "The flow is still in memory and no file has been produced. \n",
    "In order to build the workflow, use:"
   ]
  },
  {
   "cell_type": "code",
   "execution_count": 5,
   "id": "dfb8e73e",
   "metadata": {},
   "outputs": [
    {
     "data": {
      "text/plain": [
       "0"
      ]
     },
     "execution_count": 5,
     "metadata": {},
     "output_type": "execute_result"
    }
   ],
   "source": [
    "if os.path.isdir(\"/tmp/hello_bands/\"): \n",
    "    import shutil\n",
    "    shutil.rmtree(\"/tmp/hello_bands\")\n",
    "\n",
    "flow.build_and_pickle_dump()"
   ]
  },
  {
   "cell_type": "markdown",
   "id": "8e039119",
   "metadata": {},
   "source": [
    "This function creates the directories of the `Flow`:\n",
    "\n",
    "(If you rely on MacOSX, the tree command might not be available. To fix this, see http://osxdaily.com/2016/09/09/view-folder-tree-terminal-mac-os-tree-equivalent/)"
   ]
  },
  {
   "cell_type": "code",
   "execution_count": 6,
   "id": "a79cc6b5",
   "metadata": {},
   "outputs": [
    {
     "name": "stdout",
     "output_type": "stream",
     "text": [
      "zsh:1: command not found: tree\r\n"
     ]
    }
   ],
   "source": [
    "!tree /tmp/hello_bands"
   ]
  },
  {
   "cell_type": "markdown",
   "id": "a31def63",
   "metadata": {},
   "source": [
    "Let's have a look at the files/directories associated to the first work (flow[0]):"
   ]
  },
  {
   "cell_type": "code",
   "execution_count": 7,
   "id": "07f608a0",
   "metadata": {},
   "outputs": [
    {
     "data": {
      "image/svg+xml": [
       "<?xml version=\"1.0\" encoding=\"UTF-8\" standalone=\"no\"?>\n",
       "<!DOCTYPE svg PUBLIC \"-//W3C//DTD SVG 1.1//EN\"\n",
       " \"http://www.w3.org/Graphics/SVG/1.1/DTD/svg11.dtd\">\n",
       "<!-- Generated by graphviz version 2.42.3 (20191010.1750)\n",
       " -->\n",
       "<!-- Title: directory Pages: 1 -->\n",
       "<svg width=\"587pt\" height=\"528pt\"\n",
       " viewBox=\"0.00 0.00 587.00 528.00\" xmlns=\"http://www.w3.org/2000/svg\" xmlns:xlink=\"http://www.w3.org/1999/xlink\">\n",
       "<g id=\"graph0\" class=\"graph\" transform=\"scale(1 1) rotate(0) translate(4 502)\">\n",
       "<title>directory</title>\n",
       "<polygon fill=\"white\" stroke=\"transparent\" points=\"-4,26 -4,-502 583,-502 583,26 -4,26\"/>\n",
       "<text text-anchor=\"middle\" x=\"289.5\" y=\"15.2\" font-family=\"Times,serif\" font-size=\"14.00\">/tmp/hello_bands/w0</text>\n",
       "<g id=\"clust1\" class=\"cluster\">\n",
       "<title>cluster_/tmp/hello_bands/w0</title>\n",
       "<path fill=\"#e0eeee\" stroke=\"black\" d=\"M279.55,-295.81C279.55,-295.81 290.21,-295.81 290.21,-295.81 295.55,-295.81 300.88,-301.14 300.88,-306.48 300.88,-306.48 300.88,-323.14 300.88,-323.14 300.88,-328.48 295.55,-333.81 290.21,-333.81 290.21,-333.81 279.55,-333.81 279.55,-333.81 274.21,-333.81 268.88,-328.48 268.88,-323.14 268.88,-323.14 268.88,-306.48 268.88,-306.48 268.88,-301.14 274.21,-295.81 279.55,-295.81\"/>\n",
       "<text text-anchor=\"middle\" x=\"284.88\" y=\"-318.61\" font-family=\"Times,serif\" font-size=\"14.00\">w0</text>\n",
       "</g>\n",
       "<g id=\"clust2\" class=\"cluster\">\n",
       "<title>cluster_/tmp/hello_bands/w0/tmpdata</title>\n",
       "<path fill=\"#e0eeee\" stroke=\"black\" d=\"M265.97,-393.47C265.97,-393.47 301.97,-393.47 301.97,-393.47 307.97,-393.47 313.97,-399.47 313.97,-405.47 313.97,-405.47 313.97,-419.47 313.97,-419.47 313.97,-425.47 307.97,-431.47 301.97,-431.47 301.97,-431.47 265.97,-431.47 265.97,-431.47 259.97,-431.47 253.97,-425.47 253.97,-419.47 253.97,-419.47 253.97,-405.47 253.97,-405.47 253.97,-399.47 259.97,-393.47 265.97,-393.47\"/>\n",
       "<text text-anchor=\"middle\" x=\"283.97\" y=\"-416.27\" font-family=\"Times,serif\" font-size=\"14.00\">tmpdata</text>\n",
       "</g>\n",
       "<g id=\"clust3\" class=\"cluster\">\n",
       "<title>cluster_/tmp/hello_bands/w0/indata</title>\n",
       "<path fill=\"#e0eeee\" stroke=\"black\" d=\"M301.72,-213.53C301.72,-213.53 327.72,-213.53 327.72,-213.53 333.72,-213.53 339.72,-219.53 339.72,-225.53 339.72,-225.53 339.72,-239.53 339.72,-239.53 339.72,-245.53 333.72,-251.53 327.72,-251.53 327.72,-251.53 301.72,-251.53 301.72,-251.53 295.72,-251.53 289.72,-245.53 289.72,-239.53 289.72,-239.53 289.72,-225.53 289.72,-225.53 289.72,-219.53 295.72,-213.53 301.72,-213.53\"/>\n",
       "<text text-anchor=\"middle\" x=\"314.72\" y=\"-236.33\" font-family=\"Times,serif\" font-size=\"14.00\">indata</text>\n",
       "</g>\n",
       "<g id=\"clust4\" class=\"cluster\">\n",
       "<title>cluster_/tmp/hello_bands/w0/outdata</title>\n",
       "<path fill=\"#e0eeee\" stroke=\"black\" d=\"M191.51,-347.47C191.51,-347.47 223.51,-347.47 223.51,-347.47 229.51,-347.47 235.51,-353.47 235.51,-359.47 235.51,-359.47 235.51,-373.47 235.51,-373.47 235.51,-379.47 229.51,-385.47 223.51,-385.47 223.51,-385.47 191.51,-385.47 191.51,-385.47 185.51,-385.47 179.51,-379.47 179.51,-373.47 179.51,-373.47 179.51,-359.47 179.51,-359.47 179.51,-353.47 185.51,-347.47 191.51,-347.47\"/>\n",
       "<text text-anchor=\"middle\" x=\"207.51\" y=\"-370.27\" font-family=\"Times,serif\" font-size=\"14.00\">outdata</text>\n",
       "</g>\n",
       "<g id=\"clust5\" class=\"cluster\">\n",
       "<title>cluster_/tmp/hello_bands/w0/t1</title>\n",
       "<path fill=\"#e0eeee\" stroke=\"black\" d=\"M141.38,-83.27C141.38,-83.27 267.38,-83.27 267.38,-83.27 273.38,-83.27 279.38,-89.27 279.38,-95.27 279.38,-95.27 279.38,-221.27 279.38,-221.27 279.38,-227.27 273.38,-233.27 267.38,-233.27 267.38,-233.27 141.38,-233.27 141.38,-233.27 135.38,-233.27 129.38,-227.27 129.38,-221.27 129.38,-221.27 129.38,-95.27 129.38,-95.27 129.38,-89.27 135.38,-83.27 141.38,-83.27\"/>\n",
       "<text text-anchor=\"middle\" x=\"204.38\" y=\"-218.07\" font-family=\"Times,serif\" font-size=\"14.00\">t1</text>\n",
       "</g>\n",
       "<g id=\"clust9\" class=\"cluster\">\n",
       "<title>cluster_/tmp/hello_bands/w0/t0</title>\n",
       "<path fill=\"#e0eeee\" stroke=\"black\" d=\"M335.04,-266.25C335.04,-266.25 461.04,-266.25 461.04,-266.25 467.04,-266.25 473.04,-272.25 473.04,-278.25 473.04,-278.25 473.04,-404.25 473.04,-404.25 473.04,-410.25 467.04,-416.25 461.04,-416.25 461.04,-416.25 335.04,-416.25 335.04,-416.25 329.04,-416.25 323.04,-410.25 323.04,-404.25 323.04,-404.25 323.04,-278.25 323.04,-278.25 323.04,-272.25 329.04,-266.25 335.04,-266.25\"/>\n",
       "<text text-anchor=\"middle\" x=\"398.04\" y=\"-401.05\" font-family=\"Times,serif\" font-size=\"14.00\">t0</text>\n",
       "</g>\n",
       "<g id=\"clust6\" class=\"cluster\">\n",
       "<title>cluster_/tmp/hello_bands/w0/t1/tmpdata</title>\n",
       "<path fill=\"#e0eeee\" stroke=\"black\" d=\"M136.27,-27.62C136.27,-27.62 172.27,-27.62 172.27,-27.62 178.27,-27.62 184.27,-33.62 184.27,-39.62 184.27,-39.62 184.27,-53.62 184.27,-53.62 184.27,-59.62 178.27,-65.62 172.27,-65.62 172.27,-65.62 136.27,-65.62 136.27,-65.62 130.27,-65.62 124.27,-59.62 124.27,-53.62 124.27,-53.62 124.27,-39.62 124.27,-39.62 124.27,-33.62 130.27,-27.62 136.27,-27.62\"/>\n",
       "<text text-anchor=\"middle\" x=\"154.27\" y=\"-50.42\" font-family=\"Times,serif\" font-size=\"14.00\">tmpdata</text>\n",
       "</g>\n",
       "<g id=\"clust7\" class=\"cluster\">\n",
       "<title>cluster_/tmp/hello_bands/w0/t1/indata</title>\n",
       "<path fill=\"#e0eeee\" stroke=\"black\" d=\"M298.02,0.39C298.02,0.39 324.02,0.39 324.02,0.39 330.02,0.39 336.02,-5.61 336.02,-11.61 336.02,-11.61 336.02,-25.61 336.02,-25.61 336.02,-31.61 330.02,-37.61 324.02,-37.61 324.02,-37.61 298.02,-37.61 298.02,-37.61 292.02,-37.61 286.02,-31.61 286.02,-25.61 286.02,-25.61 286.02,-11.61 286.02,-11.61 286.02,-5.61 292.02,0.39 298.02,0.39\"/>\n",
       "<text text-anchor=\"middle\" x=\"311.02\" y=\"-22.41\" font-family=\"Times,serif\" font-size=\"14.00\">indata</text>\n",
       "</g>\n",
       "<g id=\"clust8\" class=\"cluster\">\n",
       "<title>cluster_/tmp/hello_bands/w0/t1/outdata</title>\n",
       "<path fill=\"#e0eeee\" stroke=\"black\" d=\"M11.86,-157.29C11.86,-157.29 43.86,-157.29 43.86,-157.29 49.86,-157.29 55.86,-163.29 55.86,-169.29 55.86,-169.29 55.86,-183.29 55.86,-183.29 55.86,-189.29 49.86,-195.29 43.86,-195.29 43.86,-195.29 11.86,-195.29 11.86,-195.29 5.86,-195.29 -0.14,-189.29 -0.14,-183.29 -0.14,-183.29 -0.14,-169.29 -0.14,-169.29 -0.14,-163.29 5.86,-157.29 11.86,-157.29\"/>\n",
       "<text text-anchor=\"middle\" x=\"27.86\" y=\"-180.09\" font-family=\"Times,serif\" font-size=\"14.00\">outdata</text>\n",
       "</g>\n",
       "<g id=\"clust10\" class=\"cluster\">\n",
       "<title>cluster_/tmp/hello_bands/w0/t0/tmpdata</title>\n",
       "<path fill=\"#e0eeee\" stroke=\"black\" d=\"M531.19,-231.26C531.19,-231.26 567.19,-231.26 567.19,-231.26 573.19,-231.26 579.19,-237.26 579.19,-243.26 579.19,-243.26 579.19,-257.26 579.19,-257.26 579.19,-263.26 573.19,-269.26 567.19,-269.26 567.19,-269.26 531.19,-269.26 531.19,-269.26 525.19,-269.26 519.19,-263.26 519.19,-257.26 519.19,-257.26 519.19,-243.26 519.19,-243.26 519.19,-237.26 525.19,-231.26 531.19,-231.26\"/>\n",
       "<text text-anchor=\"middle\" x=\"549.19\" y=\"-254.06\" font-family=\"Times,serif\" font-size=\"14.00\">tmpdata</text>\n",
       "</g>\n",
       "<g id=\"clust11\" class=\"cluster\">\n",
       "<title>cluster_/tmp/hello_bands/w0/t0/indata</title>\n",
       "<path fill=\"#e0eeee\" stroke=\"black\" d=\"M484.01,-459.67C484.01,-459.67 510.01,-459.67 510.01,-459.67 516.01,-459.67 522.01,-465.67 522.01,-471.67 522.01,-471.67 522.01,-485.67 522.01,-485.67 522.01,-491.67 516.01,-497.67 510.01,-497.67 510.01,-497.67 484.01,-497.67 484.01,-497.67 478.01,-497.67 472.01,-491.67 472.01,-485.67 472.01,-485.67 472.01,-471.67 472.01,-471.67 472.01,-465.67 478.01,-459.67 484.01,-459.67\"/>\n",
       "<text text-anchor=\"middle\" x=\"497.01\" y=\"-482.47\" font-family=\"Times,serif\" font-size=\"14.00\">indata</text>\n",
       "</g>\n",
       "<g id=\"clust12\" class=\"cluster\">\n",
       "<title>cluster_/tmp/hello_bands/w0/t0/outdata</title>\n",
       "<path fill=\"#e0eeee\" stroke=\"black\" d=\"M207.27,-280.53C207.27,-280.53 239.27,-280.53 239.27,-280.53 245.27,-280.53 251.27,-286.53 251.27,-292.53 251.27,-292.53 251.27,-306.53 251.27,-306.53 251.27,-312.53 245.27,-318.53 239.27,-318.53 239.27,-318.53 207.27,-318.53 207.27,-318.53 201.27,-318.53 195.27,-312.53 195.27,-306.53 195.27,-306.53 195.27,-292.53 195.27,-292.53 195.27,-286.53 201.27,-280.53 207.27,-280.53\"/>\n",
       "<text text-anchor=\"middle\" x=\"223.27\" y=\"-303.33\" font-family=\"Times,serif\" font-size=\"14.00\">outdata</text>\n",
       "</g>\n",
       "<!-- /tmp/hello_bands/w0/t1/abipy_meta.json -->\n",
       "<g id=\"node7\" class=\"node\">\n",
       "<title>/tmp/hello_bands/w0/t1/abipy_meta.json</title>\n",
       "<polygon fill=\"#b2dfee\" stroke=\"#b2dfee\" points=\"137.29,-111.91 137.29,-147.91 205.94,-147.91 205.94,-111.91 137.29,-111.91\"/>\n",
       "<text text-anchor=\"middle\" x=\"171.61\" y=\"-127.51\" font-family=\"Times,serif\" font-size=\"8.00\">abipy_meta.json</text>\n",
       "</g>\n",
       "<!-- /tmp/hello_bands/w0/t1/run.abi -->\n",
       "<g id=\"node8\" class=\"node\">\n",
       "<title>/tmp/hello_bands/w0/t1/run.abi</title>\n",
       "<polygon fill=\"#b2dfee\" stroke=\"#b2dfee\" points=\"207.61,-161.91 207.61,-197.91 261.61,-197.91 261.61,-161.91 207.61,-161.91\"/>\n",
       "<text text-anchor=\"middle\" x=\"234.33\" y=\"-177.51\" font-family=\"Times,serif\" font-size=\"8.00\">run.abi</text>\n",
       "</g>\n",
       "<!-- /tmp/hello_bands/w0/t1/job.sh -->\n",
       "<g id=\"node9\" class=\"node\">\n",
       "<title>/tmp/hello_bands/w0/t1/job.sh</title>\n",
       "<polygon fill=\"#b2dfee\" stroke=\"#b2dfee\" points=\"142.61,-166.91 142.61,-202.91 196.61,-202.91 196.61,-166.91 142.61,-166.91\"/>\n",
       "<text text-anchor=\"middle\" x=\"169.28\" y=\"-182.51\" font-family=\"Times,serif\" font-size=\"8.00\">job.sh</text>\n",
       "</g>\n",
       "<!-- /tmp/hello_bands/w0/t1/run.files -->\n",
       "<g id=\"node10\" class=\"node\">\n",
       "<title>/tmp/hello_bands/w0/t1/run.files</title>\n",
       "<polygon fill=\"#b2dfee\" stroke=\"#b2dfee\" points=\"217.61,-91.91 217.61,-127.91 271.61,-127.91 271.61,-91.91 217.61,-91.91\"/>\n",
       "<text text-anchor=\"middle\" x=\"244.61\" y=\"-107.51\" font-family=\"Times,serif\" font-size=\"8.00\">run.files</text>\n",
       "</g>\n",
       "<!-- /tmp/hello_bands/w0/t0/abipy_meta.json -->\n",
       "<g id=\"node14\" class=\"node\">\n",
       "<title>/tmp/hello_bands/w0/t0/abipy_meta.json</title>\n",
       "<polygon fill=\"#b2dfee\" stroke=\"#b2dfee\" points=\"330.95,-294.89 330.95,-330.89 399.6,-330.89 399.6,-294.89 330.95,-294.89\"/>\n",
       "<text text-anchor=\"middle\" x=\"365.27\" y=\"-310.49\" font-family=\"Times,serif\" font-size=\"8.00\">abipy_meta.json</text>\n",
       "</g>\n",
       "<!-- /tmp/hello_bands/w0/t0/run.abi -->\n",
       "<g id=\"node15\" class=\"node\">\n",
       "<title>/tmp/hello_bands/w0/t0/run.abi</title>\n",
       "<polygon fill=\"#b2dfee\" stroke=\"#b2dfee\" points=\"401.27,-344.89 401.27,-380.89 455.27,-380.89 455.27,-344.89 401.27,-344.89\"/>\n",
       "<text text-anchor=\"middle\" x=\"427.99\" y=\"-360.49\" font-family=\"Times,serif\" font-size=\"8.00\">run.abi</text>\n",
       "</g>\n",
       "<!-- /tmp/hello_bands/w0/t0/job.sh -->\n",
       "<g id=\"node16\" class=\"node\">\n",
       "<title>/tmp/hello_bands/w0/t0/job.sh</title>\n",
       "<polygon fill=\"#b2dfee\" stroke=\"#b2dfee\" points=\"336.27,-349.89 336.27,-385.89 390.27,-385.89 390.27,-349.89 336.27,-349.89\"/>\n",
       "<text text-anchor=\"middle\" x=\"362.94\" y=\"-365.49\" font-family=\"Times,serif\" font-size=\"8.00\">job.sh</text>\n",
       "</g>\n",
       "<!-- /tmp/hello_bands/w0/t0/run.files -->\n",
       "<g id=\"node17\" class=\"node\">\n",
       "<title>/tmp/hello_bands/w0/t0/run.files</title>\n",
       "<polygon fill=\"#b2dfee\" stroke=\"#b2dfee\" points=\"411.27,-274.89 411.27,-310.89 465.27,-310.89 465.27,-274.89 411.27,-274.89\"/>\n",
       "<text text-anchor=\"middle\" x=\"438.27\" y=\"-290.49\" font-family=\"Times,serif\" font-size=\"8.00\">run.files</text>\n",
       "</g>\n",
       "<!-- __0:cluster_/tmp/hello_bands/w0 -->\n",
       "<!-- __1:cluster_/tmp/hello_bands/w0/tmpdata -->\n",
       "<!-- __0:cluster_/tmp/hello_bands/w0&#45;&gt;__1:cluster_/tmp/hello_bands/w0/tmpdata -->\n",
       "<g id=\"edge12\" class=\"edge\">\n",
       "<title>__0:cluster_/tmp/hello_bands/w0&#45;&gt;__1:cluster_/tmp/hello_bands/w0/tmpdata</title>\n",
       "<path fill=\"none\" stroke=\"black\" d=\"M284.7,-334.1C284.57,-348.01 284.39,-367.05 284.25,-382.87\"/>\n",
       "<polygon fill=\"black\" stroke=\"black\" points=\"280.74,-383.18 284.15,-393.21 287.74,-383.25 280.74,-383.18\"/>\n",
       "</g>\n",
       "<!-- __2:cluster_/tmp/hello_bands/w0 -->\n",
       "<!-- __3:cluster_/tmp/hello_bands/w0/indata -->\n",
       "<!-- __2:cluster_/tmp/hello_bands/w0&#45;&gt;__3:cluster_/tmp/hello_bands/w0/indata -->\n",
       "<g id=\"edge13\" class=\"edge\">\n",
       "<title>__2:cluster_/tmp/hello_bands/w0&#45;&gt;__3:cluster_/tmp/hello_bands/w0/indata</title>\n",
       "<path fill=\"none\" stroke=\"black\" d=\"M291.8,-295.73C295.5,-285.52 300.14,-272.74 304.27,-261.35\"/>\n",
       "<polygon fill=\"black\" stroke=\"black\" points=\"307.61,-262.39 307.73,-251.8 301.03,-260 307.61,-262.39\"/>\n",
       "</g>\n",
       "<!-- __4:cluster_/tmp/hello_bands/w0 -->\n",
       "<!-- __5:cluster_/tmp/hello_bands/w0/outdata -->\n",
       "<!-- __4:cluster_/tmp/hello_bands/w0&#45;&gt;__5:cluster_/tmp/hello_bands/w0/outdata -->\n",
       "<g id=\"edge14\" class=\"edge\">\n",
       "<title>__4:cluster_/tmp/hello_bands/w0&#45;&gt;__5:cluster_/tmp/hello_bands/w0/outdata</title>\n",
       "<path fill=\"none\" stroke=\"black\" d=\"M268.85,-325.51C261.68,-330.3 252.91,-336.16 244.26,-341.93\"/>\n",
       "<polygon fill=\"black\" stroke=\"black\" points=\"242.1,-339.17 235.72,-347.64 245.98,-344.99 242.1,-339.17\"/>\n",
       "</g>\n",
       "<!-- __6:cluster_/tmp/hello_bands/w0 -->\n",
       "<!-- __7:cluster_/tmp/hello_bands/w0/t1 -->\n",
       "<!-- __6:cluster_/tmp/hello_bands/w0&#45;&gt;__7:cluster_/tmp/hello_bands/w0/t1 -->\n",
       "<g id=\"edge15\" class=\"edge\">\n",
       "<title>__6:cluster_/tmp/hello_bands/w0&#45;&gt;__7:cluster_/tmp/hello_bands/w0/t1</title>\n",
       "<path fill=\"none\" stroke=\"black\" d=\"M275.01,-295.61C267.95,-281.89 257.91,-262.37 247.61,-242.34\"/>\n",
       "<polygon fill=\"black\" stroke=\"black\" points=\"250.72,-240.72 243.03,-233.43 244.49,-243.92 250.72,-240.72\"/>\n",
       "</g>\n",
       "<!-- __8:cluster_/tmp/hello_bands/w0 -->\n",
       "<!-- __9:cluster_/tmp/hello_bands/w0/t0 -->\n",
       "<!-- __8:cluster_/tmp/hello_bands/w0&#45;&gt;__9:cluster_/tmp/hello_bands/w0/t0 -->\n",
       "<g id=\"edge16\" class=\"edge\">\n",
       "<title>__8:cluster_/tmp/hello_bands/w0&#45;&gt;__9:cluster_/tmp/hello_bands/w0/t0</title>\n",
       "<path fill=\"none\" stroke=\"black\" d=\"M301.09,-318.6C304.63,-319.42 308.6,-320.35 312.86,-321.35\"/>\n",
       "<polygon fill=\"black\" stroke=\"black\" points=\"312.08,-324.76 322.61,-323.63 313.67,-317.94 312.08,-324.76\"/>\n",
       "</g>\n",
       "<!-- __10:cluster_/tmp/hello_bands/w0/t1 -->\n",
       "<!-- __11:cluster_/tmp/hello_bands/w0/t1/tmpdata -->\n",
       "<!-- __10:cluster_/tmp/hello_bands/w0/t1&#45;&gt;__11:cluster_/tmp/hello_bands/w0/t1/tmpdata -->\n",
       "<g id=\"edge17\" class=\"edge\">\n",
       "<title>__10:cluster_/tmp/hello_bands/w0/t1&#45;&gt;__11:cluster_/tmp/hello_bands/w0/t1/tmpdata</title>\n",
       "<path fill=\"none\" stroke=\"black\" d=\"M170.68,-83.17C169.44,-80.41 168.23,-77.72 167.07,-75.14\"/>\n",
       "<polygon fill=\"black\" stroke=\"black\" points=\"170.14,-73.44 162.85,-65.75 163.75,-76.3 170.14,-73.44\"/>\n",
       "</g>\n",
       "<!-- __12:cluster_/tmp/hello_bands/w0/t1 -->\n",
       "<!-- __13:cluster_/tmp/hello_bands/w0/t1/indata -->\n",
       "<!-- __12:cluster_/tmp/hello_bands/w0/t1&#45;&gt;__13:cluster_/tmp/hello_bands/w0/t1/indata -->\n",
       "<g id=\"edge18\" class=\"edge\">\n",
       "<title>__12:cluster_/tmp/hello_bands/w0/t1&#45;&gt;__13:cluster_/tmp/hello_bands/w0/t1/indata</title>\n",
       "<path fill=\"none\" stroke=\"black\" d=\"M261.76,-83.12C271.95,-69.78 281.94,-56.69 290.24,-45.83\"/>\n",
       "<polygon fill=\"black\" stroke=\"black\" points=\"293.21,-47.71 296.49,-37.64 287.64,-43.46 293.21,-47.71\"/>\n",
       "</g>\n",
       "<!-- __14:cluster_/tmp/hello_bands/w0/t1 -->\n",
       "<!-- __15:cluster_/tmp/hello_bands/w0/t1/outdata -->\n",
       "<!-- __14:cluster_/tmp/hello_bands/w0/t1&#45;&gt;__15:cluster_/tmp/hello_bands/w0/t1/outdata -->\n",
       "<g id=\"edge19\" class=\"edge\">\n",
       "<title>__14:cluster_/tmp/hello_bands/w0/t1&#45;&gt;__15:cluster_/tmp/hello_bands/w0/t1/outdata</title>\n",
       "<path fill=\"none\" stroke=\"black\" d=\"M129.26,-165.93C107.51,-168.15 84.67,-170.49 66.19,-172.37\"/>\n",
       "<polygon fill=\"black\" stroke=\"black\" points=\"65.72,-168.9 56.13,-173.4 66.43,-175.87 65.72,-168.9\"/>\n",
       "</g>\n",
       "<!-- __16:cluster_/tmp/hello_bands/w0/t0 -->\n",
       "<!-- __17:cluster_/tmp/hello_bands/w0/t0/tmpdata -->\n",
       "<!-- __16:cluster_/tmp/hello_bands/w0/t0&#45;&gt;__17:cluster_/tmp/hello_bands/w0/t0/tmpdata -->\n",
       "<g id=\"edge20\" class=\"edge\">\n",
       "<title>__16:cluster_/tmp/hello_bands/w0/t0&#45;&gt;__17:cluster_/tmp/hello_bands/w0/t0/tmpdata</title>\n",
       "<path fill=\"none\" stroke=\"black\" d=\"M473.17,-296.02C486.03,-288.28 498.91,-280.52 510.31,-273.66\"/>\n",
       "<polygon fill=\"black\" stroke=\"black\" points=\"512.36,-276.51 519.12,-268.36 508.74,-270.52 512.36,-276.51\"/>\n",
       "</g>\n",
       "<!-- __18:cluster_/tmp/hello_bands/w0/t0 -->\n",
       "<!-- __19:cluster_/tmp/hello_bands/w0/t0/indata -->\n",
       "<!-- __18:cluster_/tmp/hello_bands/w0/t0&#45;&gt;__19:cluster_/tmp/hello_bands/w0/t0/indata -->\n",
       "<g id=\"edge21\" class=\"edge\">\n",
       "<title>__18:cluster_/tmp/hello_bands/w0/t0&#45;&gt;__19:cluster_/tmp/hello_bands/w0/t0/indata</title>\n",
       "<path fill=\"none\" stroke=\"black\" d=\"M452.16,-416.39C461.18,-428.92 470,-441.17 477.39,-451.44\"/>\n",
       "<polygon fill=\"black\" stroke=\"black\" points=\"474.56,-453.49 483.25,-459.56 480.24,-449.4 474.56,-453.49\"/>\n",
       "</g>\n",
       "<!-- __20:cluster_/tmp/hello_bands/w0/t0 -->\n",
       "<!-- __21:cluster_/tmp/hello_bands/w0/t0/outdata -->\n",
       "<!-- __20:cluster_/tmp/hello_bands/w0/t0&#45;&gt;__21:cluster_/tmp/hello_bands/w0/t0/outdata -->\n",
       "<g id=\"edge22\" class=\"edge\">\n",
       "<title>__20:cluster_/tmp/hello_bands/w0/t0&#45;&gt;__21:cluster_/tmp/hello_bands/w0/t0/outdata</title>\n",
       "<path fill=\"none\" stroke=\"black\" d=\"M322.91,-323.32C301.62,-318.23 279.34,-312.91 261.26,-308.6\"/>\n",
       "<polygon fill=\"black\" stroke=\"black\" points=\"261.95,-305.16 251.41,-306.25 260.33,-311.97 261.95,-305.16\"/>\n",
       "</g>\n",
       "</g>\n",
       "</svg>\n"
      ],
      "text/plain": [
       "<graphviz.dot.Digraph at 0x7fa70fca1940>"
      ]
     },
     "execution_count": 7,
     "metadata": {
      "filenames": {
       "image/svg+xml": "/Users/gmatteo/git_repos/abipy_book/abipy_book/_build/jupyter_execute/flows_18_0.svg"
      }
     },
     "output_type": "execute_result"
    }
   ],
   "source": [
    "flow[0].get_graphviz_dirtree()"
   ]
  },
  {
   "cell_type": "markdown",
   "id": "e507fe08",
   "metadata": {},
   "source": [
    "`w0` is the directory containing the input files of the first workflow (well, we have only one workflow in our example).\n",
    "`t0` and `t1` contain the input files needed to run the SCF and the NSC run, respectively.\n",
    "\n",
    "You might have noticed that each `Task` directory present the same structure:\n",
    "    \n",
    "   * *run.abi*: Input file\n",
    "   * *run.files*: Files file\n",
    "   * *job.sh*: Submission script\n",
    "   * *outdata*: Directory containing output data files\n",
    "   * *indata*: Directory containing input data files \n",
    "   * *tmpdata*: Directory with temporary files\n",
    "   \n",
    "<div class=\"alert alert-danger\" role=\"alert\">\n",
    "`__AbinitFlow__.pickle` is the pickle file used to save the status of `Flow`. **Don't touch it!** \n",
    "</div>"
   ]
  },
  {
   "cell_type": "markdown",
   "id": "a6f3105a",
   "metadata": {},
   "source": [
    "An Abinit Task *has* an [AbinitInput](abinit_input.ipynb) which in turn has a [Structure](structure.ipynb):"
   ]
  },
  {
   "cell_type": "code",
   "execution_count": 8,
   "id": "e362fa32",
   "metadata": {},
   "outputs": [
    {
     "data": {
      "text/html": [
       "<div class=\"abinit_input\">\n",
       "##############################################<br>####                SECTION: basic               <br>##############################################<br> <a href=\"https://docs.abinit.org/variables/basic#ecut\" target=\"_blank\">ecut</a> 6<br> <a href=\"https://docs.abinit.org/variables/basic#nband\" target=\"_blank\">nband</a> 8<br> <a href=\"https://docs.abinit.org/variables/basic#ngkpt\" target=\"_blank\">ngkpt</a> 8 8 8<br> <a href=\"https://docs.abinit.org/variables/basic#kptopt\" target=\"_blank\">kptopt</a> 1<br> <a href=\"https://docs.abinit.org/variables/basic#nshiftk\" target=\"_blank\">nshiftk</a> 1<br> <a href=\"https://docs.abinit.org/variables/basic#shiftk\" target=\"_blank\">shiftk</a> 0 0 0<br> <a href=\"https://docs.abinit.org/variables/basic#tolvrs\" target=\"_blank\">tolvrs</a> 1e-06<br>##############################################<br>####                  STRUCTURE                  <br>##############################################<br> <a href=\"https://docs.abinit.org/variables/basic#natom\" target=\"_blank\">natom</a> 2<br> <a href=\"https://docs.abinit.org/variables/basic#ntypat\" target=\"_blank\">ntypat</a> 1<br> <a href=\"https://docs.abinit.org/variables/basic#typat\" target=\"_blank\">typat</a> 1 1<br> <a href=\"https://docs.abinit.org/variables/basic#znucl\" target=\"_blank\">znucl</a> 14<br> <a href=\"https://docs.abinit.org/variables/basic#xred\" target=\"_blank\">xred</a><br>    0.0000000000    0.0000000000    0.0000000000<br>    0.2500000000    0.2500000000    0.2500000000<br> <a href=\"https://docs.abinit.org/variables/basic#acell\" target=\"_blank\">acell</a>    1.0    1.0    1.0<br> <a href=\"https://docs.abinit.org/variables/basic#rprim\" target=\"_blank\">rprim</a><br>    6.3285005244    0.0000000000    3.6537614813<br>    2.1095001748    5.9665675141    3.6537614813<br>    0.0000000000    0.0000000000    7.3075229627\n",
       "<div>"
      ],
      "text/plain": [
       "<AbinitInput at 140355494767192>"
      ]
     },
     "execution_count": 8,
     "metadata": {},
     "output_type": "execute_result"
    }
   ],
   "source": [
    " flow[0][0].input"
   ]
  },
  {
   "cell_type": "code",
   "execution_count": 9,
   "id": "df9cf3af",
   "metadata": {},
   "outputs": [
    {
     "data": {
      "text/plain": [
       "Structure Summary\n",
       "Lattice\n",
       "    abc : 3.86697462 3.86697462 3.86697462\n",
       " angles : 59.99999999999999 59.99999999999999 59.99999999999999\n",
       " volume : 40.88829179346891\n",
       "      A : 3.3488982567096763 0.0 1.9334873100000005\n",
       "      B : 1.1162994189032256 3.1573715557642927 1.9334873100000005\n",
       "      C : 0.0 0.0 3.86697462\n",
       "PeriodicSite: Si (0.0000, 0.0000, 0.0000) [0.0000, 0.0000, 0.0000]\n",
       "PeriodicSite: Si (1.1163, 0.7893, 1.9335) [0.2500, 0.2500, 0.2500]"
      ]
     },
     "execution_count": 9,
     "metadata": {},
     "output_type": "execute_result"
    }
   ],
   "source": [
    "flow[0][0].input.structure"
   ]
  },
  {
   "cell_type": "code",
   "execution_count": 10,
   "id": "f4f83cc4",
   "metadata": {},
   "outputs": [
    {
     "name": "stdout",
     "output_type": "stream",
     "text": [
      "<NcAbinitPseudo: 14si.pspnc>\n",
      "  summary: Troullier-Martins psp for element  Si        Thu Oct 27 17:31:21 EDT 1994\n",
      "  number of valence electrons: 4.0\n",
      "  maximum angular momentum: d\n",
      "  angular momentum for local part: d\n",
      "  XC correlation: LDA_XC_TETER93\n",
      "  supports spin-orbit: False\n",
      "  radius for non-linear core correction: 1.80626423934776\n",
      "  hint for low accuracy: ecut: 0.0, pawecutdg: 0.0\n",
      "  hint for normal accuracy: ecut: 0.0, pawecutdg: 0.0\n",
      "  hint for high accuracy: ecut: 0.0, pawecutdg: 0.0\n"
     ]
    }
   ],
   "source": [
    "for p in flow[0][0].input.pseudos: \n",
    "    print(p)"
   ]
  },
  {
   "cell_type": "markdown",
   "id": "666c5539",
   "metadata": {},
   "source": [
    "Let's print the value of `kptopt` for all tasks in our flow with:"
   ]
  },
  {
   "cell_type": "code",
   "execution_count": 11,
   "id": "72656da7",
   "metadata": {},
   "outputs": [
    {
     "name": "stdout",
     "output_type": "stream",
     "text": [
      "[1, -2]\n"
     ]
    }
   ],
   "source": [
    "print([task.input[\"kptopt\"] for task in flow.iflat_tasks()])"
   ]
  },
  {
   "cell_type": "markdown",
   "id": "21b4cad0",
   "metadata": {},
   "source": [
    "that, in this particular case, gives the same result as:"
   ]
  },
  {
   "cell_type": "code",
   "execution_count": 12,
   "id": "7cff11a1",
   "metadata": {},
   "outputs": [
    {
     "name": "stdout",
     "output_type": "stream",
     "text": [
      "[1, -2]\n"
     ]
    }
   ],
   "source": [
    "print([task.input[\"kptopt\"] for task in flow[0]])"
   ]
  },
  {
   "cell_type": "markdown",
   "id": "1a3cea42",
   "metadata": {},
   "source": [
    "## Executing a Flow\n",
    "[[back to top](#top)]\n",
    "\n",
    "The `Flow` can be executed with two different approaches: a programmatic interface based \n",
    "on `flow.make_scheduler` or the `abirun.py` script. \n",
    "In this section, we discuss the first approach because it plays well with the jupyter notebook.\n",
    "Note however that `abirun.py` is highly recommended especially when running non-trivial calculations."
   ]
  },
  {
   "cell_type": "code",
   "execution_count": 13,
   "id": "1e942bdd",
   "metadata": {},
   "outputs": [
    {
     "name": "stderr",
     "output_type": "stream",
     "text": [
      "Using scheduler v>=3.0.0\n"
     ]
    },
    {
     "name": "stdout",
     "output_type": "stream",
     "text": [
      "\u001b[33m[Thu Jul  8 00:40:36 2021] Number of launches: 1\u001b[0m\n",
      "\n",
      "Work #0: <BandStructureWork, node_id=438724, workdir=../../../../../tmp/hello_bands/w0>, Finalized=False\n",
      "+--------+-------------+------------+--------------+------------+----------+-----------------+----------+-----------+\n",
      "| Task   | Status      | Queue      | MPI|Omp|Gb   | Warn|Com   | Class    | Sub|Rest|Corr   | Time     |   Node_ID |\n",
      "+========+=============+============+==============+============+==========+=================+==========+===========+\n",
      "| w0_t0  | \u001b[34mSubmitted\u001b[0m   | 24754@gmac | 2|  1|2.0    | 0|  0      | ScfTask  | (1, 0, 0)       | 0:00:00Q |    438725 |\n",
      "+--------+-------------+------------+--------------+------------+----------+-----------------+----------+-----------+\n",
      "| w0_t1  | Initialized\u001b[0m | None       | 1|  1|2.0    | NA|NA      | NscfTask | (0, 0, 0)       | None     |    438726 |\n",
      "+--------+-------------+------------+--------------+------------+----------+-----------------+----------+-----------+\n",
      "\n"
     ]
    },
    {
     "name": "stdout",
     "output_type": "stream",
     "text": [
      "\u001b[33m[Thu Jul  8 00:40:44 2021] Number of launches: 1\u001b[0m\n",
      "\n",
      "Work #0: <BandStructureWork, node_id=438724, workdir=../../../../../tmp/hello_bands/w0>, Finalized=False\n",
      "+--------+-----------+------------+--------------+------------+----------+-----------------+----------+-----------+\n",
      "| Task   | Status    | Queue      | MPI|Omp|Gb   | Warn|Com   | Class    | Sub|Rest|Corr   | Time     |   Node_ID |\n",
      "+========+===========+============+==============+============+==========+=================+==========+===========+\n",
      "| w0_t0  | \u001b[32mCompleted\u001b[0m | 24754@gmac | 2|  1|2.0    | 2|  2      | ScfTask  | (1, 0, 0)       | 0:00:02R |    438725 |\n",
      "+--------+-----------+------------+--------------+------------+----------+-----------------+----------+-----------+\n",
      "| w0_t1  | \u001b[34mSubmitted\u001b[0m | 24763@gmac | 2|  1|2.0    | 0|  0      | NscfTask | (1, 0, 0)       | 0:00:00Q |    438726 |\n",
      "+--------+-----------+------------+--------------+------------+----------+-----------------+----------+-----------+\n",
      "\n"
     ]
    },
    {
     "name": "stdout",
     "output_type": "stream",
     "text": [
      "\n",
      "Work #0: <BandStructureWork, node_id=438724, workdir=../../../../../tmp/hello_bands/w0>, Finalized=\u001b[32mTrue\u001b[0m\n",
      "  Finalized works are not shown. Use verbose > 0 to force output.\n",
      "\u001b[32m\n",
      "all_ok reached\n",
      "\u001b[0m\n",
      "\n",
      "Submitted on: Thu Jul  8 00:40:36 2021\n",
      "Completed on: Thu Jul  8 00:40:52 2021\n",
      "Elapsed time: 0:00:16.045880\n",
      "Flow completed successfully\n",
      "\n",
      "Calling flow.finalize()...\n"
     ]
    },
    {
     "data": {
      "text/plain": [
       "0"
      ]
     },
     "execution_count": 13,
     "metadata": {},
     "output_type": "execute_result"
    }
   ],
   "source": [
    "flow.make_scheduler().start()"
   ]
  },
  {
   "cell_type": "markdown",
   "id": "1d5424b7",
   "metadata": {},
   "source": [
    "The flow keeps track of the different actions performed by the python code:"
   ]
  },
  {
   "cell_type": "code",
   "execution_count": 14,
   "id": "71ef6fbc",
   "metadata": {},
   "outputs": [
    {
     "name": "stdout",
     "output_type": "stream",
     "text": [
      "\u001b[32m\n",
      "============================================================================================================\n",
      "============== <BandStructureWork, node_id=438724, workdir=../../../../../tmp/hello_bands/w0> ==============\n",
      "============================================================================================================\u001b[0m\n",
      "[Thu Jul  8 00:40:44 2021] In on_ok with sender <ScfTask, node_id=438725, workdir=../../../../../tmp/hello_bands/w0/t0>\n",
      "[Thu Jul  8 00:40:52 2021] In on_ok with sender <NscfTask, node_id=438726, workdir=../../../../../tmp/hello_bands/w0/t1>\n",
      "[Thu Jul  8 00:40:52 2021] Finalized set to True\n",
      "[Thu Jul  8 00:40:52 2021] Work <BandStructureWork, node_id=438724, workdir=../../../../../tmp/hello_bands/w0> is finalized and broadcasts signal S_OK\n",
      "[Thu Jul  8 00:40:52 2021] Node <BandStructureWork, node_id=438724, workdir=../../../../../tmp/hello_bands/w0> broadcasts signal Completed\n",
      "\u001b[32m\n",
      "===========================================================================================================\n",
      "================= <ScfTask, node_id=438725, workdir=../../../../../tmp/hello_bands/w0/t0> =================\n",
      "===========================================================================================================\u001b[0m\n",
      "[Thu Jul  8 00:40:36 2021] Status changed to Ready. msg: Status set to Ready\n",
      "[Thu Jul  8 00:40:36 2021] Setting input variables: {'autoparal': 1, 'max_ncpus': 2, 'mem_test': 0}\n",
      "[Thu Jul  8 00:40:36 2021] Old values: {'autoparal': None, 'max_ncpus': None, 'mem_test': None}\n",
      "[Thu Jul  8 00:40:36 2021] Setting input variables: {'npimage': 1, 'npkpt': 2, 'npspinor': 1, 'npfft': 1, 'npband': 1, 'bandpp': 1}\n",
      "[Thu Jul  8 00:40:36 2021] Old values: {'npimage': None, 'npkpt': None, 'npspinor': None, 'npfft': None, 'npband': None, 'bandpp': None}\n",
      "[Thu Jul  8 00:40:36 2021] Status changed to Initialized. msg: finished autoparal run\n",
      "[Thu Jul  8 00:40:36 2021] Submitted with MPI=2, Omp=1, Memproc=2.0 [Gb] Submitted to queue \n",
      "[Thu Jul  8 00:40:44 2021] Task completed status set to OK based on abiout\n",
      "[Thu Jul  8 00:40:44 2021] Finalized set to True\n",
      "[Thu Jul  8 00:40:44 2021] Node <ScfTask, node_id=438725, workdir=../../../../../tmp/hello_bands/w0/t0> broadcasts signal Completed\n",
      "\u001b[32m\n",
      "============================================================================================================\n",
      "================= <NscfTask, node_id=438726, workdir=../../../../../tmp/hello_bands/w0/t1> =================\n",
      "============================================================================================================\u001b[0m\n",
      "[Thu Jul  8 00:40:44 2021] Status changed to Ready. msg: Status set to Ready\n",
      "[Thu Jul  8 00:40:44 2021] Need path /tmp/hello_bands/w0/t0/outdata/out_DEN with ext DEN\n",
      "[Thu Jul  8 00:40:44 2021] Linking path /tmp/hello_bands/w0/t0/outdata/out_DEN --> /tmp/hello_bands/w0/t1/indata/in_DEN\n",
      "[Thu Jul  8 00:40:44 2021] Setting input variables: {'ngfft': array([18, 18, 18])}\n",
      "[Thu Jul  8 00:40:44 2021] Old values: {'ngfft': None}\n",
      "[Thu Jul  8 00:40:44 2021] Adding connecting vars {'irdden': 1}\n",
      "[Thu Jul  8 00:40:44 2021] Setting input variables: {'irdden': 1}\n",
      "[Thu Jul  8 00:40:44 2021] Old values: {'irdden': None}\n",
      "[Thu Jul  8 00:40:44 2021] Setting input variables: {'autoparal': 1, 'max_ncpus': 2, 'mem_test': 0}\n",
      "[Thu Jul  8 00:40:44 2021] Old values: {'autoparal': None, 'max_ncpus': None, 'mem_test': None}\n",
      "[Thu Jul  8 00:40:44 2021] Setting input variables: {'npimage': 1, 'npkpt': 2, 'npspinor': 1, 'npfft': 1, 'npband': 1, 'bandpp': 1}\n",
      "[Thu Jul  8 00:40:44 2021] Old values: {'npimage': None, 'npkpt': None, 'npspinor': None, 'npfft': None, 'npband': None, 'bandpp': None}\n",
      "[Thu Jul  8 00:40:44 2021] Status changed to Initialized. msg: finished autoparal run\n",
      "[Thu Jul  8 00:40:44 2021] Submitted with MPI=2, Omp=1, Memproc=2.0 [Gb] Submitted to queue \n",
      "[Thu Jul  8 00:40:52 2021] Task completed status set to OK based on abiout\n",
      "[Thu Jul  8 00:40:52 2021] Finalized set to True\n",
      "[Thu Jul  8 00:40:52 2021] Node <NscfTask, node_id=438726, workdir=../../../../../tmp/hello_bands/w0/t1> broadcasts signal Completed\n",
      "\u001b[32m\n",
      "============================================================================================================\n",
      "====================== <Flow, node_id=438723, workdir=../../../../../tmp/hello_bands> ======================\n",
      "============================================================================================================\u001b[0m\n",
      "[Thu Jul  8 00:40:52 2021] Calling flow.finalize.\n",
      "[Thu Jul  8 00:40:52 2021] Finalized set to True\n"
     ]
    }
   ],
   "source": [
    "flow.show_history()"
   ]
  },
  {
   "cell_type": "markdown",
   "id": "5f549619",
   "metadata": {},
   "source": [
    "If you read the logs carefully, you will realize that in the first iteration of the scheduler, \n",
    "only the `ScfTask` is executed because the second task depends on it. \n",
    "After the initial submission, the scheduler starts to monitor all the tasks in the flow.\n",
    "\n",
    "When the ScfTask completes, the dependency of the NscfTask is fullfilled and \n",
    "a new submission takes place. Once the second task completes, the scheduler calls `flow.finalize`\n",
    "to execute (optional) logic that is supposed to be executed to perform some sort of cleanup or final processing.\n",
    "At this point, all the tasks in the flow are completed and the scheduler exits.\n",
    "\n",
    "Now we can have a look at the different output files produced by our flow with:"
   ]
  },
  {
   "cell_type": "code",
   "execution_count": 15,
   "id": "109c6c2d",
   "metadata": {},
   "outputs": [
    {
     "data": {
      "image/svg+xml": [
       "<?xml version=\"1.0\" encoding=\"UTF-8\" standalone=\"no\"?>\n",
       "<!DOCTYPE svg PUBLIC \"-//W3C//DTD SVG 1.1//EN\"\n",
       " \"http://www.w3.org/Graphics/SVG/1.1/DTD/svg11.dtd\">\n",
       "<!-- Generated by graphviz version 2.42.3 (20191010.1750)\n",
       " -->\n",
       "<!-- Title: directory Pages: 1 -->\n",
       "<svg width=\"1183pt\" height=\"856pt\"\n",
       " viewBox=\"0.00 0.00 1183.00 856.00\" xmlns=\"http://www.w3.org/2000/svg\" xmlns:xlink=\"http://www.w3.org/1999/xlink\">\n",
       "<g id=\"graph0\" class=\"graph\" transform=\"scale(1 1) rotate(0) translate(4 830)\">\n",
       "<title>directory</title>\n",
       "<polygon fill=\"white\" stroke=\"transparent\" points=\"-4,26 -4,-830 1179,-830 1179,26 -4,26\"/>\n",
       "<text text-anchor=\"middle\" x=\"587.5\" y=\"15.2\" font-family=\"Times,serif\" font-size=\"14.00\">/tmp/hello_bands/w0</text>\n",
       "<g id=\"clust1\" class=\"cluster\">\n",
       "<title>cluster_/tmp/hello_bands/w0</title>\n",
       "<path fill=\"#e0eeee\" stroke=\"black\" d=\"M249.76,-613.93C249.76,-613.93 260.43,-613.93 260.43,-613.93 265.76,-613.93 271.1,-619.26 271.1,-624.59 271.1,-624.59 271.1,-641.26 271.1,-641.26 271.1,-646.59 265.76,-651.93 260.43,-651.93 260.43,-651.93 249.76,-651.93 249.76,-651.93 244.43,-651.93 239.1,-646.59 239.1,-641.26 239.1,-641.26 239.1,-624.59 239.1,-624.59 239.1,-619.26 244.43,-613.93 249.76,-613.93\"/>\n",
       "<text text-anchor=\"middle\" x=\"255.1\" y=\"-636.73\" font-family=\"Times,serif\" font-size=\"14.00\">w0</text>\n",
       "</g>\n",
       "<g id=\"clust2\" class=\"cluster\">\n",
       "<title>cluster_/tmp/hello_bands/w0/tmpdata</title>\n",
       "<path fill=\"#e0eeee\" stroke=\"black\" d=\"M280.67,-710.49C280.67,-710.49 316.67,-710.49 316.67,-710.49 322.67,-710.49 328.67,-716.49 328.67,-722.49 328.67,-722.49 328.67,-736.49 328.67,-736.49 328.67,-742.49 322.67,-748.49 316.67,-748.49 316.67,-748.49 280.67,-748.49 280.67,-748.49 274.67,-748.49 268.67,-742.49 268.67,-736.49 268.67,-736.49 268.67,-722.49 268.67,-722.49 268.67,-716.49 274.67,-710.49 280.67,-710.49\"/>\n",
       "<text text-anchor=\"middle\" x=\"298.67\" y=\"-733.29\" font-family=\"Times,serif\" font-size=\"14.00\">tmpdata</text>\n",
       "</g>\n",
       "<g id=\"clust3\" class=\"cluster\">\n",
       "<title>cluster_/tmp/hello_bands/w0/indata</title>\n",
       "<path fill=\"#e0eeee\" stroke=\"black\" d=\"M141.31,-621.63C141.31,-621.63 167.31,-621.63 167.31,-621.63 173.31,-621.63 179.31,-627.63 179.31,-633.63 179.31,-633.63 179.31,-647.63 179.31,-647.63 179.31,-653.63 173.31,-659.63 167.31,-659.63 167.31,-659.63 141.31,-659.63 141.31,-659.63 135.31,-659.63 129.31,-653.63 129.31,-647.63 129.31,-647.63 129.31,-633.63 129.31,-633.63 129.31,-627.63 135.31,-621.63 141.31,-621.63\"/>\n",
       "<text text-anchor=\"middle\" x=\"154.31\" y=\"-644.43\" font-family=\"Times,serif\" font-size=\"14.00\">indata</text>\n",
       "</g>\n",
       "<g id=\"clust4\" class=\"cluster\">\n",
       "<title>cluster_/tmp/hello_bands/w0/outdata</title>\n",
       "<path fill=\"#e0eeee\" stroke=\"black\" d=\"M186.58,-704.83C186.58,-704.83 218.58,-704.83 218.58,-704.83 224.58,-704.83 230.58,-710.83 230.58,-716.83 230.58,-716.83 230.58,-730.83 230.58,-730.83 230.58,-736.83 224.58,-742.83 218.58,-742.83 218.58,-742.83 186.58,-742.83 186.58,-742.83 180.58,-742.83 174.58,-736.83 174.58,-730.83 174.58,-730.83 174.58,-716.83 174.58,-716.83 174.58,-710.83 180.58,-704.83 186.58,-704.83\"/>\n",
       "<text text-anchor=\"middle\" x=\"202.58\" y=\"-727.63\" font-family=\"Times,serif\" font-size=\"14.00\">outdata</text>\n",
       "</g>\n",
       "<g id=\"clust5\" class=\"cluster\">\n",
       "<title>cluster_/tmp/hello_bands/w0/t1</title>\n",
       "<path fill=\"#e0eeee\" stroke=\"black\" d=\"M243.43,-238.77C243.43,-238.77 439.43,-238.77 439.43,-238.77 445.43,-238.77 451.43,-244.77 451.43,-250.77 451.43,-250.77 451.43,-476.77 451.43,-476.77 451.43,-482.77 445.43,-488.77 439.43,-488.77 439.43,-488.77 243.43,-488.77 243.43,-488.77 237.43,-488.77 231.43,-482.77 231.43,-476.77 231.43,-476.77 231.43,-250.77 231.43,-250.77 231.43,-244.77 237.43,-238.77 243.43,-238.77\"/>\n",
       "<text text-anchor=\"middle\" x=\"341.43\" y=\"-473.57\" font-family=\"Times,serif\" font-size=\"14.00\">t1</text>\n",
       "</g>\n",
       "<g id=\"clust9\" class=\"cluster\">\n",
       "<title>cluster_/tmp/hello_bands/w0/t0</title>\n",
       "<path fill=\"#e0eeee\" stroke=\"black\" d=\"M395.23,-503.67C395.23,-503.67 591.23,-503.67 591.23,-503.67 597.23,-503.67 603.23,-509.67 603.23,-515.67 603.23,-515.67 603.23,-741.67 603.23,-741.67 603.23,-747.67 597.23,-753.67 591.23,-753.67 591.23,-753.67 395.23,-753.67 395.23,-753.67 389.23,-753.67 383.23,-747.67 383.23,-741.67 383.23,-741.67 383.23,-515.67 383.23,-515.67 383.23,-509.67 389.23,-503.67 395.23,-503.67\"/>\n",
       "<text text-anchor=\"middle\" x=\"493.23\" y=\"-738.47\" font-family=\"Times,serif\" font-size=\"14.00\">t0</text>\n",
       "</g>\n",
       "<g id=\"clust6\" class=\"cluster\">\n",
       "<title>cluster_/tmp/hello_bands/w0/t1/tmpdata</title>\n",
       "<path fill=\"#e0eeee\" stroke=\"black\" d=\"M171.17,-135.23C171.17,-135.23 207.17,-135.23 207.17,-135.23 213.17,-135.23 219.17,-141.23 219.17,-147.23 219.17,-147.23 219.17,-161.23 219.17,-161.23 219.17,-167.23 213.17,-173.23 207.17,-173.23 207.17,-173.23 171.17,-173.23 171.17,-173.23 165.17,-173.23 159.17,-167.23 159.17,-161.23 159.17,-161.23 159.17,-147.23 159.17,-147.23 159.17,-141.23 165.17,-135.23 171.17,-135.23\"/>\n",
       "<text text-anchor=\"middle\" x=\"189.17\" y=\"-158.03\" font-family=\"Times,serif\" font-size=\"14.00\">tmpdata</text>\n",
       "</g>\n",
       "<g id=\"clust7\" class=\"cluster\">\n",
       "<title>cluster_/tmp/hello_bands/w0/t1/indata</title>\n",
       "<path fill=\"#e0eeee\" stroke=\"black\" d=\"M610.02,-362.64C610.02,-362.64 656.02,-362.64 656.02,-362.64 662.02,-362.64 668.02,-368.64 668.02,-374.64 668.02,-374.64 668.02,-425.64 668.02,-425.64 668.02,-431.64 662.02,-437.64 656.02,-437.64 656.02,-437.64 610.02,-437.64 610.02,-437.64 604.02,-437.64 598.02,-431.64 598.02,-425.64 598.02,-425.64 598.02,-374.64 598.02,-374.64 598.02,-368.64 604.02,-362.64 610.02,-362.64\"/>\n",
       "<text text-anchor=\"middle\" x=\"633.02\" y=\"-422.44\" font-family=\"Times,serif\" font-size=\"14.00\">indata</text>\n",
       "</g>\n",
       "<g id=\"clust8\" class=\"cluster\">\n",
       "<title>cluster_/tmp/hello_bands/w0/t1/outdata</title>\n",
       "<path fill=\"#e0eeee\" stroke=\"black\" d=\"M302.68,0.15C302.68,0.15 498.68,0.15 498.68,0.15 504.68,0.15 510.68,-5.85 510.68,-11.85 510.68,-11.85 510.68,-217.85 510.68,-217.85 510.68,-223.85 504.68,-229.85 498.68,-229.85 498.68,-229.85 302.68,-229.85 302.68,-229.85 296.68,-229.85 290.68,-223.85 290.68,-217.85 290.68,-217.85 290.68,-11.85 290.68,-11.85 290.68,-5.85 296.68,0.15 302.68,0.15\"/>\n",
       "<text text-anchor=\"middle\" x=\"400.68\" y=\"-214.65\" font-family=\"Times,serif\" font-size=\"14.00\">outdata</text>\n",
       "</g>\n",
       "<g id=\"clust10\" class=\"cluster\">\n",
       "<title>cluster_/tmp/hello_bands/w0/t0/tmpdata</title>\n",
       "<path fill=\"#e0eeee\" stroke=\"black\" d=\"M532.6,-357.24C532.6,-357.24 568.6,-357.24 568.6,-357.24 574.6,-357.24 580.6,-363.24 580.6,-369.24 580.6,-369.24 580.6,-383.24 580.6,-383.24 580.6,-389.24 574.6,-395.24 568.6,-395.24 568.6,-395.24 532.6,-395.24 532.6,-395.24 526.6,-395.24 520.6,-389.24 520.6,-383.24 520.6,-383.24 520.6,-369.24 520.6,-369.24 520.6,-363.24 526.6,-357.24 532.6,-357.24\"/>\n",
       "<text text-anchor=\"middle\" x=\"550.6\" y=\"-380.04\" font-family=\"Times,serif\" font-size=\"14.00\">tmpdata</text>\n",
       "</g>\n",
       "<g id=\"clust11\" class=\"cluster\">\n",
       "<title>cluster_/tmp/hello_bands/w0/t0/indata</title>\n",
       "<path fill=\"#e0eeee\" stroke=\"black\" d=\"M659.63,-788.05C659.63,-788.05 685.63,-788.05 685.63,-788.05 691.63,-788.05 697.63,-794.05 697.63,-800.05 697.63,-800.05 697.63,-814.05 697.63,-814.05 697.63,-820.05 691.63,-826.05 685.63,-826.05 685.63,-826.05 659.63,-826.05 659.63,-826.05 653.63,-826.05 647.63,-820.05 647.63,-814.05 647.63,-814.05 647.63,-800.05 647.63,-800.05 647.63,-794.05 653.63,-788.05 659.63,-788.05\"/>\n",
       "<text text-anchor=\"middle\" x=\"672.63\" y=\"-810.85\" font-family=\"Times,serif\" font-size=\"14.00\">indata</text>\n",
       "</g>\n",
       "<g id=\"clust12\" class=\"cluster\">\n",
       "<title>cluster_/tmp/hello_bands/w0/t0/outdata</title>\n",
       "<path fill=\"#e0eeee\" stroke=\"black\" d=\"M11.65,-379.26C11.65,-379.26 207.65,-379.26 207.65,-379.26 213.65,-379.26 219.65,-385.26 219.65,-391.26 219.65,-391.26 219.65,-597.26 219.65,-597.26 219.65,-603.26 213.65,-609.26 207.65,-609.26 207.65,-609.26 11.65,-609.26 11.65,-609.26 5.65,-609.26 -0.35,-603.26 -0.35,-597.26 -0.35,-597.26 -0.35,-391.26 -0.35,-391.26 -0.35,-385.26 5.65,-379.26 11.65,-379.26\"/>\n",
       "<text text-anchor=\"middle\" x=\"109.65\" y=\"-594.06\" font-family=\"Times,serif\" font-size=\"14.00\">outdata</text>\n",
       "</g>\n",
       "<!-- /tmp/hello_bands/w0/t1/run.log -->\n",
       "<g id=\"node7\" class=\"node\">\n",
       "<title>/tmp/hello_bands/w0/t1/run.log</title>\n",
       "<polygon fill=\"#b2dfee\" stroke=\"#b2dfee\" points=\"259.67,-422.41 259.67,-458.41 313.67,-458.41 313.67,-422.41 259.67,-422.41\"/>\n",
       "<text text-anchor=\"middle\" x=\"286.61\" y=\"-438.01\" font-family=\"Times,serif\" font-size=\"8.00\">run.log</text>\n",
       "</g>\n",
       "<!-- /tmp/hello_bands/w0/t1/abipy_meta.json -->\n",
       "<g id=\"node8\" class=\"node\">\n",
       "<title>/tmp/hello_bands/w0/t1/abipy_meta.json</title>\n",
       "<polygon fill=\"#b2dfee\" stroke=\"#b2dfee\" points=\"269.34,-317.41 269.34,-353.41 337.99,-353.41 337.99,-317.41 269.34,-317.41\"/>\n",
       "<text text-anchor=\"middle\" x=\"303.67\" y=\"-333.01\" font-family=\"Times,serif\" font-size=\"8.00\">abipy_meta.json</text>\n",
       "</g>\n",
       "<!-- /tmp/hello_bands/w0/t1/run.abo -->\n",
       "<g id=\"node9\" class=\"node\">\n",
       "<title>/tmp/hello_bands/w0/t1/run.abo</title>\n",
       "<polygon fill=\"#b2dfee\" stroke=\"#b2dfee\" points=\"309.67,-247.41 309.67,-283.41 363.67,-283.41 363.67,-247.41 309.67,-247.41\"/>\n",
       "<text text-anchor=\"middle\" x=\"336.27\" y=\"-263.01\" font-family=\"Times,serif\" font-size=\"8.00\">run.abo</text>\n",
       "</g>\n",
       "<!-- /tmp/hello_bands/w0/t1/run.abi -->\n",
       "<g id=\"node10\" class=\"node\">\n",
       "<title>/tmp/hello_bands/w0/t1/run.abi</title>\n",
       "<polygon fill=\"#b2dfee\" stroke=\"#b2dfee\" points=\"274.67,-372.41 274.67,-408.41 328.67,-408.41 328.67,-372.41 274.67,-372.41\"/>\n",
       "<text text-anchor=\"middle\" x=\"301.39\" y=\"-388.01\" font-family=\"Times,serif\" font-size=\"8.00\">run.abi</text>\n",
       "</g>\n",
       "<!-- /tmp/hello_bands/w0/t1/__startlock__ -->\n",
       "<g id=\"node11\" class=\"node\">\n",
       "<title>/tmp/hello_bands/w0/t1/__startlock__</title>\n",
       "<polygon fill=\"#b2dfee\" stroke=\"#b2dfee\" points=\"339.89,-367.41 339.89,-403.41 399.44,-403.41 399.44,-367.41 339.89,-367.41\"/>\n",
       "<text text-anchor=\"middle\" x=\"369.67\" y=\"-383.01\" font-family=\"Times,serif\" font-size=\"8.00\">__startlock__</text>\n",
       "</g>\n",
       "<!-- /tmp/hello_bands/w0/t1/run.err -->\n",
       "<g id=\"node12\" class=\"node\">\n",
       "<title>/tmp/hello_bands/w0/t1/run.err</title>\n",
       "<polygon fill=\"#b2dfee\" stroke=\"#b2dfee\" points=\"239.67,-267.41 239.67,-303.41 293.67,-303.41 293.67,-267.41 239.67,-267.41\"/>\n",
       "<text text-anchor=\"middle\" x=\"266.44\" y=\"-283.01\" font-family=\"Times,serif\" font-size=\"8.00\">run.err</text>\n",
       "</g>\n",
       "<!-- /tmp/hello_bands/w0/t1/job.sh -->\n",
       "<g id=\"node13\" class=\"node\">\n",
       "<title>/tmp/hello_bands/w0/t1/job.sh</title>\n",
       "<polygon fill=\"#b2dfee\" stroke=\"#b2dfee\" points=\"389.67,-417.41 389.67,-453.41 443.67,-453.41 443.67,-417.41 389.67,-417.41\"/>\n",
       "<text text-anchor=\"middle\" x=\"416.33\" y=\"-433.01\" font-family=\"Times,serif\" font-size=\"8.00\">job.sh</text>\n",
       "</g>\n",
       "<!-- /tmp/hello_bands/w0/t1/autoparal.json -->\n",
       "<g id=\"node14\" class=\"node\">\n",
       "<title>/tmp/hello_bands/w0/t1/autoparal.json</title>\n",
       "<polygon fill=\"#b2dfee\" stroke=\"#b2dfee\" points=\"349.12,-297.41 349.12,-333.41 410.22,-333.41 410.22,-297.41 349.12,-297.41\"/>\n",
       "<text text-anchor=\"middle\" x=\"379.67\" y=\"-313.01\" font-family=\"Times,serif\" font-size=\"8.00\">autoparal.json</text>\n",
       "</g>\n",
       "<!-- /tmp/hello_bands/w0/t1/run.files -->\n",
       "<g id=\"node15\" class=\"node\">\n",
       "<title>/tmp/hello_bands/w0/t1/run.files</title>\n",
       "<polygon fill=\"#b2dfee\" stroke=\"#b2dfee\" points=\"324.67,-422.41 324.67,-458.41 378.67,-458.41 378.67,-422.41 324.67,-422.41\"/>\n",
       "<text text-anchor=\"middle\" x=\"351.67\" y=\"-438.01\" font-family=\"Times,serif\" font-size=\"8.00\">run.files</text>\n",
       "</g>\n",
       "<!-- /tmp/hello_bands/w0/t1/indata/in_DEN -->\n",
       "<g id=\"node19\" class=\"node\">\n",
       "<title>/tmp/hello_bands/w0/t1/indata/in_DEN</title>\n",
       "<polygon fill=\"#b2dfee\" stroke=\"#b2dfee\" points=\"606.39,-370.88 606.39,-406.88 660.39,-406.88 660.39,-370.88 606.39,-370.88\"/>\n",
       "<text text-anchor=\"middle\" x=\"633.22\" y=\"-386.48\" font-family=\"Times,serif\" font-size=\"8.00\">in_DEN</text>\n",
       "</g>\n",
       "<!-- ../../../../../../private/tmp/hello_bands/w0/t0/outdata/out_DEN -->\n",
       "<g id=\"node20\" class=\"node\">\n",
       "<title>../../../../../../private/tmp/hello_bands/w0/t0/outdata/out_DEN</title>\n",
       "<ellipse fill=\"#b2dfee\" stroke=\"#b2dfee\" cx=\"950.01\" cy=\"-313.35\" rx=\"224.56\" ry=\"18\"/>\n",
       "<text text-anchor=\"middle\" x=\"950.01\" y=\"-309.15\" font-family=\"Times,serif\" font-size=\"14.00\">../../../../../../private/tmp/hello_bands/w0/t0/outdata/out_DEN</text>\n",
       "</g>\n",
       "<!-- /tmp/hello_bands/w0/t1/indata/in_DEN&#45;&gt;../../../../../../private/tmp/hello_bands/w0/t0/outdata/out_DEN -->\n",
       "<g id=\"edge9\" class=\"edge\">\n",
       "<title>/tmp/hello_bands/w0/t1/indata/in_DEN&#45;&gt;../../../../../../private/tmp/hello_bands/w0/t0/outdata/out_DEN</title>\n",
       "<path fill=\"none\" stroke=\"black\" d=\"M660.66,-382.37C706.34,-371.48 800.04,-349.13 868.48,-332.8\"/>\n",
       "<polygon fill=\"black\" stroke=\"black\" points=\"869.47,-336.16 878.38,-330.44 867.84,-329.35 869.47,-336.16\"/>\n",
       "</g>\n",
       "<!-- /tmp/hello_bands/w0/t1/outdata/out_EIG.nc -->\n",
       "<g id=\"node21\" class=\"node\">\n",
       "<title>/tmp/hello_bands/w0/t1/outdata/out_EIG.nc</title>\n",
       "<polygon fill=\"#b2dfee\" stroke=\"#b2dfee\" points=\"398.92,-108.49 398.92,-144.49 452.92,-144.49 452.92,-108.49 398.92,-108.49\"/>\n",
       "<text text-anchor=\"middle\" x=\"425.47\" y=\"-124.09\" font-family=\"Times,serif\" font-size=\"8.00\">out_EIG.nc</text>\n",
       "</g>\n",
       "<!-- /tmp/hello_bands/w0/t1/outdata/out_WFK -->\n",
       "<g id=\"node22\" class=\"node\">\n",
       "<title>/tmp/hello_bands/w0/t1/outdata/out_WFK</title>\n",
       "<polygon fill=\"#b2dfee\" stroke=\"#b2dfee\" points=\"333.92,-113.49 333.92,-149.49 387.92,-149.49 387.92,-113.49 333.92,-113.49\"/>\n",
       "<text text-anchor=\"middle\" x=\"360.92\" y=\"-129.09\" font-family=\"Times,serif\" font-size=\"8.00\">out_WFK</text>\n",
       "</g>\n",
       "<!-- /tmp/hello_bands/w0/t1/outdata/out_EBANDS.agr -->\n",
       "<g id=\"node23\" class=\"node\">\n",
       "<title>/tmp/hello_bands/w0/t1/outdata/out_EBANDS.agr</title>\n",
       "<polygon fill=\"#b2dfee\" stroke=\"#b2dfee\" points=\"328.7,-58.49 328.7,-94.49 403.14,-94.49 403.14,-58.49 328.7,-58.49\"/>\n",
       "<text text-anchor=\"middle\" x=\"365.92\" y=\"-74.09\" font-family=\"Times,serif\" font-size=\"8.00\">out_EBANDS.agr</text>\n",
       "</g>\n",
       "<!-- /tmp/hello_bands/w0/t1/outdata/out_GSR.nc -->\n",
       "<g id=\"node24\" class=\"node\">\n",
       "<title>/tmp/hello_bands/w0/t1/outdata/out_GSR.nc</title>\n",
       "<polygon fill=\"#b2dfee\" stroke=\"#b2dfee\" points=\"413.25,-33.49 413.25,-69.49 468.59,-69.49 468.59,-33.49 413.25,-33.49\"/>\n",
       "<text text-anchor=\"middle\" x=\"440.92\" y=\"-49.09\" font-family=\"Times,serif\" font-size=\"8.00\">out_GSR.nc</text>\n",
       "</g>\n",
       "<!-- /tmp/hello_bands/w0/t1/outdata/out_EIG -->\n",
       "<g id=\"node25\" class=\"node\">\n",
       "<title>/tmp/hello_bands/w0/t1/outdata/out_EIG</title>\n",
       "<polygon fill=\"#b2dfee\" stroke=\"#b2dfee\" points=\"298.92,-8.49 298.92,-44.49 352.92,-44.49 352.92,-8.49 298.92,-8.49\"/>\n",
       "<text text-anchor=\"middle\" x=\"325.69\" y=\"-24.09\" font-family=\"Times,serif\" font-size=\"8.00\">out_EIG</text>\n",
       "</g>\n",
       "<!-- /tmp/hello_bands/w0/t1/outdata/out_DEN -->\n",
       "<g id=\"node26\" class=\"node\">\n",
       "<title>/tmp/hello_bands/w0/t1/outdata/out_DEN</title>\n",
       "<polygon fill=\"#b2dfee\" stroke=\"#b2dfee\" points=\"448.92,-158.49 448.92,-194.49 502.92,-194.49 502.92,-158.49 448.92,-158.49\"/>\n",
       "<text text-anchor=\"middle\" x=\"475.75\" y=\"-174.09\" font-family=\"Times,serif\" font-size=\"8.00\">out_DEN</text>\n",
       "</g>\n",
       "<!-- /tmp/hello_bands/w0/t1/outdata/out_OUT.nc -->\n",
       "<g id=\"node27\" class=\"node\">\n",
       "<title>/tmp/hello_bands/w0/t1/outdata/out_OUT.nc</title>\n",
       "<polygon fill=\"#b2dfee\" stroke=\"#b2dfee\" points=\"384.11,-163.49 384.11,-199.49 439.73,-199.49 439.73,-163.49 384.11,-163.49\"/>\n",
       "<text text-anchor=\"middle\" x=\"411.92\" y=\"-179.09\" font-family=\"Times,serif\" font-size=\"8.00\">out_OUT.nc</text>\n",
       "</g>\n",
       "<!-- /tmp/hello_bands/w0/t0/run.log -->\n",
       "<g id=\"node28\" class=\"node\">\n",
       "<title>/tmp/hello_bands/w0/t0/run.log</title>\n",
       "<polygon fill=\"#b2dfee\" stroke=\"#b2dfee\" points=\"411.47,-687.31 411.47,-723.31 465.47,-723.31 465.47,-687.31 411.47,-687.31\"/>\n",
       "<text text-anchor=\"middle\" x=\"438.41\" y=\"-702.91\" font-family=\"Times,serif\" font-size=\"8.00\">run.log</text>\n",
       "</g>\n",
       "<!-- /tmp/hello_bands/w0/t0/abipy_meta.json -->\n",
       "<g id=\"node29\" class=\"node\">\n",
       "<title>/tmp/hello_bands/w0/t0/abipy_meta.json</title>\n",
       "<polygon fill=\"#b2dfee\" stroke=\"#b2dfee\" points=\"421.14,-582.31 421.14,-618.31 489.79,-618.31 489.79,-582.31 421.14,-582.31\"/>\n",
       "<text text-anchor=\"middle\" x=\"455.47\" y=\"-597.91\" font-family=\"Times,serif\" font-size=\"8.00\">abipy_meta.json</text>\n",
       "</g>\n",
       "<!-- /tmp/hello_bands/w0/t0/run.abo -->\n",
       "<g id=\"node30\" class=\"node\">\n",
       "<title>/tmp/hello_bands/w0/t0/run.abo</title>\n",
       "<polygon fill=\"#b2dfee\" stroke=\"#b2dfee\" points=\"461.47,-512.31 461.47,-548.31 515.47,-548.31 515.47,-512.31 461.47,-512.31\"/>\n",
       "<text text-anchor=\"middle\" x=\"488.07\" y=\"-527.91\" font-family=\"Times,serif\" font-size=\"8.00\">run.abo</text>\n",
       "</g>\n",
       "<!-- /tmp/hello_bands/w0/t0/run.abi -->\n",
       "<g id=\"node31\" class=\"node\">\n",
       "<title>/tmp/hello_bands/w0/t0/run.abi</title>\n",
       "<polygon fill=\"#b2dfee\" stroke=\"#b2dfee\" points=\"426.47,-637.31 426.47,-673.31 480.47,-673.31 480.47,-637.31 426.47,-637.31\"/>\n",
       "<text text-anchor=\"middle\" x=\"453.19\" y=\"-652.91\" font-family=\"Times,serif\" font-size=\"8.00\">run.abi</text>\n",
       "</g>\n",
       "<!-- /tmp/hello_bands/w0/t0/__startlock__ -->\n",
       "<g id=\"node32\" class=\"node\">\n",
       "<title>/tmp/hello_bands/w0/t0/__startlock__</title>\n",
       "<polygon fill=\"#b2dfee\" stroke=\"#b2dfee\" points=\"491.69,-632.31 491.69,-668.31 551.24,-668.31 551.24,-632.31 491.69,-632.31\"/>\n",
       "<text text-anchor=\"middle\" x=\"521.47\" y=\"-647.91\" font-family=\"Times,serif\" font-size=\"8.00\">__startlock__</text>\n",
       "</g>\n",
       "<!-- /tmp/hello_bands/w0/t0/run.err -->\n",
       "<g id=\"node33\" class=\"node\">\n",
       "<title>/tmp/hello_bands/w0/t0/run.err</title>\n",
       "<polygon fill=\"#b2dfee\" stroke=\"#b2dfee\" points=\"391.47,-532.31 391.47,-568.31 445.47,-568.31 445.47,-532.31 391.47,-532.31\"/>\n",
       "<text text-anchor=\"middle\" x=\"418.24\" y=\"-547.91\" font-family=\"Times,serif\" font-size=\"8.00\">run.err</text>\n",
       "</g>\n",
       "<!-- /tmp/hello_bands/w0/t0/job.sh -->\n",
       "<g id=\"node34\" class=\"node\">\n",
       "<title>/tmp/hello_bands/w0/t0/job.sh</title>\n",
       "<polygon fill=\"#b2dfee\" stroke=\"#b2dfee\" points=\"541.47,-682.31 541.47,-718.31 595.47,-718.31 595.47,-682.31 541.47,-682.31\"/>\n",
       "<text text-anchor=\"middle\" x=\"568.13\" y=\"-697.91\" font-family=\"Times,serif\" font-size=\"8.00\">job.sh</text>\n",
       "</g>\n",
       "<!-- /tmp/hello_bands/w0/t0/autoparal.json -->\n",
       "<g id=\"node35\" class=\"node\">\n",
       "<title>/tmp/hello_bands/w0/t0/autoparal.json</title>\n",
       "<polygon fill=\"#b2dfee\" stroke=\"#b2dfee\" points=\"500.92,-562.31 500.92,-598.31 562.02,-598.31 562.02,-562.31 500.92,-562.31\"/>\n",
       "<text text-anchor=\"middle\" x=\"531.47\" y=\"-577.91\" font-family=\"Times,serif\" font-size=\"8.00\">autoparal.json</text>\n",
       "</g>\n",
       "<!-- /tmp/hello_bands/w0/t0/run.files -->\n",
       "<g id=\"node36\" class=\"node\">\n",
       "<title>/tmp/hello_bands/w0/t0/run.files</title>\n",
       "<polygon fill=\"#b2dfee\" stroke=\"#b2dfee\" points=\"476.47,-687.31 476.47,-723.31 530.47,-723.31 530.47,-687.31 476.47,-687.31\"/>\n",
       "<text text-anchor=\"middle\" x=\"503.47\" y=\"-702.91\" font-family=\"Times,serif\" font-size=\"8.00\">run.files</text>\n",
       "</g>\n",
       "<!-- /tmp/hello_bands/w0/t0/outdata/out_EIG.nc -->\n",
       "<g id=\"node40\" class=\"node\">\n",
       "<title>/tmp/hello_bands/w0/t0/outdata/out_EIG.nc</title>\n",
       "<polygon fill=\"#b2dfee\" stroke=\"#b2dfee\" points=\"107.89,-487.9 107.89,-523.9 161.89,-523.9 161.89,-487.9 107.89,-487.9\"/>\n",
       "<text text-anchor=\"middle\" x=\"134.44\" y=\"-503.5\" font-family=\"Times,serif\" font-size=\"8.00\">out_EIG.nc</text>\n",
       "</g>\n",
       "<!-- /tmp/hello_bands/w0/t0/outdata/out_WFK -->\n",
       "<g id=\"node41\" class=\"node\">\n",
       "<title>/tmp/hello_bands/w0/t0/outdata/out_WFK</title>\n",
       "<polygon fill=\"#b2dfee\" stroke=\"#b2dfee\" points=\"42.89,-492.9 42.89,-528.9 96.89,-528.9 96.89,-492.9 42.89,-492.9\"/>\n",
       "<text text-anchor=\"middle\" x=\"69.89\" y=\"-508.5\" font-family=\"Times,serif\" font-size=\"8.00\">out_WFK</text>\n",
       "</g>\n",
       "<!-- /tmp/hello_bands/w0/t0/outdata/out_EBANDS.agr -->\n",
       "<g id=\"node42\" class=\"node\">\n",
       "<title>/tmp/hello_bands/w0/t0/outdata/out_EBANDS.agr</title>\n",
       "<polygon fill=\"#b2dfee\" stroke=\"#b2dfee\" points=\"37.67,-437.9 37.67,-473.9 112.11,-473.9 112.11,-437.9 37.67,-437.9\"/>\n",
       "<text text-anchor=\"middle\" x=\"74.89\" y=\"-453.5\" font-family=\"Times,serif\" font-size=\"8.00\">out_EBANDS.agr</text>\n",
       "</g>\n",
       "<!-- /tmp/hello_bands/w0/t0/outdata/out_DDB -->\n",
       "<g id=\"node43\" class=\"node\">\n",
       "<title>/tmp/hello_bands/w0/t0/outdata/out_DDB</title>\n",
       "<polygon fill=\"#b2dfee\" stroke=\"#b2dfee\" points=\"122.89,-412.9 122.89,-448.9 176.89,-448.9 176.89,-412.9 122.89,-412.9\"/>\n",
       "<text text-anchor=\"middle\" x=\"149.44\" y=\"-428.5\" font-family=\"Times,serif\" font-size=\"8.00\">out_DDB</text>\n",
       "</g>\n",
       "<!-- /tmp/hello_bands/w0/t0/outdata/out_GSR.nc -->\n",
       "<g id=\"node44\" class=\"node\">\n",
       "<title>/tmp/hello_bands/w0/t0/outdata/out_GSR.nc</title>\n",
       "<polygon fill=\"#b2dfee\" stroke=\"#b2dfee\" points=\"7.22,-387.9 7.22,-423.9 62.56,-423.9 62.56,-387.9 7.22,-387.9\"/>\n",
       "<text text-anchor=\"middle\" x=\"34.89\" y=\"-403.5\" font-family=\"Times,serif\" font-size=\"8.00\">out_GSR.nc</text>\n",
       "</g>\n",
       "<!-- /tmp/hello_bands/w0/t0/outdata/out_EIG -->\n",
       "<g id=\"node45\" class=\"node\">\n",
       "<title>/tmp/hello_bands/w0/t0/outdata/out_EIG</title>\n",
       "<polygon fill=\"#b2dfee\" stroke=\"#b2dfee\" points=\"157.89,-537.9 157.89,-573.9 211.89,-573.9 211.89,-537.9 157.89,-537.9\"/>\n",
       "<text text-anchor=\"middle\" x=\"184.66\" y=\"-553.5\" font-family=\"Times,serif\" font-size=\"8.00\">out_EIG</text>\n",
       "</g>\n",
       "<!-- /tmp/hello_bands/w0/t0/outdata/out_DEN -->\n",
       "<g id=\"node46\" class=\"node\">\n",
       "<title>/tmp/hello_bands/w0/t0/outdata/out_DEN</title>\n",
       "<polygon fill=\"#b2dfee\" stroke=\"#b2dfee\" points=\"92.89,-542.9 92.89,-578.9 146.89,-578.9 146.89,-542.9 92.89,-542.9\"/>\n",
       "<text text-anchor=\"middle\" x=\"119.72\" y=\"-558.5\" font-family=\"Times,serif\" font-size=\"8.00\">out_DEN</text>\n",
       "</g>\n",
       "<!-- /tmp/hello_bands/w0/t0/outdata/out_OUT.nc -->\n",
       "<g id=\"node47\" class=\"node\">\n",
       "<title>/tmp/hello_bands/w0/t0/outdata/out_OUT.nc</title>\n",
       "<polygon fill=\"#b2dfee\" stroke=\"#b2dfee\" points=\"28.07,-542.9 28.07,-578.9 83.7,-578.9 83.7,-542.9 28.07,-542.9\"/>\n",
       "<text text-anchor=\"middle\" x=\"55.89\" y=\"-558.5\" font-family=\"Times,serif\" font-size=\"8.00\">out_OUT.nc</text>\n",
       "</g>\n",
       "<!-- __0:cluster_/tmp/hello_bands/w0 -->\n",
       "<!-- __1:cluster_/tmp/hello_bands/w0/tmpdata -->\n",
       "<!-- __0:cluster_/tmp/hello_bands/w0&#45;&gt;__1:cluster_/tmp/hello_bands/w0/tmpdata -->\n",
       "<g id=\"edge13\" class=\"edge\">\n",
       "<title>__0:cluster_/tmp/hello_bands/w0&#45;&gt;__1:cluster_/tmp/hello_bands/w0/tmpdata</title>\n",
       "<path fill=\"none\" stroke=\"black\" d=\"M263.71,-652C270.03,-666.02 278.73,-685.3 285.87,-701.12\"/>\n",
       "<polygon fill=\"black\" stroke=\"black\" points=\"282.77,-702.77 290.08,-710.45 289.15,-699.89 282.77,-702.77\"/>\n",
       "</g>\n",
       "<!-- __2:cluster_/tmp/hello_bands/w0 -->\n",
       "<!-- __3:cluster_/tmp/hello_bands/w0/indata -->\n",
       "<!-- __2:cluster_/tmp/hello_bands/w0&#45;&gt;__3:cluster_/tmp/hello_bands/w0/indata -->\n",
       "<g id=\"edge14\" class=\"edge\">\n",
       "<title>__2:cluster_/tmp/hello_bands/w0&#45;&gt;__3:cluster_/tmp/hello_bands/w0/indata</title>\n",
       "<path fill=\"none\" stroke=\"black\" d=\"M238.9,-634.16C225.63,-635.18 206.37,-636.65 189.57,-637.93\"/>\n",
       "<polygon fill=\"black\" stroke=\"black\" points=\"189.22,-634.45 179.51,-638.7 189.75,-641.43 189.22,-634.45\"/>\n",
       "</g>\n",
       "<!-- __4:cluster_/tmp/hello_bands/w0 -->\n",
       "<!-- __5:cluster_/tmp/hello_bands/w0/outdata -->\n",
       "<!-- __4:cluster_/tmp/hello_bands/w0&#45;&gt;__5:cluster_/tmp/hello_bands/w0/outdata -->\n",
       "<g id=\"edge15\" class=\"edge\">\n",
       "<title>__4:cluster_/tmp/hello_bands/w0&#45;&gt;__5:cluster_/tmp/hello_bands/w0/outdata</title>\n",
       "<path fill=\"none\" stroke=\"black\" d=\"M243.96,-652.2C236.65,-664.86 226.97,-681.62 218.8,-695.74\"/>\n",
       "<polygon fill=\"black\" stroke=\"black\" points=\"215.67,-694.17 213.7,-704.58 221.73,-697.67 215.67,-694.17\"/>\n",
       "</g>\n",
       "<!-- __6:cluster_/tmp/hello_bands/w0 -->\n",
       "<!-- __7:cluster_/tmp/hello_bands/w0/t1 -->\n",
       "<!-- __6:cluster_/tmp/hello_bands/w0&#45;&gt;__7:cluster_/tmp/hello_bands/w0/t1 -->\n",
       "<g id=\"edge16\" class=\"edge\">\n",
       "<title>__6:cluster_/tmp/hello_bands/w0&#45;&gt;__7:cluster_/tmp/hello_bands/w0/t1</title>\n",
       "<path fill=\"none\" stroke=\"black\" d=\"M261.31,-613.57C269.25,-588.81 283.71,-543.72 298.19,-498.59\"/>\n",
       "<polygon fill=\"black\" stroke=\"black\" points=\"301.55,-499.56 301.27,-488.96 294.89,-497.42 301.55,-499.56\"/>\n",
       "</g>\n",
       "<!-- __8:cluster_/tmp/hello_bands/w0 -->\n",
       "<!-- __9:cluster_/tmp/hello_bands/w0/t0 -->\n",
       "<!-- __8:cluster_/tmp/hello_bands/w0&#45;&gt;__9:cluster_/tmp/hello_bands/w0/t0 -->\n",
       "<g id=\"edge17\" class=\"edge\">\n",
       "<title>__8:cluster_/tmp/hello_bands/w0&#45;&gt;__9:cluster_/tmp/hello_bands/w0/t0</title>\n",
       "<path fill=\"none\" stroke=\"black\" d=\"M271.47,-632.63C293.02,-632.25 332.89,-631.54 372.95,-630.82\"/>\n",
       "<polygon fill=\"black\" stroke=\"black\" points=\"373.19,-634.32 383.13,-630.64 373.07,-627.32 373.19,-634.32\"/>\n",
       "</g>\n",
       "<!-- __10:cluster_/tmp/hello_bands/w0/t1 -->\n",
       "<!-- __11:cluster_/tmp/hello_bands/w0/t1/tmpdata -->\n",
       "<!-- __10:cluster_/tmp/hello_bands/w0/t1&#45;&gt;__11:cluster_/tmp/hello_bands/w0/t1/tmpdata -->\n",
       "<g id=\"edge18\" class=\"edge\">\n",
       "<title>__10:cluster_/tmp/hello_bands/w0/t1&#45;&gt;__11:cluster_/tmp/hello_bands/w0/t1/tmpdata</title>\n",
       "<path fill=\"none\" stroke=\"black\" d=\"M250.44,-238.55C234.94,-217.22 220.29,-197.06 209.21,-181.81\"/>\n",
       "<polygon fill=\"black\" stroke=\"black\" points=\"211.83,-179.46 203.12,-173.42 206.16,-183.57 211.83,-179.46\"/>\n",
       "</g>\n",
       "<!-- __12:cluster_/tmp/hello_bands/w0/t1 -->\n",
       "<!-- __13:cluster_/tmp/hello_bands/w0/t1/indata -->\n",
       "<!-- __12:cluster_/tmp/hello_bands/w0/t1&#45;&gt;__13:cluster_/tmp/hello_bands/w0/t1/indata -->\n",
       "<g id=\"edge19\" class=\"edge\">\n",
       "<title>__12:cluster_/tmp/hello_bands/w0/t1&#45;&gt;__13:cluster_/tmp/hello_bands/w0/t1/indata</title>\n",
       "<path fill=\"none\" stroke=\"black\" d=\"M451.67,-377.52C498.78,-383.39 551.18,-389.93 587.48,-394.46\"/>\n",
       "<polygon fill=\"black\" stroke=\"black\" points=\"587.39,-397.97 597.75,-395.74 588.26,-391.03 587.39,-397.97\"/>\n",
       "</g>\n",
       "<!-- __14:cluster_/tmp/hello_bands/w0/t1 -->\n",
       "<!-- __15:cluster_/tmp/hello_bands/w0/t1/outdata -->\n",
       "<!-- __14:cluster_/tmp/hello_bands/w0/t1&#45;&gt;__15:cluster_/tmp/hello_bands/w0/t1/outdata -->\n",
       "<g id=\"edge20\" class=\"edge\">\n",
       "<title>__14:cluster_/tmp/hello_bands/w0/t1&#45;&gt;__15:cluster_/tmp/hello_bands/w0/t1/outdata</title>\n",
       "<path fill=\"none\" stroke=\"black\" d=\"M371.23,-238.58C371.25,-238.49 371.27,-238.4 371.29,-238.31\"/>\n",
       "<polygon fill=\"black\" stroke=\"black\" points=\"374.39,-240.41 373.3,-229.87 367.58,-238.79 374.39,-240.41\"/>\n",
       "</g>\n",
       "<!-- __16:cluster_/tmp/hello_bands/w0/t0 -->\n",
       "<!-- __17:cluster_/tmp/hello_bands/w0/t0/tmpdata -->\n",
       "<!-- __16:cluster_/tmp/hello_bands/w0/t0&#45;&gt;__17:cluster_/tmp/hello_bands/w0/t0/tmpdata -->\n",
       "<g id=\"edge21\" class=\"edge\">\n",
       "<title>__16:cluster_/tmp/hello_bands/w0/t0&#45;&gt;__17:cluster_/tmp/hello_bands/w0/t0/tmpdata</title>\n",
       "<path fill=\"none\" stroke=\"black\" d=\"M521.66,-503.57C530.01,-466.85 538.38,-430.01 543.96,-405.47\"/>\n",
       "<polygon fill=\"black\" stroke=\"black\" points=\"547.44,-405.95 546.24,-395.42 540.61,-404.4 547.44,-405.95\"/>\n",
       "</g>\n",
       "<!-- __18:cluster_/tmp/hello_bands/w0/t0 -->\n",
       "<!-- __19:cluster_/tmp/hello_bands/w0/t0/indata -->\n",
       "<!-- __18:cluster_/tmp/hello_bands/w0/t0&#45;&gt;__19:cluster_/tmp/hello_bands/w0/t0/indata -->\n",
       "<g id=\"edge22\" class=\"edge\">\n",
       "<title>__18:cluster_/tmp/hello_bands/w0/t0&#45;&gt;__19:cluster_/tmp/hello_bands/w0/t0/indata</title>\n",
       "<path fill=\"none\" stroke=\"black\" d=\"M603.27,-738.09C619.09,-753.82 634.03,-768.67 645.96,-780.53\"/>\n",
       "<polygon fill=\"black\" stroke=\"black\" points=\"643.78,-783.31 653.34,-787.87 648.72,-778.34 643.78,-783.31\"/>\n",
       "</g>\n",
       "<!-- __20:cluster_/tmp/hello_bands/w0/t0 -->\n",
       "<!-- __21:cluster_/tmp/hello_bands/w0/t0/outdata -->\n",
       "<!-- __20:cluster_/tmp/hello_bands/w0/t0&#45;&gt;__21:cluster_/tmp/hello_bands/w0/t0/outdata -->\n",
       "<g id=\"edge23\" class=\"edge\">\n",
       "<title>__20:cluster_/tmp/hello_bands/w0/t0&#45;&gt;__21:cluster_/tmp/hello_bands/w0/t0/outdata</title>\n",
       "<path fill=\"none\" stroke=\"black\" d=\"M383.05,-590.07C335.01,-573.23 278.57,-553.45 229.49,-536.25\"/>\n",
       "<polygon fill=\"black\" stroke=\"black\" points=\"230.37,-532.85 219.77,-532.85 228.05,-539.46 230.37,-532.85\"/>\n",
       "</g>\n",
       "</g>\n",
       "</svg>\n"
      ],
      "text/plain": [
       "<graphviz.dot.Digraph at 0x7fa7108065c0>"
      ]
     },
     "execution_count": 15,
     "metadata": {
      "filenames": {
       "image/svg+xml": "/Users/gmatteo/git_repos/abipy_book/abipy_book/_build/jupyter_execute/flows_33_0.svg"
      }
     },
     "output_type": "execute_result"
    }
   ],
   "source": [
    "flow[0].get_graphviz_dirtree()"
   ]
  },
  {
   "cell_type": "markdown",
   "id": "209e2b88",
   "metadata": {},
   "source": [
    "or list only the files with a given extension:"
   ]
  },
  {
   "cell_type": "code",
   "execution_count": 16,
   "id": "d68cfe68",
   "metadata": {},
   "outputs": [
    {
     "name": "stdout",
     "output_type": "stream",
     "text": [
      "Found 2 files with extension `GSR.nc` produced by the flow\n",
      "File                                                       Size [Mb]    Node_ID  Node Class\n",
      "-------------------------------------------------------  -----------  ---------  ------------\n",
      "../../../../../tmp/hello_bands/w0/t0/outdata/out_GSR.nc         1.99     438725  ScfTask\n",
      "../../../../../tmp/hello_bands/w0/t1/outdata/out_GSR.nc         1.99     438726  NscfTask\n"
     ]
    }
   ],
   "source": [
    "flow.listext(\"GSR.nc\")"
   ]
  },
  {
   "cell_type": "markdown",
   "id": "4285f5d3",
   "metadata": {},
   "source": [
    "The nice thing about the flow is that the object knows how to locate and interpret the \n",
    "different input/ouput files produced by Abinit. \n",
    "As a consequence, it is very easy to expose the AbiPy post-processing tools with a easy-to-use API\n",
    "in which only tasks/works/flow plus a very few input arguments are required.\n",
    "\n",
    "Let's call, for instance, the inspect method to plot the self-consistent cycles:"
   ]
  },
  {
   "cell_type": "code",
   "execution_count": 17,
   "id": "26899fbb",
   "metadata": {},
   "outputs": [
    {
     "data": {
      "image/png": "[encoded data removed]",
      "text/plain": [
       "<Figure size 640x480 with 4 Axes>"
      ]
     },
     "metadata": {
      "filenames": {
       "image/png": "/Users/gmatteo/git_repos/abipy_book/abipy_book/_build/jupyter_execute/flows_37_0.png"
      }
     },
     "output_type": "display_data"
    },
    {
     "name": "stdout",
     "output_type": "stream",
     "text": [
      "\u001b[34mTask <NscfTask, node_id=438726, workdir=../../../../../tmp/hello_bands/w0/t1> does not provide an inspect method\u001b[0m\n"
     ]
    }
   ],
   "source": [
    "flow.inspect(tight_layout=True);"
   ]
  },
  {
   "cell_type": "markdown",
   "id": "2474fa8a",
   "metadata": {},
   "source": [
    "In the other AbiPy tutorials, we have explained how to use abiopen to create \n",
    "python objects from netcdf files. \n",
    "Well, the same code can be reused with the flow. \n",
    "It is just a matter of replacing\n",
    "\n",
    "```python\n",
    "with abiopen(filepath) as gsr:\n",
    "```\n",
    "\n",
    "with\n",
    "\n",
    "```python\n",
    "with task.open_gsr() as gsr:\n",
    "```\n",
    "\n",
    "Note that there is no need to specify the file path when you use the task-based API, because \n",
    "the `Task` knows how to locate its `GSR.nc` output.\n",
    "Let's do some practice..."
   ]
  },
  {
   "cell_type": "code",
   "execution_count": 18,
   "id": "70c99286",
   "metadata": {},
   "outputs": [
    {
     "data": {
      "image/png": "[encoded data removed]",
      "text/plain": [
       "<Figure size 640x480 with 2 Axes>"
      ]
     },
     "metadata": {
      "filenames": {
       "image/png": "/Users/gmatteo/git_repos/abipy_book/abipy_book/_build/jupyter_execute/flows_39_0.png"
      }
     },
     "output_type": "display_data"
    }
   ],
   "source": [
    "with flow[0][0].open_gsr() as gsr:\n",
    "    ebands_kmesh = gsr.ebands\n",
    "    \n",
    "with flow[0][1].open_gsr() as gsr:\n",
    "    gsr.ebands.plot_with_edos(ebands_kmesh.get_edos(), with_gaps=True);"
   ]
  },
  {
   "cell_type": "markdown",
   "id": "85f5cc43",
   "metadata": {},
   "source": [
    "## More on Works, Tasks and dependencies \n",
    "[[back to top](#top)]\n",
    "\n",
    "In the previous example, we have constructed a workflow for band structure calculations\n",
    "starting from two input files and the magic line\n",
    "\n",
    "```python\n",
    "flow = flowtk.bandstructure_flow(workdir, scf_input, nscf_input)\n",
    "```\n",
    "\n",
    "Now it is the right time to explain in more details the syntax and the API used in AbiPy \n",
    "to build a flow with dependencies.\n",
    "Let's try to build a `Flow` from scratch and use graphviz after each step to show what's happening.\n",
    "We start with an empty flow in the `hello_flow` directory:"
   ]
  },
  {
   "cell_type": "code",
   "execution_count": 19,
   "id": "766dde51",
   "metadata": {},
   "outputs": [
    {
     "data": {
      "image/svg+xml": [
       "<?xml version=\"1.0\" encoding=\"UTF-8\" standalone=\"no\"?>\n",
       "<!DOCTYPE svg PUBLIC \"-//W3C//DTD SVG 1.1//EN\"\n",
       " \"http://www.w3.org/Graphics/SVG/1.1/DTD/svg11.dtd\">\n",
       "<!-- Generated by graphviz version 2.42.3 (20191010.1750)\n",
       " -->\n",
       "<!-- Title: flow Pages: 1 -->\n",
       "<svg width=\"273pt\" height=\"66pt\"\n",
       " viewBox=\"0.00 0.00 272.99 66.00\" xmlns=\"http://www.w3.org/2000/svg\" xmlns:xlink=\"http://www.w3.org/1999/xlink\">\n",
       "<g id=\"graph0\" class=\"graph\" transform=\"scale(1 1) rotate(0) translate(12.49 40)\">\n",
       "<title>flow</title>\n",
       "<polygon fill=\"white\" stroke=\"transparent\" points=\"-12.49,26 -12.49,-40 260.49,-40 260.49,26 -12.49,26\"/>\n",
       "<text text-anchor=\"start\" x=\"-0.49\" y=\"15.2\" font-family=\"Times,serif\" font-size=\"14.00\">Flow, node_id=438727, workdir=hello_flow</text>\n",
       "</g>\n",
       "</svg>\n"
      ],
      "text/plain": [
       "<graphviz.dot.Digraph at 0x7fa711475860>"
      ]
     },
     "execution_count": 19,
     "metadata": {
      "filenames": {
       "image/svg+xml": "/Users/gmatteo/git_repos/abipy_book/abipy_book/_build/jupyter_execute/flows_41_0.svg"
      }
     },
     "output_type": "execute_result"
    }
   ],
   "source": [
    "hello_flow = flowtk.Flow(workdir=\"hello_flow\")\n",
    "hello_flow.get_graphviz()"
   ]
  },
  {
   "cell_type": "markdown",
   "id": "defc1a92",
   "metadata": {},
   "source": [
    "Now we add a new `Task` by just passing an `AbinitInput` for SCF calculations:"
   ]
  },
  {
   "cell_type": "code",
   "execution_count": 20,
   "id": "23b6a69e",
   "metadata": {},
   "outputs": [
    {
     "data": {
      "image/svg+xml": [
       "<?xml version=\"1.0\" encoding=\"UTF-8\" standalone=\"no\"?>\n",
       "<!DOCTYPE svg PUBLIC \"-//W3C//DTD SVG 1.1//EN\"\n",
       " \"http://www.w3.org/Graphics/SVG/1.1/DTD/svg11.dtd\">\n",
       "<!-- Generated by graphviz version 2.42.3 (20191010.1750)\n",
       " -->\n",
       "<!-- Title: flow Pages: 1 -->\n",
       "<svg width=\"273pt\" height=\"104pt\"\n",
       " viewBox=\"0.00 0.00 272.99 104.00\" xmlns=\"http://www.w3.org/2000/svg\" xmlns:xlink=\"http://www.w3.org/1999/xlink\">\n",
       "<g id=\"graph0\" class=\"graph\" transform=\"scale(1 1) rotate(0) translate(12.49 78)\">\n",
       "<title>flow</title>\n",
       "<polygon fill=\"white\" stroke=\"transparent\" points=\"-12.49,26 -12.49,-78 260.49,-78 260.49,26 -12.49,26\"/>\n",
       "<text text-anchor=\"start\" x=\"-0.49\" y=\"15.2\" font-family=\"Times,serif\" font-size=\"14.00\">Flow, node_id=438727, workdir=hello_flow</text>\n",
       "<g id=\"clust1\" class=\"cluster\">\n",
       "<title>clusterw0</title>\n",
       "<path fill=\"#e0eeee\" stroke=\"black\" d=\"M98.24,0.36C98.24,0.36 150.24,0.36 150.24,0.36 156.24,0.36 162.24,-5.64 162.24,-11.64 162.24,-11.64 162.24,-61.64 162.24,-61.64 162.24,-67.64 156.24,-73.64 150.24,-73.64 150.24,-73.64 98.24,-73.64 98.24,-73.64 92.24,-73.64 86.24,-67.64 86.24,-61.64 86.24,-61.64 86.24,-11.64 86.24,-11.64 86.24,-5.64 92.24,0.36 98.24,0.36\"/>\n",
       "<text text-anchor=\"middle\" x=\"124.24\" y=\"-58.44\" font-family=\"Times,serif\" font-size=\"14.00\">Work (w0)</text>\n",
       "</g>\n",
       "<!-- w0_t0 -->\n",
       "<g id=\"node1\" class=\"node\">\n",
       "<title>w0_t0</title>\n",
       "<ellipse fill=\"#ff0000\" stroke=\"#ff0000\" cx=\"124.48\" cy=\"-25.28\" rx=\"27.89\" ry=\"18\"/>\n",
       "<text text-anchor=\"middle\" x=\"124.48\" y=\"-26.88\" font-family=\"Times,serif\" font-size=\"8.00\">w0_t0</text>\n",
       "<text text-anchor=\"middle\" x=\"124.48\" y=\"-18.88\" font-family=\"Times,serif\" font-size=\"8.00\">ScfTask</text>\n",
       "</g>\n",
       "</g>\n",
       "</svg>\n"
      ],
      "text/plain": [
       "<graphviz.dot.Digraph at 0x7fa71167b748>"
      ]
     },
     "execution_count": 20,
     "metadata": {
      "filenames": {
       "image/svg+xml": "/Users/gmatteo/git_repos/abipy_book/abipy_book/_build/jupyter_execute/flows_43_0.svg"
      }
     },
     "output_type": "execute_result"
    }
   ],
   "source": [
    "hello_flow.register_scf_task(scf_input, append=True)\n",
    "hello_flow.get_graphviz()"
   ]
  },
  {
   "cell_type": "markdown",
   "id": "d8916d0a",
   "metadata": {},
   "source": [
    "Now the tricky part. \n",
    "We want to register a NSCF calculation that should depend on the `scf_task` in `w0_t0` via the DEN file.\n",
    "We can use the same API but we **must** specify the dependency between the two steps with the \n",
    "```{scf_task: \"DEN\"}``` dictionary:"
   ]
  },
  {
   "cell_type": "code",
   "execution_count": 21,
   "id": "f1eedda2",
   "metadata": {},
   "outputs": [
    {
     "data": {
      "image/svg+xml": [
       "<?xml version=\"1.0\" encoding=\"UTF-8\" standalone=\"no\"?>\n",
       "<!DOCTYPE svg PUBLIC \"-//W3C//DTD SVG 1.1//EN\"\n",
       " \"http://www.w3.org/Graphics/SVG/1.1/DTD/svg11.dtd\">\n",
       "<!-- Generated by graphviz version 2.42.3 (20191010.1750)\n",
       " -->\n",
       "<!-- Title: flow Pages: 1 -->\n",
       "<svg width=\"273pt\" height=\"120pt\"\n",
       " viewBox=\"0.00 0.00 272.99 120.00\" xmlns=\"http://www.w3.org/2000/svg\" xmlns:xlink=\"http://www.w3.org/1999/xlink\">\n",
       "<g id=\"graph0\" class=\"graph\" transform=\"scale(1 1) rotate(0) translate(4 116)\">\n",
       "<title>flow</title>\n",
       "<polygon fill=\"white\" stroke=\"transparent\" points=\"-4,4 -4,-116 268.99,-116 268.99,4 -4,4\"/>\n",
       "<text text-anchor=\"start\" x=\"8\" y=\"-6.8\" font-family=\"Times,serif\" font-size=\"14.00\">Flow, node_id=438727, workdir=hello_flow</text>\n",
       "<g id=\"clust1\" class=\"cluster\">\n",
       "<title>clusterw0</title>\n",
       "<path fill=\"#e0eeee\" stroke=\"black\" d=\"M45.24,-30C45.24,-30 219.75,-30 219.75,-30 225.75,-30 231.75,-36 231.75,-42 231.75,-42 231.75,-92 231.75,-92 231.75,-98 225.75,-104 219.75,-104 219.75,-104 45.24,-104 45.24,-104 39.24,-104 33.24,-98 33.24,-92 33.24,-92 33.24,-42 33.24,-42 33.24,-36 39.24,-30 45.24,-30\"/>\n",
       "<text text-anchor=\"middle\" x=\"132.49\" y=\"-88.8\" font-family=\"Times,serif\" font-size=\"14.00\">Work (w0)</text>\n",
       "</g>\n",
       "<!-- w0_t0 -->\n",
       "<g id=\"node1\" class=\"node\">\n",
       "<title>w0_t0</title>\n",
       "<ellipse fill=\"#ff0000\" stroke=\"#ff0000\" cx=\"69.18\" cy=\"-56\" rx=\"27.89\" ry=\"18\"/>\n",
       "<text text-anchor=\"middle\" x=\"69.18\" y=\"-57.6\" font-family=\"Times,serif\" font-size=\"8.00\">w0_t0</text>\n",
       "<text text-anchor=\"middle\" x=\"69.18\" y=\"-49.6\" font-family=\"Times,serif\" font-size=\"8.00\">ScfTask</text>\n",
       "</g>\n",
       "<!-- w0_t1 -->\n",
       "<g id=\"node2\" class=\"node\">\n",
       "<title>w0_t1</title>\n",
       "<ellipse fill=\"#c85064\" stroke=\"#c85064\" cx=\"192.82\" cy=\"-56\" rx=\"30.85\" ry=\"18\"/>\n",
       "<text text-anchor=\"middle\" x=\"192.82\" y=\"-57.6\" font-family=\"Times,serif\" font-size=\"8.00\">w0_t1</text>\n",
       "<text text-anchor=\"middle\" x=\"192.82\" y=\"-49.6\" font-family=\"Times,serif\" font-size=\"8.00\">NscfTask</text>\n",
       "</g>\n",
       "<!-- w0_t0&#45;&gt;w0_t1 -->\n",
       "<g id=\"edge1\" class=\"edge\">\n",
       "<title>w0_t0&#45;&gt;w0_t1</title>\n",
       "<path fill=\"none\" stroke=\"#ff0000\" d=\"M97.18,-56C113.09,-56 133.54,-56 151.35,-56\"/>\n",
       "<polygon fill=\"#ff0000\" stroke=\"#ff0000\" points=\"151.48,-59.5 161.48,-56 151.48,-52.5 151.48,-59.5\"/>\n",
       "<text text-anchor=\"middle\" x=\"129.51\" y=\"-58.8\" font-family=\"Times,serif\" font-size=\"14.00\">DEN</text>\n",
       "</g>\n",
       "</g>\n",
       "</svg>\n"
      ],
      "text/plain": [
       "<graphviz.dot.Digraph at 0x7fa71162a710>"
      ]
     },
     "execution_count": 21,
     "metadata": {
      "filenames": {
       "image/svg+xml": "/Users/gmatteo/git_repos/abipy_book/abipy_book/_build/jupyter_execute/flows_45_0.svg"
      }
     },
     "output_type": "execute_result"
    }
   ],
   "source": [
    "hello_flow.register_nscf_task(nscf_input, deps={hello_flow[0][0]: \"DEN\"}, append=True)\n",
    "hello_flow.get_graphviz(engine=\"dot\")"
   ]
  },
  {
   "cell_type": "markdown",
   "id": "2f0ed0b2",
   "metadata": {},
   "source": [
    "Excellent, we managed to build our first AbiPy flow with inter-dependent tasks in just six lines \n",
    "of code (including the three calls to graphviz).\n",
    "Now let's assume we want to add a second Nscf calculation (`NscTask`) in which we change one of the input parameters\n",
    "e.g. the number of bands and that, for some reason, we really want to re-use the output WFK file \n",
    "produced by `w0_t1` to initialize the eigenvalue solver (obviously we still need a DEN file).\n",
    "How can we express this with AbiPy? \n",
    "\n",
    "Well, the syntax for the new deps, it's just:\n",
    "\n",
    "```python\n",
    "deps = {hello_flow[0][0]: \"DEN\", hello_flow[0][1]: \"WFK\"}\n",
    "```\n",
    "\n",
    "but we should also change the input variable nband in the `nscf_input` before creating\n",
    "the new `NscTask` (remember that building a `Task` requires an `AbinitInput` object \n",
    "and a list of dependencies, if any).\n",
    "\n",
    "Now there are two ways to increase nband: the **wrong** way and the **correct** one!\n",
    "Let's start from the *wrong* way because it's always useful to learn from our mistakes.\n",
    "Let's print some values just for the record:"
   ]
  },
  {
   "cell_type": "code",
   "execution_count": 22,
   "id": "ae7d9283",
   "metadata": {},
   "outputs": [
    {
     "name": "stdout",
     "output_type": "stream",
     "text": [
      "nband in the first NscfTask: 8\n"
     ]
    }
   ],
   "source": [
    "t1 = flow[0][1]\n",
    "print(\"nband in the first NscfTask:\", t1.input[\"nband\"])"
   ]
  },
  {
   "cell_type": "markdown",
   "id": "d9aa8f52",
   "metadata": {},
   "source": [
    "Now let's use the \"recipe\" recommended to us by the FORTRAN guru of our group: \n",
    "\n",
    "<img src=\"https://github.com/abinit/abipy_assets/blob/master/Dont-Try-This-At-Home.jpg?raw=true\" alt=\"\">"
   ]
  },
  {
   "cell_type": "code",
   "execution_count": 23,
   "id": "e7af88d4",
   "metadata": {},
   "outputs": [
    {
     "name": "stdout",
     "output_type": "stream",
     "text": [
      "nband in the first NscfTask: 1000\n",
      "nband in the new input: 1000\n"
     ]
    }
   ],
   "source": [
    "# Just copy the previous input and change nband, it's super-easy, the FORTRAN guru said!\n",
    "new_input = t1.input\n",
    "new_input[\"nband\"] = 1000\n",
    "\n",
    "print(\"nband in the first NscfTask:\", t1.input[\"nband\"])\n",
    "print(\"nband in the new input:\", new_input[\"nband\"])"
   ]
  },
  {
   "cell_type": "markdown",
   "id": "1730063d",
   "metadata": {},
   "source": [
    "Tada! Thanks to the trick of our beloved FORTRAN guru, we ended up with *two* NscfTaks\n",
    "with the **same number** of bands (1000!). Why?\n",
    "\n",
    "Because `AbinitInput` is implemented internally with a dictionary, python dictionaries are **mutable**\n",
    "and python variables are essentially references (they do not store data, actually they store the address of the data)."
   ]
  },
  {
   "cell_type": "code",
   "execution_count": 24,
   "id": "222d605c",
   "metadata": {},
   "outputs": [
    {
     "name": "stdout",
     "output_type": "stream",
     "text": [
      "a dict: {'foo': 'bar', 'hello': 'world'}\n",
      "b dict: {'foo': 'bar', 'hello': 'world'}\n",
      "c dict: {'foo': 'bar'}\n"
     ]
    }
   ],
   "source": [
    "a = {\"foo\": \"bar\"}\n",
    "b = a \n",
    "c = a.copy()\n",
    "a[\"hello\"] = \"world\"\n",
    "print(\"a dict:\", a)\n",
    "print(\"b dict:\", b)\n",
    "print(\"c dict:\", c)"
   ]
  },
  {
   "cell_type": "markdown",
   "id": "66336394",
   "metadata": {},
   "source": [
    "For a more techical explanation see [here](http://docs.python-guide.org/en/latest/writing/gotchas/)\n",
    "\n",
    "To avoid this mistake, we need to *copy* the object before changing it"
   ]
  },
  {
   "cell_type": "code",
   "execution_count": 25,
   "id": "beda4bdd",
   "metadata": {},
   "outputs": [
    {
     "name": "stdout",
     "output_type": "stream",
     "text": [
      "nband in the first NscfTask: 8\n",
      "nband in the new input: 1000\n"
     ]
    }
   ],
   "source": [
    "t1.input[\"nband\"] = 8 # back to the old value\n",
    "\n",
    "new_input = t1.input.new_with_vars(nband=1000)  # Copy and change nband\n",
    "\n",
    "print(\"nband in the first NscfTask:\", t1.input[\"nband\"])\n",
    "print(\"nband in the new input:\", new_input[\"nband\"])"
   ]
  },
  {
   "cell_type": "markdown",
   "id": "a887054d",
   "metadata": {},
   "source": [
    "Now we can finally add the second `NscfTask` with 1000 bands:"
   ]
  },
  {
   "cell_type": "code",
   "execution_count": 26,
   "id": "4c6178cf",
   "metadata": {},
   "outputs": [
    {
     "data": {
      "image/svg+xml": [
       "<?xml version=\"1.0\" encoding=\"UTF-8\" standalone=\"no\"?>\n",
       "<!DOCTYPE svg PUBLIC \"-//W3C//DTD SVG 1.1//EN\"\n",
       " \"http://www.w3.org/Graphics/SVG/1.1/DTD/svg11.dtd\">\n",
       "<!-- Generated by graphviz version 2.42.3 (20191010.1750)\n",
       " -->\n",
       "<!-- Title: flow Pages: 1 -->\n",
       "<svg width=\"351pt\" height=\"170pt\"\n",
       " viewBox=\"0.00 0.00 351.46 170.00\" xmlns=\"http://www.w3.org/2000/svg\" xmlns:xlink=\"http://www.w3.org/1999/xlink\">\n",
       "<g id=\"graph0\" class=\"graph\" transform=\"scale(1 1) rotate(0) translate(4 166)\">\n",
       "<title>flow</title>\n",
       "<polygon fill=\"white\" stroke=\"transparent\" points=\"-4,4 -4,-166 347.46,-166 347.46,4 -4,4\"/>\n",
       "<text text-anchor=\"start\" x=\"47.24\" y=\"-6.8\" font-family=\"Times,serif\" font-size=\"14.00\">Flow, node_id=438727, workdir=hello_flow</text>\n",
       "<g id=\"clust1\" class=\"cluster\">\n",
       "<title>clusterw0</title>\n",
       "<path fill=\"#e0eeee\" stroke=\"black\" d=\"M20,-30C20,-30 323.46,-30 323.46,-30 329.46,-30 335.46,-36 335.46,-42 335.46,-42 335.46,-142 335.46,-142 335.46,-148 329.46,-154 323.46,-154 323.46,-154 20,-154 20,-154 14,-154 8,-148 8,-142 8,-142 8,-42 8,-42 8,-36 14,-30 20,-30\"/>\n",
       "<text text-anchor=\"middle\" x=\"171.73\" y=\"-138.8\" font-family=\"Times,serif\" font-size=\"14.00\">Work (w0)</text>\n",
       "</g>\n",
       "<!-- w0_t0 -->\n",
       "<g id=\"node1\" class=\"node\">\n",
       "<title>w0_t0</title>\n",
       "<ellipse fill=\"#ff0000\" stroke=\"#ff0000\" cx=\"43.94\" cy=\"-89\" rx=\"27.89\" ry=\"18\"/>\n",
       "<text text-anchor=\"middle\" x=\"43.94\" y=\"-90.6\" font-family=\"Times,serif\" font-size=\"8.00\">w0_t0</text>\n",
       "<text text-anchor=\"middle\" x=\"43.94\" y=\"-82.6\" font-family=\"Times,serif\" font-size=\"8.00\">ScfTask</text>\n",
       "</g>\n",
       "<!-- w0_t1 -->\n",
       "<g id=\"node2\" class=\"node\">\n",
       "<title>w0_t1</title>\n",
       "<ellipse fill=\"#c85064\" stroke=\"#c85064\" cx=\"167.58\" cy=\"-56\" rx=\"30.85\" ry=\"18\"/>\n",
       "<text text-anchor=\"middle\" x=\"167.58\" y=\"-57.6\" font-family=\"Times,serif\" font-size=\"8.00\">w0_t1</text>\n",
       "<text text-anchor=\"middle\" x=\"167.58\" y=\"-49.6\" font-family=\"Times,serif\" font-size=\"8.00\">NscfTask</text>\n",
       "</g>\n",
       "<!-- w0_t0&#45;&gt;w0_t1 -->\n",
       "<g id=\"edge1\" class=\"edge\">\n",
       "<title>w0_t0&#45;&gt;w0_t1</title>\n",
       "<path fill=\"none\" stroke=\"#ff0000\" d=\"M69.85,-82.24C87.02,-77.59 110.13,-71.32 129.46,-66.07\"/>\n",
       "<polygon fill=\"#ff0000\" stroke=\"#ff0000\" points=\"130.43,-69.43 139.17,-63.44 128.6,-62.68 130.43,-69.43\"/>\n",
       "<text text-anchor=\"middle\" x=\"104.27\" y=\"-78.8\" font-family=\"Times,serif\" font-size=\"14.00\">DEN</text>\n",
       "</g>\n",
       "<!-- w0_t2 -->\n",
       "<g id=\"node3\" class=\"node\">\n",
       "<title>w0_t2</title>\n",
       "<ellipse fill=\"#c85064\" stroke=\"#c85064\" cx=\"296.54\" cy=\"-73\" rx=\"30.85\" ry=\"18\"/>\n",
       "<text text-anchor=\"middle\" x=\"296.54\" y=\"-74.6\" font-family=\"Times,serif\" font-size=\"8.00\">w0_t2</text>\n",
       "<text text-anchor=\"middle\" x=\"296.54\" y=\"-66.6\" font-family=\"Times,serif\" font-size=\"8.00\">NscfTask</text>\n",
       "</g>\n",
       "<!-- w0_t0&#45;&gt;w0_t2 -->\n",
       "<g id=\"edge2\" class=\"edge\">\n",
       "<title>w0_t0&#45;&gt;w0_t2</title>\n",
       "<path fill=\"none\" stroke=\"#ff0000\" d=\"M71.52,-92.45C77.55,-93.09 83.93,-93.67 89.89,-94 160.02,-97.89 178.18,-94.6 247.62,-84 251.05,-83.48 254.61,-82.84 258.16,-82.14\"/>\n",
       "<polygon fill=\"#ff0000\" stroke=\"#ff0000\" points=\"258.99,-85.54 268.05,-80.04 257.54,-78.69 258.99,-85.54\"/>\n",
       "<text text-anchor=\"middle\" x=\"167.58\" y=\"-97.8\" font-family=\"Times,serif\" font-size=\"14.00\">DEN</text>\n",
       "</g>\n",
       "<!-- w0_t1&#45;&gt;w0_t2 -->\n",
       "<g id=\"edge3\" class=\"edge\">\n",
       "<title>w0_t1&#45;&gt;w0_t2</title>\n",
       "<path fill=\"none\" stroke=\"#c85064\" d=\"M198.03,-59.94C215.33,-62.26 237.43,-65.22 256.21,-67.73\"/>\n",
       "<polygon fill=\"#c85064\" stroke=\"#c85064\" points=\"255.88,-71.22 266.25,-69.08 256.81,-64.28 255.88,-71.22\"/>\n",
       "<text text-anchor=\"middle\" x=\"232.06\" y=\"-68.8\" font-family=\"Times,serif\" font-size=\"14.00\">WFK</text>\n",
       "</g>\n",
       "</g>\n",
       "</svg>\n"
      ],
      "text/plain": [
       "<graphviz.dot.Digraph at 0x7fa7114ca208>"
      ]
     },
     "execution_count": 26,
     "metadata": {
      "filenames": {
       "image/svg+xml": "/Users/gmatteo/git_repos/abipy_book/abipy_book/_build/jupyter_execute/flows_55_0.svg"
      }
     },
     "output_type": "execute_result"
    }
   ],
   "source": [
    "hello_flow.register_nscf_task(new_input, deps={hello_flow[0][0]: \"DEN\", hello_flow[0][1]: \"WFK\"}, append=True)\n",
    "hello_flow.get_graphviz(engine=\"dot\")"
   ]
  },
  {
   "cell_type": "code",
   "execution_count": 27,
   "id": "c6a347d7",
   "metadata": {},
   "outputs": [
    {
     "name": "stdout",
     "output_type": "stream",
     "text": [
      "[8, 8, 1000]\n"
     ]
    }
   ],
   "source": [
    "print([task.input[\"nband\"] for task in hello_flow.iflat_tasks()])"
   ]
  },
  {
   "cell_type": "markdown",
   "id": "b50105ff",
   "metadata": {},
   "source": [
    "Note that AbiPy dependencies can also be fulfilled with external files that are already available\n",
    "when the flow is constructed. There is no change in the syntax we've used so far.\n",
    "It is just a matter of using the absolute path to the DEN file as keyword of the dictionary instead of a `Task`.\n",
    "Let's start with a new `Flow` to avoid confusion and create a `NscfTask` that will start from a pre-computed `DEN` file."
   ]
  },
  {
   "cell_type": "code",
   "execution_count": 28,
   "id": "a0149134",
   "metadata": {},
   "outputs": [
    {
     "data": {
      "image/svg+xml": [
       "<?xml version=\"1.0\" encoding=\"UTF-8\" standalone=\"no\"?>\n",
       "<!DOCTYPE svg PUBLIC \"-//W3C//DTD SVG 1.1//EN\"\n",
       " \"http://www.w3.org/Graphics/SVG/1.1/DTD/svg11.dtd\">\n",
       "<!-- Generated by graphviz version 2.42.3 (20191010.1750)\n",
       " -->\n",
       "<!-- Title: flow Pages: 1 -->\n",
       "<svg width=\"435pt\" height=\"120pt\"\n",
       " viewBox=\"0.00 0.00 434.76 120.00\" xmlns=\"http://www.w3.org/2000/svg\" xmlns:xlink=\"http://www.w3.org/1999/xlink\">\n",
       "<g id=\"graph0\" class=\"graph\" transform=\"scale(1 1) rotate(0) translate(4 116)\">\n",
       "<title>flow</title>\n",
       "<polygon fill=\"white\" stroke=\"transparent\" points=\"-4,4 -4,-116 430.76,-116 430.76,4 -4,4\"/>\n",
       "<text text-anchor=\"start\" x=\"77.99\" y=\"-6.8\" font-family=\"Times,serif\" font-size=\"14.00\">Flow, node_id=438732, workdir=flow_with_file</text>\n",
       "<g id=\"clust1\" class=\"cluster\">\n",
       "<title>clusterw0</title>\n",
       "<path fill=\"#e0eeee\" stroke=\"black\" d=\"M352.91,-30C352.91,-30 406.76,-30 406.76,-30 412.76,-30 418.76,-36 418.76,-42 418.76,-42 418.76,-92 418.76,-92 418.76,-98 412.76,-104 406.76,-104 406.76,-104 352.91,-104 352.91,-104 346.91,-104 340.91,-98 340.91,-92 340.91,-92 340.91,-42 340.91,-42 340.91,-36 346.91,-30 352.91,-30\"/>\n",
       "<text text-anchor=\"middle\" x=\"379.84\" y=\"-88.8\" font-family=\"Times,serif\" font-size=\"14.00\">Work (w0)</text>\n",
       "</g>\n",
       "<!-- w0_t0 -->\n",
       "<g id=\"node1\" class=\"node\">\n",
       "<title>w0_t0</title>\n",
       "<ellipse fill=\"#c85064\" stroke=\"#c85064\" cx=\"379.84\" cy=\"-56\" rx=\"30.85\" ry=\"18\"/>\n",
       "<text text-anchor=\"middle\" x=\"379.84\" y=\"-57.6\" font-family=\"Times,serif\" font-size=\"8.00\">w0_t0</text>\n",
       "<text text-anchor=\"middle\" x=\"379.84\" y=\"-49.6\" font-family=\"Times,serif\" font-size=\"8.00\">NscfTask</text>\n",
       "</g>\n",
       "<!-- /Users/gmatteo/git_repos/abipy/abipy/data/refs/si_ebands/si_DEN.nc -->\n",
       "<g id=\"node2\" class=\"node\">\n",
       "<title>/Users/gmatteo/git_repos/abipy/abipy/data/refs/si_ebands/si_DEN.nc</title>\n",
       "<ellipse fill=\"#6633ff\" stroke=\"#6633ff\" cx=\"156.46\" cy=\"-56\" rx=\"156.41\" ry=\"18\"/>\n",
       "<text text-anchor=\"start\" x=\"24.3\" y=\"-53.6\" font-family=\"Times,serif\" font-size=\"8.00\">FileNode, node_id=438735, rpath=../../abipy/abipy/data/refs/si_ebands/si_DEN.nc</text>\n",
       "</g>\n",
       "<!-- /Users/gmatteo/git_repos/abipy/abipy/data/refs/si_ebands/si_DEN.nc&#45;&gt;w0_t0 -->\n",
       "<g id=\"edge1\" class=\"edge\">\n",
       "<title>/Users/gmatteo/git_repos/abipy/abipy/data/refs/si_ebands/si_DEN.nc&#45;&gt;w0_t0</title>\n",
       "<path fill=\"none\" stroke=\"#6633ff\" d=\"M313.01,-56C322.14,-56 330.77,-56 338.6,-56\"/>\n",
       "<polygon fill=\"#6633ff\" stroke=\"#6633ff\" points=\"338.74,-59.5 348.74,-56 338.74,-52.5 338.74,-59.5\"/>\n",
       "</g>\n",
       "</g>\n",
       "</svg>\n"
      ],
      "text/plain": [
       "<graphviz.dot.Digraph at 0x7fa7114dd630>"
      ]
     },
     "execution_count": 28,
     "metadata": {
      "filenames": {
       "image/svg+xml": "/Users/gmatteo/git_repos/abipy_book/abipy_book/_build/jupyter_execute/flows_58_0.svg"
      }
     },
     "output_type": "execute_result"
    }
   ],
   "source": [
    "flow_with_file = flowtk.Flow(workdir=\"flow_with_file\")\n",
    "\n",
    "den_filepath = abidata.ref_file(\"si_DEN.nc\")\n",
    "flow_with_file.register_nscf_task(nscf_input, deps={den_filepath: \"DEN\"})\n",
    "\n",
    "flow_with_file.get_graphviz(engine=\"dot\")"
   ]
  },
  {
   "cell_type": "markdown",
   "id": "8eb69a22",
   "metadata": {},
   "source": [
    "A call to `new_with_vars` inside a python `for` loop is all we need to add other two `NscfTasks`\n",
    "with different `nband`, all starting from the same DEN file:"
   ]
  },
  {
   "cell_type": "code",
   "execution_count": 29,
   "id": "ad327402",
   "metadata": {},
   "outputs": [
    {
     "name": "stdout",
     "output_type": "stream",
     "text": [
      "[8, 10, 20]\n"
     ]
    },
    {
     "data": {
      "image/svg+xml": [
       "<?xml version=\"1.0\" encoding=\"UTF-8\" standalone=\"no\"?>\n",
       "<!DOCTYPE svg PUBLIC \"-//W3C//DTD SVG 1.1//EN\"\n",
       " \"http://www.w3.org/Graphics/SVG/1.1/DTD/svg11.dtd\">\n",
       "<!-- Generated by graphviz version 2.42.3 (20191010.1750)\n",
       " -->\n",
       "<!-- Title: flow Pages: 1 -->\n",
       "<svg width=\"323pt\" height=\"231pt\"\n",
       " viewBox=\"0.00 0.00 323.00 231.00\" xmlns=\"http://www.w3.org/2000/svg\" xmlns:xlink=\"http://www.w3.org/1999/xlink\">\n",
       "<g id=\"graph0\" class=\"graph\" transform=\"scale(1 1) rotate(0) translate(4 205)\">\n",
       "<title>flow</title>\n",
       "<polygon fill=\"white\" stroke=\"transparent\" points=\"-4,26 -4,-205 319,-205 319,26 -4,26\"/>\n",
       "<text text-anchor=\"start\" x=\"22.11\" y=\"15.2\" font-family=\"Times,serif\" font-size=\"14.00\">Flow, node_id=438732, workdir=flow_with_file</text>\n",
       "<g id=\"clust1\" class=\"cluster\">\n",
       "<title>clusterw0</title>\n",
       "<path fill=\"#e0eeee\" stroke=\"black\" d=\"M11.89,-126.49C11.89,-126.49 64.89,-126.49 64.89,-126.49 70.89,-126.49 76.89,-132.49 76.89,-138.49 76.89,-138.49 76.89,-188.49 76.89,-188.49 76.89,-194.49 70.89,-200.49 64.89,-200.49 64.89,-200.49 11.89,-200.49 11.89,-200.49 5.89,-200.49 -0.11,-194.49 -0.11,-188.49 -0.11,-188.49 -0.11,-138.49 -0.11,-138.49 -0.11,-132.49 5.89,-126.49 11.89,-126.49\"/>\n",
       "<text text-anchor=\"middle\" x=\"38.39\" y=\"-185.29\" font-family=\"Times,serif\" font-size=\"14.00\">Work (w0)</text>\n",
       "</g>\n",
       "<g id=\"clust2\" class=\"cluster\">\n",
       "<title>clusterw1</title>\n",
       "<path fill=\"#e0eeee\" stroke=\"black\" d=\"M185.47,-126.56C185.47,-126.56 239.47,-126.56 239.47,-126.56 245.47,-126.56 251.47,-132.56 251.47,-138.56 251.47,-138.56 251.47,-188.56 251.47,-188.56 251.47,-194.56 245.47,-200.56 239.47,-200.56 239.47,-200.56 185.47,-200.56 185.47,-200.56 179.47,-200.56 173.47,-194.56 173.47,-188.56 173.47,-188.56 173.47,-138.56 173.47,-138.56 173.47,-132.56 179.47,-126.56 185.47,-126.56\"/>\n",
       "<text text-anchor=\"middle\" x=\"212.47\" y=\"-185.36\" font-family=\"Times,serif\" font-size=\"14.00\">Work (w1)</text>\n",
       "</g>\n",
       "<g id=\"clust3\" class=\"cluster\">\n",
       "<title>clusterw2</title>\n",
       "<path fill=\"#e0eeee\" stroke=\"black\" d=\"M124.6,0.07C124.6,0.07 178.6,0.07 178.6,0.07 184.6,0.07 190.6,-5.93 190.6,-11.93 190.6,-11.93 190.6,-61.93 190.6,-61.93 190.6,-67.93 184.6,-73.93 178.6,-73.93 178.6,-73.93 124.6,-73.93 124.6,-73.93 118.6,-73.93 112.6,-67.93 112.6,-61.93 112.6,-61.93 112.6,-11.93 112.6,-11.93 112.6,-5.93 118.6,0.07 124.6,0.07\"/>\n",
       "<text text-anchor=\"middle\" x=\"151.6\" y=\"-58.73\" font-family=\"Times,serif\" font-size=\"14.00\">Work (w2)</text>\n",
       "</g>\n",
       "<!-- w0_t0 -->\n",
       "<g id=\"node1\" class=\"node\">\n",
       "<title>w0_t0</title>\n",
       "<ellipse fill=\"#c85064\" stroke=\"#c85064\" cx=\"38.44\" cy=\"-152.73\" rx=\"30.85\" ry=\"18\"/>\n",
       "<text text-anchor=\"middle\" x=\"38.44\" y=\"-154.33\" font-family=\"Times,serif\" font-size=\"8.00\">w0_t0</text>\n",
       "<text text-anchor=\"middle\" x=\"38.44\" y=\"-146.33\" font-family=\"Times,serif\" font-size=\"8.00\">NscfTask</text>\n",
       "</g>\n",
       "<!-- w1_t0 -->\n",
       "<g id=\"node2\" class=\"node\">\n",
       "<title>w1_t0</title>\n",
       "<ellipse fill=\"#c85064\" stroke=\"#c85064\" cx=\"212.25\" cy=\"-152.64\" rx=\"30.85\" ry=\"18\"/>\n",
       "<text text-anchor=\"middle\" x=\"212.25\" y=\"-154.24\" font-family=\"Times,serif\" font-size=\"8.00\">w1_t0</text>\n",
       "<text text-anchor=\"middle\" x=\"212.25\" y=\"-146.24\" font-family=\"Times,serif\" font-size=\"8.00\">NscfTask</text>\n",
       "</g>\n",
       "<!-- w2_t0 -->\n",
       "<g id=\"node3\" class=\"node\">\n",
       "<title>w2_t0</title>\n",
       "<ellipse fill=\"#c85064\" stroke=\"#c85064\" cx=\"151.18\" cy=\"-26.08\" rx=\"30.85\" ry=\"18\"/>\n",
       "<text text-anchor=\"middle\" x=\"151.18\" y=\"-27.68\" font-family=\"Times,serif\" font-size=\"8.00\">w2_t0</text>\n",
       "<text text-anchor=\"middle\" x=\"151.18\" y=\"-19.68\" font-family=\"Times,serif\" font-size=\"8.00\">NscfTask</text>\n",
       "</g>\n",
       "<!-- /Users/gmatteo/git_repos/abipy/abipy/data/refs/si_ebands/si_DEN.nc -->\n",
       "<g id=\"node4\" class=\"node\">\n",
       "<title>/Users/gmatteo/git_repos/abipy/abipy/data/refs/si_ebands/si_DEN.nc</title>\n",
       "<ellipse fill=\"#6633ff\" stroke=\"#6633ff\" cx=\"158.37\" cy=\"-100.27\" rx=\"156.41\" ry=\"18\"/>\n",
       "<text text-anchor=\"start\" x=\"26.21\" y=\"-97.87\" font-family=\"Times,serif\" font-size=\"8.00\">FileNode, node_id=438735, rpath=../../abipy/abipy/data/refs/si_ebands/si_DEN.nc</text>\n",
       "</g>\n",
       "<!-- /Users/gmatteo/git_repos/abipy/abipy/data/refs/si_ebands/si_DEN.nc&#45;&gt;w0_t0 -->\n",
       "<g id=\"edge1\" class=\"edge\">\n",
       "<title>/Users/gmatteo/git_repos/abipy/abipy/data/refs/si_ebands/si_DEN.nc&#45;&gt;w0_t0</title>\n",
       "<path fill=\"none\" stroke=\"#6633ff\" d=\"M118.43,-117.74C103.59,-124.23 86.91,-131.53 72.63,-137.78\"/>\n",
       "<polygon fill=\"#6633ff\" stroke=\"#6633ff\" points=\"70.94,-134.69 63.18,-141.91 73.75,-141.11 70.94,-134.69\"/>\n",
       "</g>\n",
       "<!-- /Users/gmatteo/git_repos/abipy/abipy/data/refs/si_ebands/si_DEN.nc&#45;&gt;w1_t0 -->\n",
       "<g id=\"edge2\" class=\"edge\">\n",
       "<title>/Users/gmatteo/git_repos/abipy/abipy/data/refs/si_ebands/si_DEN.nc&#45;&gt;w1_t0</title>\n",
       "<path fill=\"none\" stroke=\"#6633ff\" d=\"M176.91,-118.29C180.69,-121.97 184.72,-125.89 188.66,-129.71\"/>\n",
       "<polygon fill=\"#6633ff\" stroke=\"#6633ff\" points=\"186.4,-132.4 196.01,-136.86 191.28,-127.38 186.4,-132.4\"/>\n",
       "</g>\n",
       "<!-- /Users/gmatteo/git_repos/abipy/abipy/data/refs/si_ebands/si_DEN.nc&#45;&gt;w2_t0 -->\n",
       "<g id=\"edge3\" class=\"edge\">\n",
       "<title>/Users/gmatteo/git_repos/abipy/abipy/data/refs/si_ebands/si_DEN.nc&#45;&gt;w2_t0</title>\n",
       "<path fill=\"none\" stroke=\"#6633ff\" d=\"M156.59,-81.93C155.78,-73.58 154.8,-63.5 153.91,-54.22\"/>\n",
       "<polygon fill=\"#6633ff\" stroke=\"#6633ff\" points=\"157.38,-53.83 152.94,-44.21 150.42,-54.5 157.38,-53.83\"/>\n",
       "</g>\n",
       "</g>\n",
       "</svg>\n"
      ],
      "text/plain": [
       "<graphviz.dot.Digraph at 0x7fa711647438>"
      ]
     },
     "execution_count": 29,
     "metadata": {
      "filenames": {
       "image/svg+xml": "/Users/gmatteo/git_repos/abipy_book/abipy_book/_build/jupyter_execute/flows_60_1.svg"
      }
     },
     "output_type": "execute_result"
    }
   ],
   "source": [
    "for nband in [10, 20]:\n",
    "    flow_with_file.register_nscf_task(nscf_input.new_with_vars(nband=nband), \n",
    "                                      deps={den_filepath: \"DEN\"}, append=False)\n",
    "\n",
    "print([task.input[\"nband\"] for task in flow_with_file.iflat_tasks()])\n",
    "flow_with_file.get_graphviz()"
   ]
  },
  {
   "cell_type": "markdown",
   "id": "dc37a2a3",
   "metadata": {},
   "source": [
    "At this point, you may ask why we need `Works` since all the examples presented so far \n",
    "mainly involve the `Flow` object.\n",
    "\n",
    "The answer is that `Works` allow us to encapsulate reusable logic in magic boxes \n",
    "that can perform lot of useful work. \n",
    "These boxes can then be connected together to generate more complicated workflows.\n",
    "We have already encountered the `BandStructureWork` at the beginning of this lesson\n",
    "and now it is time to introduce another fancy animal of the AbiPy zoo, the `PhononWork`."
   ]
  },
  {
   "cell_type": "code",
   "execution_count": 30,
   "id": "cee3434a",
   "metadata": {},
   "outputs": [
    {
     "data": {
      "text/html": [
       "<!DOCTYPE html PUBLIC \"-//W3C//DTD HTML 4.01//EN\"\n",
       "   \"http://www.w3.org/TR/html4/strict.dtd\">\n",
       "<!--\n",
       "generated by Pygments <https://pygments.org/>\n",
       "Copyright 2006-2021 by the Pygments team.\n",
       "Licensed under the BSD license, see LICENSE for details.\n",
       "-->\n",
       "<html>\n",
       "<head>\n",
       "  <title></title>\n",
       "  <meta http-equiv=\"content-type\" content=\"text/html; charset=None\">\n",
       "  <style type=\"text/css\">\n",
       "/*\n",
       "generated by Pygments <https://pygments.org/>\n",
       "Copyright 2006-2021 by the Pygments team.\n",
       "Licensed under the BSD license, see LICENSE for details.\n",
       "*/\n",
       "pre { line-height: 125%; }\n",
       "td.linenos .normal { color: inherit; background-color: transparent; padding-left: 5px; padding-right: 5px; }\n",
       "span.linenos { color: inherit; background-color: transparent; padding-left: 5px; padding-right: 5px; }\n",
       "td.linenos .special { color: #000000; background-color: #ffffc0; padding-left: 5px; padding-right: 5px; }\n",
       "span.linenos.special { color: #000000; background-color: #ffffc0; padding-left: 5px; padding-right: 5px; }\n",
       "body .hll { background-color: #ffffcc }\n",
       "body { background: #f8f8f8; }\n",
       "body .c { color: #408080; font-style: italic } /* Comment */\n",
       "body .err { border: 1px solid #FF0000 } /* Error */\n",
       "body .k { color: #008000; font-weight: bold } /* Keyword */\n",
       "body .o { color: #666666 } /* Operator */\n",
       "body .ch { color: #408080; font-style: italic } /* Comment.Hashbang */\n",
       "body .cm { color: #408080; font-style: italic } /* Comment.Multiline */\n",
       "body .cp { color: #BC7A00 } /* Comment.Preproc */\n",
       "body .cpf { color: #408080; font-style: italic } /* Comment.PreprocFile */\n",
       "body .c1 { color: #408080; font-style: italic } /* Comment.Single */\n",
       "body .cs { color: #408080; font-style: italic } /* Comment.Special */\n",
       "body .gd { color: #A00000 } /* Generic.Deleted */\n",
       "body .ge { font-style: italic } /* Generic.Emph */\n",
       "body .gr { color: #FF0000 } /* Generic.Error */\n",
       "body .gh { color: #000080; font-weight: bold } /* Generic.Heading */\n",
       "body .gi { color: #00A000 } /* Generic.Inserted */\n",
       "body .go { color: #888888 } /* Generic.Output */\n",
       "body .gp { color: #000080; font-weight: bold } /* Generic.Prompt */\n",
       "body .gs { font-weight: bold } /* Generic.Strong */\n",
       "body .gu { color: #800080; font-weight: bold } /* Generic.Subheading */\n",
       "body .gt { color: #0044DD } /* Generic.Traceback */\n",
       "body .kc { color: #008000; font-weight: bold } /* Keyword.Constant */\n",
       "body .kd { color: #008000; font-weight: bold } /* Keyword.Declaration */\n",
       "body .kn { color: #008000; font-weight: bold } /* Keyword.Namespace */\n",
       "body .kp { color: #008000 } /* Keyword.Pseudo */\n",
       "body .kr { color: #008000; font-weight: bold } /* Keyword.Reserved */\n",
       "body .kt { color: #B00040 } /* Keyword.Type */\n",
       "body .m { color: #666666 } /* Literal.Number */\n",
       "body .s { color: #BA2121 } /* Literal.String */\n",
       "body .na { color: #7D9029 } /* Name.Attribute */\n",
       "body .nb { color: #008000 } /* Name.Builtin */\n",
       "body .nc { color: #0000FF; font-weight: bold } /* Name.Class */\n",
       "body .no { color: #880000 } /* Name.Constant */\n",
       "body .nd { color: #AA22FF } /* Name.Decorator */\n",
       "body .ni { color: #999999; font-weight: bold } /* Name.Entity */\n",
       "body .ne { color: #D2413A; font-weight: bold } /* Name.Exception */\n",
       "body .nf { color: #0000FF } /* Name.Function */\n",
       "body .nl { color: #A0A000 } /* Name.Label */\n",
       "body .nn { color: #0000FF; font-weight: bold } /* Name.Namespace */\n",
       "body .nt { color: #008000; font-weight: bold } /* Name.Tag */\n",
       "body .nv { color: #19177C } /* Name.Variable */\n",
       "body .ow { color: #AA22FF; font-weight: bold } /* Operator.Word */\n",
       "body .w { color: #bbbbbb } /* Text.Whitespace */\n",
       "body .mb { color: #666666 } /* Literal.Number.Bin */\n",
       "body .mf { color: #666666 } /* Literal.Number.Float */\n",
       "body .mh { color: #666666 } /* Literal.Number.Hex */\n",
       "body .mi { color: #666666 } /* Literal.Number.Integer */\n",
       "body .mo { color: #666666 } /* Literal.Number.Oct */\n",
       "body .sa { color: #BA2121 } /* Literal.String.Affix */\n",
       "body .sb { color: #BA2121 } /* Literal.String.Backtick */\n",
       "body .sc { color: #BA2121 } /* Literal.String.Char */\n",
       "body .dl { color: #BA2121 } /* Literal.String.Delimiter */\n",
       "body .sd { color: #BA2121; font-style: italic } /* Literal.String.Doc */\n",
       "body .s2 { color: #BA2121 } /* Literal.String.Double */\n",
       "body .se { color: #BB6622; font-weight: bold } /* Literal.String.Escape */\n",
       "body .sh { color: #BA2121 } /* Literal.String.Heredoc */\n",
       "body .si { color: #BB6688; font-weight: bold } /* Literal.String.Interpol */\n",
       "body .sx { color: #008000 } /* Literal.String.Other */\n",
       "body .sr { color: #BB6688 } /* Literal.String.Regex */\n",
       "body .s1 { color: #BA2121 } /* Literal.String.Single */\n",
       "body .ss { color: #19177C } /* Literal.String.Symbol */\n",
       "body .bp { color: #008000 } /* Name.Builtin.Pseudo */\n",
       "body .fm { color: #0000FF } /* Name.Function.Magic */\n",
       "body .vc { color: #19177C } /* Name.Variable.Class */\n",
       "body .vg { color: #19177C } /* Name.Variable.Global */\n",
       "body .vi { color: #19177C } /* Name.Variable.Instance */\n",
       "body .vm { color: #19177C } /* Name.Variable.Magic */\n",
       "body .il { color: #666666 } /* Literal.Number.Integer.Long */\n",
       "\n",
       "  </style>\n",
       "</head>\n",
       "<body>\n",
       "<h2></h2>\n",
       "\n",
       "<div class=\"highlight\"><pre><span></span><span class=\"k\">class</span> <span class=\"nc\">PhononWork</span><span class=\"p\">(</span><span class=\"n\">Work</span><span class=\"p\">,</span> <span class=\"n\">MergeDdb</span><span class=\"p\">):</span>\n",
       "    <span class=\"sd\">&quot;&quot;&quot;</span>\n",
       "<span class=\"sd\">    This work consists of nirred Phonon tasks where nirred is</span>\n",
       "<span class=\"sd\">    the number of irreducible atomic perturbations for a given set of q-points.</span>\n",
       "<span class=\"sd\">    It provides the callback method (on_all_ok) that calls mrgddb (mrgdv) to merge</span>\n",
       "<span class=\"sd\">    all the partial DDB (POT) files produced.</span>\n",
       "<span class=\"sd\">    The two files are available in the output directory of the Work.</span>\n",
       "\n",
       "<span class=\"sd\">    .. rubric:: Inheritance Diagram</span>\n",
       "<span class=\"sd\">    .. inheritance-diagram:: PhononWork</span>\n",
       "<span class=\"sd\">    &quot;&quot;&quot;</span>\n",
       "</pre></div>\n",
       "</body>\n",
       "</html>\n"
      ],
      "text/plain": [
       "<IPython.core.display.HTML object>"
      ]
     },
     "execution_count": 30,
     "metadata": {},
     "output_type": "execute_result"
    }
   ],
   "source": [
    "abilab.print_doc(flowtk.PhononWork)"
   ]
  },
  {
   "cell_type": "code",
   "execution_count": 31,
   "id": "a7d6c571",
   "metadata": {},
   "outputs": [
    {
     "data": {
      "text/html": [
       "<!DOCTYPE html PUBLIC \"-//W3C//DTD HTML 4.01//EN\"\n",
       "   \"http://www.w3.org/TR/html4/strict.dtd\">\n",
       "<!--\n",
       "generated by Pygments <https://pygments.org/>\n",
       "Copyright 2006-2021 by the Pygments team.\n",
       "Licensed under the BSD license, see LICENSE for details.\n",
       "-->\n",
       "<html>\n",
       "<head>\n",
       "  <title></title>\n",
       "  <meta http-equiv=\"content-type\" content=\"text/html; charset=None\">\n",
       "  <style type=\"text/css\">\n",
       "/*\n",
       "generated by Pygments <https://pygments.org/>\n",
       "Copyright 2006-2021 by the Pygments team.\n",
       "Licensed under the BSD license, see LICENSE for details.\n",
       "*/\n",
       "pre { line-height: 125%; }\n",
       "td.linenos .normal { color: inherit; background-color: transparent; padding-left: 5px; padding-right: 5px; }\n",
       "span.linenos { color: inherit; background-color: transparent; padding-left: 5px; padding-right: 5px; }\n",
       "td.linenos .special { color: #000000; background-color: #ffffc0; padding-left: 5px; padding-right: 5px; }\n",
       "span.linenos.special { color: #000000; background-color: #ffffc0; padding-left: 5px; padding-right: 5px; }\n",
       "body .hll { background-color: #ffffcc }\n",
       "body { background: #f8f8f8; }\n",
       "body .c { color: #408080; font-style: italic } /* Comment */\n",
       "body .err { border: 1px solid #FF0000 } /* Error */\n",
       "body .k { color: #008000; font-weight: bold } /* Keyword */\n",
       "body .o { color: #666666 } /* Operator */\n",
       "body .ch { color: #408080; font-style: italic } /* Comment.Hashbang */\n",
       "body .cm { color: #408080; font-style: italic } /* Comment.Multiline */\n",
       "body .cp { color: #BC7A00 } /* Comment.Preproc */\n",
       "body .cpf { color: #408080; font-style: italic } /* Comment.PreprocFile */\n",
       "body .c1 { color: #408080; font-style: italic } /* Comment.Single */\n",
       "body .cs { color: #408080; font-style: italic } /* Comment.Special */\n",
       "body .gd { color: #A00000 } /* Generic.Deleted */\n",
       "body .ge { font-style: italic } /* Generic.Emph */\n",
       "body .gr { color: #FF0000 } /* Generic.Error */\n",
       "body .gh { color: #000080; font-weight: bold } /* Generic.Heading */\n",
       "body .gi { color: #00A000 } /* Generic.Inserted */\n",
       "body .go { color: #888888 } /* Generic.Output */\n",
       "body .gp { color: #000080; font-weight: bold } /* Generic.Prompt */\n",
       "body .gs { font-weight: bold } /* Generic.Strong */\n",
       "body .gu { color: #800080; font-weight: bold } /* Generic.Subheading */\n",
       "body .gt { color: #0044DD } /* Generic.Traceback */\n",
       "body .kc { color: #008000; font-weight: bold } /* Keyword.Constant */\n",
       "body .kd { color: #008000; font-weight: bold } /* Keyword.Declaration */\n",
       "body .kn { color: #008000; font-weight: bold } /* Keyword.Namespace */\n",
       "body .kp { color: #008000 } /* Keyword.Pseudo */\n",
       "body .kr { color: #008000; font-weight: bold } /* Keyword.Reserved */\n",
       "body .kt { color: #B00040 } /* Keyword.Type */\n",
       "body .m { color: #666666 } /* Literal.Number */\n",
       "body .s { color: #BA2121 } /* Literal.String */\n",
       "body .na { color: #7D9029 } /* Name.Attribute */\n",
       "body .nb { color: #008000 } /* Name.Builtin */\n",
       "body .nc { color: #0000FF; font-weight: bold } /* Name.Class */\n",
       "body .no { color: #880000 } /* Name.Constant */\n",
       "body .nd { color: #AA22FF } /* Name.Decorator */\n",
       "body .ni { color: #999999; font-weight: bold } /* Name.Entity */\n",
       "body .ne { color: #D2413A; font-weight: bold } /* Name.Exception */\n",
       "body .nf { color: #0000FF } /* Name.Function */\n",
       "body .nl { color: #A0A000 } /* Name.Label */\n",
       "body .nn { color: #0000FF; font-weight: bold } /* Name.Namespace */\n",
       "body .nt { color: #008000; font-weight: bold } /* Name.Tag */\n",
       "body .nv { color: #19177C } /* Name.Variable */\n",
       "body .ow { color: #AA22FF; font-weight: bold } /* Operator.Word */\n",
       "body .w { color: #bbbbbb } /* Text.Whitespace */\n",
       "body .mb { color: #666666 } /* Literal.Number.Bin */\n",
       "body .mf { color: #666666 } /* Literal.Number.Float */\n",
       "body .mh { color: #666666 } /* Literal.Number.Hex */\n",
       "body .mi { color: #666666 } /* Literal.Number.Integer */\n",
       "body .mo { color: #666666 } /* Literal.Number.Oct */\n",
       "body .sa { color: #BA2121 } /* Literal.String.Affix */\n",
       "body .sb { color: #BA2121 } /* Literal.String.Backtick */\n",
       "body .sc { color: #BA2121 } /* Literal.String.Char */\n",
       "body .dl { color: #BA2121 } /* Literal.String.Delimiter */\n",
       "body .sd { color: #BA2121; font-style: italic } /* Literal.String.Doc */\n",
       "body .s2 { color: #BA2121 } /* Literal.String.Double */\n",
       "body .se { color: #BB6622; font-weight: bold } /* Literal.String.Escape */\n",
       "body .sh { color: #BA2121 } /* Literal.String.Heredoc */\n",
       "body .si { color: #BB6688; font-weight: bold } /* Literal.String.Interpol */\n",
       "body .sx { color: #008000 } /* Literal.String.Other */\n",
       "body .sr { color: #BB6688 } /* Literal.String.Regex */\n",
       "body .s1 { color: #BA2121 } /* Literal.String.Single */\n",
       "body .ss { color: #19177C } /* Literal.String.Symbol */\n",
       "body .bp { color: #008000 } /* Name.Builtin.Pseudo */\n",
       "body .fm { color: #0000FF } /* Name.Function.Magic */\n",
       "body .vc { color: #19177C } /* Name.Variable.Class */\n",
       "body .vg { color: #19177C } /* Name.Variable.Global */\n",
       "body .vi { color: #19177C } /* Name.Variable.Instance */\n",
       "body .vm { color: #19177C } /* Name.Variable.Magic */\n",
       "body .il { color: #666666 } /* Literal.Number.Integer.Long */\n",
       "\n",
       "  </style>\n",
       "</head>\n",
       "<body>\n",
       "<h2></h2>\n",
       "\n",
       "<div class=\"highlight\"><pre><span></span>    <span class=\"nd\">@classmethod</span>\n",
       "    <span class=\"k\">def</span> <span class=\"nf\">from_scf_task</span><span class=\"p\">(</span><span class=\"bp\">cls</span><span class=\"p\">,</span> <span class=\"n\">scf_task</span><span class=\"p\">,</span> <span class=\"n\">qpoints</span><span class=\"p\">,</span> <span class=\"n\">is_ngqpt</span><span class=\"o\">=</span><span class=\"kc\">False</span><span class=\"p\">,</span> <span class=\"n\">with_becs</span><span class=\"o\">=</span><span class=\"kc\">False</span><span class=\"p\">,</span>\n",
       "                      <span class=\"n\">with_quad</span><span class=\"o\">=</span><span class=\"kc\">False</span><span class=\"p\">,</span> <span class=\"n\">with_flexoe</span><span class=\"o\">=</span><span class=\"kc\">False</span><span class=\"p\">,</span> <span class=\"n\">with_dvdb</span><span class=\"o\">=</span><span class=\"kc\">True</span><span class=\"p\">,</span>\n",
       "                      <span class=\"n\">tolerance</span><span class=\"o\">=</span><span class=\"kc\">None</span><span class=\"p\">,</span> <span class=\"n\">ddk_tolerance</span><span class=\"o\">=</span><span class=\"kc\">None</span><span class=\"p\">,</span> <span class=\"n\">prtwf</span><span class=\"o\">=-</span><span class=\"mi\">1</span><span class=\"p\">,</span> <span class=\"n\">manager</span><span class=\"o\">=</span><span class=\"kc\">None</span><span class=\"p\">):</span>\n",
       "        <span class=\"sd\">&quot;&quot;&quot;</span>\n",
       "<span class=\"sd\">        Construct a `PhononWork` from a |ScfTask| object.</span>\n",
       "<span class=\"sd\">        The input file for phonons is automatically generated from the input of the ScfTask.</span>\n",
       "<span class=\"sd\">        Each phonon task depends on the WFK file produced by the `scf_task`.</span>\n",
       "\n",
       "<span class=\"sd\">        Args:</span>\n",
       "<span class=\"sd\">            scf_task: |ScfTask| object.</span>\n",
       "<span class=\"sd\">            qpoints: q-points in reduced coordinates. Accepts single q-point, list of q-points</span>\n",
       "<span class=\"sd\">                or three integers defining the q-mesh if `is_ngqpt`.</span>\n",
       "<span class=\"sd\">            is_ngqpt: True if `qpoints` should be interpreted as divisions instead of q-points.</span>\n",
       "<span class=\"sd\">            with_becs: Activate calculation of Electric field and Born effective charges.</span>\n",
       "<span class=\"sd\">            with_quad: Activate calculation of dynamical quadrupoles. Require `with_becs`</span>\n",
       "<span class=\"sd\">                Note that only selected features are compatible with dynamical quadrupoles.</span>\n",
       "<span class=\"sd\">                Please consult &lt;https://docs.abinit.org/topics/longwave/&gt;</span>\n",
       "<span class=\"sd\">            with_flexoe: True to activate computation of flexoelectric tensor. Require `with_becs`</span>\n",
       "<span class=\"sd\">            with_dvdb: True to merge POT1 files associated to atomic perturbations in the DVDB file</span>\n",
       "<span class=\"sd\">                at the end of the calculation</span>\n",
       "<span class=\"sd\">            tolerance: dict {&quot;varname&quot;: value} with the tolerance to be used in the phonon run.</span>\n",
       "<span class=\"sd\">                None to use AbiPy default.</span>\n",
       "<span class=\"sd\">            ddk_tolerance: dict {&quot;varname&quot;: value} with the tolerance used in the DDK run if with_becs.</span>\n",
       "<span class=\"sd\">                None to use AbiPy default.</span>\n",
       "<span class=\"sd\">            prtwf: Controls the output of the first-order WFK.</span>\n",
       "<span class=\"sd\">                By default we set it to -1 when q != 0 so that AbiPy is still able</span>\n",
       "<span class=\"sd\">                to restart the DFPT task if the calculation is not converged (worst case scenario)</span>\n",
       "<span class=\"sd\">                but we avoid the output of the 1-st WFK if the calculation converged successfully.</span>\n",
       "<span class=\"sd\">                Non-linear DFT applications should not be affected since they assume q == 0.</span>\n",
       "<span class=\"sd\">            manager: |TaskManager| object.</span>\n",
       "<span class=\"sd\">        &quot;&quot;&quot;</span>\n",
       "</pre></div>\n",
       "</body>\n",
       "</html>\n"
      ],
      "text/plain": [
       "<IPython.core.display.HTML object>"
      ]
     },
     "execution_count": 31,
     "metadata": {},
     "output_type": "execute_result"
    }
   ],
   "source": [
    "abilab.print_doc(flowtk.PhononWork.from_scf_task)"
   ]
  },
  {
   "cell_type": "markdown",
   "id": "92b4db53",
   "metadata": {},
   "source": [
    "The docstring seems to suggest that if I have a `scf_task`, I can construct a magic box\n",
    "to compute phonons but wait, I already have such a task! \n",
    "Actually I already have another magic box to compute the electronic band structure \n",
    "and it would be really great if I could compute the electronic and vibrational properties in a single flow.\n",
    "Let's connect the two boxes together with:"
   ]
  },
  {
   "cell_type": "code",
   "execution_count": 32,
   "id": "48293352",
   "metadata": {},
   "outputs": [
    {
     "data": {
      "image/svg+xml": [
       "<?xml version=\"1.0\" encoding=\"UTF-8\" standalone=\"no\"?>\n",
       "<!DOCTYPE svg PUBLIC \"-//W3C//DTD SVG 1.1//EN\"\n",
       " \"http://www.w3.org/Graphics/SVG/1.1/DTD/svg11.dtd\">\n",
       "<!-- Generated by graphviz version 2.42.3 (20191010.1750)\n",
       " -->\n",
       "<!-- Title: flow Pages: 1 -->\n",
       "<svg width=\"397pt\" height=\"207pt\"\n",
       " viewBox=\"0.00 0.00 397.00 207.00\" xmlns=\"http://www.w3.org/2000/svg\" xmlns:xlink=\"http://www.w3.org/1999/xlink\">\n",
       "<g id=\"graph0\" class=\"graph\" transform=\"scale(1 1) rotate(0) translate(4 181)\">\n",
       "<title>flow</title>\n",
       "<polygon fill=\"white\" stroke=\"transparent\" points=\"-4,26 -4,-181 393,-181 393,26 -4,26\"/>\n",
       "<text text-anchor=\"start\" x=\"80.5\" y=\"15.2\" font-family=\"Times,serif\" font-size=\"14.00\">Flow, node_id=438742, workdir=phflow</text>\n",
       "<g id=\"clust1\" class=\"cluster\">\n",
       "<title>clusterw0</title>\n",
       "<path fill=\"#e0eeee\" stroke=\"black\" d=\"M12.43,-55.27C12.43,-55.27 145.43,-55.27 145.43,-55.27 151.43,-55.27 157.43,-61.27 157.43,-67.27 157.43,-67.27 157.43,-165.27 157.43,-165.27 157.43,-171.27 151.43,-177.27 145.43,-177.27 145.43,-177.27 12.43,-177.27 12.43,-177.27 6.43,-177.27 0.43,-171.27 0.43,-165.27 0.43,-165.27 0.43,-67.27 0.43,-67.27 0.43,-61.27 6.43,-55.27 12.43,-55.27\"/>\n",
       "<text text-anchor=\"middle\" x=\"78.93\" y=\"-162.07\" font-family=\"Times,serif\" font-size=\"14.00\">BandStructureWork (w0)</text>\n",
       "</g>\n",
       "<g id=\"clust2\" class=\"cluster\">\n",
       "<title>clusterw1</title>\n",
       "<path fill=\"#e0eeee\" stroke=\"black\" d=\"M177.84,0.38C177.84,0.38 376.84,0.38 376.84,0.38 382.84,0.38 388.84,-5.62 388.84,-11.62 388.84,-11.62 388.84,-161.62 388.84,-161.62 388.84,-167.62 382.84,-173.62 376.84,-173.62 376.84,-173.62 177.84,-173.62 177.84,-173.62 171.84,-173.62 165.84,-167.62 165.84,-161.62 165.84,-161.62 165.84,-11.62 165.84,-11.62 165.84,-5.62 171.84,0.38 177.84,0.38\"/>\n",
       "<text text-anchor=\"middle\" x=\"277.34\" y=\"-158.42\" font-family=\"Times,serif\" font-size=\"14.00\">PhononWork (w1)</text>\n",
       "</g>\n",
       "<!-- w0_t0 -->\n",
       "<g id=\"node1\" class=\"node\">\n",
       "<title>w0_t0</title>\n",
       "<ellipse fill=\"#ff0000\" stroke=\"#ff0000\" cx=\"108.92\" cy=\"-129.63\" rx=\"27.89\" ry=\"18\"/>\n",
       "<text text-anchor=\"middle\" x=\"108.92\" y=\"-131.23\" font-family=\"Times,serif\" font-size=\"8.00\">w0_t0</text>\n",
       "<text text-anchor=\"middle\" x=\"108.92\" y=\"-123.23\" font-family=\"Times,serif\" font-size=\"8.00\">ScfTask</text>\n",
       "</g>\n",
       "<!-- w0_t1 -->\n",
       "<g id=\"node2\" class=\"node\">\n",
       "<title>w0_t1</title>\n",
       "<ellipse fill=\"#c85064\" stroke=\"#c85064\" cx=\"52.67\" cy=\"-80.91\" rx=\"30.85\" ry=\"18\"/>\n",
       "<text text-anchor=\"middle\" x=\"52.67\" y=\"-82.51\" font-family=\"Times,serif\" font-size=\"8.00\">w0_t1</text>\n",
       "<text text-anchor=\"middle\" x=\"52.67\" y=\"-74.51\" font-family=\"Times,serif\" font-size=\"8.00\">NscfTask</text>\n",
       "</g>\n",
       "<!-- w0_t0&#45;&gt;w0_t1 -->\n",
       "<g id=\"edge1\" class=\"edge\">\n",
       "<title>w0_t0&#45;&gt;w0_t1</title>\n",
       "<path fill=\"none\" stroke=\"#ff0000\" d=\"M92.04,-115.01C87.56,-111.13 82.63,-106.86 77.82,-102.69\"/>\n",
       "<polygon fill=\"#ff0000\" stroke=\"#ff0000\" points=\"79.77,-99.75 69.92,-95.85 75.19,-105.04 79.77,-99.75\"/>\n",
       "<text text-anchor=\"middle\" x=\"99.32\" y=\"-97.65\" font-family=\"Times,serif\" font-size=\"14.00\">DEN</text>\n",
       "</g>\n",
       "<!-- w1_t0 -->\n",
       "<g id=\"node3\" class=\"node\">\n",
       "<title>w1_t0</title>\n",
       "<ellipse fill=\"#0096fa\" stroke=\"#0096fa\" cx=\"283.88\" cy=\"-25.31\" rx=\"37.38\" ry=\"18\"/>\n",
       "<text text-anchor=\"middle\" x=\"283.88\" y=\"-26.91\" font-family=\"Times,serif\" font-size=\"8.00\">w1_t0</text>\n",
       "<text text-anchor=\"middle\" x=\"283.88\" y=\"-18.91\" font-family=\"Times,serif\" font-size=\"8.00\">PhononTask</text>\n",
       "</g>\n",
       "<!-- w0_t0&#45;&gt;w1_t0 -->\n",
       "<g id=\"edge2\" class=\"edge\">\n",
       "<title>w0_t0&#45;&gt;w1_t0</title>\n",
       "<path fill=\"none\" stroke=\"#ff0000\" d=\"M129.68,-117.25C159.76,-99.31 215.75,-65.93 251.35,-44.71\"/>\n",
       "<polygon fill=\"#ff0000\" stroke=\"#ff0000\" points=\"253.57,-47.45 260.37,-39.33 249.99,-41.44 253.57,-47.45\"/>\n",
       "<text text-anchor=\"middle\" x=\"174.96\" y=\"-69.78\" font-family=\"Times,serif\" font-size=\"14.00\">WFK</text>\n",
       "</g>\n",
       "<!-- w1_t1 -->\n",
       "<g id=\"node4\" class=\"node\">\n",
       "<title>w1_t1</title>\n",
       "<ellipse fill=\"#0096fa\" stroke=\"#0096fa\" cx=\"343.97\" cy=\"-75.79\" rx=\"37.38\" ry=\"18\"/>\n",
       "<text text-anchor=\"middle\" x=\"343.97\" y=\"-77.39\" font-family=\"Times,serif\" font-size=\"8.00\">w1_t1</text>\n",
       "<text text-anchor=\"middle\" x=\"343.97\" y=\"-69.39\" font-family=\"Times,serif\" font-size=\"8.00\">PhononTask</text>\n",
       "</g>\n",
       "<!-- w0_t0&#45;&gt;w1_t1 -->\n",
       "<g id=\"edge3\" class=\"edge\">\n",
       "<title>w0_t0&#45;&gt;w1_t1</title>\n",
       "<path fill=\"none\" stroke=\"#ff0000\" d=\"M135.43,-123.55C175.44,-114.39 251.73,-96.92 300.11,-85.83\"/>\n",
       "<polygon fill=\"#ff0000\" stroke=\"#ff0000\" points=\"301.02,-89.22 309.98,-83.57 299.46,-82.39 301.02,-89.22\"/>\n",
       "<text text-anchor=\"middle\" x=\"202.21\" y=\"-107.49\" font-family=\"Times,serif\" font-size=\"14.00\">WFK</text>\n",
       "</g>\n",
       "<!-- w1_t2 -->\n",
       "<g id=\"node5\" class=\"node\">\n",
       "<title>w1_t2</title>\n",
       "<ellipse fill=\"#0096fa\" stroke=\"#0096fa\" cx=\"211.31\" cy=\"-85.27\" rx=\"37.38\" ry=\"18\"/>\n",
       "<text text-anchor=\"middle\" x=\"211.31\" y=\"-86.87\" font-family=\"Times,serif\" font-size=\"8.00\">w1_t2</text>\n",
       "<text text-anchor=\"middle\" x=\"211.31\" y=\"-78.87\" font-family=\"Times,serif\" font-size=\"8.00\">PhononTask</text>\n",
       "</g>\n",
       "<!-- w0_t0&#45;&gt;w1_t2 -->\n",
       "<g id=\"edge4\" class=\"edge\">\n",
       "<title>w0_t0&#45;&gt;w1_t2</title>\n",
       "<path fill=\"none\" stroke=\"#ff0000\" d=\"M132.15,-119.56C144.52,-114.2 160.03,-107.48 174.03,-101.42\"/>\n",
       "<polygon fill=\"#ff0000\" stroke=\"#ff0000\" points=\"175.65,-104.53 183.43,-97.35 172.86,-98.11 175.65,-104.53\"/>\n",
       "<text text-anchor=\"middle\" x=\"137.54\" y=\"-99.29\" font-family=\"Times,serif\" font-size=\"14.00\">WFK</text>\n",
       "</g>\n",
       "<!-- w1_t3 -->\n",
       "<g id=\"node6\" class=\"node\">\n",
       "<title>w1_t3</title>\n",
       "<ellipse fill=\"#0096fa\" stroke=\"#0096fa\" cx=\"301.22\" cy=\"-125.96\" rx=\"37.38\" ry=\"18\"/>\n",
       "<text text-anchor=\"middle\" x=\"301.22\" y=\"-127.56\" font-family=\"Times,serif\" font-size=\"8.00\">w1_t3</text>\n",
       "<text text-anchor=\"middle\" x=\"301.22\" y=\"-119.56\" font-family=\"Times,serif\" font-size=\"8.00\">PhononTask</text>\n",
       "</g>\n",
       "<!-- w0_t0&#45;&gt;w1_t3 -->\n",
       "<g id=\"edge5\" class=\"edge\">\n",
       "<title>w0_t0&#45;&gt;w1_t3</title>\n",
       "<path fill=\"none\" stroke=\"#ff0000\" d=\"M136.88,-129.09C167.41,-128.51 216.84,-127.57 253.52,-126.87\"/>\n",
       "<polygon fill=\"#ff0000\" stroke=\"#ff0000\" points=\"254.05,-130.36 263.98,-126.67 253.92,-123.36 254.05,-130.36\"/>\n",
       "<text text-anchor=\"middle\" x=\"179.65\" y=\"-130.78\" font-family=\"Times,serif\" font-size=\"14.00\">WFK</text>\n",
       "</g>\n",
       "</g>\n",
       "</svg>\n"
      ],
      "text/plain": [
       "<graphviz.dot.Digraph at 0x7fa711829320>"
      ]
     },
     "execution_count": 32,
     "metadata": {
      "filenames": {
       "image/svg+xml": "/Users/gmatteo/git_repos/abipy_book/abipy_book/_build/jupyter_execute/flows_65_0.svg"
      }
     },
     "output_type": "execute_result"
    }
   ],
   "source": [
    "# Create new flow.\n",
    "ph_flow = flowtk.Flow(workdir=\"phflow\")\n",
    "\n",
    "# Band structure (SCF + NSCF)\n",
    "bands_work = flowtk.BandStructureWork(scf_input, nscf_input, dos_inputs=None)\n",
    "ph_flow.register_work(bands_work)    \n",
    "    \n",
    "# Build second work from scf_task.\n",
    "scf_task = bands_work[0]\n",
    "ph_work = flowtk.PhononWork.from_scf_task(scf_task, [2, 2, 2], is_ngqpt=True, tolerance=None)\n",
    "ph_flow.register_work(ph_work) \n",
    "\n",
    "ph_flow.get_graphviz()"
   ]
  },
  {
   "cell_type": "markdown",
   "id": "c64478e9",
   "metadata": {},
   "source": [
    "Now it turns out that the `PhononWork` merges all the DDB files produced by its `PhononTask`\n",
    "and put this final output file in its outdir. \n",
    "So from the AbiPy perspective, a `PhononWork` is not that different from a `ScfTask` that produces e.g. a DEN file.\n",
    "This means that we can connect other magic boxes to our `PhononWork` e.g. a set of `EPhTasks` that \n",
    "require a DDB file and another input file with the DFPT potentials \n",
    "(DVDB, merged by `PhononWork` similarly to what is done for the DDB)."
   ]
  },
  {
   "cell_type": "code",
   "execution_count": 33,
   "id": "6a7ac2cc",
   "metadata": {},
   "outputs": [
    {
     "data": {
      "image/svg+xml": [
       "<?xml version=\"1.0\" encoding=\"UTF-8\" standalone=\"no\"?>\n",
       "<!DOCTYPE svg PUBLIC \"-//W3C//DTD SVG 1.1//EN\"\n",
       " \"http://www.w3.org/Graphics/SVG/1.1/DTD/svg11.dtd\">\n",
       "<!-- Generated by graphviz version 2.42.3 (20191010.1750)\n",
       " -->\n",
       "<!-- Title: flow Pages: 1 -->\n",
       "<svg width=\"506pt\" height=\"281pt\"\n",
       " viewBox=\"0.00 0.00 506.00 281.00\" xmlns=\"http://www.w3.org/2000/svg\" xmlns:xlink=\"http://www.w3.org/1999/xlink\">\n",
       "<g id=\"graph0\" class=\"graph\" transform=\"scale(1 1) rotate(0) translate(4 255)\">\n",
       "<title>flow</title>\n",
       "<polygon fill=\"white\" stroke=\"transparent\" points=\"-4,26 -4,-255 502,-255 502,26 -4,26\"/>\n",
       "<text text-anchor=\"start\" x=\"135\" y=\"15.2\" font-family=\"Times,serif\" font-size=\"14.00\">Flow, node_id=438742, workdir=phflow</text>\n",
       "<g id=\"clust1\" class=\"cluster\">\n",
       "<title>clusterw0</title>\n",
       "<path fill=\"#e0eeee\" stroke=\"black\" d=\"M12.48,-151.02C12.48,-151.02 145.48,-151.02 145.48,-151.02 151.48,-151.02 157.48,-157.02 157.48,-163.02 157.48,-163.02 157.48,-239.02 157.48,-239.02 157.48,-245.02 151.48,-251.02 145.48,-251.02 145.48,-251.02 12.48,-251.02 12.48,-251.02 6.48,-251.02 0.48,-245.02 0.48,-239.02 0.48,-239.02 0.48,-163.02 0.48,-163.02 0.48,-157.02 6.48,-151.02 12.48,-151.02\"/>\n",
       "<text text-anchor=\"middle\" x=\"78.98\" y=\"-235.82\" font-family=\"Times,serif\" font-size=\"14.00\">BandStructureWork (w0)</text>\n",
       "</g>\n",
       "<g id=\"clust2\" class=\"cluster\">\n",
       "<title>clusterw1</title>\n",
       "<path fill=\"#e0eeee\" stroke=\"black\" d=\"M287.84,-50.17C287.84,-50.17 485.84,-50.17 485.84,-50.17 491.84,-50.17 497.84,-56.17 497.84,-62.17 497.84,-62.17 497.84,-208.17 497.84,-208.17 497.84,-214.17 491.84,-220.17 485.84,-220.17 485.84,-220.17 287.84,-220.17 287.84,-220.17 281.84,-220.17 275.84,-214.17 275.84,-208.17 275.84,-208.17 275.84,-62.17 275.84,-62.17 275.84,-56.17 281.84,-50.17 287.84,-50.17\"/>\n",
       "<text text-anchor=\"middle\" x=\"386.84\" y=\"-204.97\" font-family=\"Times,serif\" font-size=\"14.00\">PhononWork (w1)</text>\n",
       "</g>\n",
       "<g id=\"clust3\" class=\"cluster\">\n",
       "<title>clusterw2</title>\n",
       "<path fill=\"#e0eeee\" stroke=\"black\" d=\"M110.83,0.33C110.83,0.33 238.83,0.33 238.83,0.33 244.83,0.33 250.83,-5.67 250.83,-11.67 250.83,-11.67 250.83,-107.67 250.83,-107.67 250.83,-113.67 244.83,-119.67 238.83,-119.67 238.83,-119.67 110.83,-119.67 110.83,-119.67 104.83,-119.67 98.83,-113.67 98.83,-107.67 98.83,-107.67 98.83,-11.67 98.83,-11.67 98.83,-5.67 104.83,0.33 110.83,0.33\"/>\n",
       "<text text-anchor=\"middle\" x=\"174.83\" y=\"-104.47\" font-family=\"Times,serif\" font-size=\"14.00\">Work (w2)</text>\n",
       "</g>\n",
       "<!-- w0_t0 -->\n",
       "<g id=\"node1\" class=\"node\">\n",
       "<title>w0_t0</title>\n",
       "<ellipse fill=\"#ff0000\" stroke=\"#ff0000\" cx=\"42.8\" cy=\"-203.14\" rx=\"27.89\" ry=\"18\"/>\n",
       "<text text-anchor=\"middle\" x=\"42.8\" y=\"-204.74\" font-family=\"Times,serif\" font-size=\"8.00\">w0_t0</text>\n",
       "<text text-anchor=\"middle\" x=\"42.8\" y=\"-196.74\" font-family=\"Times,serif\" font-size=\"8.00\">ScfTask</text>\n",
       "</g>\n",
       "<!-- w0_t1 -->\n",
       "<g id=\"node2\" class=\"node\">\n",
       "<title>w0_t1</title>\n",
       "<ellipse fill=\"#c85064\" stroke=\"#c85064\" cx=\"112.75\" cy=\"-177.07\" rx=\"30.85\" ry=\"18\"/>\n",
       "<text text-anchor=\"middle\" x=\"112.75\" y=\"-178.67\" font-family=\"Times,serif\" font-size=\"8.00\">w0_t1</text>\n",
       "<text text-anchor=\"middle\" x=\"112.75\" y=\"-170.67\" font-family=\"Times,serif\" font-size=\"8.00\">NscfTask</text>\n",
       "</g>\n",
       "<!-- w0_t0&#45;&gt;w0_t1 -->\n",
       "<g id=\"edge1\" class=\"edge\">\n",
       "<title>w0_t0&#45;&gt;w0_t1</title>\n",
       "<path fill=\"none\" stroke=\"#ff0000\" d=\"M67.26,-194.02C70.33,-192.88 73.53,-191.69 76.73,-190.5\"/>\n",
       "<polygon fill=\"#ff0000\" stroke=\"#ff0000\" points=\"78.12,-193.71 86.27,-186.94 75.68,-187.15 78.12,-193.71\"/>\n",
       "<text text-anchor=\"middle\" x=\"86.38\" y=\"-195.06\" font-family=\"Times,serif\" font-size=\"14.00\">DEN</text>\n",
       "</g>\n",
       "<!-- w1_t0 -->\n",
       "<g id=\"node3\" class=\"node\">\n",
       "<title>w1_t0</title>\n",
       "<ellipse fill=\"#0096fa\" stroke=\"#0096fa\" cx=\"411.67\" cy=\"-76.6\" rx=\"37.38\" ry=\"18\"/>\n",
       "<text text-anchor=\"middle\" x=\"411.67\" y=\"-78.2\" font-family=\"Times,serif\" font-size=\"8.00\">w1_t0</text>\n",
       "<text text-anchor=\"middle\" x=\"411.67\" y=\"-70.2\" font-family=\"Times,serif\" font-size=\"8.00\">PhononTask</text>\n",
       "</g>\n",
       "<!-- w0_t0&#45;&gt;w1_t0 -->\n",
       "<g id=\"edge2\" class=\"edge\">\n",
       "<title>w0_t0&#45;&gt;w1_t0</title>\n",
       "<path fill=\"none\" stroke=\"#ff0000\" d=\"M67.57,-194.64C130.1,-173.19 294.79,-116.7 371.4,-90.42\"/>\n",
       "<polygon fill=\"#ff0000\" stroke=\"#ff0000\" points=\"372.85,-93.62 381.17,-87.06 370.58,-87 372.85,-93.62\"/>\n",
       "<text text-anchor=\"middle\" x=\"203.93\" y=\"-131.33\" font-family=\"Times,serif\" font-size=\"14.00\">WFK</text>\n",
       "</g>\n",
       "<!-- w1_t1 -->\n",
       "<g id=\"node4\" class=\"node\">\n",
       "<title>w1_t1</title>\n",
       "<ellipse fill=\"#0096fa\" stroke=\"#0096fa\" cx=\"452.2\" cy=\"-129.04\" rx=\"37.38\" ry=\"18\"/>\n",
       "<text text-anchor=\"middle\" x=\"452.2\" y=\"-130.64\" font-family=\"Times,serif\" font-size=\"8.00\">w1_t1</text>\n",
       "<text text-anchor=\"middle\" x=\"452.2\" y=\"-122.64\" font-family=\"Times,serif\" font-size=\"8.00\">PhononTask</text>\n",
       "</g>\n",
       "<!-- w0_t0&#45;&gt;w1_t1 -->\n",
       "<g id=\"edge3\" class=\"edge\">\n",
       "<title>w0_t0&#45;&gt;w1_t1</title>\n",
       "<path fill=\"none\" stroke=\"#ff0000\" d=\"M69.97,-198.22C139.05,-185.72 321.88,-152.63 407.19,-137.19\"/>\n",
       "<polygon fill=\"#ff0000\" stroke=\"#ff0000\" points=\"407.87,-140.62 417.09,-135.4 406.63,-133.73 407.87,-140.62\"/>\n",
       "<text text-anchor=\"middle\" x=\"254.13\" y=\"-170.51\" font-family=\"Times,serif\" font-size=\"14.00\">WFK</text>\n",
       "</g>\n",
       "<!-- w1_t2 -->\n",
       "<g id=\"node5\" class=\"node\">\n",
       "<title>w1_t2</title>\n",
       "<ellipse fill=\"#0096fa\" stroke=\"#0096fa\" cx=\"321.36\" cy=\"-107\" rx=\"37.38\" ry=\"18\"/>\n",
       "<text text-anchor=\"middle\" x=\"321.36\" y=\"-108.6\" font-family=\"Times,serif\" font-size=\"8.00\">w1_t2</text>\n",
       "<text text-anchor=\"middle\" x=\"321.36\" y=\"-100.6\" font-family=\"Times,serif\" font-size=\"8.00\">PhononTask</text>\n",
       "</g>\n",
       "<!-- w0_t0&#45;&gt;w1_t2 -->\n",
       "<g id=\"edge4\" class=\"edge\">\n",
       "<title>w0_t0&#45;&gt;w1_t2</title>\n",
       "<path fill=\"none\" stroke=\"#ff0000\" d=\"M67.52,-194.61C115.72,-177.97 222.68,-141.06 281.2,-120.86\"/>\n",
       "<polygon fill=\"#ff0000\" stroke=\"#ff0000\" points=\"282.54,-124.1 290.85,-117.53 280.25,-117.49 282.54,-124.1\"/>\n",
       "<text text-anchor=\"middle\" x=\"158.8\" y=\"-160.54\" font-family=\"Times,serif\" font-size=\"14.00\">WFK</text>\n",
       "</g>\n",
       "<!-- w1_t3 -->\n",
       "<g id=\"node6\" class=\"node\">\n",
       "<title>w1_t3</title>\n",
       "<ellipse fill=\"#0096fa\" stroke=\"#0096fa\" cx=\"368.19\" cy=\"-172\" rx=\"37.38\" ry=\"18\"/>\n",
       "<text text-anchor=\"middle\" x=\"368.19\" y=\"-173.6\" font-family=\"Times,serif\" font-size=\"8.00\">w1_t3</text>\n",
       "<text text-anchor=\"middle\" x=\"368.19\" y=\"-165.6\" font-family=\"Times,serif\" font-size=\"8.00\">PhononTask</text>\n",
       "</g>\n",
       "<!-- w0_t0&#45;&gt;w1_t3 -->\n",
       "<g id=\"edge5\" class=\"edge\">\n",
       "<title>w0_t0&#45;&gt;w1_t3</title>\n",
       "<path fill=\"none\" stroke=\"#ff0000\" d=\"M70.54,-200.49C126.31,-195.15 252.54,-183.07 321.34,-176.49\"/>\n",
       "<polygon fill=\"#ff0000\" stroke=\"#ff0000\" points=\"321.84,-179.96 331.46,-175.52 321.18,-172.99 321.84,-179.96\"/>\n",
       "<text text-anchor=\"middle\" x=\"180.38\" y=\"-191.29\" font-family=\"Times,serif\" font-size=\"14.00\">WFK</text>\n",
       "</g>\n",
       "<!-- w2_t0 -->\n",
       "<g id=\"node7\" class=\"node\">\n",
       "<title>w2_t0</title>\n",
       "<ellipse fill=\"#ff8000\" stroke=\"#ff8000\" cx=\"136.43\" cy=\"-26.41\" rx=\"29.37\" ry=\"18\"/>\n",
       "<text text-anchor=\"middle\" x=\"136.43\" y=\"-28.01\" font-family=\"Times,serif\" font-size=\"8.00\">w2_t0</text>\n",
       "<text text-anchor=\"middle\" x=\"136.43\" y=\"-20.01\" font-family=\"Times,serif\" font-size=\"8.00\">EphTask</text>\n",
       "</g>\n",
       "<!-- w0_t1&#45;&gt;w2_t0 -->\n",
       "<g id=\"edge6\" class=\"edge\">\n",
       "<title>w0_t1&#45;&gt;w2_t0</title>\n",
       "<path fill=\"none\" stroke=\"#c85064\" d=\"M115.6,-158.9C119.68,-132.99 127.19,-85.22 131.99,-54.67\"/>\n",
       "<polygon fill=\"#c85064\" stroke=\"#c85064\" points=\"135.47,-55.07 133.57,-44.65 128.56,-53.98 135.47,-55.07\"/>\n",
       "<text text-anchor=\"middle\" x=\"108.24\" y=\"-109.58\" font-family=\"Times,serif\" font-size=\"14.00\">WFK</text>\n",
       "</g>\n",
       "<!-- w2_t1 -->\n",
       "<g id=\"node8\" class=\"node\">\n",
       "<title>w2_t1</title>\n",
       "<ellipse fill=\"#ff8000\" stroke=\"#ff8000\" cx=\"213.79\" cy=\"-25.22\" rx=\"29.37\" ry=\"18\"/>\n",
       "<text text-anchor=\"middle\" x=\"213.79\" y=\"-26.82\" font-family=\"Times,serif\" font-size=\"8.00\">w2_t1</text>\n",
       "<text text-anchor=\"middle\" x=\"213.79\" y=\"-18.82\" font-family=\"Times,serif\" font-size=\"8.00\">EphTask</text>\n",
       "</g>\n",
       "<!-- w0_t1&#45;&gt;w2_t1 -->\n",
       "<g id=\"edge7\" class=\"edge\">\n",
       "<title>w0_t1&#45;&gt;w2_t1</title>\n",
       "<path fill=\"none\" stroke=\"#c85064\" d=\"M123.95,-160.24C141.62,-133.67 176.11,-81.85 196.84,-50.7\"/>\n",
       "<polygon fill=\"#c85064\" stroke=\"#c85064\" points=\"199.92,-52.39 202.54,-42.13 194.09,-48.51 199.92,-52.39\"/>\n",
       "<text text-anchor=\"middle\" x=\"144.84\" y=\"-94.27\" font-family=\"Times,serif\" font-size=\"14.00\">WFK</text>\n",
       "</g>\n",
       "<!-- w2_t2 -->\n",
       "<g id=\"node9\" class=\"node\">\n",
       "<title>w2_t2</title>\n",
       "<ellipse fill=\"#ff8000\" stroke=\"#ff8000\" cx=\"171.17\" cy=\"-71.54\" rx=\"29.37\" ry=\"18\"/>\n",
       "<text text-anchor=\"middle\" x=\"171.17\" y=\"-73.14\" font-family=\"Times,serif\" font-size=\"8.00\">w2_t2</text>\n",
       "<text text-anchor=\"middle\" x=\"171.17\" y=\"-65.14\" font-family=\"Times,serif\" font-size=\"8.00\">EphTask</text>\n",
       "</g>\n",
       "<!-- w0_t1&#45;&gt;w2_t2 -->\n",
       "<g id=\"edge8\" class=\"edge\">\n",
       "<title>w0_t1&#45;&gt;w2_t2</title>\n",
       "<path fill=\"none\" stroke=\"#c85064\" d=\"M122.39,-159.64C131.75,-142.74 146.07,-116.88 156.77,-97.54\"/>\n",
       "<polygon fill=\"#c85064\" stroke=\"#c85064\" points=\"159.92,-99.09 161.7,-88.64 153.79,-95.7 159.92,-99.09\"/>\n",
       "<text text-anchor=\"middle\" x=\"124.03\" y=\"-131.39\" font-family=\"Times,serif\" font-size=\"14.00\">WFK</text>\n",
       "</g>\n",
       "<!-- DDB (w1) -->\n",
       "<g id=\"node10\" class=\"node\">\n",
       "<title>DDB (w1)</title>\n",
       "<ellipse fill=\"#b2dfee\" stroke=\"#b2dfee\" cx=\"217.28\" cy=\"-161.07\" rx=\"47.88\" ry=\"18\"/>\n",
       "<text text-anchor=\"middle\" x=\"217.28\" y=\"-156.87\" font-family=\"Times,serif\" font-size=\"14.00\">DDB (w1)</text>\n",
       "</g>\n",
       "<!-- DDB (w1)&#45;&gt;w2_t0 -->\n",
       "<g id=\"edge9\" class=\"edge\">\n",
       "<title>DDB (w1)&#45;&gt;w2_t0</title>\n",
       "<path fill=\"none\" stroke=\"black\" d=\"M206.71,-143.47C192.78,-120.26 168.14,-79.22 152.05,-52.43\"/>\n",
       "<polygon fill=\"black\" stroke=\"black\" points=\"154.9,-50.36 146.75,-43.59 148.9,-53.97 154.9,-50.36\"/>\n",
       "</g>\n",
       "<!-- DDB (w1)&#45;&gt;w2_t1 -->\n",
       "<g id=\"edge13\" class=\"edge\">\n",
       "<title>DDB (w1)&#45;&gt;w2_t1</title>\n",
       "<path fill=\"none\" stroke=\"black\" d=\"M216.82,-143.03C216.23,-120.2 215.22,-80.59 214.52,-53.66\"/>\n",
       "<polygon fill=\"black\" stroke=\"black\" points=\"218.01,-53.24 214.26,-43.33 211.02,-53.42 218.01,-53.24\"/>\n",
       "</g>\n",
       "<!-- DDB (w1)&#45;&gt;w2_t2 -->\n",
       "<g id=\"edge15\" class=\"edge\">\n",
       "<title>DDB (w1)&#45;&gt;w2_t2</title>\n",
       "<path fill=\"none\" stroke=\"black\" d=\"M208.17,-143.39C201.5,-130.43 192.32,-112.62 184.78,-97.97\"/>\n",
       "<polygon fill=\"black\" stroke=\"black\" points=\"187.79,-96.17 180.1,-88.89 181.57,-99.38 187.79,-96.17\"/>\n",
       "</g>\n",
       "<!-- DVDB (w1) -->\n",
       "<g id=\"node12\" class=\"node\">\n",
       "<title>DVDB (w1)</title>\n",
       "<ellipse fill=\"#b2dfee\" stroke=\"#b2dfee\" cx=\"383.09\" cy=\"-21.37\" rx=\"54.15\" ry=\"18\"/>\n",
       "<text text-anchor=\"middle\" x=\"383.09\" y=\"-17.17\" font-family=\"Times,serif\" font-size=\"14.00\">DVDB (w1)</text>\n",
       "</g>\n",
       "<!-- DVDB (w1)&#45;&gt;w2_t0 -->\n",
       "<g id=\"edge11\" class=\"edge\">\n",
       "<title>DVDB (w1)&#45;&gt;w2_t0</title>\n",
       "<path fill=\"none\" stroke=\"black\" d=\"M328.96,-22.47C282.91,-23.41 217.83,-24.74 176.38,-25.59\"/>\n",
       "<polygon fill=\"black\" stroke=\"black\" points=\"176.05,-22.1 166.12,-25.8 176.19,-29.1 176.05,-22.1\"/>\n",
       "</g>\n",
       "<!-- DVDB (w1)&#45;&gt;w2_t1 -->\n",
       "<g id=\"edge14\" class=\"edge\">\n",
       "<title>DVDB (w1)&#45;&gt;w2_t1</title>\n",
       "<path fill=\"none\" stroke=\"black\" d=\"M329.06,-22.6C304.5,-23.15 275.96,-23.8 253.43,-24.32\"/>\n",
       "<polygon fill=\"black\" stroke=\"black\" points=\"253.13,-20.82 243.21,-24.55 253.29,-27.82 253.13,-20.82\"/>\n",
       "</g>\n",
       "<!-- DVDB (w1)&#45;&gt;w2_t2 -->\n",
       "<g id=\"edge16\" class=\"edge\">\n",
       "<title>DVDB (w1)&#45;&gt;w2_t2</title>\n",
       "<path fill=\"none\" stroke=\"black\" d=\"M338.92,-31.82C300.33,-40.96 244.94,-54.07 208.52,-62.7\"/>\n",
       "<polygon fill=\"black\" stroke=\"black\" points=\"207.71,-59.29 198.78,-65 209.32,-66.1 207.71,-59.29\"/>\n",
       "</g>\n",
       "<!-- __0:clusterw1 -->\n",
       "<!-- __0:clusterw1&#45;&gt;DDB (w1) -->\n",
       "<g id=\"edge17\" class=\"edge\">\n",
       "<title>__0:clusterw1&#45;&gt;DDB (w1)</title>\n",
       "<path fill=\"none\" stroke=\"#696969\" d=\"M275.63,-152.16C274.26,-152.37 272.91,-152.58 271.56,-152.78\"/>\n",
       "<polygon fill=\"#696969\" stroke=\"#696969\" points=\"270.85,-149.35 261.49,-154.32 271.9,-156.27 270.85,-149.35\"/>\n",
       "</g>\n",
       "<!-- __1:clusterw1 -->\n",
       "<!-- __1:clusterw1&#45;&gt;DVDB (w1) -->\n",
       "<g id=\"edge18\" class=\"edge\">\n",
       "<title>__1:clusterw1&#45;&gt;DVDB (w1)</title>\n",
       "<path fill=\"none\" stroke=\"#696969\" d=\"M384.04,-50.08C384.03,-49.97 384.03,-49.85 384.02,-49.73\"/>\n",
       "<polygon fill=\"#696969\" stroke=\"#696969\" points=\"387.52,-49.51 383.69,-39.63 380.52,-49.74 387.52,-49.51\"/>\n",
       "</g>\n",
       "</g>\n",
       "</svg>\n"
      ],
      "text/plain": [
       "<graphviz.dot.Digraph at 0x7fa7118326a0>"
      ]
     },
     "execution_count": 33,
     "metadata": {
      "filenames": {
       "image/svg+xml": "/Users/gmatteo/git_repos/abipy_book/abipy_book/_build/jupyter_execute/flows_67_0.svg"
      }
     },
     "output_type": "execute_result"
    }
   ],
   "source": [
    "# EPH tasks require 3 input files (WFK, DDB, DVDB)\n",
    "eph_deps = {ph_flow[0][1]: \"WFK\", ph_work: [\"DDB\", \"DVDB\"]}\n",
    "\n",
    "for i, ecut in enumerate([2, 3, 4]):\n",
    "    ph_flow.register_eph_task(nscf_input.new_with_vars(ecut=ecut), deps=eph_deps, append=(i != 0))\n",
    "                           \n",
    "ph_flow.get_graphviz()"
   ]
  },
  {
   "cell_type": "markdown",
   "id": "7aa9b31b",
   "metadata": {},
   "source": [
    "This explains why in AbiPy we have this classification in terms of `Tasks/Works/Flows`.\n",
    "As a consequence, we can implement highly specialized `Works/Tasks` to\n",
    "solve specific problems and then connect all these nodes together.\n",
    "Just 11 lines of code to get electrons + phonons + (electrons + phononons)!\n",
    "\n",
    "But wait, did you see the gorilla?"
   ]
  },
  {
   "cell_type": "code",
   "execution_count": 34,
   "id": "2150928d",
   "metadata": {},
   "outputs": [
    {
     "data": {
      "image/jpeg": "[encoded data removed]",
      "text/html": [
       "\n",
       "<iframe\n",
       "    width=\"400\"\n",
       "    height=\"300\"\n",
       "    src=\"https://www.youtube.com/embed/vJG698U2Mvo\"\n",
       "    frameborder=\"0\"\n",
       "    allowfullscreen\n",
       "></iframe>\n"
      ],
      "text/plain": [
       "<IPython.lib.display.YouTubeVideo at 0x7fa7117fb630>"
      ]
     },
     "execution_count": 34,
     "metadata": {
      "filenames": {
       "image/jpeg": "/Users/gmatteo/git_repos/abipy_book/abipy_book/_build/jupyter_execute/flows_69_0.jpg"
      }
     },
     "output_type": "execute_result"
    }
   ],
   "source": [
    "from IPython.display import YouTubeVideo\n",
    "YouTubeVideo(\"vJG698U2Mvo\")"
   ]
  },
  {
   "cell_type": "markdown",
   "id": "7d2dec6f",
   "metadata": {},
   "source": [
    "There's indeed a bug in the last step. The connections among the nodes are OK but we made\n",
    "a mistake while creating the `EPhTasks` with:\n",
    "\n",
    "```python\n",
    "ph_flow.register_eph_task(nscf_input.new_with_vars(ecut=ecut), ...)\n",
    "```\n",
    "\n",
    "because we passed an input for a standard band structure calculation to something that is supposed\n",
    "to deal with E-PH interaction.\n",
    "This essentially to stress that the AbiPy `Flow`, *by design*, does not try to validate your input to make sure\n",
    "it is consistent with the workflow logic.\n",
    "This is done on purpose for two reasons:\n",
    "\n",
    "- Expert users should be able to customize/tune their input files and validating all the possible cases in python is not trivial\n",
    "- Only Abinit (and God) knows at run-time if your input file makes sense and we can't reimplement the same logic in python\n",
    "\n",
    "At this point, you may wonder why we have so many different Abipy Tasks (`ScfTask`, `NscfTask`, `RelaxTask`, `PhononTask`, `EPHTask` ...) if there's no input validation when we create them...\n",
    "\n",
    "The answer is that we need all these subclasses to implement extra logic that is specific to that particular calculation. Abipy, indeed, is not just submitting jobs. It also monitors the evolution of the calculation\n",
    "and execute pre-defined code to fix run-time problems (and these problems are calculation specific).\n",
    "An example will help clarify this point.\n",
    "\n",
    "Restarting jobs is one of the typical problem encountered in ab-initio calculations\n",
    "and restarting a `RelaxTask` requires a different logic from e.g. restarting a `ScfTask`.\n",
    "In the case of a `ScfTask` we only need to use the output WFK (DEN) of the previous execution \n",
    "as input of the restarted job while a `RelaxTask` must also re-use the (unconverged) final structure \n",
    "of the previous job to be effective and avoid a possibly infinite loop.\n",
    "In a nutshell, when you are using a particular `Task/Work` class you are telling AbiPy how to handle possible\n",
    "problems at run-time and you are also specifying the actions that should be performed \n",
    "at the beginning/end of the execution."
   ]
  },
  {
   "cell_type": "markdown",
   "id": "a3bb37a0",
   "metadata": {},
   "source": [
    "## Abirun.py\n",
    "[[back to top](#top)]\n",
    "\n",
    "Executing \n",
    "\n",
    "```python \n",
    "flow.make_scheduler().start()\n",
    "``` \n",
    "\n",
    "inside a jupyter notebook is handy if you are dealing with small calculations that require few seconds or minutes. \n",
    "This approach, however, is unpractical when you have large flows or big calculations requiring hours or days, \n",
    "even on massively parallel machines.\n",
    "In this case, indeed, one would like to run the scheduler in a separate process in the backgroud \n",
    "so that the scheduler is not killed when the jupyter server is closed.\n",
    "\n",
    "To start the scheduler in a separate process, use the `abirun.py` script.\n",
    "The syntax is:\n",
    "\n",
    "    abirun.py flow_workdir COMMAND\n",
    "\n",
    "where `flow_workdir` is the directory containing the `Flow` \n",
    "(the directory with the pickle file) and `command` selects the operation to be performed.\n",
    "\n",
    "Typical examples:\n",
    "\n",
    "    abirun.py /tmp/hello_bands status\n",
    "    \n",
    "checks the status of the `Flow` and print the results to screen while\n",
    "\n",
    "    nohup abirun.py /tmp/hello_bands scheduler > sched.log 2> sched.err &\n",
    "    \n",
    "starts the scheduler in the background redirecting the standard output to file `sched.log`\n",
    "\n",
    "<div class=\"alert alert-success\">\n",
    "`nohup` is a standard Unix tool. The command make the scheduler immune \n",
    "to hangups so that you can close the shell session without killing the scheduler.\n",
    "</div>\n",
    "\n",
    "This brings us to the last and most crucial question. \n",
    "How do we configure AbiPy to run Abinit workflows on different architectures ranging from \n",
    "standard laptops to high-performance supercomputers?\n",
    "\n",
    "Unfortunately this notebook is already quite long and these details are best covered \n",
    "in a technical documentation.\n",
    "What should be stressed here is that the behaviour can be customized with two Yaml files.\n",
    "All the information related to your environment (Abinit build, modules, resource managers, shell environment)\n",
    "are read from the `manager.yml` configuration file, that is usually located in the directory `~/.abinit/abipy/`\n",
    "The options for the python scheduler responsible for job submission are given in `scheduler.yml`.\n",
    "\n",
    "For a more complete description of these configuration options, \n",
    "please consult the [TaskManager documentation](http://abinit.github.io/abipy/workflows/taskmanager.html).\n",
    "A list of configuration files for different machines and clusters is available \n",
    "[here](http://abinit.github.io/abipy/workflows/manager_examples.html)\n",
    "while the [Flows HOWTO](http://abinit.github.io/abipy/flows_howto.html)\n",
    "gathers answers to frequently asked questions.\n",
    "\n",
    "Last but not least, check out our \n",
    "[gallery of AbiPy Flows](http://abinit.github.io/abipy/flow_gallery/index.html) for inspiration."
   ]
  },
  {
   "cell_type": "markdown",
   "id": "ac4f7ce5",
   "metadata": {},
   "source": [
    "Back to the main [Index](index.ipynb)"
   ]
  }
 ],
 "metadata": {
  "jupytext": {
   "text_representation": {
    "extension": ".md",
    "format_name": "myst",
    "format_version": 0.13,
    "jupytext_version": "1.10.3"
   }
  },
  "kernelspec": {
   "display_name": "Python 3",
   "language": "python",
   "name": "python3"
  },
  "language_info": {
   "codemirror_mode": {
    "name": "ipython",
    "version": 3
   },
   "file_extension": ".py",
   "mimetype": "text/x-python",
   "name": "python",
   "nbconvert_exporter": "python",
   "pygments_lexer": "ipython3",
   "version": "3.7.0"
  },
  "source_map": [
   12,
   16,
   105,
   115,
   156,
   161,
   166,
   171,
   173,
   182,
   186,
   188,
   201,
   247,
   255,
   261,
   267,
   269,
   273,
   275,
   293,
   297,
   301,
   305,
   308,
   312,
   314,
   318,
   320,
   330,
   332,
   336,
   338,
   351,
   353,
   357,
   359,
   368,
   370,
   391,
   397,
   414,
   417,
   421,
   424,
   431,
   434,
   457,
   460,
   466,
   473,
   481,
   489,
   495,
   502,
   506,
   511,
   513,
   520,
   527,
   532,
   539,
   550,
   554,
   556,
   564,
   578,
   587,
   595,
   604,
   607,
   640,
   701
  ]
 },
 "nbformat": 4,
 "nbformat_minor": 5
}