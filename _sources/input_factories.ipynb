{
 "cells": [
  {
   "cell_type": "markdown",
   "id": "2ec37c80",
   "metadata": {},
   "source": [
    "# Factory functions\n",
    "\n",
    "Abipy provides factory functions to build input files for typical calculations.\n",
    "These functions return `AbinitInput` or `MultiDataset` objects, depending\n",
    "on the number of steps required by the calculation.\n",
    "\n",
    "One can use the factories to generate automatically input files or\n",
    "call these functions inside python code to build workflows for high-throughput applications.\n",
    "Note that the default values do not always correspond to the default behaviour of Abinit.\n",
    "In particular, the majority of the factory functions construct input files \n",
    "for **spin-polarized calculations** (`nsppol=2`) with a **Fermi-Dirac** occupation scheme and \n",
    "a physical temperature of **0.1 eV**. \n",
    "It is always possible to change the default behaviour either\n",
    "by passing these options to the factory function or by changing the objects returned by the factory.\n",
    "\n",
    "Also note that the factory functions do not use `get*` or `ird*` variables to connect the different \n",
    "steps. Client code is in charge of connecting the different parts.\n",
    "For a command line interface, use the `abinp.py` script."
   ]
  },
  {
   "cell_type": "code",
   "execution_count": 1,
   "id": "e166c5b6",
   "metadata": {},
   "outputs": [],
   "source": [
    "import os\n",
    "import warnings\n",
    "warnings.filterwarnings(\"ignore\") # to get rid of deprecation warnings\n",
    "\n",
    "import abipy.data as abidata\n",
    "import abipy.abilab as abilab\n",
    "abilab.enable_notebook() # This line tells AbiPy we are running inside a notebook\n",
    "from abipy.abilab import AbinitInput"
   ]
  },
  {
   "cell_type": "markdown",
   "id": "fb489844",
   "metadata": {},
   "source": [
    "### Ground-state calculation\n",
    "\n",
    "Let us generate an input file for a standard GS calculation for silicon in which \n",
    "the structure is read from an external CIF file:"
   ]
  },
  {
   "cell_type": "code",
   "execution_count": 2,
   "id": "a0acba7c",
   "metadata": {},
   "outputs": [
    {
     "data": {
      "text/html": [
       "<div class=\"abinit_input\">\n",
       "##############################################<br>####                SECTION: basic               <br>##############################################<br>#### &lt;Energy CUToff&gt;<br> <a href=\"https://docs.abinit.org/variables/basic#ecut\" target=\"_blank\">ecut</a> 8<br>#### &lt;Number of Grid points for K PoinTs generation&gt;<br> <a href=\"https://docs.abinit.org/variables/basic#ngkpt\" target=\"_blank\">ngkpt</a> 8 8 8<br>#### &lt;SHIFT for K points&gt;<br> <a href=\"https://docs.abinit.org/variables/basic#shiftk\" target=\"_blank\">shiftk</a>    0.5    0.5    0.5<br>#### &lt;Number of SHIFTs for K point grids&gt;<br> <a href=\"https://docs.abinit.org/variables/basic#nshiftk\" target=\"_blank\">nshiftk</a> 1<br>#### &lt;KPoinTs OPTion&gt;<br> <a href=\"https://docs.abinit.org/variables/basic#kptopt\" target=\"_blank\">kptopt</a> 1<br>#### &lt;Number of SPin POLarization&gt;<br> <a href=\"https://docs.abinit.org/variables/basic#nsppol\" target=\"_blank\">nsppol</a> 1<br>#### &lt;Number of BANDs&gt;<br> <a href=\"https://docs.abinit.org/variables/basic#nband\" target=\"_blank\">nband</a> 8<br>#### &lt;TOLerance on the potential V(r) ReSidual&gt;<br> <a href=\"https://docs.abinit.org/variables/basic#tolvrs\" target=\"_blank\">tolvrs</a> 1e-08<br>##############################################<br>####               SECTION: gstate               <br>##############################################<br>#### &lt;CHecK SYMmetry BREAKing&gt;<br> <a href=\"https://docs.abinit.org/variables/gstate#chksymbreak\" target=\"_blank\">chksymbreak</a> 0<br>#### &lt;Number of SPINORial components of the wavefunctions&gt;<br> <a href=\"https://docs.abinit.org/variables/gstate#nspinor\" target=\"_blank\">nspinor</a> 1<br>#### &lt;Number of SPin-DENsity components&gt;<br> <a href=\"https://docs.abinit.org/variables/gstate#nspden\" target=\"_blank\">nspden</a> 1<br>#### &lt;CHARGE&gt;<br> <a href=\"https://docs.abinit.org/variables/gstate#charge\" target=\"_blank\">charge</a> 0.0<br>##############################################<br>####                  STRUCTURE                  <br>##############################################<br>#### &lt;Number of ATOMs&gt;<br> <a href=\"https://docs.abinit.org/variables/basic#natom\" target=\"_blank\">natom</a> 2<br>#### &lt;Number of TYPes of AToms&gt;<br> <a href=\"https://docs.abinit.org/variables/basic#ntypat\" target=\"_blank\">ntypat</a> 1<br>#### &lt;TYPe of AToms&gt;<br> <a href=\"https://docs.abinit.org/variables/basic#typat\" target=\"_blank\">typat</a> 1 1<br>#### &lt;charge -Z- of the NUCLeus&gt;<br> <a href=\"https://docs.abinit.org/variables/basic#znucl\" target=\"_blank\">znucl</a> 14<br>#### &lt;vectors (X) of atom positions in REDuced coordinates&gt;<br> <a href=\"https://docs.abinit.org/variables/basic#xred\" target=\"_blank\">xred</a><br>    0.0000000000    0.0000000000    0.0000000000<br>    0.2500000000    0.2500000000    0.2500000000<br>#### &lt;CELL lattice vector scaling&gt;<br> <a href=\"https://docs.abinit.org/variables/basic#acell\" target=\"_blank\">acell</a>    1.0    1.0    1.0<br>#### &lt;Real space PRIMitive translations&gt;<br> <a href=\"https://docs.abinit.org/variables/basic#rprim\" target=\"_blank\">rprim</a><br>    6.3285005244    0.0000000000    3.6537614813<br>    2.1095001748    5.9665675141    3.6537614813<br>    0.0000000000    0.0000000000    7.3075229627\n",
       "<div>"
      ],
      "text/plain": [
       "<AbinitInput at 140593613877880>"
      ]
     },
     "execution_count": 2,
     "metadata": {},
     "output_type": "execute_result"
    }
   ],
   "source": [
    "si_cif = abidata.cif_file(\"si.cif\")\n",
    "pseudos = os.path.join(abidata.pseudo_dir, \"14si.pspnc\")\n",
    "\n",
    "# Build input for GS calculation (unpolarized, no smearing, 1000 k-points per reciprocal atom) \n",
    "# ecut must be specified because this pseudopotential does not provide hints for ecut.\n",
    "# kppa stands for k-point per reciprocal atom.\n",
    "gs_inp = abilab.gs_input(\n",
    "    si_cif, pseudos,\n",
    "    kppa=1000, ecut=8, spin_mode=\"unpolarized\", smearing=None) # change default\n",
    "\n",
    "gs_inp.set_mnemonics(True)\n",
    "gs_inp"
   ]
  },
  {
   "cell_type": "markdown",
   "id": "3890d623",
   "metadata": {},
   "source": [
    "### Input variables for band structure calculation + DOS\n",
    "\n",
    "A slightly more complicated example:"
   ]
  },
  {
   "cell_type": "code",
   "execution_count": 3,
   "id": "5272e495",
   "metadata": {
    "code_folding": [],
    "run_control": {
     "marked": true
    }
   },
   "outputs": [
    {
     "data": {
      "text/html": [
       "ndtset 3<br>############################################################################################<br>#### Global Variables.<br>############################################################################################<br> <a href=\"https://docs.abinit.org/variables/basic#ecut\" target=\"_blank\">ecut</a> 8<br> <a href=\"https://docs.abinit.org/variables/gstate#charge\" target=\"_blank\">charge</a> 0.0<br> <a href=\"https://docs.abinit.org/variables/basic#nsppol\" target=\"_blank\">nsppol</a> 1<br><br><br> <a href=\"https://docs.abinit.org/variables/gstate#nspinor\" target=\"_blank\">nspinor</a> 1<br> <a href=\"https://docs.abinit.org/variables/gstate#nspden\" target=\"_blank\">nspden</a> 1<br>############################################################################################<br>####                                         STRUCTURE                                         <br>############################################################################################<br> <a href=\"https://docs.abinit.org/variables/basic#natom\" target=\"_blank\">natom</a> 2<br> <a href=\"https://docs.abinit.org/variables/basic#ntypat\" target=\"_blank\">ntypat</a> 1<br> <a href=\"https://docs.abinit.org/variables/basic#typat\" target=\"_blank\">typat</a> 1 1<br> <a href=\"https://docs.abinit.org/variables/basic#znucl\" target=\"_blank\">znucl</a> 14<br> <a href=\"https://docs.abinit.org/variables/basic#xred\" target=\"_blank\">xred</a><br>    0.0000000000    0.0000000000    0.0000000000<br>    0.2500000000    0.2500000000    0.2500000000<br> <a href=\"https://docs.abinit.org/variables/basic#acell\" target=\"_blank\">acell</a>    1.0    1.0    1.0<br> <a href=\"https://docs.abinit.org/variables/basic#rprim\" target=\"_blank\">rprim</a><br>    6.3285005244    0.0000000000    3.6537614813<br>    2.1095001748    5.9665675141    3.6537614813<br>    0.0000000000    0.0000000000    7.3075229627<br><br>#####################<br>##### DATASET 1 #####<br>#####################<br><div class=\"abinit_input\"><br>##############################################<br>####                SECTION: basic               <br>##############################################<br> <a href=\"https://docs.abinit.org/variables/basic#ngkpt\" target=\"_blank\">ngkpt1</a> 8 8 8<br> <a href=\"https://docs.abinit.org/variables/basic#shiftk\" target=\"_blank\">shiftk1</a>    0.5    0.5    0.5<br> <a href=\"https://docs.abinit.org/variables/basic#nshiftk\" target=\"_blank\">nshiftk1</a> 1<br> <a href=\"https://docs.abinit.org/variables/basic#kptopt\" target=\"_blank\">kptopt1</a> 1<br> <a href=\"https://docs.abinit.org/variables/basic#nband\" target=\"_blank\">nband1</a> 8<br> <a href=\"https://docs.abinit.org/variables/basic#tolvrs\" target=\"_blank\">tolvrs1</a> 1e-08<br>##############################################<br>####               SECTION: gstate               <br>##############################################<br> <a href=\"https://docs.abinit.org/variables/gstate#chksymbreak\" target=\"_blank\">chksymbreak1</a> 0<br><div><br><br><br>#####################<br>##### DATASET 2 #####<br>#####################<br><div class=\"abinit_input\"><br>##############################################<br>####                SECTION: basic               <br>##############################################<br> <a href=\"https://docs.abinit.org/variables/basic#kptopt\" target=\"_blank\">kptopt2</a> -11<br> <a href=\"https://docs.abinit.org/variables/basic#nband\" target=\"_blank\">nband2</a> 18<br> <a href=\"https://docs.abinit.org/variables/basic#iscf\" target=\"_blank\">iscf2</a> -2<br> <a href=\"https://docs.abinit.org/variables/basic#tolwfr\" target=\"_blank\">tolwfr2</a> 1e-17<br>##############################################<br>####               SECTION: gstate               <br>##############################################<br> <a href=\"https://docs.abinit.org/variables/gstate#ndivsm\" target=\"_blank\">ndivsm2</a> 15<br> <a href=\"https://docs.abinit.org/variables/gstate#kptbounds\" target=\"_blank\">kptbounds2</a><br>    0.0000000000    0.0000000000    0.0000000000<br>    0.5000000000    0.0000000000    0.5000000000<br>    0.5000000000    0.2500000000    0.7500000000<br>    0.3750000000    0.3750000000    0.7500000000<br>    0.0000000000    0.0000000000    0.0000000000<br>    0.5000000000    0.5000000000    0.5000000000<br>    0.6250000000    0.2500000000    0.6250000000<br>    0.5000000000    0.2500000000    0.7500000000<br>    0.5000000000    0.5000000000    0.5000000000<br>    0.3750000000    0.3750000000    0.7500000000<br>    0.6250000000    0.2500000000    0.6250000000<br>    0.5000000000    0.0000000000    0.5000000000<br><div><br><br><br>#####################<br>##### DATASET 3 #####<br>#####################<br><div class=\"abinit_input\"><br>##############################################<br>####                SECTION: basic               <br>##############################################<br> <a href=\"https://docs.abinit.org/variables/basic#ngkpt\" target=\"_blank\">ngkpt3</a> 14 14 14<br> <a href=\"https://docs.abinit.org/variables/basic#shiftk\" target=\"_blank\">shiftk3</a>    0.5    0.5    0.5<br> <a href=\"https://docs.abinit.org/variables/basic#nshiftk\" target=\"_blank\">nshiftk3</a> 1<br> <a href=\"https://docs.abinit.org/variables/basic#kptopt\" target=\"_blank\">kptopt3</a> 1<br> <a href=\"https://docs.abinit.org/variables/basic#nband\" target=\"_blank\">nband3</a> 18<br> <a href=\"https://docs.abinit.org/variables/basic#iscf\" target=\"_blank\">iscf3</a> -2<br> <a href=\"https://docs.abinit.org/variables/basic#tolwfr\" target=\"_blank\">tolwfr3</a> 1e-17<br>##############################################<br>####               SECTION: gstate               <br>##############################################<br> <a href=\"https://docs.abinit.org/variables/gstate#chksymbreak\" target=\"_blank\">chksymbreak3</a> 0<br><br><br>#&lt;JSON&gt;<br>#{<br>#    &quot;pseudos&quot;: [<br>#        {<br>#            &quot;basename&quot;: &quot;14si.pspnc&quot;,<br>#            &quot;type&quot;: &quot;NcAbinitPseudo&quot;,<br>#            &quot;symbol&quot;: &quot;Si&quot;,<br>#            &quot;Z&quot;: 14,<br>#            &quot;Z_val&quot;: 4.0,<br>#            &quot;l_max&quot;: 2,<br>#            &quot;md5&quot;: &quot;3916b143991b1cfa1542b130be320e5e&quot;,<br>#            &quot;filepath&quot;: &quot;/Users/gmatteo/git_repos/abipy/abipy/data/pseudos/14si.pspnc&quot;,<br>#            &quot;@module&quot;: &quot;pymatgen.io.abinit.pseudos&quot;,<br>#            &quot;@class&quot;: &quot;NcAbinitPseudo&quot;<br>#        }<br>#    ]<br>#}<br>#&lt;/JSON&gt;<br><div><br>"
      ],
      "text/plain": [
       "<abipy.abio.inputs.MultiDataset at 0x7fde80690cf8>"
      ]
     },
     "execution_count": 3,
     "metadata": {},
     "output_type": "execute_result"
    }
   ],
   "source": [
    "# GS run + NSCF on a path + NSCF run on a k-mesh to compute the DOS\n",
    "multi = abilab.ebands_input(si_cif, pseudos,\n",
    "                            ecut=8, spin_mode=\"unpolarized\", smearing=None, dos_kppa=5000)\n",
    "\n",
    "multi"
   ]
  },
  {
   "cell_type": "markdown",
   "id": "29e91426",
   "metadata": {},
   "source": [
    "### Factories for GW calculations"
   ]
  },
  {
   "cell_type": "code",
   "execution_count": 4,
   "id": "e0c5b804",
   "metadata": {},
   "outputs": [
    {
     "data": {
      "text/html": [
       "ndtset 4<br>############################################################################################<br>#### Global Variables.<br>############################################################################################<br> <a href=\"https://docs.abinit.org/variables/basic#ecut\" target=\"_blank\">ecut</a> 8<br> <a href=\"https://docs.abinit.org/variables/gstate#charge\" target=\"_blank\">charge</a> 0.0<br> <a href=\"https://docs.abinit.org/variables/dev#istwfk\" target=\"_blank\">istwfk</a> *1<br> <a href=\"https://docs.abinit.org/variables/basic#shiftk\" target=\"_blank\">shiftk</a>    0.0    0.0    0.0<br> <a href=\"https://docs.abinit.org/variables/basic#ngkpt\" target=\"_blank\">ngkpt</a> 8 8 8<br> <a href=\"https://docs.abinit.org/variables/basic#nsppol\" target=\"_blank\">nsppol</a> 1<br> <a href=\"https://docs.abinit.org/variables/basic#kptopt\" target=\"_blank\">kptopt</a> 1<br><br> <a href=\"https://docs.abinit.org/variables/basic#nshiftk\" target=\"_blank\">nshiftk</a> 1<br><br> <a href=\"https://docs.abinit.org/variables/gstate#nspinor\" target=\"_blank\">nspinor</a> 1<br> <a href=\"https://docs.abinit.org/variables/gstate#chksymbreak\" target=\"_blank\">chksymbreak</a> 0<br> <a href=\"https://docs.abinit.org/variables/gstate#nspden\" target=\"_blank\">nspden</a> 1<br>############################################################################################<br>####                                         STRUCTURE                                         <br>############################################################################################<br> <a href=\"https://docs.abinit.org/variables/basic#natom\" target=\"_blank\">natom</a> 2<br> <a href=\"https://docs.abinit.org/variables/basic#ntypat\" target=\"_blank\">ntypat</a> 1<br> <a href=\"https://docs.abinit.org/variables/basic#typat\" target=\"_blank\">typat</a> 1 1<br> <a href=\"https://docs.abinit.org/variables/basic#znucl\" target=\"_blank\">znucl</a> 14<br> <a href=\"https://docs.abinit.org/variables/basic#xred\" target=\"_blank\">xred</a><br>    0.0000000000    0.0000000000    0.0000000000<br>    0.2500000000    0.2500000000    0.2500000000<br> <a href=\"https://docs.abinit.org/variables/basic#acell\" target=\"_blank\">acell</a>    1.0    1.0    1.0<br> <a href=\"https://docs.abinit.org/variables/basic#rprim\" target=\"_blank\">rprim</a><br>    6.3285005244    0.0000000000    3.6537614813<br>    2.1095001748    5.9665675141    3.6537614813<br>    0.0000000000    0.0000000000    7.3075229627<br><br>#####################<br>##### DATASET 1 #####<br>#####################<br><div class=\"abinit_input\"><br>##############################################<br>####                SECTION: basic               <br>##############################################<br> <a href=\"https://docs.abinit.org/variables/basic#nband\" target=\"_blank\">nband1</a> 8<br> <a href=\"https://docs.abinit.org/variables/basic#tolvrs\" target=\"_blank\">tolvrs1</a> 1e-08<br><div><br><br><br>#####################<br>##### DATASET 2 #####<br>#####################<br><div class=\"abinit_input\"><br>##############################################<br>####                SECTION: basic               <br>##############################################<br> <a href=\"https://docs.abinit.org/variables/basic#nband\" target=\"_blank\">nband2</a> 50<br> <a href=\"https://docs.abinit.org/variables/basic#iscf\" target=\"_blank\">iscf2</a> -2<br> <a href=\"https://docs.abinit.org/variables/basic#tolwfr\" target=\"_blank\">tolwfr2</a> 1e-17<br><div><br><br><br>#####################<br>##### DATASET 3 #####<br>#####################<br><div class=\"abinit_input\"><br>##############################################<br>####                SECTION: basic               <br>##############################################<br> <a href=\"https://docs.abinit.org/variables/basic#nband\" target=\"_blank\">nband3</a> 50<br> <a href=\"https://docs.abinit.org/variables/basic#iscf\" target=\"_blank\">iscf3</a> -2<br> <a href=\"https://docs.abinit.org/variables/basic#toldfe\" target=\"_blank\">toldfe3</a> 1e-08<br>##############################################<br>####               SECTION: gstate               <br>##############################################<br> <a href=\"https://docs.abinit.org/variables/gstate#optdriver\" target=\"_blank\">optdriver3</a> 3<br>##############################################<br>####                 SECTION: gw                 <br>##############################################<br> <a href=\"https://docs.abinit.org/variables/gw#ecuteps\" target=\"_blank\">ecuteps3</a> 2<br> <a href=\"https://docs.abinit.org/variables/gw#inclvkb\" target=\"_blank\">inclvkb3</a> 2<br> <a href=\"https://docs.abinit.org/variables/gw#awtr\" target=\"_blank\">awtr3</a> 1<br> <a href=\"https://docs.abinit.org/variables/gw#symchi\" target=\"_blank\">symchi3</a> 1<br>##############################################<br>####                SECTION: paral               <br>##############################################<br> <a href=\"https://docs.abinit.org/variables/paral#gwpara\" target=\"_blank\">gwpara3</a> 2<br><div><br><br><br>#####################<br>##### DATASET 4 #####<br>#####################<br><div class=\"abinit_input\"><br>##############################################<br>####                SECTION: basic               <br>##############################################<br> <a href=\"https://docs.abinit.org/variables/basic#nband\" target=\"_blank\">nband4</a> 50<br> <a href=\"https://docs.abinit.org/variables/basic#iscf\" target=\"_blank\">iscf4</a> -2<br> <a href=\"https://docs.abinit.org/variables/basic#toldfe\" target=\"_blank\">toldfe4</a> 1e-08<br>##############################################<br>####               SECTION: gstate               <br>##############################################<br> <a href=\"https://docs.abinit.org/variables/gstate#optdriver\" target=\"_blank\">optdriver4</a> 4<br>##############################################<br>####                 SECTION: gw                 <br>##############################################<br> <a href=\"https://docs.abinit.org/variables/gw#gwcalctyp\" target=\"_blank\">gwcalctyp4</a> 00<br> <a href=\"https://docs.abinit.org/variables/gw#ecuteps\" target=\"_blank\">ecuteps4</a> 2<br> <a href=\"https://docs.abinit.org/variables/gw#ecutsigx\" target=\"_blank\">ecutsigx4</a> 8<br> <a href=\"https://docs.abinit.org/variables/gw#symsigma\" target=\"_blank\">symsigma4</a> 1<br> <a href=\"https://docs.abinit.org/variables/gw#gw_qprange\" target=\"_blank\">gw_qprange4</a> 1<br> <a href=\"https://docs.abinit.org/variables/gw#ppmodel\" target=\"_blank\">ppmodel4</a> 1<br>##############################################<br>####                SECTION: paral               <br>##############################################<br> <a href=\"https://docs.abinit.org/variables/paral#gwpara\" target=\"_blank\">gwpara4</a> 2<br><br><br>#&lt;JSON&gt;<br>#{<br>#    &quot;pseudos&quot;: [<br>#        {<br>#            &quot;basename&quot;: &quot;14si.pspnc&quot;,<br>#            &quot;type&quot;: &quot;NcAbinitPseudo&quot;,<br>#            &quot;symbol&quot;: &quot;Si&quot;,<br>#            &quot;Z&quot;: 14,<br>#            &quot;Z_val&quot;: 4.0,<br>#            &quot;l_max&quot;: 2,<br>#            &quot;md5&quot;: &quot;3916b143991b1cfa1542b130be320e5e&quot;,<br>#            &quot;filepath&quot;: &quot;/Users/gmatteo/git_repos/abipy/abipy/data/pseudos/14si.pspnc&quot;,<br>#            &quot;@module&quot;: &quot;pymatgen.io.abinit.pseudos&quot;,<br>#            &quot;@class&quot;: &quot;NcAbinitPseudo&quot;<br>#        }<br>#    ]<br>#}<br>#&lt;/JSON&gt;<br><div><br>"
      ],
      "text/plain": [
       "<abipy.abio.inputs.MultiDataset at 0x7fde80c84da0>"
      ]
     },
     "execution_count": 4,
     "metadata": {},
     "output_type": "execute_result"
    }
   ],
   "source": [
    "# Generate an input file for GW calculations with the plasmon-pole model.\n",
    "# The calculations consists of a GS run to get the density followed by a \n",
    "# nscf-run to compute the WFK file with `nscf_nband` states.\n",
    "# The cutoff for the screening is given by `ecuteps` while the cutoff for\n",
    "# the exchange part of the self-energy is equal to ecut.\n",
    "# kppa defines the k-point sampling.\n",
    "kppa = 1000\n",
    "ecut = ecutsigx = 8\n",
    "ecuteps = 2\n",
    "nscf_nband = 50\n",
    "\n",
    "multi = abilab.g0w0_with_ppmodel_inputs(\n",
    "    si_cif, pseudos, kppa, nscf_nband, ecuteps, ecutsigx,\n",
    "    ecut=ecut, smearing=None, spin_mode=\"unpolarized\")\n",
    "\n",
    "multi"
   ]
  }
 ],
 "metadata": {
  "jupytext": {
   "text_representation": {
    "extension": ".md",
    "format_name": "myst",
    "format_version": 0.13,
    "jupytext_version": "1.10.3"
   }
  },
  "kernelspec": {
   "display_name": "Python 3",
   "language": "python",
   "name": "python3"
  },
  "language_info": {
   "codemirror_mode": {
    "name": "ipython",
    "version": 3
   },
   "file_extension": ".py",
   "mimetype": "text/x-python",
   "name": "python",
   "nbconvert_exporter": "python",
   "pygments_lexer": "ipython3",
   "version": "3.7.0"
  },
  "source_map": [
   12,
   33,
   42,
   49,
   62,
   68,
   79,
   83
  ]
 },
 "nbformat": 4,
 "nbformat_minor": 5
}