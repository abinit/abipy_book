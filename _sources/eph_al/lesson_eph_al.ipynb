{
 "cells": [
  {
   "cell_type": "markdown",
   "id": "c4199b55",
   "metadata": {},
   "source": [
    "# Isotropic superconductivity\n",
    "\n",
    "<div class=\"jumbotron\">\n",
    "  <h1 class=\"display-3\">Phonon linewidths and Eliashberg function in metals</h1>\n",
    "  <p class=\"lead\">Aluminium</p> \n",
    "  <hr class=\"my-4\">\n",
    "  <p>\n",
    "In this lesson, we discuss how to compute the phonon linewidths and the Eliashberg function in metals.\n",
    "We start with a very brief discussion of the basic equations and some technical details about the Abinit implementation. Then we show how to build an AbiPy flow to automate the multiple steps required \n",
    "by these calculations.\n",
    "</p>\n",
    "<p>\n",
    "In the second part, we use the AbiPy objects to analyze the results. We start from the simplest case of a single  calculation whose most important results are stored in the A2F.nc netcdf file. Then we show how to use the A2fRobot to handle multiple netcdf files and perform convergence studies. \n",
    "</p>\n",
    "</div>"
   ]
  },
  {
   "cell_type": "markdown",
   "id": "d5d7236c",
   "metadata": {},
   "source": [
    "## A bit of theory and some details about the implementation\n",
    "\n",
    "$\\newcommand{\\kk}{{\\mathbf k}}$\n",
    "$\\newcommand{\\qq}{{\\mathbf q}}$\n",
    "$\\newcommand{\\kpq}{{\\kk+\\qq}}$\n",
    "$\\newcommand{\\RR}{{\\mathbf R}}$\n",
    "$\\newcommand{\\rr}{{\\mathbf r}}$\n",
    "$\\newcommand{\\<}{\\langle}$\n",
    "$\\renewcommand{\\>}{\\rangle}$\n",
    "$\\newcommand{\\KS}{{\\text{KS}}}$\n",
    "$\\newcommand{\\ww}{\\omega}$\n",
    "$\\newcommand{\\ee}{\\epsilon}$\n",
    "$\\newcommand{\\dd}{{\\,\\text{d}}}$\n",
    "\n",
    "\n",
    "The phonon linewidths are proportional to the electron phonon coupling, and depend on the phonon wavevector $q$\n",
    "and the branch index $\\nu$:\n",
    "\n",
    "\\begin{equation}\n",
    "    \\gamma_{\\qq\\nu} = 2\\pi \\omega_{\\qq\\nu} \\sum_{mn\\kk} |g_{mn\\nu}(\\kk, \\qq)|^2 \\delta(\\ee_{\\kpq m}) \\delta(\\ee_{\\kk n})\n",
    "\\end{equation}\n",
    "\n",
    "Throughout these notes we shall use Hartree atomic units ($e = \\hbar = m_e = 1$), the Fermi level is set to zero.\n",
    "\n",
    "The electron-phonon matrix elements are defined by:\n",
    "\n",
    "\\begin{equation} %\\label{eq:eph_matrix_elements}\n",
    "    g_{mn}^{\\nu}(\\kk,\\qq) = \\dfrac{1}{\\sqrt{2\\omega_{\\qq\\nu}}} \\<\\psi_{m \\kpq} | \\Delta_{\\qq\\nu} V^\\KS |\\psi_{n\\kk}\\> \n",
    "\\end{equation}\n",
    "\n",
    "For further details about $\\Delta_{\\qq\\nu} V^\\KS$ and their Fourier interpolation\n",
    "see the [previous lesson](https://nbviewer.jupyter.org/github/abinit/abitutorials/blob/master/abitutorials/sigeph/lesson_sigeph.ipynb)\n",
    "on the EPH self-energy and [Phys. Rev. B 78, 045124](http://dx.doi.org/10.1103/PhysRevB.78.045124).\n",
    "\n",
    "The Eliashberg function, $\\alpha^2F(\\omega)$, is similar to the density of states of the phonons, $F(\\omega)$, \n",
    "but is weighted according to the coupling of the phonons to the electrons:\n",
    "\n",
    "\\begin{equation}\n",
    "    \\alpha^2F(\\omega) = -\\dfrac{1}{N_F} \\sum_{\\qq\\nu} \\dfrac{\\gamma_{\\qq\\nu}}{\\omega_{\\qq\\nu}} \\delta(\\ww - \\ww_{\\qq \\nu})\n",
    "\\end{equation}\n",
    "\n",
    "<!--\n",
    "From a physical point of view, this function gives the *strenght* by which a phonon of frequency $\\omega$\n",
    "scatters an electronic states on the Fermi surface\n",
    "For spin unpolarized systems:\n",
    "-->\n",
    "\n",
    "The first inverse moment of $\\alpha^2F(\\omega)$ gives the total coupling strength, \n",
    "or mass renormalization factor, $\\lambda$.\n",
    "\n",
    "\\begin{equation}\n",
    "    \\lambda = \\int \\dfrac{\\alpha^2F(\\omega)}{\\omega}\\dd\\omega = \\sum_{\\qq\\nu} \\lambda_{\\qq\\nu}\n",
    "\\end{equation}\n",
    "\n",
    "\\begin{equation}\n",
    "    \\lambda_{\\qq\\nu} = \\dfrac{\\gamma_{\\qq\\nu}}{\\pi N_F \\ww_{\\qq\\nu}^2}\n",
    "\\end{equation}\n",
    "\n",
    "From $\\lambda$, using the [McMillan formula](https://doi.org/10.1103/PhysRev.167.331) \n",
    "as modified by Allen and Dynes in [Phys. Rev. B 12 905](https://dx.doi.org/10.1103/PhysRevB.12.905), \n",
    "one can estimate the superconducting critical temperature $T_c$ in the **isotropic** case.\n",
    "\n",
    "\\begin{equation}\n",
    "    T_c = \\dfrac{\\omega_{log}}{1.2} \\exp \\Biggl [ \n",
    "        \\dfrac{-1.04 (1 + \\lambda)}{\\lambda ( 1 - 0.62 \\mu^*) - \\mu^*} \n",
    "    \\Biggr ]\n",
    "\\end{equation}\n",
    "\n",
    "where the logarithmic moment, $\\omega_{log}$, is defined by:\n",
    "\n",
    "\\begin{equation}\n",
    "    \\omega_{log} = \\exp \\Biggl [ \n",
    "    \\dfrac{2}{\\lambda} \\int \\dfrac{\\alpha^2F(\\omega)}{\\omega}\\log(\\omega)\\dd\\omega \\Biggr \n",
    "    ]\n",
    "\\end{equation}\n",
    "\n",
    "The formula contains the $\\mu^*$ parameter which approximates the effect of the Coulomb interaction.\n",
    "It is common to treat $\\mu^*$ as an *adjustable parameter* to reproduce (explain) the experimental $T_c$ \n",
    "from the ab-initio computed $\\lambda$.\n",
    "\n",
    "It is worth noting that, if we assume constant e-ph matrix elements in the BZ, the phonon linewidths \n",
    "become proportional to the so-called *nesting* function defined by:\n",
    "\n",
    "\\begin{equation}\n",
    "    N(\\qq) = \\sum_{mn\\kk} \\delta(\\ee_{\\kpq m}) \\delta(\\ee_{\\kk n})\n",
    "\\end{equation}\n",
    "\n",
    "Roughly speaking, there are two factors entering into play in the equation for the phonon linewidths: \n",
    "the behaviour in (k, q) space of the matrix elements and the *geometrical* contribution related \n",
    "to the shape of the Fermi surface (described by the nesting term).\n",
    "\n",
    "### Implementation details:\n",
    "\n",
    "The input variables *optdriver = 7* and *eph_task = 1* activate the computation of:\n",
    "\n",
    "\\begin{equation}\n",
    "    \\gamma_{\\qq\\nu} = 2\\pi \\omega_{\\qq\\nu} \\sum_{pp'} d_{\\qq p}^* \\tilde\\gamma_{p p'}(\\qq) d_{\\qq p'}^*\n",
    "\\end{equation}\n",
    "\n",
    "for all q-points in the IBZ as determined by the `ddb_ngqpt` input variable.\n",
    "In the above equation, $p$ is a short-hand notation for atom index and direction, \n",
    "$\\vec d$ is the phonon displacement and $\\tilde\\gamma_{p p'}(\\qq)$ is given by:\n",
    "\n",
    "\\begin{equation}\n",
    "    \\tilde\\gamma_{p p'}(\\qq) = \n",
    "    \\sum_{mn\\kk} g_{mn,p}(\\kk, \\qq)^*  g_{mn,p'}(\\kk, \\qq)  \\delta(\\ee_{\\kpq m}) \\delta(\\ee_{\\kk n}).\n",
    "\\end{equation}\n",
    "\n",
    "The $\\tilde\\gamma_{p p'}(\\qq)$ matrix has the same symmetries as the dynamical matrix\n",
    "and the elements in the *full* BZ can be obtained by *rotating* the initial set of q-points in the IBZ.\n",
    "\n",
    "Once $\\tilde\\gamma(\\qq)$ is known in the *full* BZ, one can Fourier transform to real space with:\n",
    "\n",
    "\\begin{equation}\n",
    "    \\tilde\\gamma_{p p'}(\\RR) = \\sum_\\qq e^{i\\qq\\cdot\\RR} \\tilde\\gamma_{p p'}(\\qq)\n",
    "\\end{equation}\n",
    "\n",
    "and use Fourier interpolation to obtain $\\gamma_{\\qq\\nu}$ everywhere in the BZ at low cost\n",
    "(a similar approach is used for the dynamical matrix and phonon frequencies).\n",
    "<!--\n",
    "Note that we interpolate the matrices in this representation instead of the phonon mode representation\n",
    "to avoid numerical instabilities introduce by band crossings.\n",
    "The code computes $\\tilde\\gamma$ for all q-points in the IBZ, each matrix is re-symmetrized \n",
    "if symdynmat == 1 so that degeneracies at high-symmetry q-points are correctly reproduced.\n",
    "-->\n",
    "\n",
    "Thanks to the relatively inexpensive Fourier interpolation, one can obtain the phonon linewidths along \n",
    "an arbitrary q-path and evaluate the Eliashberg function on a q-mesh (specified by *ph_ngqpt*) \n",
    "that can be made **much denser** than the initial ab-initio DDB sampling (specified by *ddb_ngqpt*) and\n",
    "even denser than the `eph_ngqpt_fine` q-mesh used to interpolate the DFPT potentials.\n",
    "\n",
    "Note that the calculation of phonon linewidths in metals is made difficult \n",
    "by the slow convergence of the double-delta integral over the Fermi surface. \n",
    "It is therefore convenient to use a coarse k-mesh to calculate phonons with DFPT on a suitable q-grid\n",
    "and then use a denser k-mesh to perform the integration over the Fermi surface.\n",
    "The resolution in q-space can be improved by interpolating the DFPT potentials via the\n",
    "`eph_ngqpt_fine` input variable as discussed in the [previous EPH lesson](https://nbviewer.jupyter.org/github/abinit/abitutorials/blob/master/abitutorials/sigeph/lesson_sigeph.ipynb).\n",
    "\n",
    "\n",
    "## Suggested references\n",
    "\n",
    "The general theory of electron-phonon coupling and Eliashberg superconductivity is reviewed \n",
    "by P.B. Allen and B. Mitrovic\n",
    "in [Theory of Superconducting Tc](https://www.sciencedirect.com/science/article/pii/S0081194708606657). \n",
    "The first implementations similar to that in Abinit are those in \n",
    "[Savrasov](https://doi.org/10.1103/PhysRevB.54.16487) and\n",
    "[Liu](https://doi.org/10.1103/PhysRevB.53.R7575)."
   ]
  },
  {
   "cell_type": "markdown",
   "id": "efd97514",
   "metadata": {},
   "source": [
    "## Technical details\n",
    "\n",
    "From the previous discussion, it should be clear that a typical calculation of phonon linewidths requires:\n",
    "\n",
    "1. An initial set of KS wavefunctions and eigenvalues.\n",
    "2. The knowledge of the dynamical matrix $D(\\qq)$ from which one \n",
    "   can obtain frequencies and displacements everywhere in the BZ via Fourier interpolation.\n",
    "3. A set of DFPT potentials given in the IBZ\n",
    "\n",
    "Thanks to these three ingredients, the code can compute the EPH matrix elements\n",
    "and perform the integration over the Fermi surface.\n",
    "A schematic representation of a typical workflow with Abinit is given in the figure below:\n",
    "\n",
    "<img src=\"https://raw.githubusercontent.com/abinit/abipy_assets/master/eph_workflow.png\" width=\"600\" height=\"600\">\n",
    "\n",
    "The `mrgddb` and `mrgdv` are Fortran executables whose main goal is to produce the final files\n",
    "required in the EPH code.\n",
    "\n",
    "Note, in particular, how the computation of the WFK file and the DFPT part of the graph are now decoupled.\n",
    "This is the approach we are going to implement with AbiPy to converge the phonon linewidths in Al:\n",
    "\n",
    "1. Compute DFPT phonons on a 4x4x4 q-mesh with a coarse 8x8x8 k-sampling\n",
    "\n",
    "2. Generate 3 WFK files on a much denser k-mesh (x16, x24, x32) \n",
    "\n",
    "3. Run the EPH code with\n",
    "\n",
    "  - one of the WFK files generated in point 2.\n",
    "  - interpolated DFPT potentials (from the initial 4x4x4 to a 8x8x8 q-mesh)\n",
    "\n",
    "4. Compute the Eliashberg function on the `ph_ngqpt` mesh via Fourier interpolation. \n",
    "5. Analyze the convergence of the results wrt `nkpt`."
   ]
  },
  {
   "cell_type": "markdown",
   "id": "034fb002",
   "metadata": {},
   "source": [
    "## Building the Flow\n",
    "\n",
    "Before starting, we need to import the python modules used in this notebook:"
   ]
  },
  {
   "cell_type": "code",
   "execution_count": 1,
   "id": "d6b581a9",
   "metadata": {},
   "outputs": [],
   "source": [
    "# Use this at the beginning of your script so that your code will be compatible with python3\n",
    "from __future__ import print_function, division, unicode_literals\n",
    "\n",
    "import numpy as np\n",
    "import warnings\n",
    "warnings.filterwarnings(\"ignore\") # to get rid of deprecation warnings\n",
    "\n",
    "from abipy import abilab\n",
    "abilab.enable_notebook() # This line tells AbiPy we are running inside a notebook\n",
    "import abipy.flowtk as flowtk\n",
    "\n",
    "# This line configures matplotlib to show figures embedded in the notebook.\n",
    "# Replace `inline` with `notebook` in classic notebook\n",
    "%matplotlib inline   \n",
    "\n",
    "# Option available in jupyterlab. See https://github.com/matplotlib/jupyter-matplotlib\n",
    "#%matplotlib widget "
   ]
  },
  {
   "cell_type": "markdown",
   "id": "6e22de0a",
   "metadata": {},
   "source": [
    "and a function from the `lesson_eph_al` module to build our AbiPy flow."
   ]
  },
  {
   "cell_type": "code",
   "execution_count": 2,
   "id": "553156a9",
   "metadata": {},
   "outputs": [],
   "source": [
    "from lesson_eph_al import build_flow"
   ]
  },
  {
   "cell_type": "markdown",
   "id": "fa8087f1",
   "metadata": {},
   "source": [
    "<div class=\"alert alert-info\" role=\"alert\">\n",
    "Please read the code carefully, in particular the comments.\n",
    "Don't worry if the meaning of some input variables is not immediately clear\n",
    "as we will try to clarify the most technical parts in the rest of this notebook.\n",
    "</div>"
   ]
  },
  {
   "cell_type": "code",
   "execution_count": 3,
   "id": "968b2bb8",
   "metadata": {},
   "outputs": [
    {
     "data": {
      "text/html": [
       "<!DOCTYPE html PUBLIC \"-//W3C//DTD HTML 4.01//EN\"\n",
       "   \"http://www.w3.org/TR/html4/strict.dtd\">\n",
       "<!--\n",
       "generated by Pygments <https://pygments.org/>\n",
       "Copyright 2006-2021 by the Pygments team.\n",
       "Licensed under the BSD license, see LICENSE for details.\n",
       "-->\n",
       "<html>\n",
       "<head>\n",
       "  <title></title>\n",
       "  <meta http-equiv=\"content-type\" content=\"text/html; charset=None\">\n",
       "  <style type=\"text/css\">\n",
       "/*\n",
       "generated by Pygments <https://pygments.org/>\n",
       "Copyright 2006-2021 by the Pygments team.\n",
       "Licensed under the BSD license, see LICENSE for details.\n",
       "*/\n",
       "pre { line-height: 125%; }\n",
       "td.linenos .normal { color: inherit; background-color: transparent; padding-left: 5px; padding-right: 5px; }\n",
       "span.linenos { color: inherit; background-color: transparent; padding-left: 5px; padding-right: 5px; }\n",
       "td.linenos .special { color: #000000; background-color: #ffffc0; padding-left: 5px; padding-right: 5px; }\n",
       "span.linenos.special { color: #000000; background-color: #ffffc0; padding-left: 5px; padding-right: 5px; }\n",
       "body .hll { background-color: #ffffcc }\n",
       "body { background: #f8f8f8; }\n",
       "body .c { color: #408080; font-style: italic } /* Comment */\n",
       "body .err { border: 1px solid #FF0000 } /* Error */\n",
       "body .k { color: #008000; font-weight: bold } /* Keyword */\n",
       "body .o { color: #666666 } /* Operator */\n",
       "body .ch { color: #408080; font-style: italic } /* Comment.Hashbang */\n",
       "body .cm { color: #408080; font-style: italic } /* Comment.Multiline */\n",
       "body .cp { color: #BC7A00 } /* Comment.Preproc */\n",
       "body .cpf { color: #408080; font-style: italic } /* Comment.PreprocFile */\n",
       "body .c1 { color: #408080; font-style: italic } /* Comment.Single */\n",
       "body .cs { color: #408080; font-style: italic } /* Comment.Special */\n",
       "body .gd { color: #A00000 } /* Generic.Deleted */\n",
       "body .ge { font-style: italic } /* Generic.Emph */\n",
       "body .gr { color: #FF0000 } /* Generic.Error */\n",
       "body .gh { color: #000080; font-weight: bold } /* Generic.Heading */\n",
       "body .gi { color: #00A000 } /* Generic.Inserted */\n",
       "body .go { color: #888888 } /* Generic.Output */\n",
       "body .gp { color: #000080; font-weight: bold } /* Generic.Prompt */\n",
       "body .gs { font-weight: bold } /* Generic.Strong */\n",
       "body .gu { color: #800080; font-weight: bold } /* Generic.Subheading */\n",
       "body .gt { color: #0044DD } /* Generic.Traceback */\n",
       "body .kc { color: #008000; font-weight: bold } /* Keyword.Constant */\n",
       "body .kd { color: #008000; font-weight: bold } /* Keyword.Declaration */\n",
       "body .kn { color: #008000; font-weight: bold } /* Keyword.Namespace */\n",
       "body .kp { color: #008000 } /* Keyword.Pseudo */\n",
       "body .kr { color: #008000; font-weight: bold } /* Keyword.Reserved */\n",
       "body .kt { color: #B00040 } /* Keyword.Type */\n",
       "body .m { color: #666666 } /* Literal.Number */\n",
       "body .s { color: #BA2121 } /* Literal.String */\n",
       "body .na { color: #7D9029 } /* Name.Attribute */\n",
       "body .nb { color: #008000 } /* Name.Builtin */\n",
       "body .nc { color: #0000FF; font-weight: bold } /* Name.Class */\n",
       "body .no { color: #880000 } /* Name.Constant */\n",
       "body .nd { color: #AA22FF } /* Name.Decorator */\n",
       "body .ni { color: #999999; font-weight: bold } /* Name.Entity */\n",
       "body .ne { color: #D2413A; font-weight: bold } /* Name.Exception */\n",
       "body .nf { color: #0000FF } /* Name.Function */\n",
       "body .nl { color: #A0A000 } /* Name.Label */\n",
       "body .nn { color: #0000FF; font-weight: bold } /* Name.Namespace */\n",
       "body .nt { color: #008000; font-weight: bold } /* Name.Tag */\n",
       "body .nv { color: #19177C } /* Name.Variable */\n",
       "body .ow { color: #AA22FF; font-weight: bold } /* Operator.Word */\n",
       "body .w { color: #bbbbbb } /* Text.Whitespace */\n",
       "body .mb { color: #666666 } /* Literal.Number.Bin */\n",
       "body .mf { color: #666666 } /* Literal.Number.Float */\n",
       "body .mh { color: #666666 } /* Literal.Number.Hex */\n",
       "body .mi { color: #666666 } /* Literal.Number.Integer */\n",
       "body .mo { color: #666666 } /* Literal.Number.Oct */\n",
       "body .sa { color: #BA2121 } /* Literal.String.Affix */\n",
       "body .sb { color: #BA2121 } /* Literal.String.Backtick */\n",
       "body .sc { color: #BA2121 } /* Literal.String.Char */\n",
       "body .dl { color: #BA2121 } /* Literal.String.Delimiter */\n",
       "body .sd { color: #BA2121; font-style: italic } /* Literal.String.Doc */\n",
       "body .s2 { color: #BA2121 } /* Literal.String.Double */\n",
       "body .se { color: #BB6622; font-weight: bold } /* Literal.String.Escape */\n",
       "body .sh { color: #BA2121 } /* Literal.String.Heredoc */\n",
       "body .si { color: #BB6688; font-weight: bold } /* Literal.String.Interpol */\n",
       "body .sx { color: #008000 } /* Literal.String.Other */\n",
       "body .sr { color: #BB6688 } /* Literal.String.Regex */\n",
       "body .s1 { color: #BA2121 } /* Literal.String.Single */\n",
       "body .ss { color: #19177C } /* Literal.String.Symbol */\n",
       "body .bp { color: #008000 } /* Name.Builtin.Pseudo */\n",
       "body .fm { color: #0000FF } /* Name.Function.Magic */\n",
       "body .vc { color: #19177C } /* Name.Variable.Class */\n",
       "body .vg { color: #19177C } /* Name.Variable.Global */\n",
       "body .vi { color: #19177C } /* Name.Variable.Instance */\n",
       "body .vm { color: #19177C } /* Name.Variable.Magic */\n",
       "body .il { color: #666666 } /* Literal.Number.Integer.Long */\n",
       "\n",
       "  </style>\n",
       "</head>\n",
       "<body>\n",
       "<h2></h2>\n",
       "\n",
       "<div class=\"highlight\"><pre><span></span><span class=\"k\">def</span> <span class=\"nf\">build_flow</span><span class=\"p\">(</span><span class=\"n\">options</span><span class=\"p\">):</span>\n",
       "    <span class=\"sd\">&quot;&quot;&quot;</span>\n",
       "<span class=\"sd\">    Build and return an AbiPy flow to compute phonon linewidths and Eliashberg function in Aluminium:</span>\n",
       "\n",
       "<span class=\"sd\">        1. Compute DFPT phonons on a 4x4x4 q-mesh with a coarse 8x8x8 k-sampling</span>\n",
       "\n",
       "<span class=\"sd\">        2. Generate 3 WFK files on a much denser k-mesh (x16, x24, x32)</span>\n",
       "\n",
       "<span class=\"sd\">        3. Run the EPH code with:</span>\n",
       "\n",
       "<span class=\"sd\">          - one of the WFK files generated in point 2.</span>\n",
       "<span class=\"sd\">          - interpolated DFPT potentials (from the initial 4x4x4 to a 8x8x8 q-mesh)</span>\n",
       "\n",
       "<span class=\"sd\">        4. Analyze the convergence of the results wrt nkpt.</span>\n",
       "\n",
       "<span class=\"sd\">    Note that the q-point grid must be a sub-grid of the k-point grid</span>\n",
       "<span class=\"sd\">    &quot;&quot;&quot;</span>\n",
       "    <span class=\"n\">workdir</span> <span class=\"o\">=</span> <span class=\"n\">options</span><span class=\"o\">.</span><span class=\"n\">workdir</span> <span class=\"k\">if</span> <span class=\"p\">(</span><span class=\"n\">options</span> <span class=\"ow\">and</span> <span class=\"n\">options</span><span class=\"o\">.</span><span class=\"n\">workdir</span><span class=\"p\">)</span> <span class=\"k\">else</span> <span class=\"s2\">&quot;flow_eph_al&quot;</span>\n",
       "\n",
       "    <span class=\"c1\"># Create empty flow.</span>\n",
       "    <span class=\"n\">flow</span> <span class=\"o\">=</span> <span class=\"n\">flowtk</span><span class=\"o\">.</span><span class=\"n\">Flow</span><span class=\"p\">(</span><span class=\"n\">workdir</span><span class=\"o\">=</span><span class=\"n\">workdir</span><span class=\"p\">)</span>\n",
       "\n",
       "    <span class=\"c1\"># Init structure. Use NC pseudo</span>\n",
       "    <span class=\"n\">structure</span> <span class=\"o\">=</span> <span class=\"n\">abilab</span><span class=\"o\">.</span><span class=\"n\">Structure</span><span class=\"o\">.</span><span class=\"n\">fcc</span><span class=\"p\">(</span><span class=\"n\">a</span><span class=\"o\">=</span><span class=\"mf\">7.5</span><span class=\"p\">,</span> <span class=\"n\">species</span><span class=\"o\">=</span><span class=\"p\">[</span><span class=\"s2\">&quot;Al&quot;</span><span class=\"p\">],</span> <span class=\"n\">units</span><span class=\"o\">=</span><span class=\"s2\">&quot;bohr&quot;</span><span class=\"p\">)</span>\n",
       "    <span class=\"n\">pseudos</span> <span class=\"o\">=</span> <span class=\"n\">abidata</span><span class=\"o\">.</span><span class=\"n\">pseudos</span><span class=\"p\">(</span><span class=\"s2\">&quot;Al.oncvpsp&quot;</span><span class=\"p\">)</span>\n",
       "\n",
       "    <span class=\"c1\"># Input for GS part.</span>\n",
       "    <span class=\"n\">gs_inp</span> <span class=\"o\">=</span> <span class=\"n\">abilab</span><span class=\"o\">.</span><span class=\"n\">AbinitInput</span><span class=\"p\">(</span><span class=\"n\">structure</span><span class=\"p\">,</span> <span class=\"n\">pseudos</span><span class=\"p\">)</span>\n",
       "    <span class=\"n\">gs_inp</span><span class=\"o\">.</span><span class=\"n\">set_vars</span><span class=\"p\">(</span>\n",
       "        <span class=\"n\">istwfk</span><span class=\"o\">=</span><span class=\"s2\">&quot;*1&quot;</span><span class=\"p\">,</span>\n",
       "        <span class=\"n\">ecut</span><span class=\"o\">=</span><span class=\"mf\">8.0</span><span class=\"p\">,</span>\n",
       "        <span class=\"n\">nband</span><span class=\"o\">=</span><span class=\"mi\">4</span><span class=\"p\">,</span>\n",
       "        <span class=\"n\">occopt</span><span class=\"o\">=</span><span class=\"mi\">7</span><span class=\"p\">,</span>      <span class=\"c1\"># Include metallic occupation function with a small smearing</span>\n",
       "        <span class=\"n\">tsmear</span><span class=\"o\">=</span><span class=\"mf\">0.04</span><span class=\"p\">,</span>\n",
       "        <span class=\"n\">tolvrs</span><span class=\"o\">=</span><span class=\"mf\">1e-7</span><span class=\"p\">,</span>\n",
       "    <span class=\"p\">)</span>\n",
       "\n",
       "    <span class=\"c1\"># The k-grid is minimalistic to keep the calculation manageable.</span>\n",
       "    <span class=\"n\">gs_inp</span><span class=\"o\">.</span><span class=\"n\">set_kmesh</span><span class=\"p\">(</span>\n",
       "        <span class=\"n\">ngkpt</span><span class=\"o\">=</span><span class=\"p\">[</span><span class=\"mi\">8</span><span class=\"p\">,</span> <span class=\"mi\">8</span><span class=\"p\">,</span> <span class=\"mi\">8</span><span class=\"p\">],</span>\n",
       "        <span class=\"n\">shiftk</span><span class=\"o\">=</span><span class=\"p\">[</span><span class=\"mf\">0.0</span><span class=\"p\">,</span> <span class=\"mf\">0.0</span><span class=\"p\">,</span> <span class=\"mf\">0.0</span><span class=\"p\">],</span>\n",
       "    <span class=\"p\">)</span>\n",
       "\n",
       "    <span class=\"c1\"># Build new input for NSCF calculation along k-path (automatically selected by AbiPy)</span>\n",
       "    <span class=\"c1\"># Used to plot the KS band structure.</span>\n",
       "    <span class=\"n\">nscf_kpath_inp</span> <span class=\"o\">=</span> <span class=\"n\">gs_inp</span><span class=\"o\">.</span><span class=\"n\">new_with_vars</span><span class=\"p\">(</span>\n",
       "        <span class=\"n\">nband</span><span class=\"o\">=</span><span class=\"mi\">4</span><span class=\"p\">,</span>\n",
       "        <span class=\"n\">tolwfr</span><span class=\"o\">=</span><span class=\"mf\">1e-16</span><span class=\"p\">,</span>\n",
       "        <span class=\"n\">iscf</span><span class=\"o\">=-</span><span class=\"mi\">2</span><span class=\"p\">,</span>\n",
       "    <span class=\"p\">)</span>\n",
       "    <span class=\"n\">nscf_kpath_inp</span><span class=\"o\">.</span><span class=\"n\">set_kpath</span><span class=\"p\">(</span><span class=\"n\">ndivsm</span><span class=\"o\">=</span><span class=\"mi\">10</span><span class=\"p\">)</span>\n",
       "\n",
       "    <span class=\"c1\"># Build NSCF inputs with denser k-meshes</span>\n",
       "    <span class=\"c1\"># This step generates the WFK files used to compute the Eliashberg function.</span>\n",
       "    <span class=\"c1\"># We have a cubic material so we only need to specify the first number of divisions.</span>\n",
       "    <span class=\"n\">nk_list</span> <span class=\"o\">=</span> <span class=\"p\">[</span><span class=\"mi\">16</span><span class=\"p\">,</span> <span class=\"mi\">24</span><span class=\"p\">,</span> <span class=\"mi\">32</span><span class=\"p\">]</span>\n",
       "\n",
       "    <span class=\"n\">nscf_kmesh_inputs</span> <span class=\"o\">=</span> <span class=\"p\">[]</span>\n",
       "    <span class=\"k\">for</span> <span class=\"n\">nk</span> <span class=\"ow\">in</span> <span class=\"n\">nk_list</span><span class=\"p\">:</span>\n",
       "        <span class=\"n\">new_inp</span> <span class=\"o\">=</span> <span class=\"n\">gs_inp</span><span class=\"o\">.</span><span class=\"n\">new_with_vars</span><span class=\"p\">(</span>\n",
       "            <span class=\"n\">tolwfr</span><span class=\"o\">=</span><span class=\"mf\">1e-16</span><span class=\"p\">,</span>\n",
       "            <span class=\"n\">iscf</span><span class=\"o\">=-</span><span class=\"mi\">2</span><span class=\"p\">,</span>\n",
       "            <span class=\"n\">ngkpt</span><span class=\"o\">=</span><span class=\"p\">[</span><span class=\"n\">nk</span><span class=\"p\">]</span> <span class=\"o\">*</span> <span class=\"mi\">3</span><span class=\"p\">,</span>\n",
       "            <span class=\"n\">shiftk</span><span class=\"o\">=</span><span class=\"p\">[</span><span class=\"mf\">0.0</span><span class=\"p\">,</span> <span class=\"mf\">0.0</span><span class=\"p\">,</span> <span class=\"mf\">0.0</span><span class=\"p\">],</span>\n",
       "        <span class=\"p\">)</span>\n",
       "        <span class=\"n\">nscf_kmesh_inputs</span><span class=\"o\">.</span><span class=\"n\">append</span><span class=\"p\">(</span><span class=\"n\">new_inp</span><span class=\"p\">)</span>\n",
       "\n",
       "    <span class=\"c1\"># Register GS + NSCF kpath + NSCF with k-meshes in work0.</span>\n",
       "    <span class=\"n\">work0</span> <span class=\"o\">=</span> <span class=\"n\">flowtk</span><span class=\"o\">.</span><span class=\"n\">BandStructureWork</span><span class=\"p\">(</span><span class=\"n\">gs_inp</span><span class=\"p\">,</span> <span class=\"n\">nscf_kpath_inp</span><span class=\"p\">,</span> <span class=\"n\">dos_inputs</span><span class=\"o\">=</span><span class=\"n\">nscf_kmesh_inputs</span><span class=\"p\">)</span>\n",
       "    <span class=\"n\">flow</span><span class=\"o\">.</span><span class=\"n\">register_work</span><span class=\"p\">(</span><span class=\"n\">work0</span><span class=\"p\">)</span>\n",
       "\n",
       "    <span class=\"c1\"># Generate Phonon work with 4x4x4 q-mesh</span>\n",
       "    <span class=\"c1\"># Reuse the variables from GS input and let AbiPy handle the generation of the input files</span>\n",
       "    <span class=\"c1\"># Note that the q-point grid is a sub-grid of the k-mesh so we do not need WFQ on k+q mesh.</span>\n",
       "    <span class=\"n\">ddb_ngqpt</span> <span class=\"o\">=</span> <span class=\"p\">[</span><span class=\"mi\">4</span><span class=\"p\">,</span> <span class=\"mi\">4</span><span class=\"p\">,</span> <span class=\"mi\">4</span><span class=\"p\">]</span>\n",
       "    <span class=\"n\">ph_work</span> <span class=\"o\">=</span> <span class=\"n\">flowtk</span><span class=\"o\">.</span><span class=\"n\">PhononWork</span><span class=\"o\">.</span><span class=\"n\">from_scf_task</span><span class=\"p\">(</span><span class=\"n\">work0</span><span class=\"p\">[</span><span class=\"mi\">0</span><span class=\"p\">],</span> <span class=\"n\">ddb_ngqpt</span><span class=\"p\">,</span> <span class=\"n\">is_ngqpt</span><span class=\"o\">=</span><span class=\"kc\">True</span><span class=\"p\">)</span>\n",
       "    <span class=\"n\">flow</span><span class=\"o\">.</span><span class=\"n\">register_work</span><span class=\"p\">(</span><span class=\"n\">ph_work</span><span class=\"p\">)</span>\n",
       "\n",
       "    <span class=\"c1\"># Ssction for EPH calculation: compute linewidths with different WFK files.</span>\n",
       "    <span class=\"n\">eph_work</span> <span class=\"o\">=</span> <span class=\"n\">flowtk</span><span class=\"o\">.</span><span class=\"n\">Work</span><span class=\"p\">()</span>\n",
       "    <span class=\"k\">for</span> <span class=\"n\">ik</span><span class=\"p\">,</span> <span class=\"n\">nk</span> <span class=\"ow\">in</span> <span class=\"nb\">enumerate</span><span class=\"p\">(</span><span class=\"n\">nk_list</span><span class=\"p\">):</span>\n",
       "        <span class=\"c1\"># Each task uses a different WFK file. DDB and DBDB do not change.</span>\n",
       "        <span class=\"n\">eph_deps</span> <span class=\"o\">=</span> <span class=\"p\">{</span><span class=\"n\">work0</span><span class=\"p\">[</span><span class=\"mi\">2</span> <span class=\"o\">+</span> <span class=\"n\">ik</span><span class=\"p\">]:</span> <span class=\"s2\">&quot;WFK&quot;</span><span class=\"p\">,</span> <span class=\"n\">ph_work</span><span class=\"p\">:</span> <span class=\"p\">[</span><span class=\"s2\">&quot;DDB&quot;</span><span class=\"p\">,</span> <span class=\"s2\">&quot;DVDB&quot;</span><span class=\"p\">]}</span>\n",
       "\n",
       "        <span class=\"c1\"># Interpolate DFPT potentials 4x4x4 --&gt; 8x8x8</span>\n",
       "        <span class=\"n\">eph_ngqpt_fine</span> <span class=\"o\">=</span> <span class=\"p\">(</span><span class=\"mi\">8</span><span class=\"p\">,</span> <span class=\"mi\">8</span><span class=\"p\">,</span> <span class=\"mi\">8</span><span class=\"p\">)</span>\n",
       "\n",
       "        <span class=\"c1\"># Build input for E-PH run. See also v7/Input/t85.in</span>\n",
       "        <span class=\"c1\"># The k-points must be in the WFK file</span>\n",
       "        <span class=\"n\">eph_inp</span> <span class=\"o\">=</span> <span class=\"n\">gs_inp</span><span class=\"o\">.</span><span class=\"n\">new_with_vars</span><span class=\"p\">(</span>\n",
       "            <span class=\"n\">optdriver</span><span class=\"o\">=</span><span class=\"mi\">7</span><span class=\"p\">,</span>                    <span class=\"c1\"># Enter EPH driver.</span>\n",
       "            <span class=\"n\">eph_task</span><span class=\"o\">=</span><span class=\"mi\">1</span><span class=\"p\">,</span>                     <span class=\"c1\"># Compute phonon linewidths in metals.</span>\n",
       "            <span class=\"n\">ddb_ngqpt</span><span class=\"o\">=</span><span class=\"n\">ddb_ngqpt</span><span class=\"p\">,</span>            <span class=\"c1\"># q-mesh used to produce the DDB file (must be consistent with DDB data)</span>\n",
       "            <span class=\"n\">eph_fsewin</span><span class=\"o\">=</span><span class=\"s2\">&quot;0.8 eV&quot;</span><span class=\"p\">,</span>            <span class=\"c1\"># Energy window around Ef (only states in this window are included)</span>\n",
       "            <span class=\"n\">eph_intmeth</span><span class=\"o\">=</span><span class=\"mi\">2</span><span class=\"p\">,</span>                  <span class=\"c1\"># Tetra method</span>\n",
       "            <span class=\"c1\">#eph_intmeth=1,                 # Gaussian</span>\n",
       "            <span class=\"c1\">#eph_fsmear=eph_fsmear * abilab.units.eV_to_Ha, # Broadening</span>\n",
       "            <span class=\"n\">eph_ngqpt_fine</span><span class=\"o\">=</span><span class=\"n\">eph_ngqpt_fine</span><span class=\"p\">,</span>  <span class=\"c1\"># Interpolate DFPT potentials if != ddb_ngqpt</span>\n",
       "            <span class=\"n\">eph_mustar</span><span class=\"o\">=</span><span class=\"mf\">0.12</span><span class=\"p\">,</span>                <span class=\"c1\"># mustar parameter</span>\n",
       "            <span class=\"n\">ngkpt</span><span class=\"o\">=</span><span class=\"p\">[</span><span class=\"n\">nk</span><span class=\"p\">]</span> <span class=\"o\">*</span> <span class=\"mi\">3</span><span class=\"p\">,</span>\n",
       "            <span class=\"n\">shiftk</span><span class=\"o\">=</span><span class=\"p\">[</span><span class=\"mf\">0.0</span><span class=\"p\">,</span> <span class=\"mf\">0.0</span><span class=\"p\">,</span> <span class=\"mf\">0.0</span><span class=\"p\">],</span>\n",
       "        <span class=\"p\">)</span>\n",
       "\n",
       "        <span class=\"c1\"># Set q-path to interpolate phonons and phonon linewidths.</span>\n",
       "        <span class=\"n\">eph_inp</span><span class=\"o\">.</span><span class=\"n\">set_qpath</span><span class=\"p\">(</span><span class=\"mi\">10</span><span class=\"p\">)</span>\n",
       "\n",
       "        <span class=\"c1\"># Set q-mesh for phonons DOS and a2F(w)</span>\n",
       "        <span class=\"n\">eph_inp</span><span class=\"o\">.</span><span class=\"n\">set_phdos_qmesh</span><span class=\"p\">(</span><span class=\"n\">nqsmall</span><span class=\"o\">=</span><span class=\"mi\">24</span><span class=\"p\">,</span> <span class=\"n\">method</span><span class=\"o\">=</span><span class=\"s2\">&quot;tetra&quot;</span><span class=\"p\">)</span>\n",
       "        <span class=\"n\">eph_work</span><span class=\"o\">.</span><span class=\"n\">register_eph_task</span><span class=\"p\">(</span><span class=\"n\">eph_inp</span><span class=\"p\">,</span> <span class=\"n\">deps</span><span class=\"o\">=</span><span class=\"n\">eph_deps</span><span class=\"p\">)</span>\n",
       "\n",
       "    <span class=\"n\">flow</span><span class=\"o\">.</span><span class=\"n\">register_work</span><span class=\"p\">(</span><span class=\"n\">eph_work</span><span class=\"p\">)</span>\n",
       "\n",
       "    <span class=\"c1\"># Avoid producing (big) output files that not required by children.</span>\n",
       "    <span class=\"n\">flow</span><span class=\"o\">.</span><span class=\"n\">allocate</span><span class=\"p\">(</span><span class=\"n\">use_smartio</span><span class=\"o\">=</span><span class=\"kc\">True</span><span class=\"p\">)</span>\n",
       "\n",
       "    <span class=\"k\">return</span> <span class=\"n\">flow</span>\n",
       "</pre></div>\n",
       "</body>\n",
       "</html>\n"
      ],
      "text/plain": [
       "<IPython.core.display.HTML object>"
      ]
     },
     "execution_count": 3,
     "metadata": {},
     "output_type": "execute_result"
    }
   ],
   "source": [
    "abilab.print_source(build_flow)"
   ]
  },
  {
   "cell_type": "markdown",
   "id": "d23d8240",
   "metadata": {},
   "source": [
    "OK the function is a little bit long but it is normal as we are computing\n",
    "in a single workflow the *electronic* properties, the *vibrational* spectrum \n",
    "and the *phonon linewidths* with different k-point samplings.\n",
    "\n",
    "Note that we have already encountered similar flows in the previous AbiPy lessons. \n",
    "The calculation of electronic band structures is\n",
    "discussed in \n",
    "[lesson_base3](https://nbviewer.jupyter.org/github/abinit/abitutorials/blob/master/abitutorials/base3/lesson_base3.ipynb)\n",
    "while an example of `Flow` for phonon calculations is given in \n",
    "[lesson_dfpt](https://nbviewer.jupyter.org/github/abinit/abitutorials/blob/master/abitutorials/dfpt/lesson_dfpt.ipynb).\n",
    "\n",
    "The novelty is represented by the generation of the `EphTasks` \n",
    "in which we have to specify several variables related to phonons and the EPH self-energy.\n",
    "For your convenience, we have grouped the variables used in the `EphTask` in sub-groups:\n",
    "\n",
    "<img src=\"https://github.com/abinit/abipy_assets/blob/master/eph_variables.png?raw=true\">\n",
    "\n",
    "Hopefully things will become clearer if we build the flow and start to play with it:"
   ]
  },
  {
   "cell_type": "code",
   "execution_count": 4,
   "id": "e36900f1",
   "metadata": {},
   "outputs": [
    {
     "name": "stdout",
     "output_type": "stream",
     "text": [
      "<Flow, node_id=443308, workdir=flow_eph_al>\n",
      "Number of works: 3, total number of tasks: 22\n",
      "Number of tasks with a given class:\n",
      "\n",
      "Task Class      Number\n",
      "------------  --------\n",
      "ScfTask              1\n",
      "NscfTask             4\n",
      "PhononTask          14\n",
      "EphTask              3"
     ]
    }
   ],
   "source": [
    "flow = build_flow(options=None)\n",
    "flow.show_info()"
   ]
  },
  {
   "cell_type": "markdown",
   "id": "3082132f",
   "metadata": {},
   "source": [
    "We then print the input of the last `EphTask`. \n",
    "Please read carefully the documentation of the variables, in particular \n",
    "those in the `dfpt` and `eph` sections.\n",
    "\n",
    "In a nutshell: we read a WKF on a 32x32x32 k-mesh and a DDB on a 4x4x4 q-mesh,\n",
    "activate the computation of phonon linewidths with `optdriver` and `eph_task`,\n",
    "interpolate the potentials onto a 8x8x8 q-mesh with `eph_ngqpt_fine` and set other variables \n",
    "for the computation of the phonon linewidths around the Fermi surface."
   ]
  },
  {
   "cell_type": "code",
   "execution_count": 5,
   "id": "dea52d68",
   "metadata": {},
   "outputs": [
    {
     "name": "stdout",
     "output_type": "stream",
     "text": [
      "<EphTask, node_id=443342, workdir=flow_eph_al/w2/t2>\n"
     ]
    },
    {
     "data": {
      "text/html": [
       "<div class=\"abinit_input\">\n",
       "##############################################<br>####                SECTION: basic               <br>##############################################<br> <a href=\"https://docs.abinit.org/variables/basic#ecut\" target=\"_blank\">ecut</a> 8.0<br> <a href=\"https://docs.abinit.org/variables/basic#nband\" target=\"_blank\">nband</a> 4<br> <a href=\"https://docs.abinit.org/variables/basic#occopt\" target=\"_blank\">occopt</a> 7<br> <a href=\"https://docs.abinit.org/variables/basic#tolvrs\" target=\"_blank\">tolvrs</a> 1e-07<br> <a href=\"https://docs.abinit.org/variables/basic#ngkpt\" target=\"_blank\">ngkpt</a> 32 32 32<br> <a href=\"https://docs.abinit.org/variables/basic#kptopt\" target=\"_blank\">kptopt</a> 1<br> <a href=\"https://docs.abinit.org/variables/basic#nshiftk\" target=\"_blank\">nshiftk</a> 1<br> <a href=\"https://docs.abinit.org/variables/basic#shiftk\" target=\"_blank\">shiftk</a>    0.0    0.0    0.0<br>##############################################<br>####                 SECTION: dev                <br>##############################################<br> <a href=\"https://docs.abinit.org/variables/dev#istwfk\" target=\"_blank\">istwfk</a> *1<br>##############################################<br>####                 SECTION: eph                <br>##############################################<br> <a href=\"https://docs.abinit.org/variables/eph#eph_task\" target=\"_blank\">eph_task</a> 1<br> <a href=\"https://docs.abinit.org/variables/eph#ddb_ngqpt\" target=\"_blank\">ddb_ngqpt</a> 4 4 4<br> <a href=\"https://docs.abinit.org/variables/eph#eph_fsewin\" target=\"_blank\">eph_fsewin</a> 0.8 eV<br> <a href=\"https://docs.abinit.org/variables/eph#eph_intmeth\" target=\"_blank\">eph_intmeth</a> 2<br> <a href=\"https://docs.abinit.org/variables/eph#eph_ngqpt_fine\" target=\"_blank\">eph_ngqpt_fine</a> 8 8 8<br> <a href=\"https://docs.abinit.org/variables/eph#eph_mustar\" target=\"_blank\">eph_mustar</a> 0.12<br> <a href=\"https://docs.abinit.org/variables/eph#ph_ndivsm\" target=\"_blank\">ph_ndivsm</a> 10<br> <a href=\"https://docs.abinit.org/variables/eph#ph_nqpath\" target=\"_blank\">ph_nqpath</a> 12<br> <a href=\"https://docs.abinit.org/variables/eph#ph_qpath\" target=\"_blank\">ph_qpath</a><br>    0.0    0.0    0.0<br>    0.5    0.0    0.5<br>    0.5    0.25    0.75<br>    0.375    0.375    0.75<br>    0.0    0.0    0.0<br>    0.5    0.5    0.5<br>    0.625    0.25    0.625<br>    0.5    0.25    0.75<br>    0.5    0.5    0.5<br>    0.375    0.375    0.75<br>    0.625    0.25    0.625<br>    0.5    0.0    0.5<br> <a href=\"https://docs.abinit.org/variables/eph#ph_intmeth\" target=\"_blank\">ph_intmeth</a> 2<br> <a href=\"https://docs.abinit.org/variables/eph#ph_wstep\" target=\"_blank\">ph_wstep</a> 0.0001 eV<br> <a href=\"https://docs.abinit.org/variables/eph#ph_ngqpt\" target=\"_blank\">ph_ngqpt</a> 24 24 24<br> <a href=\"https://docs.abinit.org/variables/eph#ph_qshift\" target=\"_blank\">ph_qshift</a> 0 0 0<br> <a href=\"https://docs.abinit.org/variables/eph#ph_nqshift\" target=\"_blank\">ph_nqshift</a> 1<br>##############################################<br>####                SECTION: files               <br>##############################################<br> <a href=\"https://docs.abinit.org/variables/files#prtwf\" target=\"_blank\">prtwf</a> -1<br> <a href=\"https://docs.abinit.org/variables/files#prtden\" target=\"_blank\">prtden</a> 0<br>##############################################<br>####               SECTION: gstate               <br>##############################################<br> <a href=\"https://docs.abinit.org/variables/gstate#tsmear\" target=\"_blank\">tsmear</a> 0.04<br> <a href=\"https://docs.abinit.org/variables/gstate#optdriver\" target=\"_blank\">optdriver</a> 7<br>##############################################<br>####                  STRUCTURE                  <br>##############################################<br> <a href=\"https://docs.abinit.org/variables/basic#natom\" target=\"_blank\">natom</a> 1<br> <a href=\"https://docs.abinit.org/variables/basic#ntypat\" target=\"_blank\">ntypat</a> 1<br> <a href=\"https://docs.abinit.org/variables/basic#typat\" target=\"_blank\">typat</a> 1<br> <a href=\"https://docs.abinit.org/variables/basic#znucl\" target=\"_blank\">znucl</a> 13<br> <a href=\"https://docs.abinit.org/variables/basic#xred\" target=\"_blank\">xred</a>    0.0000000000    0.0000000000    0.0000000000<br> <a href=\"https://docs.abinit.org/variables/basic#acell\" target=\"_blank\">acell</a>    1.0    1.0    1.0<br> <a href=\"https://docs.abinit.org/variables/basic#rprim\" target=\"_blank\">rprim</a><br>    0.0000000000    3.7500000000    3.7500000000<br>    3.7500000000    0.0000000000    3.7500000000<br>    3.7500000000    3.7500000000    0.0000000000\n",
       "<div>"
      ],
      "text/plain": [
       "<AbinitInput at 140467172594408>"
      ]
     },
     "execution_count": 5,
     "metadata": {},
     "output_type": "execute_result"
    }
   ],
   "source": [
    "print(flow[-1][-1])\n",
    "flow[-1][-1].input"
   ]
  },
  {
   "cell_type": "markdown",
   "id": "f96fb133",
   "metadata": {},
   "source": [
    "<div class=\"alert alert-info\" role=\"alert\">\n",
    "The input does not contain any `irdwfk` or `getwfk` variable. AbiPy will add the required `ird*` \n",
    "variables at runtime and create symbolic links to connect this task to its parents.\n",
    "</div>"
   ]
  },
  {
   "cell_type": "markdown",
   "id": "c3b0de0d",
   "metadata": {},
   "source": [
    "As usual, it is much easier to understand what is happening if we plot a graph\n",
    "with the individual tasks and their connections.\n",
    "Since there are several nodes in our graph, we mainly focus on the EPH part.\n",
    "\n",
    "Let's have a look at the parents of the last `EphTask` with:"
   ]
  },
  {
   "cell_type": "code",
   "execution_count": 6,
   "id": "61e95414",
   "metadata": {},
   "outputs": [
    {
     "data": {
      "image/svg+xml": [
       "<?xml version=\"1.0\" encoding=\"UTF-8\" standalone=\"no\"?>\n",
       "<!DOCTYPE svg PUBLIC \"-//W3C//DTD SVG 1.1//EN\"\n",
       " \"http://www.w3.org/Graphics/SVG/1.1/DTD/svg11.dtd\">\n",
       "<!-- Generated by graphviz version 2.42.3 (20191010.1750)\n",
       " -->\n",
       "<!-- Title: task Pages: 1 -->\n",
       "<svg width=\"339pt\" height=\"218pt\"\n",
       " viewBox=\"0.00 0.00 339.00 217.82\" xmlns=\"http://www.w3.org/2000/svg\" xmlns:xlink=\"http://www.w3.org/1999/xlink\">\n",
       "<g id=\"graph0\" class=\"graph\" transform=\"scale(1 1) rotate(0) translate(4 213.82)\">\n",
       "<title>task</title>\n",
       "<polygon fill=\"white\" stroke=\"transparent\" points=\"-4,4 -4,-213.82 335,-213.82 335,4 -4,4\"/>\n",
       "<text text-anchor=\"start\" x=\"8\" y=\"-6.8\" font-family=\"Times,serif\" font-size=\"14.00\">EphTask, node_id=443342, workdir=flow_eph_al/w2/t2</text>\n",
       "<g id=\"clust1\" class=\"cluster\">\n",
       "<title>clusterw2</title>\n",
       "<path fill=\"#e0eeee\" stroke=\"black\" d=\"M114.12,-30C114.12,-30 202.12,-30 202.12,-30 208.12,-30 214.12,-36 214.12,-42 214.12,-42 214.12,-106.91 214.12,-106.91 214.12,-112.91 208.12,-118.91 202.12,-118.91 202.12,-118.91 114.12,-118.91 114.12,-118.91 108.12,-118.91 102.12,-112.91 102.12,-106.91 102.12,-106.91 102.12,-42 102.12,-42 102.12,-36 108.12,-30 114.12,-30\"/>\n",
       "<text text-anchor=\"middle\" x=\"158.12\" y=\"-103.71\" font-family=\"Times,serif\" font-size=\"14.00\">EphTask (w2_t2)</text>\n",
       "</g>\n",
       "<!-- w0_t4 -->\n",
       "<g id=\"node1\" class=\"node\">\n",
       "<title>w0_t4</title>\n",
       "<ellipse fill=\"#c85064\" stroke=\"#c85064\" cx=\"93.12\" cy=\"-184.37\" rx=\"48.62\" ry=\"25.41\"/>\n",
       "<text text-anchor=\"middle\" x=\"93.12\" y=\"-187.17\" font-family=\"Times,serif\" font-size=\"14.00\">w0_t4</text>\n",
       "<text text-anchor=\"middle\" x=\"93.12\" y=\"-173.17\" font-family=\"Times,serif\" font-size=\"14.00\">NscfTask</text>\n",
       "</g>\n",
       "<!-- w2_t2 -->\n",
       "<g id=\"node2\" class=\"node\">\n",
       "<title>w2_t2</title>\n",
       "<ellipse fill=\"#ff8000\" stroke=\"#ff8000\" cx=\"158.12\" cy=\"-63.46\" rx=\"45.62\" ry=\"25.41\"/>\n",
       "<text text-anchor=\"middle\" x=\"158.12\" y=\"-66.26\" font-family=\"Times,serif\" font-size=\"14.00\">w2_t2</text>\n",
       "<text text-anchor=\"middle\" x=\"158.12\" y=\"-52.26\" font-family=\"Times,serif\" font-size=\"14.00\">EphTask</text>\n",
       "</g>\n",
       "<!-- w0_t4&#45;&gt;w2_t2 -->\n",
       "<g id=\"edge1\" class=\"edge\">\n",
       "<title>w0_t4&#45;&gt;w2_t2</title>\n",
       "<path fill=\"none\" stroke=\"#c85064\" d=\"M106.12,-159.59C115.9,-141.69 129.43,-116.93 140.24,-97.16\"/>\n",
       "<polygon fill=\"#c85064\" stroke=\"#c85064\" points=\"143.42,-98.65 145.14,-88.19 137.28,-95.29 143.42,-98.65\"/>\n",
       "<text text-anchor=\"middle\" x=\"139.67\" y=\"-129.71\" font-family=\"Times,serif\" font-size=\"14.00\">WFK</text>\n",
       "</g>\n",
       "<!-- w1 -->\n",
       "<g id=\"node3\" class=\"node\">\n",
       "<title>w1</title>\n",
       "<ellipse fill=\"#696969\" stroke=\"#696969\" cx=\"223.12\" cy=\"-184.37\" rx=\"63.14\" ry=\"25.41\"/>\n",
       "<text text-anchor=\"middle\" x=\"223.12\" y=\"-187.17\" font-family=\"Times,serif\" font-size=\"14.00\">w1</text>\n",
       "<text text-anchor=\"middle\" x=\"223.12\" y=\"-173.17\" font-family=\"Times,serif\" font-size=\"14.00\">PhononWork</text>\n",
       "</g>\n",
       "<!-- w1&#45;&gt;w2_t2 -->\n",
       "<g id=\"edge2\" class=\"edge\">\n",
       "<title>w1&#45;&gt;w2_t2</title>\n",
       "<path fill=\"none\" stroke=\"#696969\" d=\"M209.97,-159.3C200.17,-141.38 186.68,-116.7 175.91,-97.01\"/>\n",
       "<polygon fill=\"#696969\" stroke=\"#696969\" points=\"178.9,-95.17 171.03,-88.08 172.76,-98.53 178.9,-95.17\"/>\n",
       "<text text-anchor=\"middle\" x=\"237.68\" y=\"-129.71\" font-family=\"Times,serif\" font-size=\"14.00\">DDB+DVDB</text>\n",
       "</g>\n",
       "</g>\n",
       "</svg>\n"
      ],
      "text/plain": [
       "<graphviz.dot.Digraph at 0x7fc10fed3e48>"
      ]
     },
     "execution_count": 6,
     "metadata": {
      "filenames": {
       "image/svg+xml": "/Users/gmatteo/git_repos/abipy_book/abipy_book/_build/jupyter_execute/eph_al/lesson_eph_al_15_0.svg"
      }
     },
     "output_type": "execute_result"
    }
   ],
   "source": [
    "flow[-1][-1].get_graphviz()"
   ]
  },
  {
   "cell_type": "markdown",
   "id": "bb3a9023",
   "metadata": {},
   "source": [
    "We do not repeat here the detailed description of the Flow because it is very similar in spirit\n",
    "to what has been already done in the [previous EPH lesson](https://nbviewer.jupyter.org/github/abinit/abitutorials/blob/master/abitutorials/sigeph/lesson_sigeph.ipynb).\n",
    "Hopefully, you are already familiar with the AbiPy philosophy."
   ]
  },
  {
   "cell_type": "code",
   "execution_count": 7,
   "id": "d35b86b2",
   "metadata": {},
   "outputs": [
    {
     "name": "stdout",
     "output_type": "stream",
     "text": [
      "ngkpt in EPH tasks: [[16, 16, 16], [24, 24, 24], [32, 32, 32]]\n"
     ]
    }
   ],
   "source": [
    "print(\"ngkpt in EPH tasks:\", [task.input[\"ngkpt\"] for task in flow[2]])"
   ]
  },
  {
   "cell_type": "code",
   "execution_count": 8,
   "id": "50e5cc41",
   "metadata": {},
   "outputs": [
    {
     "data": {
      "text/html": [
       "<div>\n",
       "<style scoped>\n",
       "    .dataframe tbody tr th:only-of-type {\n",
       "        vertical-align: middle;\n",
       "    }\n",
       "\n",
       "    .dataframe tbody tr th {\n",
       "        vertical-align: top;\n",
       "    }\n",
       "\n",
       "    .dataframe thead th {\n",
       "        text-align: right;\n",
       "    }\n",
       "</style>\n",
       "<table border=\"1\" class=\"dataframe\">\n",
       "  <thead>\n",
       "    <tr style=\"text-align: right;\">\n",
       "      <th></th>\n",
       "      <th>ngkpt</th>\n",
       "      <th>class</th>\n",
       "    </tr>\n",
       "  </thead>\n",
       "  <tbody>\n",
       "    <tr>\n",
       "      <th>w2_t0</th>\n",
       "      <td>[16, 16, 16]</td>\n",
       "      <td>EphTask</td>\n",
       "    </tr>\n",
       "    <tr>\n",
       "      <th>w2_t1</th>\n",
       "      <td>[24, 24, 24]</td>\n",
       "      <td>EphTask</td>\n",
       "    </tr>\n",
       "    <tr>\n",
       "      <th>w2_t2</th>\n",
       "      <td>[32, 32, 32]</td>\n",
       "      <td>EphTask</td>\n",
       "    </tr>\n",
       "  </tbody>\n",
       "</table>\n",
       "</div>"
      ],
      "text/plain": [
       "              ngkpt    class\n",
       "w2_t0  [16, 16, 16]  EphTask\n",
       "w2_t1  [24, 24, 24]  EphTask\n",
       "w2_t2  [32, 32, 32]  EphTask"
      ]
     },
     "execution_count": 8,
     "metadata": {},
     "output_type": "execute_result"
    }
   ],
   "source": [
    "flow[2].get_vars_dataframe(\"ngkpt\")"
   ]
  },
  {
   "cell_type": "markdown",
   "id": "b80e5073",
   "metadata": {},
   "source": [
    "For completeness, we show the entire flow with the different connections:"
   ]
  },
  {
   "cell_type": "code",
   "execution_count": 9,
   "id": "4361cf73",
   "metadata": {},
   "outputs": [
    {
     "data": {
      "image/svg+xml": [
       "<?xml version=\"1.0\" encoding=\"UTF-8\" standalone=\"no\"?>\n",
       "<!DOCTYPE svg PUBLIC \"-//W3C//DTD SVG 1.1//EN\"\n",
       " \"http://www.w3.org/Graphics/SVG/1.1/DTD/svg11.dtd\">\n",
       "<!-- Generated by graphviz version 2.42.3 (20191010.1750)\n",
       " -->\n",
       "<!-- Title: flow Pages: 1 -->\n",
       "<svg width=\"685pt\" height=\"531pt\"\n",
       " viewBox=\"0.00 0.00 685.00 531.00\" xmlns=\"http://www.w3.org/2000/svg\" xmlns:xlink=\"http://www.w3.org/1999/xlink\">\n",
       "<g id=\"graph0\" class=\"graph\" transform=\"scale(1 1) rotate(0) translate(4 505)\">\n",
       "<title>flow</title>\n",
       "<polygon fill=\"white\" stroke=\"transparent\" points=\"-4,26 -4,-505 681,-505 681,26 -4,26\"/>\n",
       "<text text-anchor=\"start\" x=\"209.35\" y=\"15.2\" font-family=\"Times,serif\" font-size=\"14.00\">Flow, node_id=443308, workdir=flow_eph_al</text>\n",
       "<g id=\"clust1\" class=\"cluster\">\n",
       "<title>clusterw0</title>\n",
       "<path fill=\"#e0eeee\" stroke=\"black\" d=\"M12.35,-318.56C12.35,-318.56 186.35,-318.56 186.35,-318.56 192.35,-318.56 198.35,-324.56 198.35,-330.56 198.35,-330.56 198.35,-488.56 198.35,-488.56 198.35,-494.56 192.35,-500.56 186.35,-500.56 186.35,-500.56 12.35,-500.56 12.35,-500.56 6.35,-500.56 0.35,-494.56 0.35,-488.56 0.35,-488.56 0.35,-330.56 0.35,-330.56 0.35,-324.56 6.35,-318.56 12.35,-318.56\"/>\n",
       "<text text-anchor=\"middle\" x=\"99.35\" y=\"-485.36\" font-family=\"Times,serif\" font-size=\"14.00\">BandStructureWork (w0)</text>\n",
       "</g>\n",
       "<g id=\"clust2\" class=\"cluster\">\n",
       "<title>clusterw1</title>\n",
       "<path fill=\"#e0eeee\" stroke=\"black\" d=\"M305.4,-51.13C305.4,-51.13 665.4,-51.13 665.4,-51.13 671.4,-51.13 677.4,-57.13 677.4,-63.13 677.4,-63.13 677.4,-318.13 677.4,-318.13 677.4,-324.13 671.4,-330.13 665.4,-330.13 665.4,-330.13 305.4,-330.13 305.4,-330.13 299.4,-330.13 293.4,-324.13 293.4,-318.13 293.4,-318.13 293.4,-63.13 293.4,-63.13 293.4,-57.13 299.4,-51.13 305.4,-51.13\"/>\n",
       "<text text-anchor=\"middle\" x=\"485.4\" y=\"-314.93\" font-family=\"Times,serif\" font-size=\"14.00\">PhononWork (w1)</text>\n",
       "</g>\n",
       "<g id=\"clust3\" class=\"cluster\">\n",
       "<title>clusterw2</title>\n",
       "<path fill=\"#e0eeee\" stroke=\"black\" d=\"M144.57,-74.62C144.57,-74.62 272.57,-74.62 272.57,-74.62 278.57,-74.62 284.57,-80.62 284.57,-86.62 284.57,-86.62 284.57,-182.62 284.57,-182.62 284.57,-188.62 278.57,-194.62 272.57,-194.62 272.57,-194.62 144.57,-194.62 144.57,-194.62 138.57,-194.62 132.57,-188.62 132.57,-182.62 132.57,-182.62 132.57,-86.62 132.57,-86.62 132.57,-80.62 138.57,-74.62 144.57,-74.62\"/>\n",
       "<text text-anchor=\"middle\" x=\"208.57\" y=\"-179.42\" font-family=\"Times,serif\" font-size=\"14.00\">Work (w2)</text>\n",
       "</g>\n",
       "<!-- w0_t0 -->\n",
       "<g id=\"node1\" class=\"node\">\n",
       "<title>w0_t0</title>\n",
       "<ellipse fill=\"#ff0000\" stroke=\"#ff0000\" cx=\"36.03\" cy=\"-396.42\" rx=\"27.89\" ry=\"18\"/>\n",
       "<text text-anchor=\"middle\" x=\"36.03\" y=\"-398.02\" font-family=\"Times,serif\" font-size=\"8.00\">w0_t0</text>\n",
       "<text text-anchor=\"middle\" x=\"36.03\" y=\"-390.02\" font-family=\"Times,serif\" font-size=\"8.00\">ScfTask</text>\n",
       "</g>\n",
       "<!-- w0_t1 -->\n",
       "<g id=\"node2\" class=\"node\">\n",
       "<title>w0_t1</title>\n",
       "<ellipse fill=\"#c85064\" stroke=\"#c85064\" cx=\"159.59\" cy=\"-452.2\" rx=\"30.85\" ry=\"18\"/>\n",
       "<text text-anchor=\"middle\" x=\"159.59\" y=\"-453.8\" font-family=\"Times,serif\" font-size=\"8.00\">w0_t1</text>\n",
       "<text text-anchor=\"middle\" x=\"159.59\" y=\"-445.8\" font-family=\"Times,serif\" font-size=\"8.00\">NscfTask</text>\n",
       "</g>\n",
       "<!-- w0_t0&#45;&gt;w0_t1 -->\n",
       "<g id=\"edge1\" class=\"edge\">\n",
       "<title>w0_t0&#45;&gt;w0_t1</title>\n",
       "<path fill=\"none\" stroke=\"#ff0000\" d=\"M58.98,-406.78C77.75,-415.25 104.54,-427.35 125.76,-436.93\"/>\n",
       "<polygon fill=\"#ff0000\" stroke=\"#ff0000\" points=\"124.51,-440.21 135.07,-441.13 127.39,-433.83 124.51,-440.21\"/>\n",
       "<text text-anchor=\"middle\" x=\"77.99\" y=\"-410.66\" font-family=\"Times,serif\" font-size=\"14.00\">DEN</text>\n",
       "</g>\n",
       "<!-- w0_t2 -->\n",
       "<g id=\"node3\" class=\"node\">\n",
       "<title>w0_t2</title>\n",
       "<ellipse fill=\"#c85064\" stroke=\"#c85064\" cx=\"91.87\" cy=\"-344.09\" rx=\"30.85\" ry=\"18\"/>\n",
       "<text text-anchor=\"middle\" x=\"91.87\" y=\"-345.69\" font-family=\"Times,serif\" font-size=\"8.00\">w0_t2</text>\n",
       "<text text-anchor=\"middle\" x=\"91.87\" y=\"-337.69\" font-family=\"Times,serif\" font-size=\"8.00\">NscfTask</text>\n",
       "</g>\n",
       "<!-- w0_t0&#45;&gt;w0_t2 -->\n",
       "<g id=\"edge2\" class=\"edge\">\n",
       "<title>w0_t0&#45;&gt;w0_t2</title>\n",
       "<path fill=\"none\" stroke=\"#ff0000\" d=\"M51.89,-381.57C56.83,-376.94 62.39,-371.73 67.76,-366.69\"/>\n",
       "<polygon fill=\"#ff0000\" stroke=\"#ff0000\" points=\"70.5,-368.93 75.4,-359.53 65.71,-363.82 70.5,-368.93\"/>\n",
       "<text text-anchor=\"middle\" x=\"45.44\" y=\"-362.93\" font-family=\"Times,serif\" font-size=\"14.00\">DEN</text>\n",
       "</g>\n",
       "<!-- w0_t3 -->\n",
       "<g id=\"node4\" class=\"node\">\n",
       "<title>w0_t3</title>\n",
       "<ellipse fill=\"#c85064\" stroke=\"#c85064\" cx=\"130.94\" cy=\"-391.37\" rx=\"30.85\" ry=\"18\"/>\n",
       "<text text-anchor=\"middle\" x=\"130.94\" y=\"-392.97\" font-family=\"Times,serif\" font-size=\"8.00\">w0_t3</text>\n",
       "<text text-anchor=\"middle\" x=\"130.94\" y=\"-384.97\" font-family=\"Times,serif\" font-size=\"8.00\">NscfTask</text>\n",
       "</g>\n",
       "<!-- w0_t0&#45;&gt;w0_t3 -->\n",
       "<g id=\"edge3\" class=\"edge\">\n",
       "<title>w0_t0&#45;&gt;w0_t3</title>\n",
       "<path fill=\"none\" stroke=\"#ff0000\" d=\"M64,-394.94C72.09,-394.5 81.1,-394.02 89.83,-393.56\"/>\n",
       "<polygon fill=\"#ff0000\" stroke=\"#ff0000\" points=\"90.06,-397.05 99.86,-393.03 89.69,-390.06 90.06,-397.05\"/>\n",
       "<text text-anchor=\"middle\" x=\"84.1\" y=\"-383.05\" font-family=\"Times,serif\" font-size=\"14.00\">DEN</text>\n",
       "</g>\n",
       "<!-- w0_t4 -->\n",
       "<g id=\"node5\" class=\"node\">\n",
       "<title>w0_t4</title>\n",
       "<ellipse fill=\"#c85064\" stroke=\"#c85064\" cx=\"63.91\" cy=\"-442.46\" rx=\"30.85\" ry=\"18\"/>\n",
       "<text text-anchor=\"middle\" x=\"63.91\" y=\"-444.06\" font-family=\"Times,serif\" font-size=\"8.00\">w0_t4</text>\n",
       "<text text-anchor=\"middle\" x=\"63.91\" y=\"-436.06\" font-family=\"Times,serif\" font-size=\"8.00\">NscfTask</text>\n",
       "</g>\n",
       "<!-- w0_t0&#45;&gt;w0_t4 -->\n",
       "<g id=\"edge4\" class=\"edge\">\n",
       "<title>w0_t0&#45;&gt;w0_t4</title>\n",
       "<path fill=\"none\" stroke=\"#ff0000\" d=\"M46.26,-413.3C46.92,-414.4 47.6,-415.52 48.28,-416.64\"/>\n",
       "<polygon fill=\"#ff0000\" stroke=\"#ff0000\" points=\"45.33,-418.53 53.5,-425.27 51.32,-414.9 45.33,-418.53\"/>\n",
       "<text text-anchor=\"middle\" x=\"32.88\" y=\"-417.77\" font-family=\"Times,serif\" font-size=\"14.00\">DEN</text>\n",
       "</g>\n",
       "<!-- w1_t0 -->\n",
       "<g id=\"node6\" class=\"node\">\n",
       "<title>w1_t0</title>\n",
       "<ellipse fill=\"#0096fa\" stroke=\"#0096fa\" cx=\"632.4\" cy=\"-169.15\" rx=\"37.38\" ry=\"18\"/>\n",
       "<text text-anchor=\"middle\" x=\"632.4\" y=\"-170.75\" font-family=\"Times,serif\" font-size=\"8.00\">w1_t0</text>\n",
       "<text text-anchor=\"middle\" x=\"632.4\" y=\"-162.75\" font-family=\"Times,serif\" font-size=\"8.00\">PhononTask</text>\n",
       "</g>\n",
       "<!-- w0_t0&#45;&gt;w1_t0 -->\n",
       "<g id=\"edge5\" class=\"edge\">\n",
       "<title>w0_t0&#45;&gt;w1_t0</title>\n",
       "<path fill=\"none\" stroke=\"#ff0000\" d=\"M60.15,-387.23C151.94,-352.25 480.02,-227.22 593.47,-183.98\"/>\n",
       "<polygon fill=\"#ff0000\" stroke=\"#ff0000\" points=\"594.73,-187.25 602.83,-180.42 592.24,-180.71 594.73,-187.25\"/>\n",
       "<text text-anchor=\"middle\" x=\"311.26\" y=\"-288.41\" font-family=\"Times,serif\" font-size=\"14.00\">WFK</text>\n",
       "</g>\n",
       "<!-- w1_t1 -->\n",
       "<g id=\"node7\" class=\"node\">\n",
       "<title>w1_t1</title>\n",
       "<ellipse fill=\"#0096fa\" stroke=\"#0096fa\" cx=\"602.89\" cy=\"-113.17\" rx=\"37.38\" ry=\"18\"/>\n",
       "<text text-anchor=\"middle\" x=\"602.89\" y=\"-114.77\" font-family=\"Times,serif\" font-size=\"8.00\">w1_t1</text>\n",
       "<text text-anchor=\"middle\" x=\"602.89\" y=\"-106.77\" font-family=\"Times,serif\" font-size=\"8.00\">PhononTask</text>\n",
       "</g>\n",
       "<!-- w0_t0&#45;&gt;w1_t1 -->\n",
       "<g id=\"edge6\" class=\"edge\">\n",
       "<title>w0_t0&#45;&gt;w1_t1</title>\n",
       "<path fill=\"none\" stroke=\"#ff0000\" d=\"M58.26,-385.32C145.09,-341.93 461.89,-183.62 567.99,-130.6\"/>\n",
       "<polygon fill=\"#ff0000\" stroke=\"#ff0000\" points=\"569.63,-133.7 577.01,-126.1 566.5,-127.44 569.63,-133.7\"/>\n",
       "<text text-anchor=\"middle\" x=\"297.57\" y=\"-260.76\" font-family=\"Times,serif\" font-size=\"14.00\">WFK</text>\n",
       "</g>\n",
       "<!-- w1_t2 -->\n",
       "<g id=\"node8\" class=\"node\">\n",
       "<title>w1_t2</title>\n",
       "<ellipse fill=\"#0096fa\" stroke=\"#0096fa\" cx=\"338.6\" cy=\"-178.54\" rx=\"37.38\" ry=\"18\"/>\n",
       "<text text-anchor=\"middle\" x=\"338.6\" y=\"-180.14\" font-family=\"Times,serif\" font-size=\"8.00\">w1_t2</text>\n",
       "<text text-anchor=\"middle\" x=\"338.6\" y=\"-172.14\" font-family=\"Times,serif\" font-size=\"8.00\">PhononTask</text>\n",
       "</g>\n",
       "<!-- w0_t0&#45;&gt;w1_t2 -->\n",
       "<g id=\"edge7\" class=\"edge\">\n",
       "<title>w0_t0&#45;&gt;w1_t2</title>\n",
       "<path fill=\"none\" stroke=\"#ff0000\" d=\"M54.96,-382.79C106.24,-345.87 248.1,-243.71 309.57,-199.44\"/>\n",
       "<polygon fill=\"#ff0000\" stroke=\"#ff0000\" points=\"311.63,-202.27 317.7,-193.59 307.54,-196.59 311.63,-202.27\"/>\n",
       "<text text-anchor=\"middle\" x=\"166.71\" y=\"-293.92\" font-family=\"Times,serif\" font-size=\"14.00\">WFK</text>\n",
       "</g>\n",
       "<!-- w1_t3 -->\n",
       "<g id=\"node9\" class=\"node\">\n",
       "<title>w1_t3</title>\n",
       "<ellipse fill=\"#0096fa\" stroke=\"#0096fa\" cx=\"375.67\" cy=\"-127.35\" rx=\"37.38\" ry=\"18\"/>\n",
       "<text text-anchor=\"middle\" x=\"375.67\" y=\"-128.95\" font-family=\"Times,serif\" font-size=\"8.00\">w1_t3</text>\n",
       "<text text-anchor=\"middle\" x=\"375.67\" y=\"-120.95\" font-family=\"Times,serif\" font-size=\"8.00\">PhononTask</text>\n",
       "</g>\n",
       "<!-- w0_t0&#45;&gt;w1_t3 -->\n",
       "<g id=\"edge8\" class=\"edge\">\n",
       "<title>w0_t0&#45;&gt;w1_t3</title>\n",
       "<path fill=\"none\" stroke=\"#ff0000\" d=\"M53.82,-382.34C109.45,-338.26 280.46,-202.78 347.91,-149.35\"/>\n",
       "<polygon fill=\"#ff0000\" stroke=\"#ff0000\" points=\"350.31,-151.91 355.98,-142.96 345.97,-146.42 350.31,-151.91\"/>\n",
       "<text text-anchor=\"middle\" x=\"185.31\" y=\"-268.64\" font-family=\"Times,serif\" font-size=\"14.00\">WFK</text>\n",
       "</g>\n",
       "<!-- w1_t4 -->\n",
       "<g id=\"node10\" class=\"node\">\n",
       "<title>w1_t4</title>\n",
       "<ellipse fill=\"#0096fa\" stroke=\"#0096fa\" cx=\"548.32\" cy=\"-174.29\" rx=\"37.38\" ry=\"18\"/>\n",
       "<text text-anchor=\"middle\" x=\"548.32\" y=\"-175.89\" font-family=\"Times,serif\" font-size=\"8.00\">w1_t4</text>\n",
       "<text text-anchor=\"middle\" x=\"548.32\" y=\"-167.89\" font-family=\"Times,serif\" font-size=\"8.00\">PhononTask</text>\n",
       "</g>\n",
       "<!-- w0_t0&#45;&gt;w1_t4 -->\n",
       "<g id=\"edge9\" class=\"edge\">\n",
       "<title>w0_t0&#45;&gt;w1_t4</title>\n",
       "<path fill=\"none\" stroke=\"#ff0000\" d=\"M59.38,-386.3C140.64,-351.06 411.61,-233.57 511.19,-190.39\"/>\n",
       "<polygon fill=\"#ff0000\" stroke=\"#ff0000\" points=\"512.77,-193.52 520.56,-186.33 509.99,-187.1 512.77,-193.52\"/>\n",
       "<text text-anchor=\"middle\" x=\"269.73\" y=\"-291.15\" font-family=\"Times,serif\" font-size=\"14.00\">WFK</text>\n",
       "</g>\n",
       "<!-- w1_t5 -->\n",
       "<g id=\"node11\" class=\"node\">\n",
       "<title>w1_t5</title>\n",
       "<ellipse fill=\"#0096fa\" stroke=\"#0096fa\" cx=\"539.08\" cy=\"-282.52\" rx=\"37.38\" ry=\"18\"/>\n",
       "<text text-anchor=\"middle\" x=\"539.08\" y=\"-284.12\" font-family=\"Times,serif\" font-size=\"8.00\">w1_t5</text>\n",
       "<text text-anchor=\"middle\" x=\"539.08\" y=\"-276.12\" font-family=\"Times,serif\" font-size=\"8.00\">PhononTask</text>\n",
       "</g>\n",
       "<!-- w0_t0&#45;&gt;w1_t5 -->\n",
       "<g id=\"edge10\" class=\"edge\">\n",
       "<title>w0_t0&#45;&gt;w1_t5</title>\n",
       "<path fill=\"none\" stroke=\"#ff0000\" d=\"M62.73,-390.38C144.81,-371.79 394.08,-315.35 495.48,-292.39\"/>\n",
       "<polygon fill=\"#ff0000\" stroke=\"#ff0000\" points=\"496.41,-295.77 505.39,-290.14 494.86,-288.94 496.41,-295.77\"/>\n",
       "<text text-anchor=\"middle\" x=\"263.55\" y=\"-344.18\" font-family=\"Times,serif\" font-size=\"14.00\">WFK</text>\n",
       "</g>\n",
       "<!-- w1_t6 -->\n",
       "<g id=\"node12\" class=\"node\">\n",
       "<title>w1_t6</title>\n",
       "<ellipse fill=\"#0096fa\" stroke=\"#0096fa\" cx=\"610.61\" cy=\"-231.36\" rx=\"37.38\" ry=\"18\"/>\n",
       "<text text-anchor=\"middle\" x=\"610.61\" y=\"-232.96\" font-family=\"Times,serif\" font-size=\"8.00\">w1_t6</text>\n",
       "<text text-anchor=\"middle\" x=\"610.61\" y=\"-224.96\" font-family=\"Times,serif\" font-size=\"8.00\">PhononTask</text>\n",
       "</g>\n",
       "<!-- w0_t0&#45;&gt;w1_t6 -->\n",
       "<g id=\"edge11\" class=\"edge\">\n",
       "<title>w0_t0&#45;&gt;w1_t6</title>\n",
       "<path fill=\"none\" stroke=\"#ff0000\" d=\"M61.84,-389.01C152.36,-363 456.06,-275.76 568.38,-243.49\"/>\n",
       "<polygon fill=\"#ff0000\" stroke=\"#ff0000\" points=\"569.69,-246.76 578.33,-240.63 567.75,-240.03 569.69,-246.76\"/>\n",
       "<text text-anchor=\"middle\" x=\"299.56\" y=\"-319.05\" font-family=\"Times,serif\" font-size=\"14.00\">WFK</text>\n",
       "</g>\n",
       "<!-- w1_t7 -->\n",
       "<g id=\"node13\" class=\"node\">\n",
       "<title>w1_t7</title>\n",
       "<ellipse fill=\"#0096fa\" stroke=\"#0096fa\" cx=\"343.06\" cy=\"-247.54\" rx=\"37.38\" ry=\"18\"/>\n",
       "<text text-anchor=\"middle\" x=\"343.06\" y=\"-249.14\" font-family=\"Times,serif\" font-size=\"8.00\">w1_t7</text>\n",
       "<text text-anchor=\"middle\" x=\"343.06\" y=\"-241.14\" font-family=\"Times,serif\" font-size=\"8.00\">PhononTask</text>\n",
       "</g>\n",
       "<!-- w0_t0&#45;&gt;w1_t7 -->\n",
       "<g id=\"edge12\" class=\"edge\">\n",
       "<title>w0_t0&#45;&gt;w1_t7</title>\n",
       "<path fill=\"none\" stroke=\"#ff0000\" d=\"M58.36,-385.6C111,-360.07 243.21,-295.96 307.23,-264.92\"/>\n",
       "<polygon fill=\"#ff0000\" stroke=\"#ff0000\" points=\"309.05,-267.92 316.53,-260.41 306,-261.63 309.05,-267.92\"/>\n",
       "<text text-anchor=\"middle\" x=\"167.24\" y=\"-328.06\" font-family=\"Times,serif\" font-size=\"14.00\">WFK</text>\n",
       "</g>\n",
       "<!-- w1_t8 -->\n",
       "<g id=\"node14\" class=\"node\">\n",
       "<title>w1_t8</title>\n",
       "<ellipse fill=\"#0096fa\" stroke=\"#0096fa\" cx=\"447.71\" cy=\"-278.19\" rx=\"37.38\" ry=\"18\"/>\n",
       "<text text-anchor=\"middle\" x=\"447.71\" y=\"-279.79\" font-family=\"Times,serif\" font-size=\"8.00\">w1_t8</text>\n",
       "<text text-anchor=\"middle\" x=\"447.71\" y=\"-271.79\" font-family=\"Times,serif\" font-size=\"8.00\">PhononTask</text>\n",
       "</g>\n",
       "<!-- w0_t0&#45;&gt;w1_t8 -->\n",
       "<g id=\"edge13\" class=\"edge\">\n",
       "<title>w0_t0&#45;&gt;w1_t8</title>\n",
       "<path fill=\"none\" stroke=\"#ff0000\" d=\"M61.79,-389.03C130.88,-369.18 320.88,-314.61 405.77,-290.23\"/>\n",
       "<polygon fill=\"#ff0000\" stroke=\"#ff0000\" points=\"406.94,-293.54 415.59,-287.41 405.01,-286.81 406.94,-293.54\"/>\n",
       "<text text-anchor=\"middle\" x=\"218.22\" y=\"-342.43\" font-family=\"Times,serif\" font-size=\"14.00\">WFK</text>\n",
       "</g>\n",
       "<!-- w1_t9 -->\n",
       "<g id=\"node15\" class=\"node\">\n",
       "<title>w1_t9</title>\n",
       "<ellipse fill=\"#0096fa\" stroke=\"#0096fa\" cx=\"459.1\" cy=\"-143.37\" rx=\"37.38\" ry=\"18\"/>\n",
       "<text text-anchor=\"middle\" x=\"459.1\" y=\"-144.97\" font-family=\"Times,serif\" font-size=\"8.00\">w1_t9</text>\n",
       "<text text-anchor=\"middle\" x=\"459.1\" y=\"-136.97\" font-family=\"Times,serif\" font-size=\"8.00\">PhononTask</text>\n",
       "</g>\n",
       "<!-- w0_t0&#45;&gt;w1_t9 -->\n",
       "<g id=\"edge14\" class=\"edge\">\n",
       "<title>w0_t0&#45;&gt;w1_t9</title>\n",
       "<path fill=\"none\" stroke=\"#ff0000\" d=\"M56.73,-384.05C125.08,-343.16 344.03,-212.2 426.9,-162.63\"/>\n",
       "<polygon fill=\"#ff0000\" stroke=\"#ff0000\" points=\"428.85,-165.54 435.63,-157.41 425.25,-159.54 428.85,-165.54\"/>\n",
       "<text text-anchor=\"middle\" x=\"226.26\" y=\"-276.14\" font-family=\"Times,serif\" font-size=\"14.00\">WFK</text>\n",
       "</g>\n",
       "<!-- w1_t10 -->\n",
       "<g id=\"node16\" class=\"node\">\n",
       "<title>w1_t10</title>\n",
       "<ellipse fill=\"#0096fa\" stroke=\"#0096fa\" cx=\"506.65\" cy=\"-94.26\" rx=\"37.38\" ry=\"18\"/>\n",
       "<text text-anchor=\"middle\" x=\"506.65\" y=\"-95.86\" font-family=\"Times,serif\" font-size=\"8.00\">w1_t10</text>\n",
       "<text text-anchor=\"middle\" x=\"506.65\" y=\"-87.86\" font-family=\"Times,serif\" font-size=\"8.00\">PhononTask</text>\n",
       "</g>\n",
       "<!-- w0_t0&#45;&gt;w1_t10 -->\n",
       "<g id=\"edge15\" class=\"edge\">\n",
       "<title>w0_t0&#45;&gt;w1_t10</title>\n",
       "<path fill=\"none\" stroke=\"#ff0000\" d=\"M55.96,-383.63C129.45,-336.45 385.73,-171.89 475.38,-114.33\"/>\n",
       "<polygon fill=\"#ff0000\" stroke=\"#ff0000\" points=\"477.49,-117.13 484.02,-108.78 473.71,-111.24 477.49,-117.13\"/>\n",
       "<text text-anchor=\"middle\" x=\"250.11\" y=\"-251.78\" font-family=\"Times,serif\" font-size=\"14.00\">WFK</text>\n",
       "</g>\n",
       "<!-- w1_t11 -->\n",
       "<g id=\"node17\" class=\"node\">\n",
       "<title>w1_t11</title>\n",
       "<ellipse fill=\"#0096fa\" stroke=\"#0096fa\" cx=\"409.86\" cy=\"-76.93\" rx=\"37.38\" ry=\"18\"/>\n",
       "<text text-anchor=\"middle\" x=\"409.86\" y=\"-78.53\" font-family=\"Times,serif\" font-size=\"8.00\">w1_t11</text>\n",
       "<text text-anchor=\"middle\" x=\"409.86\" y=\"-70.53\" font-family=\"Times,serif\" font-size=\"8.00\">PhononTask</text>\n",
       "</g>\n",
       "<!-- w0_t0&#45;&gt;w1_t11 -->\n",
       "<g id=\"edge16\" class=\"edge\">\n",
       "<title>w0_t0&#45;&gt;w1_t11</title>\n",
       "<path fill=\"none\" stroke=\"#ff0000\" d=\"M53.07,-381.86C112.62,-330.97 311.78,-160.75 383.69,-99.3\"/>\n",
       "<polygon fill=\"#ff0000\" stroke=\"#ff0000\" points=\"386.09,-101.85 391.42,-92.69 381.54,-96.53 386.09,-101.85\"/>\n",
       "<text text-anchor=\"middle\" x=\"202.82\" y=\"-243.38\" font-family=\"Times,serif\" font-size=\"14.00\">WFK</text>\n",
       "</g>\n",
       "<!-- w1_t12 -->\n",
       "<g id=\"node18\" class=\"node\">\n",
       "<title>w1_t12</title>\n",
       "<ellipse fill=\"#0096fa\" stroke=\"#0096fa\" cx=\"431.63\" cy=\"-201.37\" rx=\"37.38\" ry=\"18\"/>\n",
       "<text text-anchor=\"middle\" x=\"431.63\" y=\"-202.97\" font-family=\"Times,serif\" font-size=\"8.00\">w1_t12</text>\n",
       "<text text-anchor=\"middle\" x=\"431.63\" y=\"-194.97\" font-family=\"Times,serif\" font-size=\"8.00\">PhononTask</text>\n",
       "</g>\n",
       "<!-- w0_t0&#45;&gt;w1_t12 -->\n",
       "<g id=\"edge17\" class=\"edge\">\n",
       "<title>w0_t0&#45;&gt;w1_t12</title>\n",
       "<path fill=\"none\" stroke=\"#ff0000\" d=\"M58.44,-385.38C124.09,-353.01 316.42,-258.18 396.26,-218.81\"/>\n",
       "<polygon fill=\"#ff0000\" stroke=\"#ff0000\" points=\"398,-221.85 405.42,-214.29 394.91,-215.58 398,-221.85\"/>\n",
       "<text text-anchor=\"middle\" x=\"211.79\" y=\"-304.89\" font-family=\"Times,serif\" font-size=\"14.00\">WFK</text>\n",
       "</g>\n",
       "<!-- w1_t13 -->\n",
       "<g id=\"node19\" class=\"node\">\n",
       "<title>w1_t13</title>\n",
       "<ellipse fill=\"#0096fa\" stroke=\"#0096fa\" cx=\"517.07\" cy=\"-226.33\" rx=\"37.38\" ry=\"18\"/>\n",
       "<text text-anchor=\"middle\" x=\"517.07\" y=\"-227.93\" font-family=\"Times,serif\" font-size=\"8.00\">w1_t13</text>\n",
       "<text text-anchor=\"middle\" x=\"517.07\" y=\"-219.93\" font-family=\"Times,serif\" font-size=\"8.00\">PhononTask</text>\n",
       "</g>\n",
       "<!-- w0_t0&#45;&gt;w1_t13 -->\n",
       "<g id=\"edge18\" class=\"edge\">\n",
       "<title>w0_t0&#45;&gt;w1_t13</title>\n",
       "<path fill=\"none\" stroke=\"#ff0000\" d=\"M60.55,-387.75C138.49,-360.19 381.09,-274.41 477.24,-240.41\"/>\n",
       "<polygon fill=\"#ff0000\" stroke=\"#ff0000\" points=\"478.62,-243.64 486.88,-237 476.29,-237.04 478.62,-243.64\"/>\n",
       "<text text-anchor=\"middle\" x=\"253.34\" y=\"-316.88\" font-family=\"Times,serif\" font-size=\"14.00\">WFK</text>\n",
       "</g>\n",
       "<!-- w2_t0 -->\n",
       "<g id=\"node20\" class=\"node\">\n",
       "<title>w2_t0</title>\n",
       "<ellipse fill=\"#ff8000\" stroke=\"#ff8000\" cx=\"170.18\" cy=\"-101.36\" rx=\"29.37\" ry=\"18\"/>\n",
       "<text text-anchor=\"middle\" x=\"170.18\" y=\"-102.96\" font-family=\"Times,serif\" font-size=\"8.00\">w2_t0</text>\n",
       "<text text-anchor=\"middle\" x=\"170.18\" y=\"-94.96\" font-family=\"Times,serif\" font-size=\"8.00\">EphTask</text>\n",
       "</g>\n",
       "<!-- w0_t2&#45;&gt;w2_t0 -->\n",
       "<g id=\"edge19\" class=\"edge\">\n",
       "<title>w0_t2&#45;&gt;w2_t0</title>\n",
       "<path fill=\"none\" stroke=\"#c85064\" d=\"M97.63,-326.24C111.18,-284.25 145.15,-178.96 161.33,-128.78\"/>\n",
       "<polygon fill=\"#c85064\" stroke=\"#c85064\" points=\"164.67,-129.82 164.41,-119.23 158.01,-127.68 164.67,-129.82\"/>\n",
       "<text text-anchor=\"middle\" x=\"113.93\" y=\"-230.31\" font-family=\"Times,serif\" font-size=\"14.00\">WFK</text>\n",
       "</g>\n",
       "<!-- w2_t1 -->\n",
       "<g id=\"node21\" class=\"node\">\n",
       "<title>w2_t1</title>\n",
       "<ellipse fill=\"#ff8000\" stroke=\"#ff8000\" cx=\"247.54\" cy=\"-100.17\" rx=\"29.37\" ry=\"18\"/>\n",
       "<text text-anchor=\"middle\" x=\"247.54\" y=\"-101.77\" font-family=\"Times,serif\" font-size=\"8.00\">w2_t1</text>\n",
       "<text text-anchor=\"middle\" x=\"247.54\" y=\"-93.77\" font-family=\"Times,serif\" font-size=\"8.00\">EphTask</text>\n",
       "</g>\n",
       "<!-- w0_t3&#45;&gt;w2_t1 -->\n",
       "<g id=\"edge20\" class=\"edge\">\n",
       "<title>w0_t3&#45;&gt;w2_t1</title>\n",
       "<path fill=\"none\" stroke=\"#c85064\" d=\"M138.06,-373.6C157.78,-324.33 213.23,-185.85 236.76,-127.08\"/>\n",
       "<polygon fill=\"#c85064\" stroke=\"#c85064\" points=\"240.05,-128.3 240.51,-117.71 233.55,-125.7 240.05,-128.3\"/>\n",
       "<text text-anchor=\"middle\" x=\"171.86\" y=\"-253.14\" font-family=\"Times,serif\" font-size=\"14.00\">WFK</text>\n",
       "</g>\n",
       "<!-- w2_t2 -->\n",
       "<g id=\"node22\" class=\"node\">\n",
       "<title>w2_t2</title>\n",
       "<ellipse fill=\"#ff8000\" stroke=\"#ff8000\" cx=\"204.91\" cy=\"-146.49\" rx=\"29.37\" ry=\"18\"/>\n",
       "<text text-anchor=\"middle\" x=\"204.91\" y=\"-148.09\" font-family=\"Times,serif\" font-size=\"8.00\">w2_t2</text>\n",
       "<text text-anchor=\"middle\" x=\"204.91\" y=\"-140.09\" font-family=\"Times,serif\" font-size=\"8.00\">EphTask</text>\n",
       "</g>\n",
       "<!-- w0_t4&#45;&gt;w2_t2 -->\n",
       "<g id=\"edge21\" class=\"edge\">\n",
       "<title>w0_t4&#45;&gt;w2_t2</title>\n",
       "<path fill=\"none\" stroke=\"#c85064\" d=\"M72.31,-424.83C96.07,-374.96 163.85,-232.67 192.2,-173.16\"/>\n",
       "<polygon fill=\"#c85064\" stroke=\"#c85064\" points=\"195.42,-174.56 196.56,-164.02 189.1,-171.55 195.42,-174.56\"/>\n",
       "<text text-anchor=\"middle\" x=\"116.7\" y=\"-301.8\" font-family=\"Times,serif\" font-size=\"14.00\">WFK</text>\n",
       "</g>\n",
       "<!-- DDB (w1) -->\n",
       "<g id=\"node23\" class=\"node\">\n",
       "<title>DDB (w1)</title>\n",
       "<ellipse fill=\"#b2dfee\" stroke=\"#b2dfee\" cx=\"222.45\" cy=\"-223.7\" rx=\"47.88\" ry=\"18\"/>\n",
       "<text text-anchor=\"middle\" x=\"222.45\" y=\"-219.5\" font-family=\"Times,serif\" font-size=\"14.00\">DDB (w1)</text>\n",
       "</g>\n",
       "<!-- DDB (w1)&#45;&gt;w2_t0 -->\n",
       "<g id=\"edge22\" class=\"edge\">\n",
       "<title>DDB (w1)&#45;&gt;w2_t0</title>\n",
       "<path fill=\"none\" stroke=\"black\" d=\"M214.85,-205.91C206.18,-185.62 191.9,-152.19 181.82,-128.61\"/>\n",
       "<polygon fill=\"black\" stroke=\"black\" points=\"184.94,-126.99 177.79,-119.17 178.5,-129.74 184.94,-126.99\"/>\n",
       "</g>\n",
       "<!-- DDB (w1)&#45;&gt;w2_t1 -->\n",
       "<g id=\"edge26\" class=\"edge\">\n",
       "<title>DDB (w1)&#45;&gt;w2_t1</title>\n",
       "<path fill=\"none\" stroke=\"black\" d=\"M226.1,-205.74C230.24,-185.34 237.05,-151.8 241.89,-128\"/>\n",
       "<polygon fill=\"black\" stroke=\"black\" points=\"245.33,-128.65 243.89,-118.15 238.47,-127.26 245.33,-128.65\"/>\n",
       "</g>\n",
       "<!-- DDB (w1)&#45;&gt;w2_t2 -->\n",
       "<g id=\"edge28\" class=\"edge\">\n",
       "<title>DDB (w1)&#45;&gt;w2_t2</title>\n",
       "<path fill=\"none\" stroke=\"black\" d=\"M218.29,-205.4C216.18,-196.1 213.57,-184.61 211.22,-174.25\"/>\n",
       "<polygon fill=\"black\" stroke=\"black\" points=\"214.61,-173.37 208.98,-164.39 207.78,-174.92 214.61,-173.37\"/>\n",
       "</g>\n",
       "<!-- DVDB (w1) -->\n",
       "<g id=\"node25\" class=\"node\">\n",
       "<title>DVDB (w1)</title>\n",
       "<ellipse fill=\"#b2dfee\" stroke=\"#b2dfee\" cx=\"391.59\" cy=\"-17.87\" rx=\"54.15\" ry=\"18\"/>\n",
       "<text text-anchor=\"middle\" x=\"391.59\" y=\"-13.67\" font-family=\"Times,serif\" font-size=\"14.00\">DVDB (w1)</text>\n",
       "</g>\n",
       "<!-- DVDB (w1)&#45;&gt;w2_t0 -->\n",
       "<g id=\"edge24\" class=\"edge\">\n",
       "<title>DVDB (w1)&#45;&gt;w2_t0</title>\n",
       "<path fill=\"none\" stroke=\"black\" d=\"M355.52,-31.47C313.98,-47.14 246.18,-72.7 205.12,-88.18\"/>\n",
       "<polygon fill=\"black\" stroke=\"black\" points=\"203.66,-84.99 195.53,-91.8 206.13,-91.54 203.66,-84.99\"/>\n",
       "</g>\n",
       "<!-- DVDB (w1)&#45;&gt;w2_t1 -->\n",
       "<g id=\"edge27\" class=\"edge\">\n",
       "<title>DVDB (w1)&#45;&gt;w2_t1</title>\n",
       "<path fill=\"none\" stroke=\"black\" d=\"M364.16,-33.55C339.58,-47.59 303.59,-68.15 278.1,-82.71\"/>\n",
       "<polygon fill=\"black\" stroke=\"black\" points=\"276.18,-79.78 269.23,-87.78 279.65,-85.86 276.18,-79.78\"/>\n",
       "</g>\n",
       "<!-- DVDB (w1)&#45;&gt;w2_t2 -->\n",
       "<g id=\"edge29\" class=\"edge\">\n",
       "<title>DVDB (w1)&#45;&gt;w2_t2</title>\n",
       "<path fill=\"none\" stroke=\"black\" d=\"M367.95,-34.16C333.52,-57.88 269.71,-101.84 232.96,-127.16\"/>\n",
       "<polygon fill=\"black\" stroke=\"black\" points=\"230.92,-124.32 224.67,-132.87 234.89,-130.08 230.92,-124.32\"/>\n",
       "</g>\n",
       "<!-- __0:clusterw1 -->\n",
       "<!-- __0:clusterw1&#45;&gt;DDB (w1) -->\n",
       "<g id=\"edge30\" class=\"edge\">\n",
       "<title>__0:clusterw1&#45;&gt;DDB (w1)</title>\n",
       "<path fill=\"none\" stroke=\"#696969\" d=\"M293.26,-214.79C288.08,-215.45 283.05,-216.08 278.24,-216.68\"/>\n",
       "<polygon fill=\"#696969\" stroke=\"#696969\" points=\"277.52,-213.25 268.04,-217.97 278.4,-220.19 277.52,-213.25\"/>\n",
       "</g>\n",
       "<!-- __1:clusterw1 -->\n",
       "<!-- __1:clusterw1&#45;&gt;DVDB (w1) -->\n",
       "<g id=\"edge31\" class=\"edge\">\n",
       "<title>__1:clusterw1&#45;&gt;DVDB (w1)</title>\n",
       "<path fill=\"none\" stroke=\"#696969\" d=\"M409.46,-50.78C408.31,-48.67 407.21,-46.63 406.14,-44.68\"/>\n",
       "<polygon fill=\"#696969\" stroke=\"#696969\" points=\"409.06,-42.72 401.22,-35.6 402.91,-46.06 409.06,-42.72\"/>\n",
       "</g>\n",
       "</g>\n",
       "</svg>\n"
      ],
      "text/plain": [
       "<graphviz.dot.Digraph at 0x7fc10a043dd8>"
      ]
     },
     "execution_count": 9,
     "metadata": {
      "filenames": {
       "image/svg+xml": "/Users/gmatteo/git_repos/abipy_book/abipy_book/_build/jupyter_execute/eph_al/lesson_eph_al_20_0.svg"
      }
     },
     "output_type": "execute_result"
    }
   ],
   "source": [
    "flow.get_graphviz()"
   ]
  },
  {
   "cell_type": "markdown",
   "id": "9b14a8be",
   "metadata": {},
   "source": [
    "<div class=\"alert alert-info\" role=\"alert\">\n",
    "You may wonder why we have so many tasks especially if you are used to the multi-dataset philosophy of Abinit.\n",
    "Indeed if you are a `ndtset` master, it should not be so difficult for you\n",
    "to write a *single input file* that performs the same kind of convergence study.\n",
    "Still you have to consider that the multi-dataset approach does not scale well: \n",
    "this kind of calculation has several independent steps \n",
    "that could be executed in parallel whereas abinit datasets are executed sequentially. \n",
    "This makes a huge difference when running on clusters with hundreds or thousands of CPUs because \n",
    "the *time to solution* can be considerably reduced with this kind of parallelism.\n",
    "</div>\n",
    "\n",
    "<!-- Note that the q-mesh for the self-energy is denser than the *ab-initio* one used for the DFPT run.\n",
    "This means that the code will activate the Fourier interpolation of the DFPT potentials.\n",
    "Note that the k-mesh and the q-mesh cannot be arbitrary. \n",
    "\n",
    "<div class=\"alert alert-info\" role=\"alert\">\n",
    "Remember that the $k$-point mesh cannot be chosen arbitrarily\n",
    "since all $k$ wavevectors should connect two $k$ points of the grid used for the electrons.\n",
    "\n",
    "More specifically, the q-mesh associated to the \n",
    "`DDB` (`DVDB`) must be a submesh of the k-mesh for electrons.\n",
    "Moreover the EPH code can compute self-energy corrections only for the states that are available in the `WFK` file.\n",
    "</div>\n",
    "-->"
   ]
  },
  {
   "cell_type": "markdown",
   "id": "56a37bb3",
   "metadata": {},
   "source": [
    "Now we can generate the directories and the input files of the `Flow` with:\n",
    "\n",
    "    flow.build_and_pickle_dump()\n",
    "\n",
    "and then use the `abirun.py` script to launch the entire calculation:\n",
    "\n",
    "    abirun.py flow_eph_al scheduler\n",
    "    \n",
    "You may want to run this example in the terminal if you've already installed and configured AbiPy and Abinit on your machine. The calculation requires ~12 minutes on a poor 1.7 GHz Intel Core i5 (50% of the time \n",
    "is spent in the last task to compute the phonon linewidths with the 32x32x32 k-mesh)\n",
    "\n",
    "If you prefer to skip this part, jump to next section in which we focus on the post-processing of the results.\n",
    "Note that most of the output files are already available in the [github repository](https://github.com/abinit/abitutorials)\n",
    "so it is possible to try the AbiPy post-processing tools without having to run the flow.\n",
    "Some DVDB, DDB, PHDOS, and PBSTS files are missing, but their absence will not prevent running the present tutorial to the end.\n",
    "In particular, one can use the command line and the commands:\n",
    "\n",
    "    abiopen.py FILE\n",
    "    \n",
    "to open the file inside ipython,\n",
    "\n",
    "    abiopen.py ut_A2F.nc --expose\n",
    "    \n",
    "to visualize the EPH results and finally,\n",
    "\n",
    "    abicomp.py a2f flow_ep_al/\n",
    "    \n",
    "to compare multiple `A2F.nc` files with the robot and ipython."
   ]
  },
  {
   "cell_type": "markdown",
   "id": "3da25f91",
   "metadata": {},
   "source": [
    "## Electronic properties\n",
    "\n",
    "Let's focus on the electronic properties first."
   ]
  },
  {
   "cell_type": "code",
   "execution_count": 10,
   "id": "0c6cee77",
   "metadata": {},
   "outputs": [
    {
     "name": "stdout",
     "output_type": "stream",
     "text": [
      "flow_eph_al//w0/t2/outdata/out_GSR.nc\r\n",
      "flow_eph_al//w0/t3/outdata/out_GSR.nc\r\n",
      "flow_eph_al//w0/t4/outdata/out_GSR.nc\r\n",
      "flow_eph_al//w0/t1/outdata/out_GSR.nc\r\n",
      "flow_eph_al//w0/t0/outdata/out_GSR.nc\r\n"
     ]
    }
   ],
   "source": [
    "!find flow_eph_al/ -name \"out_GSR.nc\""
   ]
  },
  {
   "cell_type": "markdown",
   "id": "d126af06",
   "metadata": {},
   "source": [
    "The task `w0/t0` computed the electronic band structure on a high-symmetry k-path.\n",
    "Let's plot the bands with:"
   ]
  },
  {
   "cell_type": "code",
   "execution_count": 11,
   "id": "b0fc2321",
   "metadata": {},
   "outputs": [
    {
     "data": {
      "image/png": "[encoded data removed]",
      "text/plain": [
       "<Figure size 432x288 with 1 Axes>"
      ]
     },
     "metadata": {
      "filenames": {
       "image/png": "/Users/gmatteo/git_repos/abipy_book/abipy_book/_build/jupyter_execute/eph_al/lesson_eph_al_26_0.png"
      }
     },
     "output_type": "display_data"
    }
   ],
   "source": [
    "with abilab.abiopen(\"flow_eph_al/w0/t1/outdata/out_GSR.nc\") as gsr:\n",
    "    ebands_kpath = gsr.ebands\n",
    "    \n",
    "# NB: Fermi level set to zero\n",
    "ebands_kpath.plot();"
   ]
  },
  {
   "cell_type": "code",
   "execution_count": 12,
   "id": "cd735e4f",
   "metadata": {},
   "outputs": [],
   "source": [
    "#print(ebands_kpath)"
   ]
  },
  {
   "cell_type": "markdown",
   "id": "fd1e80be",
   "metadata": {},
   "source": [
    "To better understand what’s happening at $\\ee_F$, we can plot the bandwidths with:"
   ]
  },
  {
   "cell_type": "code",
   "execution_count": 13,
   "id": "054c2c3a",
   "metadata": {},
   "outputs": [
    {
     "data": {
      "image/png": "[encoded data removed]",
      "text/plain": [
       "<Figure size 432x288 with 1 Axes>"
      ]
     },
     "metadata": {
      "filenames": {
       "image/png": "/Users/gmatteo/git_repos/abipy_book/abipy_book/_build/jupyter_execute/eph_al/lesson_eph_al_29_0.png"
      }
     },
     "output_type": "display_data"
    }
   ],
   "source": [
    "ebands_kpath.boxplot();"
   ]
  },
  {
   "cell_type": "markdown",
   "id": "0dedb4e9",
   "metadata": {},
   "source": [
    "There is only one band **index** crossing the Fermi level if we exclude a tiny portion with band index 2 (see the region close to the W point).\n",
    "As phonon lifetimes are very sensitive to the Fermi surface sampling, \n",
    "it is a good idea to analyze the convergence of the electronic DOS, \n",
    "in particular the behavior in the region around $\\ee_F$.\n",
    "\n",
    "Let's use the `GsrRobot` to load all the `GSR` files produced by the `w0` work:"
   ]
  },
  {
   "cell_type": "code",
   "execution_count": 14,
   "id": "0a2bf1c9",
   "metadata": {},
   "outputs": [
    {
     "data": {
      "text/html": [
       "<ol start=\"0\">\n",
       "<li>flow_eph_al/w0/t2/outdata/out_GSR.nc</li>\n",
       "<li>flow_eph_al/w0/t3/outdata/out_GSR.nc</li>\n",
       "<li>flow_eph_al/w0/t4/outdata/out_GSR.nc</li>\n",
       "<li>flow_eph_al/w0/t1/outdata/out_GSR.nc</li>\n",
       "<li>flow_eph_al/w0/t0/outdata/out_GSR.nc</li>\n",
       "</ol>"
      ],
      "text/plain": [
       "Label                                 Relpath\n",
       "------------------------------------  ------------------------------------\n",
       "flow_eph_al/w0/t2/outdata/out_GSR.nc  flow_eph_al/w0/t2/outdata/out_GSR.nc\n",
       "flow_eph_al/w0/t3/outdata/out_GSR.nc  flow_eph_al/w0/t3/outdata/out_GSR.nc\n",
       "flow_eph_al/w0/t4/outdata/out_GSR.nc  flow_eph_al/w0/t4/outdata/out_GSR.nc\n",
       "flow_eph_al/w0/t1/outdata/out_GSR.nc  flow_eph_al/w0/t1/outdata/out_GSR.nc\n",
       "flow_eph_al/w0/t0/outdata/out_GSR.nc  flow_eph_al/w0/t0/outdata/out_GSR.nc"
      ]
     },
     "execution_count": 14,
     "metadata": {},
     "output_type": "execute_result"
    }
   ],
   "source": [
    "gsr_robot = abilab.GsrRobot.from_dir_glob(\"flow_eph_al/w0/t*/\")\n",
    "gsr_robot"
   ]
  },
  {
   "cell_type": "markdown",
   "id": "b685dfa4",
   "metadata": {},
   "source": [
    "In total, we have 5 `GSR` files but `w0/t1` computed the energies along the k-path and the \n",
    "DOS **requires** a homogeneous sampling.\n",
    "Let's remove the file for which this is not the case from the robot with:"
   ]
  },
  {
   "cell_type": "code",
   "execution_count": 15,
   "id": "243cb758",
   "metadata": {},
   "outputs": [
    {
     "data": {
      "text/html": [
       "<ol start=\"0\">\n",
       "<li>flow_eph_al/w0/t2/outdata/out_GSR.nc</li>\n",
       "<li>flow_eph_al/w0/t3/outdata/out_GSR.nc</li>\n",
       "<li>flow_eph_al/w0/t4/outdata/out_GSR.nc</li>\n",
       "<li>flow_eph_al/w0/t0/outdata/out_GSR.nc</li>\n",
       "</ol>"
      ],
      "text/plain": [
       "Label                                 Relpath\n",
       "------------------------------------  ------------------------------------\n",
       "flow_eph_al/w0/t2/outdata/out_GSR.nc  flow_eph_al/w0/t2/outdata/out_GSR.nc\n",
       "flow_eph_al/w0/t3/outdata/out_GSR.nc  flow_eph_al/w0/t3/outdata/out_GSR.nc\n",
       "flow_eph_al/w0/t4/outdata/out_GSR.nc  flow_eph_al/w0/t4/outdata/out_GSR.nc\n",
       "flow_eph_al/w0/t0/outdata/out_GSR.nc  flow_eph_al/w0/t0/outdata/out_GSR.nc"
      ]
     },
     "execution_count": 15,
     "metadata": {},
     "output_type": "execute_result"
    }
   ],
   "source": [
    "gsr_robot.pop_label(\"flow_eph_al/w0/t1/outdata/out_GSR.nc\")\n",
    "gsr_robot"
   ]
  },
  {
   "cell_type": "markdown",
   "id": "cbc14a44",
   "metadata": {},
   "source": [
    "and use a small lambda function to change the labels associated to the files \n",
    "so that we have the number of k-points in the IBZ:"
   ]
  },
  {
   "cell_type": "code",
   "execution_count": 16,
   "id": "2dd60bf2",
   "metadata": {},
   "outputs": [
    {
     "data": {
      "text/plain": [
       "OrderedDict([('nkpt: 145', 'flow_eph_al/w0/t2/outdata/out_GSR.nc'),\n",
       "             ('nkpt: 413', 'flow_eph_al/w0/t3/outdata/out_GSR.nc'),\n",
       "             ('nkpt: 897', 'flow_eph_al/w0/t4/outdata/out_GSR.nc'),\n",
       "             ('nkpt: 29', 'flow_eph_al/w0/t0/outdata/out_GSR.nc')])"
      ]
     },
     "execution_count": 16,
     "metadata": {},
     "output_type": "execute_result"
    }
   ],
   "source": [
    "gsr_robot.remap_labels(lambda gsr: \"nkpt: %d\" % gsr.nkpt)"
   ]
  },
  {
   "cell_type": "markdown",
   "id": "ef86c40a",
   "metadata": {},
   "source": [
    "Now we can finally compare the electronic DOS obtained with the different k-meshes:"
   ]
  },
  {
   "cell_type": "code",
   "execution_count": 17,
   "id": "15390db7",
   "metadata": {},
   "outputs": [
    {
     "data": {
      "image/png": "[encoded data removed]",
      "text/plain": [
       "<Figure size 432x288 with 1 Axes>"
      ]
     },
     "metadata": {
      "filenames": {
       "image/png": "/Users/gmatteo/git_repos/abipy_book/abipy_book/_build/jupyter_execute/eph_al/lesson_eph_al_37_0.png"
      }
     },
     "output_type": "display_data"
    }
   ],
   "source": [
    "gsr_robot.combiplot_edos(xlims=[-15, +5]);"
   ]
  },
  {
   "cell_type": "markdown",
   "id": "067789a8",
   "metadata": {},
   "source": [
    "Clearly, the 8x8x8 k-mesh used to compute the density is not enough to converge the DOS at $\\ee_F$.\n",
    "Remember, however, that we have decided to use a minimalistic sampling in the GS/DFPT run \n",
    "to keep the calculation manageable.\n",
    "In real life, one should use a much denser k-sampling for the GS/DFPT and this is particularly \n",
    "true if we are trying to relax the structure.\n",
    "Let's forget about this technical point and focus on the DOS obtained with the other two k-meshes.\n",
    "\n",
    "As you can see, even if 145 k-points in the IBZ are not enough, the DOS is becoming *smoother*\n",
    "and starts to resemble the one of the free-electron gas (as a matter of fact the band dispersion of Al is not\n",
    "that different from the ideal free-electron model provided that BZ folding is taken into account).\n",
    "\n",
    "Visual inspection suggests that the k-sampling becomes *acceptable* at and beyond 24x24x24 (413 nkpt).\n",
    "\n",
    "<div class=\"alert alert-info\" role=\"alert\">\n",
    "The convergence of the DOS at the Fermi level does not necessarly imply convergence in the final EPH results. \n",
    "This is something that should be checked explicitly by looking at the behaviour of the final observables\n",
    "as a function of the input parameters.\n",
    "</div>"
   ]
  },
  {
   "cell_type": "markdown",
   "id": "560cc678",
   "metadata": {
    "run_control": {
     "marked": true
    }
   },
   "source": [
    "In the introduction, we mentioned that there are two factors governing the strengh of the E-PH coupling in metals:\n",
    "the behaviour in (k, q)-space of the matrix elements and the *geometrical* contribution due to the Fermi surface.\n",
    "\n",
    "\\begin{equation}\n",
    "    N(\\qq) = \\sum_{mn\\kk} \\delta(\\ee_{\\kpq m}) \\delta(\\ee_{\\kk n})\n",
    "\\end{equation}\n",
    "\n",
    "To understand the *geometrical* contribution, it is useful to visualize the Fermi surface.\n",
    "Unfortunately, graphical applications usually require KS eigenvalues on a \n",
    "$\\Gamma-$centered k-mesh in the *full* BZ whereas ab-initio codes usually work with KS states \n",
    "in the *irreducible* wedge.\n",
    "\n",
    "Fortunately, we can use AbiPy to reconstruct the KS eigenvalues in the full BZ:"
   ]
  },
  {
   "cell_type": "code",
   "execution_count": 18,
   "id": "b82f7eea",
   "metadata": {},
   "outputs": [],
   "source": [
    "# Select the last GSR file in thr robot.\n",
    "eb3d = gsr_robot.abifiles[-1].ebands.get_ebands3d()"
   ]
  },
  {
   "cell_type": "markdown",
   "id": "58b5839f",
   "metadata": {},
   "source": [
    "and then use matplotlib to visualize the Fermi energy isosurfaces:"
   ]
  },
  {
   "cell_type": "code",
   "execution_count": 19,
   "id": "d3db1dd5",
   "metadata": {},
   "outputs": [
    {
     "data": {
      "image/png": "[encoded data removed]",
      "text/plain": [
       "<Figure size 432x288 with 1 Axes>"
      ]
     },
     "metadata": {
      "filenames": {
       "image/png": "/Users/gmatteo/git_repos/abipy_book/abipy_book/_build/jupyter_execute/eph_al/lesson_eph_al_42_0.png"
      }
     },
     "output_type": "display_data"
    }
   ],
   "source": [
    "eb3d.plot_isosurfaces();"
   ]
  },
  {
   "cell_type": "markdown",
   "id": "dc7ad38e",
   "metadata": {},
   "source": [
    "Note that, at present, the matplotlib version is only able to display isosurfaces \n",
    "in the unit cell of the reciprocal lattice.\n",
    "To visualize isosurfaces in the first BZ, one can export the data \n",
    "into BXSF format and then call [xcrysden](http://www.xcrysden.org/) with:"
   ]
  },
  {
   "cell_type": "code",
   "execution_count": 20,
   "id": "c5e2e630",
   "metadata": {},
   "outputs": [],
   "source": [
    "#eb3d.xcrysden_view()"
   ]
  },
  {
   "cell_type": "markdown",
   "id": "862c2835",
   "metadata": {},
   "source": [
    "This is the image you should get with xcrysden: \n",
    "\n",
    "<img src=\"https://github.com/abinit/abipy_assets/blob/master/alfs_xcrysden.png?raw=true\" width=\"600\" height=\"600\"/>"
   ]
  },
  {
   "cell_type": "markdown",
   "id": "6ab20857",
   "metadata": {},
   "source": [
    "## Vibrational properties\n",
    "\n",
    "Now we turn our attention to the vibrational properties.\n",
    "AbiPy has already merged all the independent atomic perturbations in `flow_eph_al/w1/outdata/out_DDB`:"
   ]
  },
  {
   "cell_type": "code",
   "execution_count": 21,
   "id": "89cac7c2",
   "metadata": {},
   "outputs": [
    {
     "name": "stdout",
     "output_type": "stream",
     "text": [
      "flow_eph_al//w1/outdata/out_DDB\r\n"
     ]
    }
   ],
   "source": [
    "!find flow_eph_al/ -name \"out_DDB\""
   ]
  },
  {
   "cell_type": "code",
   "execution_count": 22,
   "id": "d5940934",
   "metadata": {},
   "outputs": [
    {
     "name": "stdout",
     "output_type": "stream",
     "text": [
      "/Users/gmatteo/git_repos/abitutorials/abitutorials/eph_al/flow_eph_al/w1/outdata/out_DDB\r\n",
      "DDB file merged by PhononWork on Sun Mar 18 14:41:09 2018\r\n",
      "14\r\n",
      "/Users/gmatteo/git_repos/abitutorials/abitutorials/eph_al/flow_eph_al/w1/t0/outdata/out_DDB\r\n",
      "/Users/gmatteo/git_repos/abitutorials/abitutorials/eph_al/flow_eph_al/w1/t1/outdata/out_DDB\r\n",
      "/Users/gmatteo/git_repos/abitutorials/abitutorials/eph_al/flow_eph_al/w1/t2/outdata/out_DDB\r\n",
      "/Users/gmatteo/git_repos/abitutorials/abitutorials/eph_al/flow_eph_al/w1/t3/outdata/out_DDB\r\n",
      "/Users/gmatteo/git_repos/abitutorials/abitutorials/eph_al/flow_eph_al/w1/t4/outdata/out_DDB\r\n",
      "/Users/gmatteo/git_repos/abitutorials/abitutorials/eph_al/flow_eph_al/w1/t5/outdata/out_DDB\r\n",
      "/Users/gmatteo/git_repos/abitutorials/abitutorials/eph_al/flow_eph_al/w1/t6/outdata/out_DDB\r\n",
      "/Users/gmatteo/git_repos/abitutorials/abitutorials/eph_al/flow_eph_al/w1/t7/outdata/out_DDB\r\n",
      "/Users/gmatteo/git_repos/abitutorials/abitutorials/eph_al/flow_eph_al/w1/t8/outdata/out_DDB\r\n",
      "/Users/gmatteo/git_repos/abitutorials/abitutorials/eph_al/flow_eph_al/w1/t9/outdata/out_DDB\r\n",
      "/Users/gmatteo/git_repos/abitutorials/abitutorials/eph_al/flow_eph_al/w1/t10/outdata/out_DDB\r\n",
      "/Users/gmatteo/git_repos/abitutorials/abitutorials/eph_al/flow_eph_al/w1/t11/outdata/out_DDB\r\n",
      "/Users/gmatteo/git_repos/abitutorials/abitutorials/eph_al/flow_eph_al/w1/t12/outdata/out_DDB\r\n",
      "/Users/gmatteo/git_repos/abitutorials/abitutorials/eph_al/flow_eph_al/w1/t13/outdata/out_DDB\r\n"
     ]
    }
   ],
   "source": [
    "!cat flow_eph_al/w1/outdata/mrgddb.stdin"
   ]
  },
  {
   "cell_type": "markdown",
   "id": "b5b73c88",
   "metadata": {},
   "source": [
    "In the same directory, we have the `DVDB` file containing the independent DFPT potentials"
   ]
  },
  {
   "cell_type": "code",
   "execution_count": 23,
   "id": "f5582edb",
   "metadata": {},
   "outputs": [],
   "source": [
    "!find flow_eph_al/ -name \"out_DVDB\""
   ]
  },
  {
   "cell_type": "code",
   "execution_count": 24,
   "id": "76cd13e5",
   "metadata": {},
   "outputs": [],
   "source": [
    "#!cat flow_eph_al//w1/outdata/mrgdvdb.stdin"
   ]
  },
  {
   "cell_type": "markdown",
   "id": "37e04bf3",
   "metadata": {},
   "source": [
    "Let's open the `DDB` file computed on the 4x4x4 q-mesh with:"
   ]
  },
  {
   "cell_type": "code",
   "execution_count": 25,
   "id": "e6606736",
   "metadata": {},
   "outputs": [
    {
     "name": "stdout",
     "output_type": "stream",
     "text": [
      "================================= File Info =================================\n",
      "Name: out_DDB\n",
      "Directory: /Users/gmatteo/git_repos/abipy_book/abipy_book/eph_al/flow_eph_al/w1/outdata\n",
      "Size: 42.10 kb\n",
      "Access Time: Thu Jul  8 02:48:30 2021\n",
      "Modification Time: Thu Jul  8 02:05:05 2021\n",
      "Change Time: Thu Jul  8 02:05:05 2021\n",
      "\n",
      "================================= Structure =================================\n",
      "Full Formula (Al1)\n",
      "Reduced Formula: Al\n",
      "abc   :   2.806386   2.806386   2.806386\n",
      "angles:  60.000000  60.000000  60.000000\n",
      "Sites (1)\n",
      "  #  SP      a    b    c\n",
      "---  ----  ---  ---  ---\n",
      "  0  Al      0    0    0\n",
      "\n",
      "Abinit Spacegroup: spgid: 0, num_spatial_symmetries: 48, has_timerev: True, symmorphic: False\n",
      "\n",
      "================================== DDB Info ==================================\n",
      "\n",
      "Number of q-points in DDB: 8\n",
      "guessed_ngqpt: [4 4 4] (guess for the q-mesh divisions made by AbiPy)\n",
      "ecut = 8.000000, ecutsm = 0.000000, nkpt = 260, nsym = 48, usepaw = 0\n",
      "nsppol 1, nspinor 1, nspden 1, ixc = 11, occopt = 7, tsmear = 0.040000\n",
      "\n",
      "Has total energy: False, Has forces: False\n",
      "Has stress tensor: False\n",
      "\n",
      "Has (at least one) atomic pertubation: True\n",
      "Has (at least one diagonal) electric-field perturbation: False\n",
      "Has (at least one) Born effective charge: False\n",
      "Has (all) strain terms: False\n",
      "Has (all) internal strain terms: False\n",
      "Has (all) piezoelectric terms: False\n"
     ]
    }
   ],
   "source": [
    "ddb = abilab.abiopen(\"flow_eph_al/w1/outdata/out_DDB\")\n",
    "print(ddb)"
   ]
  },
  {
   "cell_type": "markdown",
   "id": "988ac695",
   "metadata": {},
   "source": [
    "and then invoke `anaddb` to compute phonon bands and DOS:"
   ]
  },
  {
   "cell_type": "code",
   "execution_count": 26,
   "id": "8b640555",
   "metadata": {},
   "outputs": [],
   "source": [
    "phbst, phdos = ddb.anaget_phbst_and_phdos_files()"
   ]
  },
  {
   "cell_type": "markdown",
   "id": "00b741ee",
   "metadata": {},
   "source": [
    "Finally we plot the results with:"
   ]
  },
  {
   "cell_type": "code",
   "execution_count": 27,
   "id": "180a53cb",
   "metadata": {},
   "outputs": [
    {
     "data": {
      "image/png": "[encoded data removed]",
      "text/plain": [
       "<Figure size 432x288 with 2 Axes>"
      ]
     },
     "metadata": {
      "filenames": {
       "image/png": "/Users/gmatteo/git_repos/abipy_book/abipy_book/_build/jupyter_execute/eph_al/lesson_eph_al_57_0.png"
      }
     },
     "output_type": "display_data"
    }
   ],
   "source": [
    "phbst.phbands.plot_with_phdos(phdos);"
   ]
  },
  {
   "cell_type": "markdown",
   "id": "8cec3968",
   "metadata": {},
   "source": [
    "The vibrational spectrum seems OK but remember that we are *enforcing* the acoustic sum rule\n",
    "with `asr`.\n",
    "Since our input parameters are underconverged, its a good idea to compare the spectrum with/without `asr`:"
   ]
  },
  {
   "cell_type": "code",
   "execution_count": 28,
   "id": "fddac0b3",
   "metadata": {},
   "outputs": [],
   "source": [
    "ph_plotter = ddb.anacompare_asr()"
   ]
  },
  {
   "cell_type": "code",
   "execution_count": 29,
   "id": "bfba4bcc",
   "metadata": {},
   "outputs": [
    {
     "data": {
      "image/png": "[encoded data removed]",
      "text/plain": [
       "<Figure size 432x288 with 2 Axes>"
      ]
     },
     "metadata": {
      "filenames": {
       "image/png": "/Users/gmatteo/git_repos/abipy_book/abipy_book/_build/jupyter_execute/eph_al/lesson_eph_al_60_0.png"
      }
     },
     "output_type": "display_data"
    }
   ],
   "source": [
    "ph_plotter.combiplot(units=\"cm-1\");"
   ]
  },
  {
   "cell_type": "markdown",
   "id": "9016e68e",
   "metadata": {},
   "source": [
    "<div class=\"alert alert-warning\" role=\"alert\">\n",
    "Not so good! The breaking of the ASR is quite large.\n",
    "This is mainly due to the use of a too small value for `ecut`.\n",
    "In real life, we should increase `ecut` and rerun the DFPT part but since this is a tutorial\n",
    "aiming at showing how to perform EPH calculations, we ignore this convergence issue \n",
    "keeping in mind that we should redo all our calculations with larger ecut before submitting the final\n",
    "version of the paper!\n",
    "</div>\n",
    "\n",
    "We can now finally turn our attention to the phonon linewidths and the Eliashberg function."
   ]
  },
  {
   "cell_type": "markdown",
   "id": "963437d6",
   "metadata": {},
   "source": [
    "## Phonon linewidths and Eliashberg function\n",
    "\n",
    "We have generated a pair of `DDB`-`DVDB` files on a 4x4x4 q-mesh\n",
    "and **three** `WFK` files with a much denser k-sampling (x16, x24, x32).\n",
    "In total we have three EPH calculations done with different k-meshes to analyze.\n",
    "\n",
    "Let's focus on the output files produced with the 16x16x16 k-mesh by the first `EphTask` in `w2/t0`:"
   ]
  },
  {
   "cell_type": "code",
   "execution_count": 30,
   "id": "3bab6751",
   "metadata": {},
   "outputs": [
    {
     "name": "stdout",
     "output_type": "stream",
     "text": [
      "out_A2F.nc\r\n"
     ]
    }
   ],
   "source": [
    "!ls flow_eph_al/w2/t0/outdata"
   ]
  },
  {
   "cell_type": "markdown",
   "id": "d627986f",
   "metadata": {},
   "source": [
    "The most important results are stored in:\n",
    "    \n",
    "* *out_A2F.nc*: main results in netcdf format\n",
    "* *out_PHDOS.nc*: phonon DOS and projections over atoms and directions\n",
    "* *out_PBSTS.nc*: phonon band structure along the q-path\n",
    "\n",
    "<div class=\"alert alert-info\" role=\"alert\">\n",
    "There is also a bunch of text files with the same results in text format if you are a gnuplot/xmgrace aficionado...\n",
    "</div>"
   ]
  },
  {
   "cell_type": "markdown",
   "id": "014bd692",
   "metadata": {},
   "source": [
    "Let's get a quick summary of the most important results with:"
   ]
  },
  {
   "cell_type": "code",
   "execution_count": 31,
   "id": "ae8465d4",
   "metadata": {},
   "outputs": [
    {
     "name": "stdout",
     "output_type": "stream",
     "text": [
      "================================= File Info =================================\n",
      "Name: out_A2F.nc\n",
      "Directory: /Users/gmatteo/git_repos/abipy_book/abipy_book/eph_al/flow_eph_al/w2/t0/outdata\n",
      "Size: 254.68 kb\n",
      "Access Time: Thu Jul  8 02:48:30 2021\n",
      "Modification Time: Thu Jul  8 02:05:05 2021\n",
      "Change Time: Thu Jul  8 02:05:05 2021\n",
      "\n",
      "================================= Structure =================================\n",
      "Full Formula (Al1)\n",
      "Reduced Formula: Al\n",
      "abc   :   2.806386   2.806386   2.806386\n",
      "angles:  60.000000  60.000000  60.000000\n",
      "Sites (1)\n",
      "  #  SP      a    b    c\n",
      "---  ----  ---  ---  ---\n",
      "  0  Al      0    0    0\n",
      "\n",
      "Abinit Spacegroup: spgid: 0, num_spatial_symmetries: 48, has_timerev: True, symmorphic: False\n",
      "\n",
      "============================== Electronic Bands ==============================\n",
      "Number of electrons: 3.0, Fermi level: 7.166 (eV)\n",
      "nsppol: 1, nkpt: 145, mband: 4, nspinor: 1, nspden: 1\n",
      "smearing scheme: gaussian (occopt 7), tsmear_eV: 1.088\n",
      "\n",
      "================================ Phonon Bands ================================\n",
      "Number of q-points: 198\n",
      "Atomic mass units: {13.0: 26.981539}\n",
      "Has non-analytical contribution for q --> 0: False\n",
      "\n",
      "============================== E-PH calculation ==============================\n",
      "K-mesh for electrons:\n",
      "mpdivs: [16 16 16] with shifts [[0. 0. 0.]] and kptopt: 1\n",
      "\n",
      "a2f(w) on the [8 8 8] q-mesh (ddb_ngqpt|eph_ngqpt)\n",
      "Isotropic lambda: 0.25, omega_log: 0.030 (eV), 343.094 (K)\n",
      "\n",
      "a2f(w) Fourier interpolated on the [24 24 24] q-mesh (ph_ngqpt)\n",
      "Isotropic lambda: 0.26, omega_log: 0.027 (eV), 314.268 (K)\n"
     ]
    }
   ],
   "source": [
    "a2fnc = abilab.abiopen(\"flow_eph_al/w2/t0/outdata/out_A2F.nc\")\n",
    "print(a2fnc)"
   ]
  },
  {
   "cell_type": "markdown",
   "id": "77458f63",
   "metadata": {},
   "source": [
    "In the `E-PH calculation` we have the value of $\\lambda$ and $\\omega_{log}$ computed\n",
    "with a 16x16x16 k-mesh for electrons and two q-meshes.\n",
    "...\n",
    "\n",
    "The value of $\\lambda$ is smaller (almost a factor 2) with respect to other values\n",
    "reported in the literature, likely due to the coarse 12x12x12 k-sampling.\n",
    "We will investigate this problem in the next section.\n",
    "For the time being, we prefer to focus on the visualization of the results with AbiPy.\n",
    "\n",
    "Let's use matplotlib to plot the Eliashberg function obtained with the two q-meshes:"
   ]
  },
  {
   "cell_type": "code",
   "execution_count": 32,
   "id": "c8ac10a8",
   "metadata": {},
   "outputs": [
    {
     "data": {
      "image/png": "[encoded data removed]",
      "text/plain": [
       "<Figure size 432x288 with 2 Axes>"
      ]
     },
     "metadata": {
      "filenames": {
       "image/png": "/Users/gmatteo/git_repos/abipy_book/abipy_book/_build/jupyter_execute/eph_al/lesson_eph_al_68_0.png"
      }
     },
     "output_type": "display_data"
    }
   ],
   "source": [
    "a2fnc.plot_a2f_interpol();"
   ]
  },
  {
   "cell_type": "markdown",
   "id": "0b933d53",
   "metadata": {},
   "source": [
    "This Eliashberg function obtained on the [24, 24, 24] q-mesh looks nicer, in particular \n",
    "we see the appearance of Van Hove singularities.\n",
    "As expected, the integral $\\lambda(\\omega)$ is less sensitive to the interpolation in q-space.\n",
    "We conclude that the fact that our $\\lambda$ is too small when compared with other ab-initio calculations ($\\lambda \\approx 0.4$)\n",
    "is not related to the q-sampling but to the *quality* of our phonon linewidths that in turn is related \n",
    "to the description of the FS."
   ]
  },
  {
   "cell_type": "markdown",
   "id": "f2b70751",
   "metadata": {},
   "source": [
    "We can also visualize the phonon linewidths with a scatter plot:"
   ]
  },
  {
   "cell_type": "code",
   "execution_count": 33,
   "id": "7bce247b",
   "metadata": {},
   "outputs": [
    {
     "data": {
      "image/png": "[encoded data removed]",
      "text/plain": [
       "<Figure size 432x288 with 2 Axes>"
      ]
     },
     "metadata": {
      "filenames": {
       "image/png": "/Users/gmatteo/git_repos/abipy_book/abipy_book/_build/jupyter_execute/eph_al/lesson_eph_al_71_0.png"
      }
     },
     "output_type": "display_data"
    }
   ],
   "source": [
    "a2fnc.plot_with_a2f(units=\"meV\", what=\"gamma\");\n",
    "#a2fnc.plot(units=\"meV\", what=\"gamma\");"
   ]
  },
  {
   "cell_type": "markdown",
   "id": "6f94c01d",
   "metadata": {},
   "source": [
    "To plot the band energies used in the calculation:"
   ]
  },
  {
   "cell_type": "code",
   "execution_count": 34,
   "id": "2206a162",
   "metadata": {
    "run_control": {
     "marked": true
    }
   },
   "outputs": [],
   "source": [
    "#a2fnc.plot_ebands();"
   ]
  },
  {
   "cell_type": "markdown",
   "id": "b0c2ca96",
   "metadata": {},
   "source": [
    "<!--\n",
    "To plot the phonon frequencies, the linewidths $\\gamma_{{\\bf q}, \\nu}$ \n",
    "and $\\lambda_{{\\bf q}, \\nu}$ on the same figure, use:\n",
    "a2fnc.plot_eph_strength();\n",
    "\n",
    "In principle, the linewidth of the acoustic modes should go to zero for $q \\rightarrow 0$.\n",
    "\n",
    "#a2fnc.a2f_qintp.get_mcmillan_tc(mustar=0.1)\n",
    "#a2fnc.a2f_qcoarse.plot_tc_vs_mustar();\n",
    "-->"
   ]
  },
  {
   "cell_type": "markdown",
   "id": "97c628df",
   "metadata": {},
   "source": [
    "The notation $\\alpha^2 F(\\omega)$ was introduced because the Eliashberg function \n",
    "is usually proportional to the phonon DOS $F(\\omega)$.\n",
    "There are, however, exceptions so it is useful to plot $\\alpha^2F(\\omega)$, $F(\\omega)$ and their ratio $\\alpha^2$.\n",
    "\n",
    "It is just a matter of passing the phonon DOS computed from the `DDB` file in the previous section \n",
    "to the `plot_a2` method:"
   ]
  },
  {
   "cell_type": "code",
   "execution_count": 35,
   "id": "ccedf66b",
   "metadata": {},
   "outputs": [
    {
     "data": {
      "image/png": "[encoded data removed]",
      "text/plain": [
       "<Figure size 432x288 with 3 Axes>"
      ]
     },
     "metadata": {
      "filenames": {
       "image/png": "/Users/gmatteo/git_repos/abipy_book/abipy_book/_build/jupyter_execute/eph_al/lesson_eph_al_76_0.png"
      }
     },
     "output_type": "display_data"
    }
   ],
   "source": [
    "a2fnc.a2f_qcoarse.plot_a2(phdos=phdos);"
   ]
  },
  {
   "cell_type": "markdown",
   "id": "bea6e2de",
   "metadata": {},
   "source": [
    "To conclude this section: our results for $\\lambda$ and $\\alpha^2F(\\omega)$ look reasonable \n",
    "but we are still far from the results reported in previous works.\n",
    "Perhaps we are not completely converged and we should analyze in more detail \n",
    "what happens if we increase the k-point sampling.\n",
    "Fortunately we have already computed these results in our Flow so it is just a matter of using\n",
    "AbiPy to compare multiple calculations."
   ]
  },
  {
   "cell_type": "markdown",
   "id": "f683b51f",
   "metadata": {},
   "source": [
    "## Using the A2FRobot for convergence studies\n",
    "\n",
    "\n",
    "In this section, we use the `A2fRobot` to analyze the convergence behaviour of our results\n",
    "with respect to the k-point sampling in the double-delta integral.\n",
    "\n",
    "Let's ask our robot to open all the `A2F` files  located within the `flow_eph_al/` directory."
   ]
  },
  {
   "cell_type": "code",
   "execution_count": 36,
   "id": "26389758",
   "metadata": {},
   "outputs": [
    {
     "data": {
      "text/html": [
       "<ol start=\"0\">\n",
       "<li>w2/t2/outdata/out_A2F.nc</li>\n",
       "<li>w2/t1/outdata/out_A2F.nc</li>\n",
       "<li>w2/t0/outdata/out_A2F.nc</li>\n",
       "</ol>"
      ],
      "text/plain": [
       "Label                     Relpath\n",
       "------------------------  ------------------------------------\n",
       "w2/t2/outdata/out_A2F.nc  flow_eph_al/w2/t2/outdata/out_A2F.nc\n",
       "w2/t1/outdata/out_A2F.nc  flow_eph_al/w2/t1/outdata/out_A2F.nc\n",
       "w2/t0/outdata/out_A2F.nc  flow_eph_al/w2/t0/outdata/out_A2F.nc"
      ]
     },
     "execution_count": 36,
     "metadata": {},
     "output_type": "execute_result"
    }
   ],
   "source": [
    "robot = abilab.A2fRobot.from_dir(\"flow_eph_al/\")\n",
    "robot"
   ]
  },
  {
   "cell_type": "markdown",
   "id": "30d142d7",
   "metadata": {},
   "source": [
    "We know that all these calculations have been done with different values of `nkpt`.\n",
    "Let's change the labels of the files by replacing file paths with more informative strings:"
   ]
  },
  {
   "cell_type": "code",
   "execution_count": 37,
   "id": "d321c591",
   "metadata": {},
   "outputs": [
    {
     "data": {
      "text/plain": [
       "OrderedDict([('nkpt: 897', 'w2/t2/outdata/out_A2F.nc'),\n",
       "             ('nkpt: 413', 'w2/t1/outdata/out_A2F.nc'),\n",
       "             ('nkpt: 145', 'w2/t0/outdata/out_A2F.nc')])"
      ]
     },
     "execution_count": 37,
     "metadata": {},
     "output_type": "execute_result"
    }
   ],
   "source": [
    "robot.remap_labels(lambda ncfile: \"nkpt: %d\" % ncfile.nkpt)"
   ]
  },
  {
   "cell_type": "markdown",
   "id": "2b0bfe01",
   "metadata": {},
   "source": [
    "and print a pandas `DataFrame` with the parameters of the calculation can help to understand the data:"
   ]
  },
  {
   "cell_type": "code",
   "execution_count": 38,
   "id": "3fbf98b6",
   "metadata": {},
   "outputs": [
    {
     "data": {
      "text/html": [
       "<div>\n",
       "<style scoped>\n",
       "    .dataframe tbody tr th:only-of-type {\n",
       "        vertical-align: middle;\n",
       "    }\n",
       "\n",
       "    .dataframe tbody tr th {\n",
       "        vertical-align: top;\n",
       "    }\n",
       "\n",
       "    .dataframe thead th {\n",
       "        text-align: right;\n",
       "    }\n",
       "</style>\n",
       "<table border=\"1\" class=\"dataframe\">\n",
       "  <thead>\n",
       "    <tr style=\"text-align: right;\">\n",
       "      <th></th>\n",
       "      <th>nsppol</th>\n",
       "      <th>nspinor</th>\n",
       "      <th>nspden</th>\n",
       "      <th>nband</th>\n",
       "      <th>nkpt</th>\n",
       "      <th>ddb_nqbz</th>\n",
       "      <th>eph_nqbz_fine</th>\n",
       "      <th>ph_nqbz</th>\n",
       "      <th>eph_intmeth</th>\n",
       "      <th>eph_fsewin</th>\n",
       "      <th>eph_fsmear</th>\n",
       "      <th>eph_extrael</th>\n",
       "      <th>eph_fermie</th>\n",
       "    </tr>\n",
       "  </thead>\n",
       "  <tbody>\n",
       "    <tr>\n",
       "      <th>nkpt: 897</th>\n",
       "      <td>1</td>\n",
       "      <td>1</td>\n",
       "      <td>1</td>\n",
       "      <td>4</td>\n",
       "      <td>897</td>\n",
       "      <td>64</td>\n",
       "      <td>512</td>\n",
       "      <td>13824</td>\n",
       "      <td>2</td>\n",
       "      <td>0.029399</td>\n",
       "      <td>0.01</td>\n",
       "      <td>0.0</td>\n",
       "      <td>0.0</td>\n",
       "    </tr>\n",
       "    <tr>\n",
       "      <th>nkpt: 413</th>\n",
       "      <td>1</td>\n",
       "      <td>1</td>\n",
       "      <td>1</td>\n",
       "      <td>4</td>\n",
       "      <td>413</td>\n",
       "      <td>64</td>\n",
       "      <td>512</td>\n",
       "      <td>13824</td>\n",
       "      <td>2</td>\n",
       "      <td>0.029399</td>\n",
       "      <td>0.01</td>\n",
       "      <td>0.0</td>\n",
       "      <td>0.0</td>\n",
       "    </tr>\n",
       "    <tr>\n",
       "      <th>nkpt: 145</th>\n",
       "      <td>1</td>\n",
       "      <td>1</td>\n",
       "      <td>1</td>\n",
       "      <td>4</td>\n",
       "      <td>145</td>\n",
       "      <td>64</td>\n",
       "      <td>512</td>\n",
       "      <td>13824</td>\n",
       "      <td>2</td>\n",
       "      <td>0.029399</td>\n",
       "      <td>0.01</td>\n",
       "      <td>0.0</td>\n",
       "      <td>0.0</td>\n",
       "    </tr>\n",
       "  </tbody>\n",
       "</table>\n",
       "</div>"
      ],
      "text/plain": [
       "           nsppol  nspinor  nspden  nband  nkpt  ddb_nqbz  eph_nqbz_fine  \\\n",
       "nkpt: 897       1        1       1      4   897        64            512   \n",
       "nkpt: 413       1        1       1      4   413        64            512   \n",
       "nkpt: 145       1        1       1      4   145        64            512   \n",
       "\n",
       "           ph_nqbz  eph_intmeth  eph_fsewin  eph_fsmear  eph_extrael  \\\n",
       "nkpt: 897    13824            2    0.029399        0.01          0.0   \n",
       "nkpt: 413    13824            2    0.029399        0.01          0.0   \n",
       "nkpt: 145    13824            2    0.029399        0.01          0.0   \n",
       "\n",
       "           eph_fermie  \n",
       "nkpt: 897         0.0  \n",
       "nkpt: 413         0.0  \n",
       "nkpt: 145         0.0  "
      ]
     },
     "execution_count": 38,
     "metadata": {},
     "output_type": "execute_result"
    }
   ],
   "source": [
    "robot.get_params_dataframe()"
   ]
  },
  {
   "cell_type": "markdown",
   "id": "b2f6c058",
   "metadata": {},
   "source": [
    "As usual, it is much easier to analyze the convergence of scalar quantities.\n",
    "Since we are mainly interested in $T_c$-related properties, it makes sense \n",
    "to print a table with the value of $\\lambda$ and $\\omega_{log}$ extracted from the different calculations:"
   ]
  },
  {
   "cell_type": "code",
   "execution_count": 39,
   "id": "61c6027f",
   "metadata": {},
   "outputs": [
    {
     "data": {
      "text/html": [
       "<div>\n",
       "<style scoped>\n",
       "    .dataframe tbody tr th:only-of-type {\n",
       "        vertical-align: middle;\n",
       "    }\n",
       "\n",
       "    .dataframe tbody tr th {\n",
       "        vertical-align: top;\n",
       "    }\n",
       "\n",
       "    .dataframe thead th {\n",
       "        text-align: right;\n",
       "    }\n",
       "</style>\n",
       "<table border=\"1\" class=\"dataframe\">\n",
       "  <thead>\n",
       "    <tr style=\"text-align: right;\">\n",
       "      <th></th>\n",
       "      <th>lambda_qcoarse</th>\n",
       "      <th>omegalog_qcoarse</th>\n",
       "    </tr>\n",
       "  </thead>\n",
       "  <tbody>\n",
       "    <tr>\n",
       "      <th>nkpt: 897</th>\n",
       "      <td>0.386603</td>\n",
       "      <td>0.028770</td>\n",
       "    </tr>\n",
       "    <tr>\n",
       "      <th>nkpt: 413</th>\n",
       "      <td>0.373353</td>\n",
       "      <td>0.029148</td>\n",
       "    </tr>\n",
       "    <tr>\n",
       "      <th>nkpt: 145</th>\n",
       "      <td>0.248242</td>\n",
       "      <td>0.029566</td>\n",
       "    </tr>\n",
       "  </tbody>\n",
       "</table>\n",
       "</div>"
      ],
      "text/plain": [
       "           lambda_qcoarse  omegalog_qcoarse\n",
       "nkpt: 897        0.386603          0.028770\n",
       "nkpt: 413        0.373353          0.029148\n",
       "nkpt: 145        0.248242          0.029566"
      ]
     },
     "execution_count": 39,
     "metadata": {},
     "output_type": "execute_result"
    }
   ],
   "source": [
    "robot.get_dataframe(with_params=False)"
   ]
  },
  {
   "cell_type": "markdown",
   "id": "ba84ba23",
   "metadata": {},
   "source": [
    "This table gives the values integrated on the `eph_ngqpt` mesh as well as the values obtained\n",
    "by Fourier interpolating the results on the `ph_ngqpt` mesh.\n",
    "Note the **big jump** in $\\lambda$ when we go from the 18x18x18 k-mesh to the 36x36x36 k-mesh (~0.2 --> ~0.4).\n",
    "This clearly shows that our initial estimate for $\\lambda$ obtained with a 18x18x18 k-mesh was really bad!\n",
    "(Did I tell you that these calculations are very sensitive to the k-point sampling?)\n",
    "\n",
    "If you prefer figures instead of tables with numbers, just use:"
   ]
  },
  {
   "cell_type": "code",
   "execution_count": 40,
   "id": "1375cf9d",
   "metadata": {},
   "outputs": [
    {
     "data": {
      "image/png": "[encoded data removed]",
      "text/plain": [
       "<Figure size 432x288 with 2 Axes>"
      ]
     },
     "metadata": {
      "filenames": {
       "image/png": "/Users/gmatteo/git_repos/abipy_book/abipy_book/_build/jupyter_execute/eph_al/lesson_eph_al_87_0.png"
      }
     },
     "output_type": "display_data"
    }
   ],
   "source": [
    "robot.plot_a2fdata_convergence(sortby=\"nkpt\");"
   ]
  },
  {
   "cell_type": "markdown",
   "id": "461b3132",
   "metadata": {},
   "source": [
    "When converging with respect to the number of k-points, it is common to plot the\n",
    "physical results as function of $\\frac{1}{N_{kpt}}$.\n",
    "Let's define a small function that tells our robot how to sort the results:"
   ]
  },
  {
   "cell_type": "code",
   "execution_count": 41,
   "id": "be56de6d",
   "metadata": {},
   "outputs": [
    {
     "data": {
      "image/png": "[encoded data removed]",
      "text/plain": [
       "<Figure size 432x288 with 2 Axes>"
      ]
     },
     "metadata": {
      "filenames": {
       "image/png": "/Users/gmatteo/git_repos/abipy_book/abipy_book/_build/jupyter_execute/eph_al/lesson_eph_al_89_0.png"
      }
     },
     "output_type": "display_data"
    }
   ],
   "source": [
    "def inv_nkpt(a2f_file):\n",
    "    \"\"\"$\\dfrac{1}{N_k}$\"\"\"\n",
    "    return 1/ a2f_file.nkpt\n",
    "    \n",
    "robot.plot_a2fdata_convergence(sortby=inv_nkpt); #, hue=\"eph_fsmear\");"
   ]
  },
  {
   "cell_type": "markdown",
   "id": "b5b9f6da",
   "metadata": {},
   "source": [
    "At this point, our estimate for $\\lambda$ should be somewhere in [0.39, 0.42] \n",
    "that compares much better with the value of 0.44 reported by Savrasov.\n",
    "__Most importantly__, our results started to converge (although slowly).\n",
    "Now we know that a serious calculation of the phonon linewidths of Al\n",
    "would require something around 32x32x32 k-points (this is indeed the mesh used by Savrasov in their paper)."
   ]
  },
  {
   "cell_type": "markdown",
   "id": "27b9497c",
   "metadata": {},
   "source": [
    "So far, we have been focusing on $\\lambda$ but what about the convergence of $\\alpha^2F(\\omega)$?"
   ]
  },
  {
   "cell_type": "code",
   "execution_count": 42,
   "id": "c270145b",
   "metadata": {},
   "outputs": [
    {
     "data": {
      "image/png": "[encoded data removed]",
      "text/plain": [
       "<Figure size 432x288 with 1 Axes>"
      ]
     },
     "metadata": {
      "filenames": {
       "image/png": "/Users/gmatteo/git_repos/abipy_book/abipy_book/_build/jupyter_execute/eph_al/lesson_eph_al_92_0.png"
      }
     },
     "output_type": "display_data"
    }
   ],
   "source": [
    "robot.plot_a2f_convergence();"
   ]
  },
  {
   "cell_type": "code",
   "execution_count": 43,
   "id": "df2a33b0",
   "metadata": {},
   "outputs": [
    {
     "name": "stdout",
     "output_type": "stream",
     "text": [
      "================================= File Info =================================\n",
      "Name: out_A2F.nc\n",
      "Directory: /Users/gmatteo/git_repos/abipy_book/abipy_book/eph_al/flow_eph_al/w2/t0/outdata\n",
      "Size: 254.68 kb\n",
      "Access Time: Thu Jul  8 02:48:30 2021\n",
      "Modification Time: Thu Jul  8 02:05:05 2021\n",
      "Change Time: Thu Jul  8 02:05:05 2021\n",
      "\n",
      "================================= Structure =================================\n",
      "Full Formula (Al1)\n",
      "Reduced Formula: Al\n",
      "abc   :   2.806386   2.806386   2.806386\n",
      "angles:  60.000000  60.000000  60.000000\n",
      "Sites (1)\n",
      "  #  SP      a    b    c\n",
      "---  ----  ---  ---  ---\n",
      "  0  Al      0    0    0\n",
      "\n",
      "Abinit Spacegroup: spgid: 0, num_spatial_symmetries: 48, has_timerev: True, symmorphic: False\n",
      "\n",
      "============================== Electronic Bands ==============================\n",
      "Number of electrons: 3.0, Fermi level: 7.166 (eV)\n",
      "nsppol: 1, nkpt: 145, mband: 4, nspinor: 1, nspden: 1\n",
      "smearing scheme: gaussian (occopt 7), tsmear_eV: 1.088\n",
      "\n",
      "================================ Phonon Bands ================================\n",
      "Number of q-points: 198\n",
      "Atomic mass units: {13.0: 26.981539}\n",
      "Has non-analytical contribution for q --> 0: False\n",
      "\n",
      "============================== E-PH calculation ==============================\n",
      "K-mesh for electrons:\n",
      "mpdivs: [16 16 16] with shifts [[0. 0. 0.]] and kptopt: 1\n",
      "\n",
      "a2f(w) on the [8 8 8] q-mesh (ddb_ngqpt|eph_ngqpt)\n",
      "Isotropic lambda: 0.25, omega_log: 0.030 (eV), 343.094 (K)\n",
      "\n",
      "a2f(w) Fourier interpolated on the [24 24 24] q-mesh (ph_ngqpt)\n",
      "Isotropic lambda: 0.26, omega_log: 0.027 (eV), 314.268 (K)\n"
     ]
    }
   ],
   "source": [
    "print(robot.abifiles[-1])"
   ]
  },
  {
   "cell_type": "markdown",
   "id": "bf30c36b",
   "metadata": {},
   "source": [
    "Other post-processing tools:"
   ]
  },
  {
   "cell_type": "code",
   "execution_count": 44,
   "id": "fcbff035",
   "metadata": {},
   "outputs": [],
   "source": [
    "#robot.gridplot_a2f(tight_layout=True);"
   ]
  },
  {
   "cell_type": "code",
   "execution_count": 45,
   "id": "9a505812",
   "metadata": {},
   "outputs": [],
   "source": [
    "#robot.plot_a2f_convergence(sortby=\"nkpt\", hue=\"eph_fsmear\", tight_layout=True);"
   ]
  },
  {
   "cell_type": "code",
   "execution_count": 46,
   "id": "d7c2e957",
   "metadata": {},
   "outputs": [],
   "source": [
    "#robot.plot_lambda_convergence(what=\"gamma\", sortby=\"nkpt\", hue=\"eph_fsmear\", tight_layout=True);"
   ]
  },
  {
   "cell_type": "code",
   "execution_count": 47,
   "id": "b1f83bd5",
   "metadata": {},
   "outputs": [],
   "source": [
    "#robot.abifiles[-1].plot_a2f_interpol();"
   ]
  },
  {
   "cell_type": "code",
   "execution_count": 48,
   "id": "9ae30490",
   "metadata": {},
   "outputs": [],
   "source": [
    "#robot.abifiles[-1].a2f_qcoarse.plot_tc_vs_mustar(start=0.1, stop=0.2);"
   ]
  },
  {
   "cell_type": "code",
   "execution_count": 49,
   "id": "e12b7189",
   "metadata": {},
   "outputs": [],
   "source": [
    "#robot.gridplot_phbands_with_a2f(units=\"meV\");"
   ]
  },
  {
   "cell_type": "code",
   "execution_count": 50,
   "id": "242378d2",
   "metadata": {},
   "outputs": [],
   "source": [
    "#robot.plot_a2fdata_convergence(sortby=\"nkpt\", hue=None);"
   ]
  }
 ],
 "metadata": {
  "jupytext": {
   "text_representation": {
    "extension": ".md",
    "format_name": "myst",
    "format_version": 0.13,
    "jupytext_version": "1.10.3"
   }
  },
  "kernelspec": {
   "display_name": "Python [default]",
   "language": "python",
   "name": "python3"
  },
  "language_info": {
   "codemirror_mode": {
    "name": "ipython",
    "version": 3
   },
   "file_extension": ".py",
   "mimetype": "text/x-python",
   "name": "python",
   "nbconvert_exporter": "python",
   "pygments_lexer": "ipython3",
   "version": "3.7.0"
  },
  "source_map": [
   12,
   30,
   180,
   215,
   221,
   239,
   243,
   245,
   253,
   255,
   276,
   279,
   290,
   293,
   300,
   308,
   310,
   316,
   320,
   322,
   326,
   328,
   355,
   386,
   392,
   394,
   399,
   407,
   409,
   413,
   415,
   424,
   427,
   433,
   436,
   441,
   443,
   447,
   449,
   470,
   486,
   489,
   493,
   495,
   502,
   504,
   510,
   517,
   521,
   523,
   527,
   531,
   533,
   537,
   540,
   544,
   546,
   550,
   552,
   558,
   562,
   564,
   577,
   587,
   589,
   601,
   605,
   608,
   621,
   623,
   632,
   636,
   639,
   643,
   649,
   662,
   671,
   673,
   682,
   692,
   695,
   700,
   702,
   706,
   708,
   714,
   716,
   726,
   728,
   734,
   740,
   748,
   752,
   756,
   758,
   762,
   766,
   770,
   774,
   778,
   782,
   786
  ]
 },
 "nbformat": 4,
 "nbformat_minor": 5
}