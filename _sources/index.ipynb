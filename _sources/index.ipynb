{
 "cells": [
  {
   "cell_type": "markdown",
   "metadata": {},
   "source": [
    "## AbiPy Notebooks\n",
    "\n",
    "This directory contains notebook-based documentation for [AbiPy](https://github.com/abinit/abipy).\n",
    "This augments our Sphinx-based [documentation](http://pythonhosted.org/abipy/) with jupyter notebooks \n",
    "containing interactive tutorials and examples.\n",
    "\n",
    "Additional examples are available on the:\n",
    "\n",
    "* [AbiPy plot gallery](http://abinit.github.io/abipy/gallery/index.html)\n",
    "* [AbiPy flow gallery](http://abinit.github.io/abipy/flow_gallery/index.html)\n",
    "* [Matgenb website](https://matgenb.materialsvirtuallab.org)\n",
    "\n",
    "Beginners should typically start with the three notebooks on Abipy objects,\n",
    "continue with the notebook on the GSR.nc output file (and possibly some of those focusing on other output files),\n",
    "and then examine the flows notebook.\n",
    "\n"
   ]
  },
  {
   "cell_type": "markdown",
   "metadata": {},
   "source": [
    "## AbiPy Objects\n",
    "\n",
    "* [Structure](structure.ipynb): The crystalline structure\n",
    "* [Abinit Input](abinit_input.ipynb): How to create an `AbinitInput`\n",
    "* [Input Factories](input_factories.ipynb): Generating input files for high-throughput calculations"
   ]
  },
  {
   "cell_type": "markdown",
   "metadata": {},
   "source": [
    "## Output files supported by AbiPy\n",
    "\n",
    "* [GSR.nc](gsr.ipynb): File with ground-state results produced by SCF/NSCF runs.  \n",
    "* [HIST.nc](hist.ipynb): File produced by structural relaxations and MD runs    \n",
    "* [FATBANDS.nc](efatbands.ipynb): Plot electronic fatbands and L-projected DOS\n",
    "* [DDB](ddb.ipynb): Tools to analyze phonons      \n",
    "* [SIGRES.nc](sigres.ipynb): How to analyze the results of $GW$ calculations \n",
    "* [MDF.nc](mdf.ipynb): How to analyze the results of Bethe-Salpeter calculations \n",
    "* [Lobster](lobster.ipynb): How to analyze the output files produced by Lobster\n",
    "* [ABIWAN.nc](abiwan.ipynb): How to analyze the Wannier90 wout file and the netcdf file produced by Abinit"
   ]
  },
  {
   "cell_type": "markdown",
   "metadata": {},
   "source": [
    "## AbiPy Workflows\n",
    "\n",
    "* [Flows](flows.ipynb): How to automate calculations with `Flows`, `Works` and `Tasks`\n",
    "\n",
    "This notebook is complemented with the documentation on the [TaskManager Configuration](http://abinit.github.io/abipy/workflows/taskmanager.html): How to specify options in `manager.yml` and `scheduler.yml`  "
   ]
  },
  {
   "cell_type": "markdown",
   "metadata": {},
   "source": [
    "## Abinit + AbiPy Lessons\n",
    "\n",
    "This section discusses flows and vizualisation tools for the same topics \n",
    "as some standard ABINIT tutorials.\n",
    "Usually, the corresponding ABINIT tutorial has to be followed first. \n",
    "Sometimes there is also a large overlap with some of the previous AbiPy tutorials.\n",
    "\n",
    "* [The H<sub>2</sub> molecule](base1/lesson_base1.ipynb)\n",
    "* [Crystalline silicon](base3/lesson_base3.ipynb)\n",
    "* [Phonons, dielectric tensor and Born effective charges from DFPT](dfpt/lesson_dfpt.ipynb)\n",
    "* [$G_0W_0$ band structure](g0w0/lesson_g0w0.ipynb)\n",
    "* [Bethe-Salpeter equation and excitonic effects](bse/lesson_bse.ipynb)\n",
    "* [E-PH self-energy and T-dependent band structures](sigeph/lesson_sigeph.ipynb)\n",
    "* [Phonon linewidths and Eliashberg function of Al](eph_al/lesson_eph.ipynb)\n",
    "* [Elastic and piezoelectric properties](elastic/lesson_elastic.ipynb)"
   ]
  },
  {
   "cell_type": "markdown",
   "metadata": {},
   "source": [
    "## Miscellaneous\n",
    "\n",
    "* [Ipython widgets](widgets.ipynb): How to use the widgets provided by abipy.display to analyse pandas DataFrames\n",
    "* [Useful links](links.ipynb)          "
   ]
  }
 ],
 "metadata": {
  "kernelspec": {
   "display_name": "Python 3",
   "language": "python",
   "name": "python3"
  },
  "language_info": {
   "codemirror_mode": {
    "name": "ipython",
    "version": 3
   },
   "file_extension": ".py",
   "mimetype": "text/x-python",
   "name": "python",
   "nbconvert_exporter": "python",
   "pygments_lexer": "ipython3",
   "version": "3.7.0"
  },
  "latex_envs": {
   "bibliofile": "biblio.bib",
   "cite_by": "apalike",
   "current_citInitial": 1,
   "eqLabelWithNumbers": true,
   "eqNumInitial": 0
  }
 },
 "nbformat": 4,
 "nbformat_minor": 4
}
